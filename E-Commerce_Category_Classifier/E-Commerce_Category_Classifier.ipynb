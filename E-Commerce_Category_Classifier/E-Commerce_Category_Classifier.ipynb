{
 "cells": [
  {
   "cell_type": "markdown",
   "id": "240d4c7e",
   "metadata": {},
   "source": [
    "\n",
    "\n",
    "### Case study: E-Commerce Category Classifier\n",
    " <br>\n",
    " \n",
    "Provided in this folder there is a CSV file (file is currently removed) with the name of items through six different categoreis: **Book, Grocery, Music, Toy, Office & Watch**.\n",
    "\n",
    "The goal is to train a Machine Learning model that will be able to predict the category of an item using only the title, since the category might be missing sometimes. \n",
    "\n",
    "The required tasks:\n",
    " <br> \n",
    "1. Load the data. As the information has only two labels, not much preparation is needed. \n",
    "\n",
    "<div class=\"alert alert-block alert-success\">\n",
    "<b>Optional:</b> Most of the entries are in English, but some titles might be in other languages. \n",
    "Removing the entries in other languages might improve the model performance so feel free to remove them before training (feel free to use 3rd party libraries!)\n",
    "</div>\n",
    "\n",
    "2. Test three different classification models. Represent their performance visually through confussion matrices/classification reports & choose the best model. Use grid search to pick the best hyper-parameters. Justify your decisions. \n",
    "  <br>\n",
    "3. In order to make predictions the text has to be transformed into an usable vector (in case of doubt, you can refer to `help(sklearn.feature_extraction.text.TfidfVectorizer`). Build a pipeline that includes at least the vectorizer & the classifcation model you chose, so that a prediction can be made by directly inputing a text label.\n",
    " <br>\n",
    "4. Add a prediction label to the original dataframe & plot the results divided by category & number of correct predictions.\n",
    " <br>\n",
    "5. Update the \"predictions\" dictionary with the corresponding prediction from the final model. Use the pipeline!\n",
    "  <br>\n",
    "5. *Optional: attached with the results include a .joblib file called \"category_classifier\" with the model ready to use!*\n",
    "\n",
    " <br> \n",
    "\n",
    "\n"
   ]
  },
  {
   "cell_type": "code",
   "execution_count": null,
   "id": "6f9d8217",
   "metadata": {},
   "outputs": [],
   "source": [
    "predictions = {\n",
    "    \n",
    "\"Classical Flute in C\": None,\n",
    "\n",
    "\"Harry Potter & the prisioner of Azkaban hardcover\": None,\n",
    "\n",
    "\"Digital casio with alarm\": None,\n",
    "\n",
    "\"Document shredder with three velocities\": None,\n",
    "\n",
    "\"Puzzle 1000 pieces Mona Lisa\": None,\n",
    "\n",
    "\"Pringles sour cream an onion 12 pack\": None\n",
    "\n",
    "                }"
   ]
  },
  {
   "cell_type": "markdown",
   "id": "864164b3",
   "metadata": {},
   "source": [
    "***\n",
    "\n",
    "## Summary of my approach to the tasks - 31/10/2022\n",
    "\n",
    "***\n",
    "\n",
    "### List of sections to answer the tasks:\n",
    "\n",
    " ##### Task 1 (EDA). loaded the data into a df, check shape, looking for unique elements, missing values (NaNs), and counts\n",
    " \n",
    " ##### Task 2. and 3 . Test three different classification models. Used tfidf vectorization and model in a pipeline, and did grid search\n",
    " \n",
    "   * Data preparation:\n",
    "            . Prepared data in form of corpus and labels (X and y).\n",
    "            . Splitted to train and test datasets\n",
    "            . Assigned initial tfidf parameters\n",
    "            . Made a custom function for reporting\n",
    "        \n",
    "   * Estimator Selection: according to sklearn documentation, and research for 'multiclass text classification'.\n",
    "     \n",
    "            . Naive Bayes (MultinomialNB)\n",
    "            . Logistic Regression (LogisticRegressionCV)\n",
    "            . Linear SVC (LinearSVC)\n",
    "      \n",
    "Procedure for all 3 models: Apply the pipeline with initial parameters, plot performance, check pipeline parameters, optimize hyperparameters using gridsearch, check gridsearch best_params and plot its performance.\n",
    "\n",
    "* Metrics:\n",
    "summary of useful metrics for imbalanced multiclass classification. Later f1-score is mainly used for evaluations. \n",
    "      \n",
    " ##### Task 4. Add a prediction label to the original dataframe & plot the results divided by category & number of correct predictions.\n",
    " \n",
    "Here, the best pipeline was trained on the whole dataset, 2 plots are prepared showing True and False perdictions for each cathegory, one having linear count scale, the other log count scale for better visualization.\n",
    "\n",
    " ##### Task 5. Update the \"predictions\" dictionary \n",
    " used best_pipe (which was trained on the complete dataset) to predict missing labels.\n",
    "\n",
    " ##### Task 6 Optional: attached with the results include a .joblib file called \"category_classifier\" \n",
    " The best_pipe is saved as category_classifier.joblib\n",
    " \n",
    " ##### Optional Task (in Green):\n",
    " Checked if model performance increases with removing the non-english entries.\n",
    "        \n",
    "       "
   ]
  },
  {
   "cell_type": "code",
   "execution_count": 98,
   "id": "cc64241c",
   "metadata": {},
   "outputs": [],
   "source": [
    "# import liberaries\n",
    "\n",
    "import pandas as pd\n",
    "import numpy as np\n",
    "import matplotlib.pyplot as plt\n",
    "import spacy\n",
    "import langdetect\n",
    "\n",
    "from sklearn.metrics import accuracy_score, precision_score, recall_score, f1_score, confusion_matrix, ConfusionMatrixDisplay\n",
    "from sklearn.ensemble import RandomForestClassifier\n",
    "from sklearn.model_selection import train_test_split\n",
    "from sklearn.feature_extraction.text import TfidfVectorizer\n",
    "from sklearn.pipeline import Pipeline\n",
    "from sklearn.naive_bayes import MultinomialNB\n",
    "from sklearn.linear_model import LogisticRegressionCV \n",
    "from sklearn.svm import LinearSVC\n",
    "from sklearn.metrics import classification_report\n",
    "from sklearn.model_selection import GridSearchCV\n",
    "from spacy_cld import LanguageDetector"
   ]
  },
  {
   "cell_type": "markdown",
   "id": "bb9b3578",
   "metadata": {},
   "source": [
    "# Task 1.  (EDA)"
   ]
  },
  {
   "cell_type": "code",
   "execution_count": 2,
   "id": "6389f48a",
   "metadata": {},
   "outputs": [
    {
     "data": {
      "text/html": [
       "<div>\n",
       "<style scoped>\n",
       "    .dataframe tbody tr th:only-of-type {\n",
       "        vertical-align: middle;\n",
       "    }\n",
       "\n",
       "    .dataframe tbody tr th {\n",
       "        vertical-align: top;\n",
       "    }\n",
       "\n",
       "    .dataframe thead th {\n",
       "        text-align: right;\n",
       "    }\n",
       "</style>\n",
       "<table border=\"1\" class=\"dataframe\">\n",
       "  <thead>\n",
       "    <tr style=\"text-align: right;\">\n",
       "      <th></th>\n",
       "      <th>Category</th>\n",
       "      <th>Title</th>\n",
       "    </tr>\n",
       "  </thead>\n",
       "  <tbody>\n",
       "    <tr>\n",
       "      <th>0</th>\n",
       "      <td>Office</td>\n",
       "      <td>Apli Kids Roll of Stickers Round Ø 15 mm Pink</td>\n",
       "    </tr>\n",
       "    <tr>\n",
       "      <th>1</th>\n",
       "      <td>Toy</td>\n",
       "      <td>MAXEE Golden Balloon 32 Inch Birthday Balloon ...</td>\n",
       "    </tr>\n",
       "    <tr>\n",
       "      <th>2</th>\n",
       "      <td>Office</td>\n",
       "      <td>STAEDTLER 550 02 Noris School Compass with Cen...</td>\n",
       "    </tr>\n",
       "    <tr>\n",
       "      <th>3</th>\n",
       "      <td>Watch</td>\n",
       "      <td>Liebeskind Berlin Women's Analogue Quartz Cloc...</td>\n",
       "    </tr>\n",
       "    <tr>\n",
       "      <th>4</th>\n",
       "      <td>Toy</td>\n",
       "      <td>Pool Toys for Kids Adults, 2 Packs Water Guns ...</td>\n",
       "    </tr>\n",
       "  </tbody>\n",
       "</table>\n",
       "</div>"
      ],
      "text/plain": [
       "  Category                                              Title\n",
       "0   Office      Apli Kids Roll of Stickers Round Ø 15 mm Pink\n",
       "1      Toy  MAXEE Golden Balloon 32 Inch Birthday Balloon ...\n",
       "2   Office  STAEDTLER 550 02 Noris School Compass with Cen...\n",
       "3    Watch  Liebeskind Berlin Women's Analogue Quartz Cloc...\n",
       "4      Toy  Pool Toys for Kids Adults, 2 Packs Water Guns ..."
      ]
     },
     "execution_count": 2,
     "metadata": {},
     "output_type": "execute_result"
    }
   ],
   "source": [
    "df = pd.read_csv('Assessment_Center_Siamak.csv')\n",
    "df_original = df.copy()\n",
    "df.head(5)"
   ]
  },
  {
   "cell_type": "code",
   "execution_count": 3,
   "id": "c722f030",
   "metadata": {},
   "outputs": [
    {
     "data": {
      "text/plain": [
       "(21484, 2)"
      ]
     },
     "execution_count": 3,
     "metadata": {},
     "output_type": "execute_result"
    }
   ],
   "source": [
    "#Check the shape\n",
    "df.shape"
   ]
  },
  {
   "cell_type": "code",
   "execution_count": 4,
   "id": "041847f1",
   "metadata": {},
   "outputs": [
    {
     "data": {
      "text/plain": [
       "(6, 21484)"
      ]
     },
     "execution_count": 4,
     "metadata": {},
     "output_type": "execute_result"
    }
   ],
   "source": [
    "#Check the number of unique values\n",
    "df['Category'].nunique() , df['Title'].nunique()"
   ]
  },
  {
   "cell_type": "code",
   "execution_count": 5,
   "id": "f4fcffdd",
   "metadata": {},
   "outputs": [
    {
     "data": {
      "text/plain": [
       "(0, 0)"
      ]
     },
     "execution_count": 5,
     "metadata": {},
     "output_type": "execute_result"
    }
   ],
   "source": [
    "# looking for NaNs\n",
    "df['Title'].isnull().sum(), df['Category'].isnull().sum() "
   ]
  },
  {
   "cell_type": "code",
   "execution_count": 6,
   "id": "efbae5d4",
   "metadata": {},
   "outputs": [
    {
     "data": {
      "text/plain": [
       "array(['Office', 'Toy', 'Watch', 'Grocery', 'Book', 'Music'], dtype=object)"
      ]
     },
     "execution_count": 6,
     "metadata": {},
     "output_type": "execute_result"
    }
   ],
   "source": [
    "# Check unique categories\n",
    "df['Category'].unique()"
   ]
  },
  {
   "cell_type": "code",
   "execution_count": 7,
   "id": "9c68e0e9",
   "metadata": {
    "scrolled": true
   },
   "outputs": [
    {
     "data": {
      "text/plain": [
       "<AxesSubplot:>"
      ]
     },
     "execution_count": 7,
     "metadata": {},
     "output_type": "execute_result"
    },
    {
     "data": {
      "image/png": "[encoded data removed]",
      "text/plain": [
       "<Figure size 432x288 with 1 Axes>"
      ]
     },
     "metadata": {
      "needs_background": "light"
     },
     "output_type": "display_data"
    }
   ],
   "source": [
    "# Plot the number of items in each category. The dataset is a slighly imbalanced.\n",
    "df['Category'].value_counts().plot(kind='bar')"
   ]
  },
  {
   "cell_type": "markdown",
   "id": "100ad7aa",
   "metadata": {},
   "source": [
    "# Task 2. and 3. \n",
    "### Test three different classification models. Use tfidf vectorization and model in a pipeline, and optimize hyperparameters."
   ]
  },
  {
   "cell_type": "markdown",
   "id": "a4a8b816",
   "metadata": {},
   "source": [
    "#### Data Preparaton \n",
    " For tifidf as an alternative to other methods e.g. BOW and CountVectorizer"
   ]
  },
  {
   "cell_type": "code",
   "execution_count": 8,
   "id": "696db533",
   "metadata": {},
   "outputs": [],
   "source": [
    "# preparing the corpus and labels in form of a list\n",
    "corpus = df['Title'].tolist()\n",
    "labels = df['Category'].tolist()"
   ]
  },
  {
   "cell_type": "code",
   "execution_count": 9,
   "id": "a4b18837",
   "metadata": {},
   "outputs": [],
   "source": [
    "# Split\n",
    "X_train, X_test, y_train, y_test = train_test_split(corpus,labels, test_size=0.2, random_state=42, stratify=labels)"
   ]
  },
  {
   "cell_type": "code",
   "execution_count": 10,
   "id": "5163ac20",
   "metadata": {},
   "outputs": [],
   "source": [
    "# Assign tfidf parameters, easy to access\n",
    "tfidf_params = dict(sublinear_tf = True,\n",
    "                   min_df = 5,\n",
    "                   norm = 'l2',\n",
    "                   ngram_range=(1,2),\n",
    "                   stop_words = 'english')"
   ]
  },
  {
   "cell_type": "markdown",
   "id": "8f224ed5",
   "metadata": {},
   "source": [
    "#### custom function:"
   ]
  },
  {
   "cell_type": "code",
   "execution_count": 11,
   "id": "c9bbf5b9",
   "metadata": {},
   "outputs": [],
   "source": [
    "# Takes the pipeline name, and test datasets, gives classification_report and confusion matrix:\n",
    "def get_scores(mypipeline, Xtest, ytest ):\n",
    "    ypred = mypipeline.predict(Xtest)\n",
    "    print(classification_report(ytest,ypred))\n",
    "    cm = confusion_matrix(ytest, ypred, \n",
    "                          #normalize='all'\n",
    "                         )    \n",
    "    disp = ConfusionMatrixDisplay(cm)\n",
    "    disp.plot()"
   ]
  },
  {
   "cell_type": "markdown",
   "id": "489342c3",
   "metadata": {},
   "source": [
    "## Estimator Selection:\n",
    "\n",
    " According to sklearn documentation as a rough guid (https://scikit-learn.org/stable/tutorial/machine_learning_map/index.html) and research for classifiers for multiclass text classification.\n",
    "\n",
    "+ Naive Bayes\n",
    "+ LogisticRegression\n",
    "+ Linear SVC"
   ]
  },
  {
   "cell_type": "markdown",
   "id": "964d33d0",
   "metadata": {},
   "source": [
    "## Metrics:\n",
    "\n",
    "recall or TPR (True Positive Rate): $\\frac{\\text{TP}}{\\text{P}} = \\frac{\\text{TP}}{\\text{TP} + \\text{FN}}$  \n",
    "\n",
    "precision: $\\frac{\\text{TP}}{\\text{TP} + \\text{FP}}$   \n",
    "\n",
    "f1-score: harmonic mean of recall and precision:    $\\text{2}.\\frac{\\text{precision}.\\text{recall}}{\\text{precision} + \\text{recal}}$  \n",
    "\n",
    "Recall and precicsion are the two most common metrics that take into account class imbalance. The f1-score is harmonic mean of recall and precision and a popular metric for imbalanced classification. In this classification task that we have slight class imbalance, f1 is a more reliable score for model selection. "
   ]
  },
  {
   "cell_type": "markdown",
   "id": "d95729d9",
   "metadata": {},
   "source": [
    "## Naive Bayes (MultinomialNB)"
   ]
  },
  {
   "cell_type": "code",
   "execution_count": 12,
   "id": "88c9d147",
   "metadata": {},
   "outputs": [],
   "source": [
    "# create a Pipeline that will do features transformation then pass to the selected model\n",
    "clf_MNB = Pipeline(steps=[\n",
    "    ('features', TfidfVectorizer(**tfidf_params)),\n",
    "    ('model',  MultinomialNB())\n",
    "])"
   ]
  },
  {
   "cell_type": "code",
   "execution_count": 13,
   "id": "8a227adf",
   "metadata": {},
   "outputs": [
    {
     "data": {
      "text/plain": [
       "Pipeline(steps=[('features',\n",
       "                 TfidfVectorizer(min_df=5, ngram_range=(1, 2),\n",
       "                                 stop_words='english', sublinear_tf=True)),\n",
       "                ('model', MultinomialNB())])"
      ]
     },
     "execution_count": 13,
     "metadata": {},
     "output_type": "execute_result"
    }
   ],
   "source": [
    "# Use classifier pipeline as a model, fit X_train and y_train\n",
    "clf_MNB.fit(X_train, y_train)"
   ]
  },
  {
   "cell_type": "code",
   "execution_count": 14,
   "id": "21178c9f",
   "metadata": {},
   "outputs": [],
   "source": [
    "y_pred = clf_MNB.predict(X_test)"
   ]
  },
  {
   "cell_type": "code",
   "execution_count": 15,
   "id": "efd5b53a",
   "metadata": {},
   "outputs": [
    {
     "name": "stdout",
     "output_type": "stream",
     "text": [
      "              precision    recall  f1-score   support\n",
      "\n",
      "        Book       0.93      0.92      0.93       964\n",
      "     Grocery       0.97      0.72      0.82       223\n",
      "       Music       0.95      0.93      0.94       625\n",
      "      Office       0.88      0.94      0.91       951\n",
      "         Toy       0.88      0.91      0.89       899\n",
      "       Watch       0.98      0.98      0.98       635\n",
      "\n",
      "    accuracy                           0.92      4297\n",
      "   macro avg       0.93      0.90      0.91      4297\n",
      "weighted avg       0.92      0.92      0.92      4297\n",
      "\n"
     ]
    },
    {
     "data": {
      "image/png": "[encoded data removed]",
      "text/plain": [
       "<Figure size 432x288 with 2 Axes>"
      ]
     },
     "metadata": {
      "needs_background": "light"
     },
     "output_type": "display_data"
    }
   ],
   "source": [
    "# use the custom function for reporting\n",
    "get_scores(clf_MNB, X_test, y_test)"
   ]
  },
  {
   "cell_type": "code",
   "execution_count": 16,
   "id": "ef18b5a0",
   "metadata": {},
   "outputs": [
    {
     "data": {
      "text/plain": [
       "{'memory': None,\n",
       " 'steps': [('features',\n",
       "   TfidfVectorizer(min_df=5, ngram_range=(1, 2), stop_words='english',\n",
       "                   sublinear_tf=True)),\n",
       "  ('model', MultinomialNB())],\n",
       " 'verbose': False,\n",
       " 'features': TfidfVectorizer(min_df=5, ngram_range=(1, 2), stop_words='english',\n",
       "                 sublinear_tf=True),\n",
       " 'model': MultinomialNB(),\n",
       " 'features__analyzer': 'word',\n",
       " 'features__binary': False,\n",
       " 'features__decode_error': 'strict',\n",
       " 'features__dtype': numpy.float64,\n",
       " 'features__encoding': 'utf-8',\n",
       " 'features__input': 'content',\n",
       " 'features__lowercase': True,\n",
       " 'features__max_df': 1.0,\n",
       " 'features__max_features': None,\n",
       " 'features__min_df': 5,\n",
       " 'features__ngram_range': (1, 2),\n",
       " 'features__norm': 'l2',\n",
       " 'features__preprocessor': None,\n",
       " 'features__smooth_idf': True,\n",
       " 'features__stop_words': 'english',\n",
       " 'features__strip_accents': None,\n",
       " 'features__sublinear_tf': True,\n",
       " 'features__token_pattern': '(?u)\\\\b\\\\w\\\\w+\\\\b',\n",
       " 'features__tokenizer': None,\n",
       " 'features__use_idf': True,\n",
       " 'features__vocabulary': None,\n",
       " 'model__alpha': 1.0,\n",
       " 'model__class_prior': None,\n",
       " 'model__fit_prior': True}"
      ]
     },
     "execution_count": 16,
     "metadata": {},
     "output_type": "execute_result"
    }
   ],
   "source": [
    "# checking the model params for the gridsearch later\n",
    "clf_MNB.get_params()"
   ]
  },
  {
   "cell_type": "markdown",
   "id": "0f73ed4f",
   "metadata": {},
   "source": [
    "#####  Grid search , Hyper parameter optimization of tfidf of naive_bayes MultinomialNB"
   ]
  },
  {
   "cell_type": "code",
   "execution_count": 17,
   "id": "9b4f03f7",
   "metadata": {},
   "outputs": [],
   "source": [
    "# for tfidf features:\n",
    "# ideas from the documentation https://scikit-learn.org/stable/modules/generated/sklearn.feature_extraction.text.TfidfVectorizer.html\n",
    "# ngram_range , max_df, min_df (ignore terms that have a document frequency)\n",
    "# for NMB: alpha optimization to optimize between overfitting (low alpha)  and underfitting (high alpha)"
   ]
  },
  {
   "cell_type": "code",
   "execution_count": null,
   "id": "e31d6a27",
   "metadata": {},
   "outputs": [],
   "source": [
    "# Initially I tried the following gridsearch:\n",
    "\n",
    "#clf_MNB_parameter_grid = {\n",
    "#    'features__min_df': [1 , 5, 10, 50, 100],\n",
    "#    'features__max_df': [1 , 5, 10, 50, 100],\n",
    "#    'features__ngram_range': [(1,1), (1,3),\n",
    "#    'model__alpha': [0.001, 0.01, 0.1, 1.0, 10]\n",
    "#}\n",
    "\n",
    "#The best parameters were\n",
    "#({'features__max_df': 100,\n",
    "#  'features__min_df': 1,\n",
    "#  'features__ngram_range': (1, 3),\n",
    "#  'model__alpha': 0.01},\n",
    "\n",
    "# therefore modified the gridsearch to the following"
   ]
  },
  {
   "cell_type": "code",
   "execution_count": 41,
   "id": "5143ee4d",
   "metadata": {},
   "outputs": [],
   "source": [
    "clf_MNB_parameter_grid = {\n",
    "    'features__min_df': [1, 10],\n",
    "    'features__max_df': [0.01, 0.05, 0.1, 0.5], # floats between 0 and 1: the portion of the dataset\n",
    "    'features__ngram_range': [(1,3), (1,4)],\n",
    "    'model__alpha': [0.01, 0.1, 1.0, 10]\n",
    "}"
   ]
  },
  {
   "cell_type": "code",
   "execution_count": 42,
   "id": "ab39054d",
   "metadata": {},
   "outputs": [],
   "source": [
    "gridsearch = GridSearchCV(clf_MNB,\n",
    "                          clf_MNB_parameter_grid,\n",
    "                          scoring = None,\n",
    "                          verbose = 3\n",
    "                         )"
   ]
  },
  {
   "cell_type": "code",
   "execution_count": 43,
   "id": "4a4508be",
   "metadata": {},
   "outputs": [
    {
     "name": "stdout",
     "output_type": "stream",
     "text": [
      "Fitting 5 folds for each of 64 candidates, totalling 320 fits\n",
      "[CV 1/5] END features__max_df=0.01, features__min_df=1, features__ngram_range=(1, 3), model__alpha=0.01;, score=0.941 total time=   0.9s\n",
      "[CV 2/5] END features__max_df=0.01, features__min_df=1, features__ngram_range=(1, 3), model__alpha=0.01;, score=0.935 total time=   0.9s\n",
      "[CV 3/5] END features__max_df=0.01, features__min_df=1, features__ngram_range=(1, 3), model__alpha=0.01;, score=0.935 total time=   0.9s\n",
      "[CV 4/5] END features__max_df=0.01, features__min_df=1, features__ngram_range=(1, 3), model__alpha=0.01;, score=0.940 total time=   0.9s\n",
      "[CV 5/5] END features__max_df=0.01, features__min_df=1, features__ngram_range=(1, 3), model__alpha=0.01;, score=0.933 total time=   0.9s\n",
      "[CV 1/5] END features__max_df=0.01, features__min_df=1, features__ngram_range=(1, 3), model__alpha=0.1;, score=0.941 total time=   0.9s\n",
      "[CV 2/5] END features__max_df=0.01, features__min_df=1, features__ngram_range=(1, 3), model__alpha=0.1;, score=0.929 total time=   0.9s\n",
      "[CV 3/5] END features__max_df=0.01, features__min_df=1, features__ngram_range=(1, 3), model__alpha=0.1;, score=0.932 total time=   0.9s\n",
      "[CV 4/5] END features__max_df=0.01, features__min_df=1, features__ngram_range=(1, 3), model__alpha=0.1;, score=0.936 total time=   0.9s\n",
      "[CV 5/5] END features__max_df=0.01, features__min_df=1, features__ngram_range=(1, 3), model__alpha=0.1;, score=0.927 total time=   1.0s\n",
      "[CV 1/5] END features__max_df=0.01, features__min_df=1, features__ngram_range=(1, 3), model__alpha=1.0;, score=0.913 total time=   0.9s\n",
      "[CV 2/5] END features__max_df=0.01, features__min_df=1, features__ngram_range=(1, 3), model__alpha=1.0;, score=0.901 total time=   0.9s\n",
      "[CV 3/5] END features__max_df=0.01, features__min_df=1, features__ngram_range=(1, 3), model__alpha=1.0;, score=0.902 total time=   1.0s\n",
      "[CV 4/5] END features__max_df=0.01, features__min_df=1, features__ngram_range=(1, 3), model__alpha=1.0;, score=0.901 total time=   0.9s\n",
      "[CV 5/5] END features__max_df=0.01, features__min_df=1, features__ngram_range=(1, 3), model__alpha=1.0;, score=0.894 total time=   0.9s\n",
      "[CV 1/5] END features__max_df=0.01, features__min_df=1, features__ngram_range=(1, 3), model__alpha=10;, score=0.794 total time=   0.9s\n",
      "[CV 2/5] END features__max_df=0.01, features__min_df=1, features__ngram_range=(1, 3), model__alpha=10;, score=0.787 total time=   0.9s\n",
      "[CV 3/5] END features__max_df=0.01, features__min_df=1, features__ngram_range=(1, 3), model__alpha=10;, score=0.779 total time=   0.9s\n",
      "[CV 4/5] END features__max_df=0.01, features__min_df=1, features__ngram_range=(1, 3), model__alpha=10;, score=0.781 total time=   0.9s\n",
      "[CV 5/5] END features__max_df=0.01, features__min_df=1, features__ngram_range=(1, 3), model__alpha=10;, score=0.792 total time=   0.9s\n",
      "[CV 1/5] END features__max_df=0.01, features__min_df=1, features__ngram_range=(1, 4), model__alpha=0.01;, score=0.941 total time=   1.3s\n",
      "[CV 2/5] END features__max_df=0.01, features__min_df=1, features__ngram_range=(1, 4), model__alpha=0.01;, score=0.935 total time=   1.3s\n",
      "[CV 3/5] END features__max_df=0.01, features__min_df=1, features__ngram_range=(1, 4), model__alpha=0.01;, score=0.936 total time=   1.3s\n",
      "[CV 4/5] END features__max_df=0.01, features__min_df=1, features__ngram_range=(1, 4), model__alpha=0.01;, score=0.940 total time=   1.3s\n",
      "[CV 5/5] END features__max_df=0.01, features__min_df=1, features__ngram_range=(1, 4), model__alpha=0.01;, score=0.933 total time=   1.3s\n",
      "[CV 1/5] END features__max_df=0.01, features__min_df=1, features__ngram_range=(1, 4), model__alpha=0.1;, score=0.939 total time=   1.3s\n",
      "[CV 2/5] END features__max_df=0.01, features__min_df=1, features__ngram_range=(1, 4), model__alpha=0.1;, score=0.929 total time=   1.3s\n",
      "[CV 3/5] END features__max_df=0.01, features__min_df=1, features__ngram_range=(1, 4), model__alpha=0.1;, score=0.932 total time=   1.3s\n",
      "[CV 4/5] END features__max_df=0.01, features__min_df=1, features__ngram_range=(1, 4), model__alpha=0.1;, score=0.938 total time=   1.3s\n",
      "[CV 5/5] END features__max_df=0.01, features__min_df=1, features__ngram_range=(1, 4), model__alpha=0.1;, score=0.928 total time=   1.3s\n",
      "[CV 1/5] END features__max_df=0.01, features__min_df=1, features__ngram_range=(1, 4), model__alpha=1.0;, score=0.910 total time=   1.3s\n",
      "[CV 2/5] END features__max_df=0.01, features__min_df=1, features__ngram_range=(1, 4), model__alpha=1.0;, score=0.898 total time=   1.3s\n",
      "[CV 3/5] END features__max_df=0.01, features__min_df=1, features__ngram_range=(1, 4), model__alpha=1.0;, score=0.896 total time=   1.3s\n",
      "[CV 4/5] END features__max_df=0.01, features__min_df=1, features__ngram_range=(1, 4), model__alpha=1.0;, score=0.899 total time=   1.3s\n",
      "[CV 5/5] END features__max_df=0.01, features__min_df=1, features__ngram_range=(1, 4), model__alpha=1.0;, score=0.889 total time=   1.3s\n",
      "[CV 1/5] END features__max_df=0.01, features__min_df=1, features__ngram_range=(1, 4), model__alpha=10;, score=0.775 total time=   1.3s\n",
      "[CV 2/5] END features__max_df=0.01, features__min_df=1, features__ngram_range=(1, 4), model__alpha=10;, score=0.769 total time=   1.3s\n",
      "[CV 3/5] END features__max_df=0.01, features__min_df=1, features__ngram_range=(1, 4), model__alpha=10;, score=0.760 total time=   1.3s\n",
      "[CV 4/5] END features__max_df=0.01, features__min_df=1, features__ngram_range=(1, 4), model__alpha=10;, score=0.762 total time=   1.3s\n",
      "[CV 5/5] END features__max_df=0.01, features__min_df=1, features__ngram_range=(1, 4), model__alpha=10;, score=0.778 total time=   1.3s\n",
      "[CV 1/5] END features__max_df=0.01, features__min_df=10, features__ngram_range=(1, 3), model__alpha=0.01;, score=0.905 total time=   0.6s\n",
      "[CV 2/5] END features__max_df=0.01, features__min_df=10, features__ngram_range=(1, 3), model__alpha=0.01;, score=0.893 total time=   0.6s\n",
      "[CV 3/5] END features__max_df=0.01, features__min_df=10, features__ngram_range=(1, 3), model__alpha=0.01;, score=0.893 total time=   0.6s\n",
      "[CV 4/5] END features__max_df=0.01, features__min_df=10, features__ngram_range=(1, 3), model__alpha=0.01;, score=0.901 total time=   0.6s\n",
      "[CV 5/5] END features__max_df=0.01, features__min_df=10, features__ngram_range=(1, 3), model__alpha=0.01;, score=0.891 total time=   0.6s\n",
      "[CV 1/5] END features__max_df=0.01, features__min_df=10, features__ngram_range=(1, 3), model__alpha=0.1;, score=0.906 total time=   0.6s\n",
      "[CV 2/5] END features__max_df=0.01, features__min_df=10, features__ngram_range=(1, 3), model__alpha=0.1;, score=0.892 total time=   0.6s\n",
      "[CV 3/5] END features__max_df=0.01, features__min_df=10, features__ngram_range=(1, 3), model__alpha=0.1;, score=0.893 total time=   0.6s\n",
      "[CV 4/5] END features__max_df=0.01, features__min_df=10, features__ngram_range=(1, 3), model__alpha=0.1;, score=0.903 total time=   0.6s\n",
      "[CV 5/5] END features__max_df=0.01, features__min_df=10, features__ngram_range=(1, 3), model__alpha=0.1;, score=0.894 total time=   0.6s\n",
      "[CV 1/5] END features__max_df=0.01, features__min_df=10, features__ngram_range=(1, 3), model__alpha=1.0;, score=0.901 total time=   0.6s\n",
      "[CV 2/5] END features__max_df=0.01, features__min_df=10, features__ngram_range=(1, 3), model__alpha=1.0;, score=0.887 total time=   0.6s\n",
      "[CV 3/5] END features__max_df=0.01, features__min_df=10, features__ngram_range=(1, 3), model__alpha=1.0;, score=0.888 total time=   0.6s\n",
      "[CV 4/5] END features__max_df=0.01, features__min_df=10, features__ngram_range=(1, 3), model__alpha=1.0;, score=0.897 total time=   0.6s\n",
      "[CV 5/5] END features__max_df=0.01, features__min_df=10, features__ngram_range=(1, 3), model__alpha=1.0;, score=0.887 total time=   0.6s\n",
      "[CV 1/5] END features__max_df=0.01, features__min_df=10, features__ngram_range=(1, 3), model__alpha=10;, score=0.859 total time=   0.6s\n",
      "[CV 2/5] END features__max_df=0.01, features__min_df=10, features__ngram_range=(1, 3), model__alpha=10;, score=0.850 total time=   0.6s\n",
      "[CV 3/5] END features__max_df=0.01, features__min_df=10, features__ngram_range=(1, 3), model__alpha=10;, score=0.851 total time=   0.6s\n",
      "[CV 4/5] END features__max_df=0.01, features__min_df=10, features__ngram_range=(1, 3), model__alpha=10;, score=0.855 total time=   0.6s\n",
      "[CV 5/5] END features__max_df=0.01, features__min_df=10, features__ngram_range=(1, 3), model__alpha=10;, score=0.847 total time=   0.6s\n"
     ]
    },
    {
     "name": "stdout",
     "output_type": "stream",
     "text": [
      "[CV 1/5] END features__max_df=0.01, features__min_df=10, features__ngram_range=(1, 4), model__alpha=0.01;, score=0.906 total time=   0.7s\n",
      "[CV 2/5] END features__max_df=0.01, features__min_df=10, features__ngram_range=(1, 4), model__alpha=0.01;, score=0.894 total time=   0.7s\n",
      "[CV 3/5] END features__max_df=0.01, features__min_df=10, features__ngram_range=(1, 4), model__alpha=0.01;, score=0.893 total time=   0.7s\n",
      "[CV 4/5] END features__max_df=0.01, features__min_df=10, features__ngram_range=(1, 4), model__alpha=0.01;, score=0.902 total time=   0.7s\n",
      "[CV 5/5] END features__max_df=0.01, features__min_df=10, features__ngram_range=(1, 4), model__alpha=0.01;, score=0.892 total time=   0.7s\n",
      "[CV 1/5] END features__max_df=0.01, features__min_df=10, features__ngram_range=(1, 4), model__alpha=0.1;, score=0.905 total time=   0.7s\n",
      "[CV 2/5] END features__max_df=0.01, features__min_df=10, features__ngram_range=(1, 4), model__alpha=0.1;, score=0.892 total time=   0.7s\n",
      "[CV 3/5] END features__max_df=0.01, features__min_df=10, features__ngram_range=(1, 4), model__alpha=0.1;, score=0.893 total time=   0.7s\n",
      "[CV 4/5] END features__max_df=0.01, features__min_df=10, features__ngram_range=(1, 4), model__alpha=0.1;, score=0.903 total time=   0.7s\n",
      "[CV 5/5] END features__max_df=0.01, features__min_df=10, features__ngram_range=(1, 4), model__alpha=0.1;, score=0.894 total time=   0.7s\n",
      "[CV 1/5] END features__max_df=0.01, features__min_df=10, features__ngram_range=(1, 4), model__alpha=1.0;, score=0.900 total time=   0.7s\n",
      "[CV 2/5] END features__max_df=0.01, features__min_df=10, features__ngram_range=(1, 4), model__alpha=1.0;, score=0.888 total time=   0.7s\n",
      "[CV 3/5] END features__max_df=0.01, features__min_df=10, features__ngram_range=(1, 4), model__alpha=1.0;, score=0.887 total time=   0.7s\n",
      "[CV 4/5] END features__max_df=0.01, features__min_df=10, features__ngram_range=(1, 4), model__alpha=1.0;, score=0.896 total time=   0.7s\n",
      "[CV 5/5] END features__max_df=0.01, features__min_df=10, features__ngram_range=(1, 4), model__alpha=1.0;, score=0.887 total time=   0.7s\n",
      "[CV 1/5] END features__max_df=0.01, features__min_df=10, features__ngram_range=(1, 4), model__alpha=10;, score=0.858 total time=   0.7s\n",
      "[CV 2/5] END features__max_df=0.01, features__min_df=10, features__ngram_range=(1, 4), model__alpha=10;, score=0.850 total time=   0.7s\n",
      "[CV 3/5] END features__max_df=0.01, features__min_df=10, features__ngram_range=(1, 4), model__alpha=10;, score=0.851 total time=   0.7s\n",
      "[CV 4/5] END features__max_df=0.01, features__min_df=10, features__ngram_range=(1, 4), model__alpha=10;, score=0.855 total time=   0.7s\n",
      "[CV 5/5] END features__max_df=0.01, features__min_df=10, features__ngram_range=(1, 4), model__alpha=10;, score=0.845 total time=   0.7s\n",
      "[CV 1/5] END features__max_df=0.05, features__min_df=1, features__ngram_range=(1, 3), model__alpha=0.01;, score=0.942 total time=   0.9s\n",
      "[CV 2/5] END features__max_df=0.05, features__min_df=1, features__ngram_range=(1, 3), model__alpha=0.01;, score=0.935 total time=   0.9s\n",
      "[CV 3/5] END features__max_df=0.05, features__min_df=1, features__ngram_range=(1, 3), model__alpha=0.01;, score=0.936 total time=   0.9s\n",
      "[CV 4/5] END features__max_df=0.05, features__min_df=1, features__ngram_range=(1, 3), model__alpha=0.01;, score=0.940 total time=   1.0s\n",
      "[CV 5/5] END features__max_df=0.05, features__min_df=1, features__ngram_range=(1, 3), model__alpha=0.01;, score=0.933 total time=   0.9s\n",
      "[CV 1/5] END features__max_df=0.05, features__min_df=1, features__ngram_range=(1, 3), model__alpha=0.1;, score=0.941 total time=   0.9s\n",
      "[CV 2/5] END features__max_df=0.05, features__min_df=1, features__ngram_range=(1, 3), model__alpha=0.1;, score=0.929 total time=   0.9s\n",
      "[CV 3/5] END features__max_df=0.05, features__min_df=1, features__ngram_range=(1, 3), model__alpha=0.1;, score=0.934 total time=   0.9s\n",
      "[CV 4/5] END features__max_df=0.05, features__min_df=1, features__ngram_range=(1, 3), model__alpha=0.1;, score=0.937 total time=   0.9s\n",
      "[CV 5/5] END features__max_df=0.05, features__min_df=1, features__ngram_range=(1, 3), model__alpha=0.1;, score=0.928 total time=   0.9s\n",
      "[CV 1/5] END features__max_df=0.05, features__min_df=1, features__ngram_range=(1, 3), model__alpha=1.0;, score=0.905 total time=   1.0s\n",
      "[CV 2/5] END features__max_df=0.05, features__min_df=1, features__ngram_range=(1, 3), model__alpha=1.0;, score=0.892 total time=   0.9s\n",
      "[CV 3/5] END features__max_df=0.05, features__min_df=1, features__ngram_range=(1, 3), model__alpha=1.0;, score=0.896 total time=   1.0s\n",
      "[CV 4/5] END features__max_df=0.05, features__min_df=1, features__ngram_range=(1, 3), model__alpha=1.0;, score=0.897 total time=   0.9s\n",
      "[CV 5/5] END features__max_df=0.05, features__min_df=1, features__ngram_range=(1, 3), model__alpha=1.0;, score=0.887 total time=   0.9s\n",
      "[CV 1/5] END features__max_df=0.05, features__min_df=1, features__ngram_range=(1, 3), model__alpha=10;, score=0.813 total time=   0.9s\n",
      "[CV 2/5] END features__max_df=0.05, features__min_df=1, features__ngram_range=(1, 3), model__alpha=10;, score=0.807 total time=   0.9s\n",
      "[CV 3/5] END features__max_df=0.05, features__min_df=1, features__ngram_range=(1, 3), model__alpha=10;, score=0.799 total time=   0.9s\n",
      "[CV 4/5] END features__max_df=0.05, features__min_df=1, features__ngram_range=(1, 3), model__alpha=10;, score=0.805 total time=   0.9s\n",
      "[CV 5/5] END features__max_df=0.05, features__min_df=1, features__ngram_range=(1, 3), model__alpha=10;, score=0.811 total time=   0.9s\n",
      "[CV 1/5] END features__max_df=0.05, features__min_df=1, features__ngram_range=(1, 4), model__alpha=0.01;, score=0.942 total time=   1.3s\n",
      "[CV 2/5] END features__max_df=0.05, features__min_df=1, features__ngram_range=(1, 4), model__alpha=0.01;, score=0.936 total time=   1.3s\n",
      "[CV 3/5] END features__max_df=0.05, features__min_df=1, features__ngram_range=(1, 4), model__alpha=0.01;, score=0.937 total time=   1.2s\n",
      "[CV 4/5] END features__max_df=0.05, features__min_df=1, features__ngram_range=(1, 4), model__alpha=0.01;, score=0.941 total time=   1.3s\n",
      "[CV 5/5] END features__max_df=0.05, features__min_df=1, features__ngram_range=(1, 4), model__alpha=0.01;, score=0.933 total time=   1.3s\n",
      "[CV 1/5] END features__max_df=0.05, features__min_df=1, features__ngram_range=(1, 4), model__alpha=0.1;, score=0.940 total time=   1.3s\n",
      "[CV 2/5] END features__max_df=0.05, features__min_df=1, features__ngram_range=(1, 4), model__alpha=0.1;, score=0.928 total time=   1.3s\n",
      "[CV 3/5] END features__max_df=0.05, features__min_df=1, features__ngram_range=(1, 4), model__alpha=0.1;, score=0.932 total time=   1.3s\n",
      "[CV 4/5] END features__max_df=0.05, features__min_df=1, features__ngram_range=(1, 4), model__alpha=0.1;, score=0.939 total time=   1.3s\n",
      "[CV 5/5] END features__max_df=0.05, features__min_df=1, features__ngram_range=(1, 4), model__alpha=0.1;, score=0.928 total time=   1.3s\n",
      "[CV 1/5] END features__max_df=0.05, features__min_df=1, features__ngram_range=(1, 4), model__alpha=1.0;, score=0.903 total time=   1.3s\n",
      "[CV 2/5] END features__max_df=0.05, features__min_df=1, features__ngram_range=(1, 4), model__alpha=1.0;, score=0.890 total time=   1.3s\n",
      "[CV 3/5] END features__max_df=0.05, features__min_df=1, features__ngram_range=(1, 4), model__alpha=1.0;, score=0.892 total time=   1.3s\n",
      "[CV 4/5] END features__max_df=0.05, features__min_df=1, features__ngram_range=(1, 4), model__alpha=1.0;, score=0.895 total time=   1.3s\n",
      "[CV 5/5] END features__max_df=0.05, features__min_df=1, features__ngram_range=(1, 4), model__alpha=1.0;, score=0.884 total time=   1.3s\n",
      "[CV 1/5] END features__max_df=0.05, features__min_df=1, features__ngram_range=(1, 4), model__alpha=10;, score=0.805 total time=   1.3s\n",
      "[CV 2/5] END features__max_df=0.05, features__min_df=1, features__ngram_range=(1, 4), model__alpha=10;, score=0.800 total time=   1.3s\n",
      "[CV 3/5] END features__max_df=0.05, features__min_df=1, features__ngram_range=(1, 4), model__alpha=10;, score=0.789 total time=   1.3s\n",
      "[CV 4/5] END features__max_df=0.05, features__min_df=1, features__ngram_range=(1, 4), model__alpha=10;, score=0.796 total time=   1.3s\n",
      "[CV 5/5] END features__max_df=0.05, features__min_df=1, features__ngram_range=(1, 4), model__alpha=10;, score=0.802 total time=   1.3s\n",
      "[CV 1/5] END features__max_df=0.05, features__min_df=10, features__ngram_range=(1, 3), model__alpha=0.01;, score=0.915 total time=   0.6s\n"
     ]
    },
    {
     "name": "stdout",
     "output_type": "stream",
     "text": [
      "[CV 2/5] END features__max_df=0.05, features__min_df=10, features__ngram_range=(1, 3), model__alpha=0.01;, score=0.897 total time=   0.6s\n",
      "[CV 3/5] END features__max_df=0.05, features__min_df=10, features__ngram_range=(1, 3), model__alpha=0.01;, score=0.903 total time=   0.6s\n",
      "[CV 4/5] END features__max_df=0.05, features__min_df=10, features__ngram_range=(1, 3), model__alpha=0.01;, score=0.912 total time=   0.6s\n",
      "[CV 5/5] END features__max_df=0.05, features__min_df=10, features__ngram_range=(1, 3), model__alpha=0.01;, score=0.905 total time=   0.6s\n",
      "[CV 1/5] END features__max_df=0.05, features__min_df=10, features__ngram_range=(1, 3), model__alpha=0.1;, score=0.915 total time=   0.6s\n",
      "[CV 2/5] END features__max_df=0.05, features__min_df=10, features__ngram_range=(1, 3), model__alpha=0.1;, score=0.896 total time=   0.6s\n",
      "[CV 3/5] END features__max_df=0.05, features__min_df=10, features__ngram_range=(1, 3), model__alpha=0.1;, score=0.904 total time=   0.6s\n",
      "[CV 4/5] END features__max_df=0.05, features__min_df=10, features__ngram_range=(1, 3), model__alpha=0.1;, score=0.912 total time=   0.6s\n",
      "[CV 5/5] END features__max_df=0.05, features__min_df=10, features__ngram_range=(1, 3), model__alpha=0.1;, score=0.907 total time=   0.6s\n",
      "[CV 1/5] END features__max_df=0.05, features__min_df=10, features__ngram_range=(1, 3), model__alpha=1.0;, score=0.907 total time=   0.6s\n",
      "[CV 2/5] END features__max_df=0.05, features__min_df=10, features__ngram_range=(1, 3), model__alpha=1.0;, score=0.894 total time=   0.6s\n",
      "[CV 3/5] END features__max_df=0.05, features__min_df=10, features__ngram_range=(1, 3), model__alpha=1.0;, score=0.896 total time=   0.6s\n",
      "[CV 4/5] END features__max_df=0.05, features__min_df=10, features__ngram_range=(1, 3), model__alpha=1.0;, score=0.903 total time=   0.6s\n",
      "[CV 5/5] END features__max_df=0.05, features__min_df=10, features__ngram_range=(1, 3), model__alpha=1.0;, score=0.900 total time=   0.6s\n",
      "[CV 1/5] END features__max_df=0.05, features__min_df=10, features__ngram_range=(1, 3), model__alpha=10;, score=0.864 total time=   0.6s\n",
      "[CV 2/5] END features__max_df=0.05, features__min_df=10, features__ngram_range=(1, 3), model__alpha=10;, score=0.856 total time=   0.6s\n",
      "[CV 3/5] END features__max_df=0.05, features__min_df=10, features__ngram_range=(1, 3), model__alpha=10;, score=0.850 total time=   0.6s\n",
      "[CV 4/5] END features__max_df=0.05, features__min_df=10, features__ngram_range=(1, 3), model__alpha=10;, score=0.861 total time=   0.6s\n",
      "[CV 5/5] END features__max_df=0.05, features__min_df=10, features__ngram_range=(1, 3), model__alpha=10;, score=0.859 total time=   0.6s\n",
      "[CV 1/5] END features__max_df=0.05, features__min_df=10, features__ngram_range=(1, 4), model__alpha=0.01;, score=0.914 total time=   0.7s\n",
      "[CV 2/5] END features__max_df=0.05, features__min_df=10, features__ngram_range=(1, 4), model__alpha=0.01;, score=0.897 total time=   0.7s\n",
      "[CV 3/5] END features__max_df=0.05, features__min_df=10, features__ngram_range=(1, 4), model__alpha=0.01;, score=0.903 total time=   0.7s\n",
      "[CV 4/5] END features__max_df=0.05, features__min_df=10, features__ngram_range=(1, 4), model__alpha=0.01;, score=0.912 total time=   0.7s\n",
      "[CV 5/5] END features__max_df=0.05, features__min_df=10, features__ngram_range=(1, 4), model__alpha=0.01;, score=0.904 total time=   0.7s\n",
      "[CV 1/5] END features__max_df=0.05, features__min_df=10, features__ngram_range=(1, 4), model__alpha=0.1;, score=0.915 total time=   0.7s\n",
      "[CV 2/5] END features__max_df=0.05, features__min_df=10, features__ngram_range=(1, 4), model__alpha=0.1;, score=0.897 total time=   0.7s\n",
      "[CV 3/5] END features__max_df=0.05, features__min_df=10, features__ngram_range=(1, 4), model__alpha=0.1;, score=0.904 total time=   0.7s\n",
      "[CV 4/5] END features__max_df=0.05, features__min_df=10, features__ngram_range=(1, 4), model__alpha=0.1;, score=0.911 total time=   0.7s\n",
      "[CV 5/5] END features__max_df=0.05, features__min_df=10, features__ngram_range=(1, 4), model__alpha=0.1;, score=0.907 total time=   0.7s\n",
      "[CV 1/5] END features__max_df=0.05, features__min_df=10, features__ngram_range=(1, 4), model__alpha=1.0;, score=0.906 total time=   0.7s\n",
      "[CV 2/5] END features__max_df=0.05, features__min_df=10, features__ngram_range=(1, 4), model__alpha=1.0;, score=0.894 total time=   0.7s\n",
      "[CV 3/5] END features__max_df=0.05, features__min_df=10, features__ngram_range=(1, 4), model__alpha=1.0;, score=0.897 total time=   0.7s\n",
      "[CV 4/5] END features__max_df=0.05, features__min_df=10, features__ngram_range=(1, 4), model__alpha=1.0;, score=0.904 total time=   0.7s\n",
      "[CV 5/5] END features__max_df=0.05, features__min_df=10, features__ngram_range=(1, 4), model__alpha=1.0;, score=0.900 total time=   0.7s\n",
      "[CV 1/5] END features__max_df=0.05, features__min_df=10, features__ngram_range=(1, 4), model__alpha=10;, score=0.862 total time=   0.7s\n",
      "[CV 2/5] END features__max_df=0.05, features__min_df=10, features__ngram_range=(1, 4), model__alpha=10;, score=0.857 total time=   0.7s\n",
      "[CV 3/5] END features__max_df=0.05, features__min_df=10, features__ngram_range=(1, 4), model__alpha=10;, score=0.850 total time=   0.7s\n",
      "[CV 4/5] END features__max_df=0.05, features__min_df=10, features__ngram_range=(1, 4), model__alpha=10;, score=0.861 total time=   0.7s\n",
      "[CV 5/5] END features__max_df=0.05, features__min_df=10, features__ngram_range=(1, 4), model__alpha=10;, score=0.859 total time=   0.7s\n",
      "[CV 1/5] END features__max_df=0.1, features__min_df=1, features__ngram_range=(1, 3), model__alpha=0.01;, score=0.942 total time=   0.9s\n",
      "[CV 2/5] END features__max_df=0.1, features__min_df=1, features__ngram_range=(1, 3), model__alpha=0.01;, score=0.936 total time=   0.9s\n",
      "[CV 3/5] END features__max_df=0.1, features__min_df=1, features__ngram_range=(1, 3), model__alpha=0.01;, score=0.936 total time=   0.9s\n",
      "[CV 4/5] END features__max_df=0.1, features__min_df=1, features__ngram_range=(1, 3), model__alpha=0.01;, score=0.941 total time=   0.9s\n",
      "[CV 5/5] END features__max_df=0.1, features__min_df=1, features__ngram_range=(1, 3), model__alpha=0.01;, score=0.933 total time=   0.9s\n",
      "[CV 1/5] END features__max_df=0.1, features__min_df=1, features__ngram_range=(1, 3), model__alpha=0.1;, score=0.941 total time=   0.9s\n",
      "[CV 2/5] END features__max_df=0.1, features__min_df=1, features__ngram_range=(1, 3), model__alpha=0.1;, score=0.929 total time=   0.9s\n",
      "[CV 3/5] END features__max_df=0.1, features__min_df=1, features__ngram_range=(1, 3), model__alpha=0.1;, score=0.933 total time=   0.9s\n",
      "[CV 4/5] END features__max_df=0.1, features__min_df=1, features__ngram_range=(1, 3), model__alpha=0.1;, score=0.937 total time=   0.9s\n",
      "[CV 5/5] END features__max_df=0.1, features__min_df=1, features__ngram_range=(1, 3), model__alpha=0.1;, score=0.928 total time=   0.9s\n",
      "[CV 1/5] END features__max_df=0.1, features__min_df=1, features__ngram_range=(1, 3), model__alpha=1.0;, score=0.904 total time=   0.9s\n",
      "[CV 2/5] END features__max_df=0.1, features__min_df=1, features__ngram_range=(1, 3), model__alpha=1.0;, score=0.891 total time=   0.9s\n",
      "[CV 3/5] END features__max_df=0.1, features__min_df=1, features__ngram_range=(1, 3), model__alpha=1.0;, score=0.895 total time=   1.0s\n",
      "[CV 4/5] END features__max_df=0.1, features__min_df=1, features__ngram_range=(1, 3), model__alpha=1.0;, score=0.898 total time=   0.9s\n",
      "[CV 5/5] END features__max_df=0.1, features__min_df=1, features__ngram_range=(1, 3), model__alpha=1.0;, score=0.886 total time=   0.9s\n",
      "[CV 1/5] END features__max_df=0.1, features__min_df=1, features__ngram_range=(1, 3), model__alpha=10;, score=0.812 total time=   0.9s\n",
      "[CV 2/5] END features__max_df=0.1, features__min_df=1, features__ngram_range=(1, 3), model__alpha=10;, score=0.807 total time=   0.9s\n",
      "[CV 3/5] END features__max_df=0.1, features__min_df=1, features__ngram_range=(1, 3), model__alpha=10;, score=0.795 total time=   0.9s\n",
      "[CV 4/5] END features__max_df=0.1, features__min_df=1, features__ngram_range=(1, 3), model__alpha=10;, score=0.807 total time=   0.9s\n",
      "[CV 5/5] END features__max_df=0.1, features__min_df=1, features__ngram_range=(1, 3), model__alpha=10;, score=0.811 total time=   0.9s\n",
      "[CV 1/5] END features__max_df=0.1, features__min_df=1, features__ngram_range=(1, 4), model__alpha=0.01;, score=0.942 total time=   1.3s\n",
      "[CV 2/5] END features__max_df=0.1, features__min_df=1, features__ngram_range=(1, 4), model__alpha=0.01;, score=0.936 total time=   1.3s\n"
     ]
    },
    {
     "name": "stdout",
     "output_type": "stream",
     "text": [
      "[CV 3/5] END features__max_df=0.1, features__min_df=1, features__ngram_range=(1, 4), model__alpha=0.01;, score=0.936 total time=   1.3s\n",
      "[CV 4/5] END features__max_df=0.1, features__min_df=1, features__ngram_range=(1, 4), model__alpha=0.01;, score=0.942 total time=   1.3s\n",
      "[CV 5/5] END features__max_df=0.1, features__min_df=1, features__ngram_range=(1, 4), model__alpha=0.01;, score=0.933 total time=   1.3s\n",
      "[CV 1/5] END features__max_df=0.1, features__min_df=1, features__ngram_range=(1, 4), model__alpha=0.1;, score=0.940 total time=   1.3s\n",
      "[CV 2/5] END features__max_df=0.1, features__min_df=1, features__ngram_range=(1, 4), model__alpha=0.1;, score=0.928 total time=   1.3s\n",
      "[CV 3/5] END features__max_df=0.1, features__min_df=1, features__ngram_range=(1, 4), model__alpha=0.1;, score=0.932 total time=   1.3s\n",
      "[CV 4/5] END features__max_df=0.1, features__min_df=1, features__ngram_range=(1, 4), model__alpha=0.1;, score=0.938 total time=   1.3s\n",
      "[CV 5/5] END features__max_df=0.1, features__min_df=1, features__ngram_range=(1, 4), model__alpha=0.1;, score=0.928 total time=   1.3s\n",
      "[CV 1/5] END features__max_df=0.1, features__min_df=1, features__ngram_range=(1, 4), model__alpha=1.0;, score=0.902 total time=   1.3s\n",
      "[CV 2/5] END features__max_df=0.1, features__min_df=1, features__ngram_range=(1, 4), model__alpha=1.0;, score=0.889 total time=   1.3s\n",
      "[CV 3/5] END features__max_df=0.1, features__min_df=1, features__ngram_range=(1, 4), model__alpha=1.0;, score=0.893 total time=   1.3s\n",
      "[CV 4/5] END features__max_df=0.1, features__min_df=1, features__ngram_range=(1, 4), model__alpha=1.0;, score=0.894 total time=   1.3s\n",
      "[CV 5/5] END features__max_df=0.1, features__min_df=1, features__ngram_range=(1, 4), model__alpha=1.0;, score=0.883 total time=   1.3s\n",
      "[CV 1/5] END features__max_df=0.1, features__min_df=1, features__ngram_range=(1, 4), model__alpha=10;, score=0.803 total time=   1.3s\n",
      "[CV 2/5] END features__max_df=0.1, features__min_df=1, features__ngram_range=(1, 4), model__alpha=10;, score=0.800 total time=   1.3s\n",
      "[CV 3/5] END features__max_df=0.1, features__min_df=1, features__ngram_range=(1, 4), model__alpha=10;, score=0.785 total time=   1.3s\n",
      "[CV 4/5] END features__max_df=0.1, features__min_df=1, features__ngram_range=(1, 4), model__alpha=10;, score=0.797 total time=   1.3s\n",
      "[CV 5/5] END features__max_df=0.1, features__min_df=1, features__ngram_range=(1, 4), model__alpha=10;, score=0.803 total time=   1.3s\n",
      "[CV 1/5] END features__max_df=0.1, features__min_df=10, features__ngram_range=(1, 3), model__alpha=0.01;, score=0.914 total time=   0.6s\n",
      "[CV 2/5] END features__max_df=0.1, features__min_df=10, features__ngram_range=(1, 3), model__alpha=0.01;, score=0.899 total time=   0.6s\n",
      "[CV 3/5] END features__max_df=0.1, features__min_df=10, features__ngram_range=(1, 3), model__alpha=0.01;, score=0.904 total time=   0.6s\n",
      "[CV 4/5] END features__max_df=0.1, features__min_df=10, features__ngram_range=(1, 3), model__alpha=0.01;, score=0.911 total time=   0.6s\n",
      "[CV 5/5] END features__max_df=0.1, features__min_df=10, features__ngram_range=(1, 3), model__alpha=0.01;, score=0.905 total time=   0.6s\n",
      "[CV 1/5] END features__max_df=0.1, features__min_df=10, features__ngram_range=(1, 3), model__alpha=0.1;, score=0.914 total time=   0.6s\n",
      "[CV 2/5] END features__max_df=0.1, features__min_df=10, features__ngram_range=(1, 3), model__alpha=0.1;, score=0.898 total time=   0.6s\n",
      "[CV 3/5] END features__max_df=0.1, features__min_df=10, features__ngram_range=(1, 3), model__alpha=0.1;, score=0.905 total time=   0.6s\n",
      "[CV 4/5] END features__max_df=0.1, features__min_df=10, features__ngram_range=(1, 3), model__alpha=0.1;, score=0.912 total time=   0.6s\n",
      "[CV 5/5] END features__max_df=0.1, features__min_df=10, features__ngram_range=(1, 3), model__alpha=0.1;, score=0.906 total time=   0.6s\n",
      "[CV 1/5] END features__max_df=0.1, features__min_df=10, features__ngram_range=(1, 3), model__alpha=1.0;, score=0.908 total time=   0.6s\n",
      "[CV 2/5] END features__max_df=0.1, features__min_df=10, features__ngram_range=(1, 3), model__alpha=1.0;, score=0.895 total time=   0.6s\n",
      "[CV 3/5] END features__max_df=0.1, features__min_df=10, features__ngram_range=(1, 3), model__alpha=1.0;, score=0.897 total time=   0.6s\n",
      "[CV 4/5] END features__max_df=0.1, features__min_df=10, features__ngram_range=(1, 3), model__alpha=1.0;, score=0.904 total time=   0.6s\n",
      "[CV 5/5] END features__max_df=0.1, features__min_df=10, features__ngram_range=(1, 3), model__alpha=1.0;, score=0.899 total time=   0.6s\n",
      "[CV 1/5] END features__max_df=0.1, features__min_df=10, features__ngram_range=(1, 3), model__alpha=10;, score=0.862 total time=   0.6s\n",
      "[CV 2/5] END features__max_df=0.1, features__min_df=10, features__ngram_range=(1, 3), model__alpha=10;, score=0.855 total time=   0.6s\n",
      "[CV 3/5] END features__max_df=0.1, features__min_df=10, features__ngram_range=(1, 3), model__alpha=10;, score=0.852 total time=   0.6s\n",
      "[CV 4/5] END features__max_df=0.1, features__min_df=10, features__ngram_range=(1, 3), model__alpha=10;, score=0.859 total time=   0.6s\n",
      "[CV 5/5] END features__max_df=0.1, features__min_df=10, features__ngram_range=(1, 3), model__alpha=10;, score=0.859 total time=   0.6s\n",
      "[CV 1/5] END features__max_df=0.1, features__min_df=10, features__ngram_range=(1, 4), model__alpha=0.01;, score=0.914 total time=   0.7s\n",
      "[CV 2/5] END features__max_df=0.1, features__min_df=10, features__ngram_range=(1, 4), model__alpha=0.01;, score=0.898 total time=   0.7s\n",
      "[CV 3/5] END features__max_df=0.1, features__min_df=10, features__ngram_range=(1, 4), model__alpha=0.01;, score=0.904 total time=   0.7s\n",
      "[CV 4/5] END features__max_df=0.1, features__min_df=10, features__ngram_range=(1, 4), model__alpha=0.01;, score=0.911 total time=   0.7s\n",
      "[CV 5/5] END features__max_df=0.1, features__min_df=10, features__ngram_range=(1, 4), model__alpha=0.01;, score=0.905 total time=   0.7s\n",
      "[CV 1/5] END features__max_df=0.1, features__min_df=10, features__ngram_range=(1, 4), model__alpha=0.1;, score=0.914 total time=   0.7s\n",
      "[CV 2/5] END features__max_df=0.1, features__min_df=10, features__ngram_range=(1, 4), model__alpha=0.1;, score=0.899 total time=   0.7s\n",
      "[CV 3/5] END features__max_df=0.1, features__min_df=10, features__ngram_range=(1, 4), model__alpha=0.1;, score=0.905 total time=   0.7s\n",
      "[CV 4/5] END features__max_df=0.1, features__min_df=10, features__ngram_range=(1, 4), model__alpha=0.1;, score=0.911 total time=   0.7s\n",
      "[CV 5/5] END features__max_df=0.1, features__min_df=10, features__ngram_range=(1, 4), model__alpha=0.1;, score=0.906 total time=   0.7s\n",
      "[CV 1/5] END features__max_df=0.1, features__min_df=10, features__ngram_range=(1, 4), model__alpha=1.0;, score=0.907 total time=   0.7s\n",
      "[CV 2/5] END features__max_df=0.1, features__min_df=10, features__ngram_range=(1, 4), model__alpha=1.0;, score=0.896 total time=   0.7s\n",
      "[CV 3/5] END features__max_df=0.1, features__min_df=10, features__ngram_range=(1, 4), model__alpha=1.0;, score=0.898 total time=   0.7s\n",
      "[CV 4/5] END features__max_df=0.1, features__min_df=10, features__ngram_range=(1, 4), model__alpha=1.0;, score=0.905 total time=   0.7s\n",
      "[CV 5/5] END features__max_df=0.1, features__min_df=10, features__ngram_range=(1, 4), model__alpha=1.0;, score=0.898 total time=   0.7s\n",
      "[CV 1/5] END features__max_df=0.1, features__min_df=10, features__ngram_range=(1, 4), model__alpha=10;, score=0.861 total time=   0.7s\n",
      "[CV 2/5] END features__max_df=0.1, features__min_df=10, features__ngram_range=(1, 4), model__alpha=10;, score=0.855 total time=   0.7s\n",
      "[CV 3/5] END features__max_df=0.1, features__min_df=10, features__ngram_range=(1, 4), model__alpha=10;, score=0.852 total time=   0.7s\n",
      "[CV 4/5] END features__max_df=0.1, features__min_df=10, features__ngram_range=(1, 4), model__alpha=10;, score=0.858 total time=   0.7s\n",
      "[CV 5/5] END features__max_df=0.1, features__min_df=10, features__ngram_range=(1, 4), model__alpha=10;, score=0.857 total time=   0.7s\n",
      "[CV 1/5] END features__max_df=0.5, features__min_df=1, features__ngram_range=(1, 3), model__alpha=0.01;, score=0.942 total time=   0.9s\n",
      "[CV 2/5] END features__max_df=0.5, features__min_df=1, features__ngram_range=(1, 3), model__alpha=0.01;, score=0.936 total time=   0.9s\n",
      "[CV 3/5] END features__max_df=0.5, features__min_df=1, features__ngram_range=(1, 3), model__alpha=0.01;, score=0.939 total time=   0.9s\n"
     ]
    },
    {
     "name": "stdout",
     "output_type": "stream",
     "text": [
      "[CV 4/5] END features__max_df=0.5, features__min_df=1, features__ngram_range=(1, 3), model__alpha=0.01;, score=0.942 total time=   0.9s\n",
      "[CV 5/5] END features__max_df=0.5, features__min_df=1, features__ngram_range=(1, 3), model__alpha=0.01;, score=0.934 total time=   0.9s\n",
      "[CV 1/5] END features__max_df=0.5, features__min_df=1, features__ngram_range=(1, 3), model__alpha=0.1;, score=0.942 total time=   0.9s\n",
      "[CV 2/5] END features__max_df=0.5, features__min_df=1, features__ngram_range=(1, 3), model__alpha=0.1;, score=0.930 total time=   0.9s\n",
      "[CV 3/5] END features__max_df=0.5, features__min_df=1, features__ngram_range=(1, 3), model__alpha=0.1;, score=0.936 total time=   0.9s\n",
      "[CV 4/5] END features__max_df=0.5, features__min_df=1, features__ngram_range=(1, 3), model__alpha=0.1;, score=0.939 total time=   0.9s\n",
      "[CV 5/5] END features__max_df=0.5, features__min_df=1, features__ngram_range=(1, 3), model__alpha=0.1;, score=0.928 total time=   1.0s\n",
      "[CV 1/5] END features__max_df=0.5, features__min_df=1, features__ngram_range=(1, 3), model__alpha=1.0;, score=0.905 total time=   0.9s\n",
      "[CV 2/5] END features__max_df=0.5, features__min_df=1, features__ngram_range=(1, 3), model__alpha=1.0;, score=0.894 total time=   0.9s\n",
      "[CV 3/5] END features__max_df=0.5, features__min_df=1, features__ngram_range=(1, 3), model__alpha=1.0;, score=0.898 total time=   0.9s\n",
      "[CV 4/5] END features__max_df=0.5, features__min_df=1, features__ngram_range=(1, 3), model__alpha=1.0;, score=0.900 total time=   0.9s\n",
      "[CV 5/5] END features__max_df=0.5, features__min_df=1, features__ngram_range=(1, 3), model__alpha=1.0;, score=0.887 total time=   0.9s\n",
      "[CV 1/5] END features__max_df=0.5, features__min_df=1, features__ngram_range=(1, 3), model__alpha=10;, score=0.819 total time=   0.9s\n",
      "[CV 2/5] END features__max_df=0.5, features__min_df=1, features__ngram_range=(1, 3), model__alpha=10;, score=0.814 total time=   0.9s\n",
      "[CV 3/5] END features__max_df=0.5, features__min_df=1, features__ngram_range=(1, 3), model__alpha=10;, score=0.804 total time=   0.9s\n",
      "[CV 4/5] END features__max_df=0.5, features__min_df=1, features__ngram_range=(1, 3), model__alpha=10;, score=0.816 total time=   0.9s\n",
      "[CV 5/5] END features__max_df=0.5, features__min_df=1, features__ngram_range=(1, 3), model__alpha=10;, score=0.818 total time=   0.9s\n",
      "[CV 1/5] END features__max_df=0.5, features__min_df=1, features__ngram_range=(1, 4), model__alpha=0.01;, score=0.943 total time=   1.4s\n",
      "[CV 2/5] END features__max_df=0.5, features__min_df=1, features__ngram_range=(1, 4), model__alpha=0.01;, score=0.937 total time=   1.3s\n",
      "[CV 3/5] END features__max_df=0.5, features__min_df=1, features__ngram_range=(1, 4), model__alpha=0.01;, score=0.939 total time=   1.3s\n",
      "[CV 4/5] END features__max_df=0.5, features__min_df=1, features__ngram_range=(1, 4), model__alpha=0.01;, score=0.943 total time=   1.3s\n",
      "[CV 5/5] END features__max_df=0.5, features__min_df=1, features__ngram_range=(1, 4), model__alpha=0.01;, score=0.934 total time=   1.3s\n",
      "[CV 1/5] END features__max_df=0.5, features__min_df=1, features__ngram_range=(1, 4), model__alpha=0.1;, score=0.941 total time=   1.3s\n",
      "[CV 2/5] END features__max_df=0.5, features__min_df=1, features__ngram_range=(1, 4), model__alpha=0.1;, score=0.929 total time=   1.3s\n",
      "[CV 3/5] END features__max_df=0.5, features__min_df=1, features__ngram_range=(1, 4), model__alpha=0.1;, score=0.935 total time=   1.3s\n",
      "[CV 4/5] END features__max_df=0.5, features__min_df=1, features__ngram_range=(1, 4), model__alpha=0.1;, score=0.940 total time=   1.4s\n",
      "[CV 5/5] END features__max_df=0.5, features__min_df=1, features__ngram_range=(1, 4), model__alpha=0.1;, score=0.928 total time=   1.4s\n",
      "[CV 1/5] END features__max_df=0.5, features__min_df=1, features__ngram_range=(1, 4), model__alpha=1.0;, score=0.903 total time=   1.3s\n",
      "[CV 2/5] END features__max_df=0.5, features__min_df=1, features__ngram_range=(1, 4), model__alpha=1.0;, score=0.892 total time=   1.3s\n",
      "[CV 3/5] END features__max_df=0.5, features__min_df=1, features__ngram_range=(1, 4), model__alpha=1.0;, score=0.896 total time=   1.3s\n",
      "[CV 4/5] END features__max_df=0.5, features__min_df=1, features__ngram_range=(1, 4), model__alpha=1.0;, score=0.897 total time=   1.3s\n",
      "[CV 5/5] END features__max_df=0.5, features__min_df=1, features__ngram_range=(1, 4), model__alpha=1.0;, score=0.885 total time=   1.3s\n",
      "[CV 1/5] END features__max_df=0.5, features__min_df=1, features__ngram_range=(1, 4), model__alpha=10;, score=0.811 total time=   1.3s\n",
      "[CV 2/5] END features__max_df=0.5, features__min_df=1, features__ngram_range=(1, 4), model__alpha=10;, score=0.809 total time=   1.2s\n",
      "[CV 3/5] END features__max_df=0.5, features__min_df=1, features__ngram_range=(1, 4), model__alpha=10;, score=0.795 total time=   1.3s\n",
      "[CV 4/5] END features__max_df=0.5, features__min_df=1, features__ngram_range=(1, 4), model__alpha=10;, score=0.808 total time=   1.3s\n",
      "[CV 5/5] END features__max_df=0.5, features__min_df=1, features__ngram_range=(1, 4), model__alpha=10;, score=0.811 total time=   1.3s\n",
      "[CV 1/5] END features__max_df=0.5, features__min_df=10, features__ngram_range=(1, 3), model__alpha=0.01;, score=0.916 total time=   0.5s\n",
      "[CV 2/5] END features__max_df=0.5, features__min_df=10, features__ngram_range=(1, 3), model__alpha=0.01;, score=0.902 total time=   0.5s\n",
      "[CV 3/5] END features__max_df=0.5, features__min_df=10, features__ngram_range=(1, 3), model__alpha=0.01;, score=0.908 total time=   0.5s\n",
      "[CV 4/5] END features__max_df=0.5, features__min_df=10, features__ngram_range=(1, 3), model__alpha=0.01;, score=0.916 total time=   0.5s\n",
      "[CV 5/5] END features__max_df=0.5, features__min_df=10, features__ngram_range=(1, 3), model__alpha=0.01;, score=0.906 total time=   0.6s\n",
      "[CV 1/5] END features__max_df=0.5, features__min_df=10, features__ngram_range=(1, 3), model__alpha=0.1;, score=0.916 total time=   0.6s\n",
      "[CV 2/5] END features__max_df=0.5, features__min_df=10, features__ngram_range=(1, 3), model__alpha=0.1;, score=0.901 total time=   0.6s\n",
      "[CV 3/5] END features__max_df=0.5, features__min_df=10, features__ngram_range=(1, 3), model__alpha=0.1;, score=0.910 total time=   0.6s\n",
      "[CV 4/5] END features__max_df=0.5, features__min_df=10, features__ngram_range=(1, 3), model__alpha=0.1;, score=0.915 total time=   0.6s\n",
      "[CV 5/5] END features__max_df=0.5, features__min_df=10, features__ngram_range=(1, 3), model__alpha=0.1;, score=0.908 total time=   0.6s\n",
      "[CV 1/5] END features__max_df=0.5, features__min_df=10, features__ngram_range=(1, 3), model__alpha=1.0;, score=0.910 total time=   0.6s\n",
      "[CV 2/5] END features__max_df=0.5, features__min_df=10, features__ngram_range=(1, 3), model__alpha=1.0;, score=0.899 total time=   0.6s\n",
      "[CV 3/5] END features__max_df=0.5, features__min_df=10, features__ngram_range=(1, 3), model__alpha=1.0;, score=0.901 total time=   0.6s\n",
      "[CV 4/5] END features__max_df=0.5, features__min_df=10, features__ngram_range=(1, 3), model__alpha=1.0;, score=0.907 total time=   0.6s\n",
      "[CV 5/5] END features__max_df=0.5, features__min_df=10, features__ngram_range=(1, 3), model__alpha=1.0;, score=0.901 total time=   0.6s\n",
      "[CV 1/5] END features__max_df=0.5, features__min_df=10, features__ngram_range=(1, 3), model__alpha=10;, score=0.867 total time=   0.6s\n",
      "[CV 2/5] END features__max_df=0.5, features__min_df=10, features__ngram_range=(1, 3), model__alpha=10;, score=0.861 total time=   0.6s\n",
      "[CV 3/5] END features__max_df=0.5, features__min_df=10, features__ngram_range=(1, 3), model__alpha=10;, score=0.859 total time=   0.6s\n",
      "[CV 4/5] END features__max_df=0.5, features__min_df=10, features__ngram_range=(1, 3), model__alpha=10;, score=0.867 total time=   0.6s\n",
      "[CV 5/5] END features__max_df=0.5, features__min_df=10, features__ngram_range=(1, 3), model__alpha=10;, score=0.864 total time=   0.6s\n",
      "[CV 1/5] END features__max_df=0.5, features__min_df=10, features__ngram_range=(1, 4), model__alpha=0.01;, score=0.916 total time=   0.7s\n",
      "[CV 2/5] END features__max_df=0.5, features__min_df=10, features__ngram_range=(1, 4), model__alpha=0.01;, score=0.901 total time=   0.7s\n",
      "[CV 3/5] END features__max_df=0.5, features__min_df=10, features__ngram_range=(1, 4), model__alpha=0.01;, score=0.908 total time=   0.7s\n",
      "[CV 4/5] END features__max_df=0.5, features__min_df=10, features__ngram_range=(1, 4), model__alpha=0.01;, score=0.916 total time=   0.7s\n"
     ]
    },
    {
     "name": "stdout",
     "output_type": "stream",
     "text": [
      "[CV 5/5] END features__max_df=0.5, features__min_df=10, features__ngram_range=(1, 4), model__alpha=0.01;, score=0.906 total time=   0.7s\n",
      "[CV 1/5] END features__max_df=0.5, features__min_df=10, features__ngram_range=(1, 4), model__alpha=0.1;, score=0.916 total time=   0.7s\n",
      "[CV 2/5] END features__max_df=0.5, features__min_df=10, features__ngram_range=(1, 4), model__alpha=0.1;, score=0.902 total time=   0.7s\n",
      "[CV 3/5] END features__max_df=0.5, features__min_df=10, features__ngram_range=(1, 4), model__alpha=0.1;, score=0.910 total time=   0.7s\n",
      "[CV 4/5] END features__max_df=0.5, features__min_df=10, features__ngram_range=(1, 4), model__alpha=0.1;, score=0.915 total time=   0.7s\n",
      "[CV 5/5] END features__max_df=0.5, features__min_df=10, features__ngram_range=(1, 4), model__alpha=0.1;, score=0.908 total time=   0.7s\n",
      "[CV 1/5] END features__max_df=0.5, features__min_df=10, features__ngram_range=(1, 4), model__alpha=1.0;, score=0.909 total time=   0.7s\n",
      "[CV 2/5] END features__max_df=0.5, features__min_df=10, features__ngram_range=(1, 4), model__alpha=1.0;, score=0.899 total time=   0.7s\n",
      "[CV 3/5] END features__max_df=0.5, features__min_df=10, features__ngram_range=(1, 4), model__alpha=1.0;, score=0.902 total time=   0.7s\n",
      "[CV 4/5] END features__max_df=0.5, features__min_df=10, features__ngram_range=(1, 4), model__alpha=1.0;, score=0.908 total time=   0.7s\n",
      "[CV 5/5] END features__max_df=0.5, features__min_df=10, features__ngram_range=(1, 4), model__alpha=1.0;, score=0.900 total time=   0.7s\n",
      "[CV 1/5] END features__max_df=0.5, features__min_df=10, features__ngram_range=(1, 4), model__alpha=10;, score=0.866 total time=   0.7s\n",
      "[CV 2/5] END features__max_df=0.5, features__min_df=10, features__ngram_range=(1, 4), model__alpha=10;, score=0.861 total time=   0.7s\n",
      "[CV 3/5] END features__max_df=0.5, features__min_df=10, features__ngram_range=(1, 4), model__alpha=10;, score=0.859 total time=   0.7s\n",
      "[CV 4/5] END features__max_df=0.5, features__min_df=10, features__ngram_range=(1, 4), model__alpha=10;, score=0.866 total time=   0.7s\n",
      "[CV 5/5] END features__max_df=0.5, features__min_df=10, features__ngram_range=(1, 4), model__alpha=10;, score=0.862 total time=   0.7s\n"
     ]
    },
    {
     "data": {
      "text/plain": [
       "GridSearchCV(estimator=Pipeline(steps=[('features',\n",
       "                                        TfidfVectorizer(min_df=5,\n",
       "                                                        ngram_range=(1, 2),\n",
       "                                                        stop_words='english',\n",
       "                                                        sublinear_tf=True)),\n",
       "                                       ('model', MultinomialNB())]),\n",
       "             param_grid={'features__max_df': [0.01, 0.05, 0.1, 0.5],\n",
       "                         'features__min_df': [1, 10],\n",
       "                         'features__ngram_range': [(1, 3), (1, 4)],\n",
       "                         'model__alpha': [0.01, 0.1, 1.0, 10]},\n",
       "             verbose=3)"
      ]
     },
     "execution_count": 43,
     "metadata": {},
     "output_type": "execute_result"
    }
   ],
   "source": [
    "gridsearch.fit(X_train, y_train)"
   ]
  },
  {
   "cell_type": "code",
   "execution_count": 44,
   "id": "2a416df1",
   "metadata": {},
   "outputs": [
    {
     "data": {
      "text/plain": [
       "({'features__max_df': 0.5,\n",
       "  'features__min_df': 1,\n",
       "  'features__ngram_range': (1, 4),\n",
       "  'model__alpha': 0.01},\n",
       " Pipeline(steps=[('features',\n",
       "                  TfidfVectorizer(max_df=0.5, ngram_range=(1, 4),\n",
       "                                  stop_words='english', sublinear_tf=True)),\n",
       "                 ('model', MultinomialNB(alpha=0.01))]))"
      ]
     },
     "execution_count": 44,
     "metadata": {},
     "output_type": "execute_result"
    }
   ],
   "source": [
    "gridsearch.best_params_ , gridsearch.best_estimator_"
   ]
  },
  {
   "cell_type": "code",
   "execution_count": 45,
   "id": "dd6a5048",
   "metadata": {},
   "outputs": [
    {
     "name": "stdout",
     "output_type": "stream",
     "text": [
      "              precision    recall  f1-score   support\n",
      "\n",
      "        Book       0.96      0.91      0.94       964\n",
      "     Grocery       0.98      0.95      0.96       223\n",
      "       Music       0.95      0.97      0.96       625\n",
      "      Office       0.93      0.96      0.94       951\n",
      "         Toy       0.91      0.93      0.92       899\n",
      "       Watch       0.98      0.98      0.98       635\n",
      "\n",
      "    accuracy                           0.95      4297\n",
      "   macro avg       0.95      0.95      0.95      4297\n",
      "weighted avg       0.95      0.95      0.95      4297\n",
      "\n"
     ]
    },
    {
     "data": {
      "image/png": "[encoded data removed]",
      "text/plain": [
       "<Figure size 432x288 with 2 Axes>"
      ]
     },
     "metadata": {
      "needs_background": "light"
     },
     "output_type": "display_data"
    }
   ],
   "source": [
    "get_scores(gridsearch, X_test, y_test)"
   ]
  },
  {
   "cell_type": "markdown",
   "id": "ef81f6c5",
   "metadata": {},
   "source": [
    "##  Logistic Regression (LogisticRegressionCV)"
   ]
  },
  {
   "cell_type": "code",
   "execution_count": 47,
   "id": "63a1a995",
   "metadata": {},
   "outputs": [],
   "source": [
    "# create a Pipeline that will do features transformation then pass to the model\n",
    "clf_LRCV = Pipeline(steps=[\n",
    "    ('features', TfidfVectorizer(**tfidf_params)),\n",
    "    ('model',  LogisticRegressionCV(cv=5,solver='saga',scoring='accuracy', random_state=42, n_jobs=-1))\n",
    "])\n",
    "\n",
    "#to chose solver from documentation:\n",
    "#For small datasets, ‘liblinear’ is a good choice,\n",
    "#whereas ‘sag’ and ‘saga’ are faster for large ones;\n",
    "#For multiclass problems, only ‘newton-cg’, ‘sag’, ‘saga’ \n",
    "#and ‘lbfgs’ handle multinomial loss;"
   ]
  },
  {
   "cell_type": "code",
   "execution_count": 48,
   "id": "42346d7e",
   "metadata": {
    "scrolled": true
   },
   "outputs": [
    {
     "name": "stderr",
     "output_type": "stream",
     "text": [
      "/opt/anaconda3/lib/python3.9/site-packages/sklearn/linear_model/_sag.py:328: ConvergenceWarning: The max_iter was reached which means the coef_ did not converge\n",
      "  warnings.warn(\"The max_iter was reached which means \"\n",
      "/opt/anaconda3/lib/python3.9/site-packages/sklearn/linear_model/_sag.py:328: ConvergenceWarning: The max_iter was reached which means the coef_ did not converge\n",
      "  warnings.warn(\"The max_iter was reached which means \"\n",
      "/opt/anaconda3/lib/python3.9/site-packages/sklearn/linear_model/_sag.py:328: ConvergenceWarning: The max_iter was reached which means the coef_ did not converge\n",
      "  warnings.warn(\"The max_iter was reached which means \"\n",
      "/opt/anaconda3/lib/python3.9/site-packages/sklearn/linear_model/_sag.py:328: ConvergenceWarning: The max_iter was reached which means the coef_ did not converge\n",
      "  warnings.warn(\"The max_iter was reached which means \"\n",
      "/opt/anaconda3/lib/python3.9/site-packages/sklearn/linear_model/_sag.py:328: ConvergenceWarning: The max_iter was reached which means the coef_ did not converge\n",
      "  warnings.warn(\"The max_iter was reached which means \"\n",
      "/opt/anaconda3/lib/python3.9/site-packages/sklearn/linear_model/_sag.py:328: ConvergenceWarning: The max_iter was reached which means the coef_ did not converge\n",
      "  warnings.warn(\"The max_iter was reached which means \"\n",
      "/opt/anaconda3/lib/python3.9/site-packages/sklearn/linear_model/_sag.py:328: ConvergenceWarning: The max_iter was reached which means the coef_ did not converge\n",
      "  warnings.warn(\"The max_iter was reached which means \"\n",
      "/opt/anaconda3/lib/python3.9/site-packages/sklearn/linear_model/_sag.py:328: ConvergenceWarning: The max_iter was reached which means the coef_ did not converge\n",
      "  warnings.warn(\"The max_iter was reached which means \"\n",
      "/opt/anaconda3/lib/python3.9/site-packages/sklearn/linear_model/_sag.py:328: ConvergenceWarning: The max_iter was reached which means the coef_ did not converge\n",
      "  warnings.warn(\"The max_iter was reached which means \"\n",
      "/opt/anaconda3/lib/python3.9/site-packages/sklearn/linear_model/_sag.py:328: ConvergenceWarning: The max_iter was reached which means the coef_ did not converge\n",
      "  warnings.warn(\"The max_iter was reached which means \"\n",
      "/opt/anaconda3/lib/python3.9/site-packages/sklearn/linear_model/_sag.py:328: ConvergenceWarning: The max_iter was reached which means the coef_ did not converge\n",
      "  warnings.warn(\"The max_iter was reached which means \"\n",
      "/opt/anaconda3/lib/python3.9/site-packages/sklearn/linear_model/_sag.py:328: ConvergenceWarning: The max_iter was reached which means the coef_ did not converge\n",
      "  warnings.warn(\"The max_iter was reached which means \"\n",
      "/opt/anaconda3/lib/python3.9/site-packages/sklearn/linear_model/_sag.py:328: ConvergenceWarning: The max_iter was reached which means the coef_ did not converge\n",
      "  warnings.warn(\"The max_iter was reached which means \"\n",
      "/opt/anaconda3/lib/python3.9/site-packages/sklearn/linear_model/_sag.py:328: ConvergenceWarning: The max_iter was reached which means the coef_ did not converge\n",
      "  warnings.warn(\"The max_iter was reached which means \"\n",
      "/opt/anaconda3/lib/python3.9/site-packages/sklearn/linear_model/_sag.py:328: ConvergenceWarning: The max_iter was reached which means the coef_ did not converge\n",
      "  warnings.warn(\"The max_iter was reached which means \"\n"
     ]
    },
    {
     "data": {
      "text/plain": [
       "Pipeline(steps=[('features',\n",
       "                 TfidfVectorizer(min_df=5, ngram_range=(1, 2),\n",
       "                                 stop_words='english', sublinear_tf=True)),\n",
       "                ('model',\n",
       "                 LogisticRegressionCV(cv=5, n_jobs=-1, random_state=42,\n",
       "                                      scoring='accuracy', solver='saga'))])"
      ]
     },
     "execution_count": 48,
     "metadata": {},
     "output_type": "execute_result"
    }
   ],
   "source": [
    "clf_LRCV.fit(X_train, y_train)"
   ]
  },
  {
   "cell_type": "code",
   "execution_count": 50,
   "id": "764aadb4",
   "metadata": {
    "collapsed": true
   },
   "outputs": [
    {
     "name": "stdout",
     "output_type": "stream",
     "text": [
      "              precision    recall  f1-score   support\n",
      "\n",
      "        Book       0.91      0.96      0.93       964\n",
      "     Grocery       0.96      0.83      0.89       223\n",
      "       Music       0.97      0.93      0.95       625\n",
      "      Office       0.93      0.94      0.94       951\n",
      "         Toy       0.93      0.92      0.92       899\n",
      "       Watch       0.99      0.98      0.99       635\n",
      "\n",
      "    accuracy                           0.94      4297\n",
      "   macro avg       0.95      0.93      0.94      4297\n",
      "weighted avg       0.94      0.94      0.94      4297\n",
      "\n"
     ]
    },
    {
     "data": {
      "image/png": "[encoded data removed]",
      "text/plain": [
       "<Figure size 432x288 with 2 Axes>"
      ]
     },
     "metadata": {
      "needs_background": "light"
     },
     "output_type": "display_data"
    }
   ],
   "source": [
    "get_scores(clf_LRCV, X_test, y_test)"
   ]
  },
  {
   "cell_type": "code",
   "execution_count": 51,
   "id": "33bedbbc",
   "metadata": {
    "scrolled": true
   },
   "outputs": [
    {
     "data": {
      "text/plain": [
       "{'memory': None,\n",
       " 'steps': [('features',\n",
       "   TfidfVectorizer(min_df=5, ngram_range=(1, 2), stop_words='english',\n",
       "                   sublinear_tf=True)),\n",
       "  ('model',\n",
       "   LogisticRegressionCV(cv=5, n_jobs=-1, random_state=42, scoring='accuracy',\n",
       "                        solver='saga'))],\n",
       " 'verbose': False,\n",
       " 'features': TfidfVectorizer(min_df=5, ngram_range=(1, 2), stop_words='english',\n",
       "                 sublinear_tf=True),\n",
       " 'model': LogisticRegressionCV(cv=5, n_jobs=-1, random_state=42, scoring='accuracy',\n",
       "                      solver='saga'),\n",
       " 'features__analyzer': 'word',\n",
       " 'features__binary': False,\n",
       " 'features__decode_error': 'strict',\n",
       " 'features__dtype': numpy.float64,\n",
       " 'features__encoding': 'utf-8',\n",
       " 'features__input': 'content',\n",
       " 'features__lowercase': True,\n",
       " 'features__max_df': 1.0,\n",
       " 'features__max_features': None,\n",
       " 'features__min_df': 5,\n",
       " 'features__ngram_range': (1, 2),\n",
       " 'features__norm': 'l2',\n",
       " 'features__preprocessor': None,\n",
       " 'features__smooth_idf': True,\n",
       " 'features__stop_words': 'english',\n",
       " 'features__strip_accents': None,\n",
       " 'features__sublinear_tf': True,\n",
       " 'features__token_pattern': '(?u)\\\\b\\\\w\\\\w+\\\\b',\n",
       " 'features__tokenizer': None,\n",
       " 'features__use_idf': True,\n",
       " 'features__vocabulary': None,\n",
       " 'model__Cs': 10,\n",
       " 'model__class_weight': None,\n",
       " 'model__cv': 5,\n",
       " 'model__dual': False,\n",
       " 'model__fit_intercept': True,\n",
       " 'model__intercept_scaling': 1.0,\n",
       " 'model__l1_ratios': None,\n",
       " 'model__max_iter': 100,\n",
       " 'model__multi_class': 'auto',\n",
       " 'model__n_jobs': -1,\n",
       " 'model__penalty': 'l2',\n",
       " 'model__random_state': 42,\n",
       " 'model__refit': True,\n",
       " 'model__scoring': 'accuracy',\n",
       " 'model__solver': 'saga',\n",
       " 'model__tol': 0.0001,\n",
       " 'model__verbose': 0}"
      ]
     },
     "execution_count": 51,
     "metadata": {},
     "output_type": "execute_result"
    }
   ],
   "source": [
    "# checking the model params for the gridsearch\n",
    "clf_LRCV.get_params()"
   ]
  },
  {
   "cell_type": "code",
   "execution_count": 57,
   "id": "1677609a",
   "metadata": {},
   "outputs": [],
   "source": [
    "clf_LRCV_parameter_grid = {\n",
    "    'features__min_df': [1, 10],\n",
    "    'features__max_df': [0.01, 0.05, 0.1, 0.5],\n",
    "    'features__ngram_range': [(1,3), (1,4)],\n",
    "    'model__solver': ['saga', 'liblinear']\n",
    "}"
   ]
  },
  {
   "cell_type": "code",
   "execution_count": 58,
   "id": "3bf3aab4",
   "metadata": {},
   "outputs": [],
   "source": [
    "gridsearch_LRCV = GridSearchCV(clf_LRCV,\n",
    "                          clf_LRCV_parameter_grid,\n",
    "                          scoring = None,\n",
    "                          verbose = 3\n",
    "                         )"
   ]
  },
  {
   "cell_type": "code",
   "execution_count": 59,
   "id": "5a04fba8",
   "metadata": {
    "scrolled": true
   },
   "outputs": [
    {
     "name": "stdout",
     "output_type": "stream",
     "text": [
      "Fitting 5 folds for each of 32 candidates, totalling 160 fits\n"
     ]
    },
    {
     "name": "stderr",
     "output_type": "stream",
     "text": [
      "/opt/anaconda3/lib/python3.9/site-packages/sklearn/linear_model/_sag.py:328: ConvergenceWarning: The max_iter was reached which means the coef_ did not converge\n",
      "  warnings.warn(\"The max_iter was reached which means \"\n",
      "/opt/anaconda3/lib/python3.9/site-packages/sklearn/linear_model/_sag.py:328: ConvergenceWarning: The max_iter was reached which means the coef_ did not converge\n",
      "  warnings.warn(\"The max_iter was reached which means \"\n",
      "/opt/anaconda3/lib/python3.9/site-packages/sklearn/linear_model/_sag.py:328: ConvergenceWarning: The max_iter was reached which means the coef_ did not converge\n",
      "  warnings.warn(\"The max_iter was reached which means \"\n",
      "/opt/anaconda3/lib/python3.9/site-packages/sklearn/linear_model/_sag.py:328: ConvergenceWarning: The max_iter was reached which means the coef_ did not converge\n",
      "  warnings.warn(\"The max_iter was reached which means \"\n",
      "/opt/anaconda3/lib/python3.9/site-packages/sklearn/linear_model/_sag.py:328: ConvergenceWarning: The max_iter was reached which means the coef_ did not converge\n",
      "  warnings.warn(\"The max_iter was reached which means \"\n",
      "/opt/anaconda3/lib/python3.9/site-packages/sklearn/linear_model/_sag.py:328: ConvergenceWarning: The max_iter was reached which means the coef_ did not converge\n",
      "  warnings.warn(\"The max_iter was reached which means \"\n",
      "/opt/anaconda3/lib/python3.9/site-packages/sklearn/linear_model/_sag.py:328: ConvergenceWarning: The max_iter was reached which means the coef_ did not converge\n",
      "  warnings.warn(\"The max_iter was reached which means \"\n",
      "/opt/anaconda3/lib/python3.9/site-packages/sklearn/linear_model/_sag.py:328: ConvergenceWarning: The max_iter was reached which means the coef_ did not converge\n",
      "  warnings.warn(\"The max_iter was reached which means \"\n",
      "/opt/anaconda3/lib/python3.9/site-packages/sklearn/linear_model/_sag.py:328: ConvergenceWarning: The max_iter was reached which means the coef_ did not converge\n",
      "  warnings.warn(\"The max_iter was reached which means \"\n",
      "/opt/anaconda3/lib/python3.9/site-packages/sklearn/linear_model/_sag.py:328: ConvergenceWarning: The max_iter was reached which means the coef_ did not converge\n",
      "  warnings.warn(\"The max_iter was reached which means \"\n",
      "/opt/anaconda3/lib/python3.9/site-packages/sklearn/linear_model/_sag.py:328: ConvergenceWarning: The max_iter was reached which means the coef_ did not converge\n",
      "  warnings.warn(\"The max_iter was reached which means \"\n"
     ]
    },
    {
     "name": "stdout",
     "output_type": "stream",
     "text": [
      "[CV 1/5] END features__max_df=0.01, features__min_df=1, features__ngram_range=(1, 3), model__solver=saga;, score=0.944 total time=  32.7s\n"
     ]
    },
    {
     "name": "stderr",
     "output_type": "stream",
     "text": [
      "/opt/anaconda3/lib/python3.9/site-packages/sklearn/linear_model/_sag.py:328: ConvergenceWarning: The max_iter was reached which means the coef_ did not converge\n",
      "  warnings.warn(\"The max_iter was reached which means \"\n",
      "/opt/anaconda3/lib/python3.9/site-packages/sklearn/linear_model/_sag.py:328: ConvergenceWarning: The max_iter was reached which means the coef_ did not converge\n",
      "  warnings.warn(\"The max_iter was reached which means \"\n",
      "/opt/anaconda3/lib/python3.9/site-packages/sklearn/linear_model/_sag.py:328: ConvergenceWarning: The max_iter was reached which means the coef_ did not converge\n",
      "  warnings.warn(\"The max_iter was reached which means \"\n",
      "/opt/anaconda3/lib/python3.9/site-packages/sklearn/linear_model/_sag.py:328: ConvergenceWarning: The max_iter was reached which means the coef_ did not converge\n",
      "  warnings.warn(\"The max_iter was reached which means \"\n",
      "/opt/anaconda3/lib/python3.9/site-packages/sklearn/linear_model/_sag.py:328: ConvergenceWarning: The max_iter was reached which means the coef_ did not converge\n",
      "  warnings.warn(\"The max_iter was reached which means \"\n",
      "/opt/anaconda3/lib/python3.9/site-packages/sklearn/linear_model/_sag.py:328: ConvergenceWarning: The max_iter was reached which means the coef_ did not converge\n",
      "  warnings.warn(\"The max_iter was reached which means \"\n",
      "/opt/anaconda3/lib/python3.9/site-packages/sklearn/linear_model/_sag.py:328: ConvergenceWarning: The max_iter was reached which means the coef_ did not converge\n",
      "  warnings.warn(\"The max_iter was reached which means \"\n",
      "/opt/anaconda3/lib/python3.9/site-packages/sklearn/linear_model/_sag.py:328: ConvergenceWarning: The max_iter was reached which means the coef_ did not converge\n",
      "  warnings.warn(\"The max_iter was reached which means \"\n",
      "/opt/anaconda3/lib/python3.9/site-packages/sklearn/linear_model/_sag.py:328: ConvergenceWarning: The max_iter was reached which means the coef_ did not converge\n",
      "  warnings.warn(\"The max_iter was reached which means \"\n",
      "/opt/anaconda3/lib/python3.9/site-packages/sklearn/linear_model/_sag.py:328: ConvergenceWarning: The max_iter was reached which means the coef_ did not converge\n",
      "  warnings.warn(\"The max_iter was reached which means \"\n",
      "/opt/anaconda3/lib/python3.9/site-packages/sklearn/linear_model/_sag.py:328: ConvergenceWarning: The max_iter was reached which means the coef_ did not converge\n",
      "  warnings.warn(\"The max_iter was reached which means \"\n"
     ]
    },
    {
     "name": "stdout",
     "output_type": "stream",
     "text": [
      "[CV 2/5] END features__max_df=0.01, features__min_df=1, features__ngram_range=(1, 3), model__solver=saga;, score=0.929 total time=  30.2s\n"
     ]
    },
    {
     "name": "stderr",
     "output_type": "stream",
     "text": [
      "/opt/anaconda3/lib/python3.9/site-packages/sklearn/linear_model/_sag.py:328: ConvergenceWarning: The max_iter was reached which means the coef_ did not converge\n",
      "  warnings.warn(\"The max_iter was reached which means \"\n",
      "/opt/anaconda3/lib/python3.9/site-packages/sklearn/linear_model/_sag.py:328: ConvergenceWarning: The max_iter was reached which means the coef_ did not converge\n",
      "  warnings.warn(\"The max_iter was reached which means \"\n",
      "/opt/anaconda3/lib/python3.9/site-packages/sklearn/linear_model/_sag.py:328: ConvergenceWarning: The max_iter was reached which means the coef_ did not converge\n",
      "  warnings.warn(\"The max_iter was reached which means \"\n",
      "/opt/anaconda3/lib/python3.9/site-packages/sklearn/linear_model/_sag.py:328: ConvergenceWarning: The max_iter was reached which means the coef_ did not converge\n",
      "  warnings.warn(\"The max_iter was reached which means \"\n",
      "/opt/anaconda3/lib/python3.9/site-packages/sklearn/linear_model/_sag.py:328: ConvergenceWarning: The max_iter was reached which means the coef_ did not converge\n",
      "  warnings.warn(\"The max_iter was reached which means \"\n",
      "/opt/anaconda3/lib/python3.9/site-packages/sklearn/linear_model/_sag.py:328: ConvergenceWarning: The max_iter was reached which means the coef_ did not converge\n",
      "  warnings.warn(\"The max_iter was reached which means \"\n",
      "/opt/anaconda3/lib/python3.9/site-packages/sklearn/linear_model/_sag.py:328: ConvergenceWarning: The max_iter was reached which means the coef_ did not converge\n",
      "  warnings.warn(\"The max_iter was reached which means \"\n",
      "/opt/anaconda3/lib/python3.9/site-packages/sklearn/linear_model/_sag.py:328: ConvergenceWarning: The max_iter was reached which means the coef_ did not converge\n",
      "  warnings.warn(\"The max_iter was reached which means \"\n",
      "/opt/anaconda3/lib/python3.9/site-packages/sklearn/linear_model/_sag.py:328: ConvergenceWarning: The max_iter was reached which means the coef_ did not converge\n",
      "  warnings.warn(\"The max_iter was reached which means \"\n",
      "/opt/anaconda3/lib/python3.9/site-packages/sklearn/linear_model/_sag.py:328: ConvergenceWarning: The max_iter was reached which means the coef_ did not converge\n",
      "  warnings.warn(\"The max_iter was reached which means \"\n",
      "/opt/anaconda3/lib/python3.9/site-packages/sklearn/linear_model/_sag.py:328: ConvergenceWarning: The max_iter was reached which means the coef_ did not converge\n",
      "  warnings.warn(\"The max_iter was reached which means \"\n"
     ]
    },
    {
     "name": "stdout",
     "output_type": "stream",
     "text": [
      "[CV 3/5] END features__max_df=0.01, features__min_df=1, features__ngram_range=(1, 3), model__solver=saga;, score=0.931 total time=  34.0s\n"
     ]
    },
    {
     "name": "stderr",
     "output_type": "stream",
     "text": [
      "/opt/anaconda3/lib/python3.9/site-packages/sklearn/linear_model/_sag.py:328: ConvergenceWarning: The max_iter was reached which means the coef_ did not converge\n",
      "  warnings.warn(\"The max_iter was reached which means \"\n",
      "/opt/anaconda3/lib/python3.9/site-packages/sklearn/linear_model/_sag.py:328: ConvergenceWarning: The max_iter was reached which means the coef_ did not converge\n",
      "  warnings.warn(\"The max_iter was reached which means \"\n",
      "/opt/anaconda3/lib/python3.9/site-packages/sklearn/linear_model/_sag.py:328: ConvergenceWarning: The max_iter was reached which means the coef_ did not converge\n",
      "  warnings.warn(\"The max_iter was reached which means \"\n",
      "/opt/anaconda3/lib/python3.9/site-packages/sklearn/linear_model/_sag.py:328: ConvergenceWarning: The max_iter was reached which means the coef_ did not converge\n",
      "  warnings.warn(\"The max_iter was reached which means \"\n",
      "/opt/anaconda3/lib/python3.9/site-packages/sklearn/linear_model/_sag.py:328: ConvergenceWarning: The max_iter was reached which means the coef_ did not converge\n",
      "  warnings.warn(\"The max_iter was reached which means \"\n",
      "/opt/anaconda3/lib/python3.9/site-packages/sklearn/linear_model/_sag.py:328: ConvergenceWarning: The max_iter was reached which means the coef_ did not converge\n",
      "  warnings.warn(\"The max_iter was reached which means \"\n",
      "/opt/anaconda3/lib/python3.9/site-packages/sklearn/linear_model/_sag.py:328: ConvergenceWarning: The max_iter was reached which means the coef_ did not converge\n",
      "  warnings.warn(\"The max_iter was reached which means \"\n",
      "/opt/anaconda3/lib/python3.9/site-packages/sklearn/linear_model/_sag.py:328: ConvergenceWarning: The max_iter was reached which means the coef_ did not converge\n",
      "  warnings.warn(\"The max_iter was reached which means \"\n",
      "/opt/anaconda3/lib/python3.9/site-packages/sklearn/linear_model/_sag.py:328: ConvergenceWarning: The max_iter was reached which means the coef_ did not converge\n",
      "  warnings.warn(\"The max_iter was reached which means \"\n",
      "/opt/anaconda3/lib/python3.9/site-packages/sklearn/linear_model/_sag.py:328: ConvergenceWarning: The max_iter was reached which means the coef_ did not converge\n",
      "  warnings.warn(\"The max_iter was reached which means \"\n",
      "/opt/anaconda3/lib/python3.9/site-packages/sklearn/linear_model/_sag.py:328: ConvergenceWarning: The max_iter was reached which means the coef_ did not converge\n",
      "  warnings.warn(\"The max_iter was reached which means \"\n"
     ]
    },
    {
     "name": "stdout",
     "output_type": "stream",
     "text": [
      "[CV 4/5] END features__max_df=0.01, features__min_df=1, features__ngram_range=(1, 3), model__solver=saga;, score=0.936 total time=  33.0s\n"
     ]
    },
    {
     "name": "stderr",
     "output_type": "stream",
     "text": [
      "/opt/anaconda3/lib/python3.9/site-packages/sklearn/linear_model/_sag.py:328: ConvergenceWarning: The max_iter was reached which means the coef_ did not converge\n",
      "  warnings.warn(\"The max_iter was reached which means \"\n",
      "/opt/anaconda3/lib/python3.9/site-packages/sklearn/linear_model/_sag.py:328: ConvergenceWarning: The max_iter was reached which means the coef_ did not converge\n",
      "  warnings.warn(\"The max_iter was reached which means \"\n",
      "/opt/anaconda3/lib/python3.9/site-packages/sklearn/linear_model/_sag.py:328: ConvergenceWarning: The max_iter was reached which means the coef_ did not converge\n",
      "  warnings.warn(\"The max_iter was reached which means \"\n",
      "/opt/anaconda3/lib/python3.9/site-packages/sklearn/linear_model/_sag.py:328: ConvergenceWarning: The max_iter was reached which means the coef_ did not converge\n",
      "  warnings.warn(\"The max_iter was reached which means \"\n",
      "/opt/anaconda3/lib/python3.9/site-packages/sklearn/linear_model/_sag.py:328: ConvergenceWarning: The max_iter was reached which means the coef_ did not converge\n",
      "  warnings.warn(\"The max_iter was reached which means \"\n",
      "/opt/anaconda3/lib/python3.9/site-packages/sklearn/linear_model/_sag.py:328: ConvergenceWarning: The max_iter was reached which means the coef_ did not converge\n",
      "  warnings.warn(\"The max_iter was reached which means \"\n",
      "/opt/anaconda3/lib/python3.9/site-packages/sklearn/linear_model/_sag.py:328: ConvergenceWarning: The max_iter was reached which means the coef_ did not converge\n",
      "  warnings.warn(\"The max_iter was reached which means \"\n",
      "/opt/anaconda3/lib/python3.9/site-packages/sklearn/linear_model/_sag.py:328: ConvergenceWarning: The max_iter was reached which means the coef_ did not converge\n",
      "  warnings.warn(\"The max_iter was reached which means \"\n",
      "/opt/anaconda3/lib/python3.9/site-packages/sklearn/linear_model/_sag.py:328: ConvergenceWarning: The max_iter was reached which means the coef_ did not converge\n",
      "  warnings.warn(\"The max_iter was reached which means \"\n",
      "/opt/anaconda3/lib/python3.9/site-packages/sklearn/linear_model/_sag.py:328: ConvergenceWarning: The max_iter was reached which means the coef_ did not converge\n",
      "  warnings.warn(\"The max_iter was reached which means \"\n",
      "/opt/anaconda3/lib/python3.9/site-packages/sklearn/linear_model/_sag.py:328: ConvergenceWarning: The max_iter was reached which means the coef_ did not converge\n",
      "  warnings.warn(\"The max_iter was reached which means \"\n"
     ]
    },
    {
     "name": "stdout",
     "output_type": "stream",
     "text": [
      "[CV 5/5] END features__max_df=0.01, features__min_df=1, features__ngram_range=(1, 3), model__solver=saga;, score=0.930 total time=  28.9s\n"
     ]
    },
    {
     "name": "stderr",
     "output_type": "stream",
     "text": [
      "/opt/anaconda3/lib/python3.9/site-packages/joblib/externals/loky/process_executor.py:702: UserWarning: A worker stopped while some jobs were given to the executor. This can be caused by a too short worker timeout or by a memory leak.\n",
      "  warnings.warn(\n"
     ]
    },
    {
     "name": "stdout",
     "output_type": "stream",
     "text": [
      "[CV 1/5] END features__max_df=0.01, features__min_df=1, features__ngram_range=(1, 3), model__solver=liblinear;, score=0.945 total time=   9.6s\n",
      "[CV 2/5] END features__max_df=0.01, features__min_df=1, features__ngram_range=(1, 3), model__solver=liblinear;, score=0.930 total time=   9.2s\n",
      "[CV 3/5] END features__max_df=0.01, features__min_df=1, features__ngram_range=(1, 3), model__solver=liblinear;, score=0.932 total time=   8.1s\n",
      "[CV 4/5] END features__max_df=0.01, features__min_df=1, features__ngram_range=(1, 3), model__solver=liblinear;, score=0.935 total time=   8.8s\n",
      "[CV 5/5] END features__max_df=0.01, features__min_df=1, features__ngram_range=(1, 3), model__solver=liblinear;, score=0.931 total time=   8.6s\n"
     ]
    },
    {
     "name": "stderr",
     "output_type": "stream",
     "text": [
      "/opt/anaconda3/lib/python3.9/site-packages/sklearn/linear_model/_sag.py:328: ConvergenceWarning: The max_iter was reached which means the coef_ did not converge\n",
      "  warnings.warn(\"The max_iter was reached which means \"\n",
      "/opt/anaconda3/lib/python3.9/site-packages/sklearn/linear_model/_sag.py:328: ConvergenceWarning: The max_iter was reached which means the coef_ did not converge\n",
      "  warnings.warn(\"The max_iter was reached which means \"\n",
      "/opt/anaconda3/lib/python3.9/site-packages/sklearn/linear_model/_sag.py:328: ConvergenceWarning: The max_iter was reached which means the coef_ did not converge\n",
      "  warnings.warn(\"The max_iter was reached which means \"\n",
      "/opt/anaconda3/lib/python3.9/site-packages/sklearn/linear_model/_sag.py:328: ConvergenceWarning: The max_iter was reached which means the coef_ did not converge\n",
      "  warnings.warn(\"The max_iter was reached which means \"\n",
      "/opt/anaconda3/lib/python3.9/site-packages/sklearn/linear_model/_sag.py:328: ConvergenceWarning: The max_iter was reached which means the coef_ did not converge\n",
      "  warnings.warn(\"The max_iter was reached which means \"\n",
      "/opt/anaconda3/lib/python3.9/site-packages/sklearn/linear_model/_sag.py:328: ConvergenceWarning: The max_iter was reached which means the coef_ did not converge\n",
      "  warnings.warn(\"The max_iter was reached which means \"\n",
      "/opt/anaconda3/lib/python3.9/site-packages/sklearn/linear_model/_sag.py:328: ConvergenceWarning: The max_iter was reached which means the coef_ did not converge\n",
      "  warnings.warn(\"The max_iter was reached which means \"\n",
      "/opt/anaconda3/lib/python3.9/site-packages/sklearn/linear_model/_sag.py:328: ConvergenceWarning: The max_iter was reached which means the coef_ did not converge\n",
      "  warnings.warn(\"The max_iter was reached which means \"\n",
      "/opt/anaconda3/lib/python3.9/site-packages/sklearn/linear_model/_sag.py:328: ConvergenceWarning: The max_iter was reached which means the coef_ did not converge\n",
      "  warnings.warn(\"The max_iter was reached which means \"\n",
      "/opt/anaconda3/lib/python3.9/site-packages/sklearn/linear_model/_sag.py:328: ConvergenceWarning: The max_iter was reached which means the coef_ did not converge\n",
      "  warnings.warn(\"The max_iter was reached which means \"\n",
      "/opt/anaconda3/lib/python3.9/site-packages/sklearn/linear_model/_sag.py:328: ConvergenceWarning: The max_iter was reached which means the coef_ did not converge\n",
      "  warnings.warn(\"The max_iter was reached which means \"\n"
     ]
    },
    {
     "name": "stdout",
     "output_type": "stream",
     "text": [
      "[CV 1/5] END features__max_df=0.01, features__min_df=1, features__ngram_range=(1, 4), model__solver=saga;, score=0.942 total time=  43.9s\n"
     ]
    },
    {
     "name": "stderr",
     "output_type": "stream",
     "text": [
      "/opt/anaconda3/lib/python3.9/site-packages/sklearn/linear_model/_sag.py:328: ConvergenceWarning: The max_iter was reached which means the coef_ did not converge\n",
      "  warnings.warn(\"The max_iter was reached which means \"\n",
      "/opt/anaconda3/lib/python3.9/site-packages/sklearn/linear_model/_sag.py:328: ConvergenceWarning: The max_iter was reached which means the coef_ did not converge\n",
      "  warnings.warn(\"The max_iter was reached which means \"\n",
      "/opt/anaconda3/lib/python3.9/site-packages/sklearn/linear_model/_sag.py:328: ConvergenceWarning: The max_iter was reached which means the coef_ did not converge\n",
      "  warnings.warn(\"The max_iter was reached which means \"\n",
      "/opt/anaconda3/lib/python3.9/site-packages/sklearn/linear_model/_sag.py:328: ConvergenceWarning: The max_iter was reached which means the coef_ did not converge\n",
      "  warnings.warn(\"The max_iter was reached which means \"\n",
      "/opt/anaconda3/lib/python3.9/site-packages/sklearn/linear_model/_sag.py:328: ConvergenceWarning: The max_iter was reached which means the coef_ did not converge\n",
      "  warnings.warn(\"The max_iter was reached which means \"\n",
      "/opt/anaconda3/lib/python3.9/site-packages/sklearn/linear_model/_sag.py:328: ConvergenceWarning: The max_iter was reached which means the coef_ did not converge\n",
      "  warnings.warn(\"The max_iter was reached which means \"\n",
      "/opt/anaconda3/lib/python3.9/site-packages/sklearn/linear_model/_sag.py:328: ConvergenceWarning: The max_iter was reached which means the coef_ did not converge\n",
      "  warnings.warn(\"The max_iter was reached which means \"\n",
      "/opt/anaconda3/lib/python3.9/site-packages/sklearn/linear_model/_sag.py:328: ConvergenceWarning: The max_iter was reached which means the coef_ did not converge\n",
      "  warnings.warn(\"The max_iter was reached which means \"\n",
      "/opt/anaconda3/lib/python3.9/site-packages/sklearn/linear_model/_sag.py:328: ConvergenceWarning: The max_iter was reached which means the coef_ did not converge\n",
      "  warnings.warn(\"The max_iter was reached which means \"\n",
      "/opt/anaconda3/lib/python3.9/site-packages/sklearn/linear_model/_sag.py:328: ConvergenceWarning: The max_iter was reached which means the coef_ did not converge\n",
      "  warnings.warn(\"The max_iter was reached which means \"\n",
      "/opt/anaconda3/lib/python3.9/site-packages/sklearn/linear_model/_sag.py:328: ConvergenceWarning: The max_iter was reached which means the coef_ did not converge\n",
      "  warnings.warn(\"The max_iter was reached which means \"\n"
     ]
    },
    {
     "name": "stdout",
     "output_type": "stream",
     "text": [
      "[CV 2/5] END features__max_df=0.01, features__min_df=1, features__ngram_range=(1, 4), model__solver=saga;, score=0.926 total time=  42.2s\n"
     ]
    },
    {
     "name": "stderr",
     "output_type": "stream",
     "text": [
      "/opt/anaconda3/lib/python3.9/site-packages/sklearn/linear_model/_sag.py:328: ConvergenceWarning: The max_iter was reached which means the coef_ did not converge\n",
      "  warnings.warn(\"The max_iter was reached which means \"\n",
      "/opt/anaconda3/lib/python3.9/site-packages/sklearn/linear_model/_sag.py:328: ConvergenceWarning: The max_iter was reached which means the coef_ did not converge\n",
      "  warnings.warn(\"The max_iter was reached which means \"\n",
      "/opt/anaconda3/lib/python3.9/site-packages/sklearn/linear_model/_sag.py:328: ConvergenceWarning: The max_iter was reached which means the coef_ did not converge\n",
      "  warnings.warn(\"The max_iter was reached which means \"\n",
      "/opt/anaconda3/lib/python3.9/site-packages/sklearn/linear_model/_sag.py:328: ConvergenceWarning: The max_iter was reached which means the coef_ did not converge\n",
      "  warnings.warn(\"The max_iter was reached which means \"\n",
      "/opt/anaconda3/lib/python3.9/site-packages/sklearn/linear_model/_sag.py:328: ConvergenceWarning: The max_iter was reached which means the coef_ did not converge\n",
      "  warnings.warn(\"The max_iter was reached which means \"\n",
      "/opt/anaconda3/lib/python3.9/site-packages/sklearn/linear_model/_sag.py:328: ConvergenceWarning: The max_iter was reached which means the coef_ did not converge\n",
      "  warnings.warn(\"The max_iter was reached which means \"\n",
      "/opt/anaconda3/lib/python3.9/site-packages/sklearn/linear_model/_sag.py:328: ConvergenceWarning: The max_iter was reached which means the coef_ did not converge\n",
      "  warnings.warn(\"The max_iter was reached which means \"\n",
      "/opt/anaconda3/lib/python3.9/site-packages/sklearn/linear_model/_sag.py:328: ConvergenceWarning: The max_iter was reached which means the coef_ did not converge\n",
      "  warnings.warn(\"The max_iter was reached which means \"\n",
      "/opt/anaconda3/lib/python3.9/site-packages/sklearn/linear_model/_sag.py:328: ConvergenceWarning: The max_iter was reached which means the coef_ did not converge\n",
      "  warnings.warn(\"The max_iter was reached which means \"\n",
      "/opt/anaconda3/lib/python3.9/site-packages/sklearn/linear_model/_sag.py:328: ConvergenceWarning: The max_iter was reached which means the coef_ did not converge\n",
      "  warnings.warn(\"The max_iter was reached which means \"\n",
      "/opt/anaconda3/lib/python3.9/site-packages/sklearn/linear_model/_sag.py:328: ConvergenceWarning: The max_iter was reached which means the coef_ did not converge\n",
      "  warnings.warn(\"The max_iter was reached which means \"\n"
     ]
    },
    {
     "name": "stdout",
     "output_type": "stream",
     "text": [
      "[CV 3/5] END features__max_df=0.01, features__min_df=1, features__ngram_range=(1, 4), model__solver=saga;, score=0.930 total time=  47.8s\n"
     ]
    },
    {
     "name": "stderr",
     "output_type": "stream",
     "text": [
      "/opt/anaconda3/lib/python3.9/site-packages/sklearn/linear_model/_sag.py:328: ConvergenceWarning: The max_iter was reached which means the coef_ did not converge\n",
      "  warnings.warn(\"The max_iter was reached which means \"\n",
      "/opt/anaconda3/lib/python3.9/site-packages/sklearn/linear_model/_sag.py:328: ConvergenceWarning: The max_iter was reached which means the coef_ did not converge\n",
      "  warnings.warn(\"The max_iter was reached which means \"\n",
      "/opt/anaconda3/lib/python3.9/site-packages/sklearn/linear_model/_sag.py:328: ConvergenceWarning: The max_iter was reached which means the coef_ did not converge\n",
      "  warnings.warn(\"The max_iter was reached which means \"\n",
      "/opt/anaconda3/lib/python3.9/site-packages/sklearn/linear_model/_sag.py:328: ConvergenceWarning: The max_iter was reached which means the coef_ did not converge\n",
      "  warnings.warn(\"The max_iter was reached which means \"\n",
      "/opt/anaconda3/lib/python3.9/site-packages/sklearn/linear_model/_sag.py:328: ConvergenceWarning: The max_iter was reached which means the coef_ did not converge\n",
      "  warnings.warn(\"The max_iter was reached which means \"\n",
      "/opt/anaconda3/lib/python3.9/site-packages/sklearn/linear_model/_sag.py:328: ConvergenceWarning: The max_iter was reached which means the coef_ did not converge\n",
      "  warnings.warn(\"The max_iter was reached which means \"\n",
      "/opt/anaconda3/lib/python3.9/site-packages/sklearn/linear_model/_sag.py:328: ConvergenceWarning: The max_iter was reached which means the coef_ did not converge\n",
      "  warnings.warn(\"The max_iter was reached which means \"\n",
      "/opt/anaconda3/lib/python3.9/site-packages/sklearn/linear_model/_sag.py:328: ConvergenceWarning: The max_iter was reached which means the coef_ did not converge\n",
      "  warnings.warn(\"The max_iter was reached which means \"\n",
      "/opt/anaconda3/lib/python3.9/site-packages/sklearn/linear_model/_sag.py:328: ConvergenceWarning: The max_iter was reached which means the coef_ did not converge\n",
      "  warnings.warn(\"The max_iter was reached which means \"\n",
      "/opt/anaconda3/lib/python3.9/site-packages/sklearn/linear_model/_sag.py:328: ConvergenceWarning: The max_iter was reached which means the coef_ did not converge\n",
      "  warnings.warn(\"The max_iter was reached which means \"\n",
      "/opt/anaconda3/lib/python3.9/site-packages/sklearn/linear_model/_sag.py:328: ConvergenceWarning: The max_iter was reached which means the coef_ did not converge\n",
      "  warnings.warn(\"The max_iter was reached which means \"\n"
     ]
    },
    {
     "name": "stdout",
     "output_type": "stream",
     "text": [
      "[CV 4/5] END features__max_df=0.01, features__min_df=1, features__ngram_range=(1, 4), model__solver=saga;, score=0.937 total time=  44.8s\n"
     ]
    },
    {
     "name": "stderr",
     "output_type": "stream",
     "text": [
      "/opt/anaconda3/lib/python3.9/site-packages/sklearn/linear_model/_sag.py:328: ConvergenceWarning: The max_iter was reached which means the coef_ did not converge\n",
      "  warnings.warn(\"The max_iter was reached which means \"\n",
      "/opt/anaconda3/lib/python3.9/site-packages/sklearn/linear_model/_sag.py:328: ConvergenceWarning: The max_iter was reached which means the coef_ did not converge\n",
      "  warnings.warn(\"The max_iter was reached which means \"\n",
      "/opt/anaconda3/lib/python3.9/site-packages/sklearn/linear_model/_sag.py:328: ConvergenceWarning: The max_iter was reached which means the coef_ did not converge\n",
      "  warnings.warn(\"The max_iter was reached which means \"\n",
      "/opt/anaconda3/lib/python3.9/site-packages/sklearn/linear_model/_sag.py:328: ConvergenceWarning: The max_iter was reached which means the coef_ did not converge\n",
      "  warnings.warn(\"The max_iter was reached which means \"\n",
      "/opt/anaconda3/lib/python3.9/site-packages/sklearn/linear_model/_sag.py:328: ConvergenceWarning: The max_iter was reached which means the coef_ did not converge\n",
      "  warnings.warn(\"The max_iter was reached which means \"\n",
      "/opt/anaconda3/lib/python3.9/site-packages/sklearn/linear_model/_sag.py:328: ConvergenceWarning: The max_iter was reached which means the coef_ did not converge\n",
      "  warnings.warn(\"The max_iter was reached which means \"\n",
      "/opt/anaconda3/lib/python3.9/site-packages/sklearn/linear_model/_sag.py:328: ConvergenceWarning: The max_iter was reached which means the coef_ did not converge\n",
      "  warnings.warn(\"The max_iter was reached which means \"\n",
      "/opt/anaconda3/lib/python3.9/site-packages/sklearn/linear_model/_sag.py:328: ConvergenceWarning: The max_iter was reached which means the coef_ did not converge\n",
      "  warnings.warn(\"The max_iter was reached which means \"\n",
      "/opt/anaconda3/lib/python3.9/site-packages/sklearn/linear_model/_sag.py:328: ConvergenceWarning: The max_iter was reached which means the coef_ did not converge\n",
      "  warnings.warn(\"The max_iter was reached which means \"\n",
      "/opt/anaconda3/lib/python3.9/site-packages/sklearn/linear_model/_sag.py:328: ConvergenceWarning: The max_iter was reached which means the coef_ did not converge\n",
      "  warnings.warn(\"The max_iter was reached which means \"\n",
      "/opt/anaconda3/lib/python3.9/site-packages/sklearn/linear_model/_sag.py:328: ConvergenceWarning: The max_iter was reached which means the coef_ did not converge\n",
      "  warnings.warn(\"The max_iter was reached which means \"\n"
     ]
    },
    {
     "name": "stdout",
     "output_type": "stream",
     "text": [
      "[CV 5/5] END features__max_df=0.01, features__min_df=1, features__ngram_range=(1, 4), model__solver=saga;, score=0.929 total time=  39.0s\n"
     ]
    },
    {
     "name": "stderr",
     "output_type": "stream",
     "text": [
      "/opt/anaconda3/lib/python3.9/site-packages/joblib/externals/loky/process_executor.py:702: UserWarning: A worker stopped while some jobs were given to the executor. This can be caused by a too short worker timeout or by a memory leak.\n",
      "  warnings.warn(\n"
     ]
    },
    {
     "name": "stdout",
     "output_type": "stream",
     "text": [
      "[CV 1/5] END features__max_df=0.01, features__min_df=1, features__ngram_range=(1, 4), model__solver=liblinear;, score=0.943 total time=  13.7s\n",
      "[CV 2/5] END features__max_df=0.01, features__min_df=1, features__ngram_range=(1, 4), model__solver=liblinear;, score=0.928 total time=  12.0s\n",
      "[CV 3/5] END features__max_df=0.01, features__min_df=1, features__ngram_range=(1, 4), model__solver=liblinear;, score=0.929 total time=  12.3s\n",
      "[CV 4/5] END features__max_df=0.01, features__min_df=1, features__ngram_range=(1, 4), model__solver=liblinear;, score=0.936 total time=  11.9s\n",
      "[CV 5/5] END features__max_df=0.01, features__min_df=1, features__ngram_range=(1, 4), model__solver=liblinear;, score=0.930 total time=  12.4s\n"
     ]
    },
    {
     "name": "stderr",
     "output_type": "stream",
     "text": [
      "/opt/anaconda3/lib/python3.9/site-packages/sklearn/linear_model/_sag.py:328: ConvergenceWarning: The max_iter was reached which means the coef_ did not converge\n",
      "  warnings.warn(\"The max_iter was reached which means \"\n",
      "/opt/anaconda3/lib/python3.9/site-packages/sklearn/linear_model/_sag.py:328: ConvergenceWarning: The max_iter was reached which means the coef_ did not converge\n",
      "  warnings.warn(\"The max_iter was reached which means \"\n",
      "/opt/anaconda3/lib/python3.9/site-packages/sklearn/linear_model/_sag.py:328: ConvergenceWarning: The max_iter was reached which means the coef_ did not converge\n",
      "  warnings.warn(\"The max_iter was reached which means \"\n",
      "/opt/anaconda3/lib/python3.9/site-packages/sklearn/linear_model/_sag.py:328: ConvergenceWarning: The max_iter was reached which means the coef_ did not converge\n",
      "  warnings.warn(\"The max_iter was reached which means \"\n",
      "/opt/anaconda3/lib/python3.9/site-packages/sklearn/linear_model/_sag.py:328: ConvergenceWarning: The max_iter was reached which means the coef_ did not converge\n",
      "  warnings.warn(\"The max_iter was reached which means \"\n",
      "/opt/anaconda3/lib/python3.9/site-packages/sklearn/linear_model/_sag.py:328: ConvergenceWarning: The max_iter was reached which means the coef_ did not converge\n",
      "  warnings.warn(\"The max_iter was reached which means \"\n",
      "/opt/anaconda3/lib/python3.9/site-packages/sklearn/linear_model/_sag.py:328: ConvergenceWarning: The max_iter was reached which means the coef_ did not converge\n",
      "  warnings.warn(\"The max_iter was reached which means \"\n",
      "/opt/anaconda3/lib/python3.9/site-packages/sklearn/linear_model/_sag.py:328: ConvergenceWarning: The max_iter was reached which means the coef_ did not converge\n",
      "  warnings.warn(\"The max_iter was reached which means \"\n",
      "/opt/anaconda3/lib/python3.9/site-packages/sklearn/linear_model/_sag.py:328: ConvergenceWarning: The max_iter was reached which means the coef_ did not converge\n",
      "  warnings.warn(\"The max_iter was reached which means \"\n",
      "/opt/anaconda3/lib/python3.9/site-packages/sklearn/linear_model/_sag.py:328: ConvergenceWarning: The max_iter was reached which means the coef_ did not converge\n",
      "  warnings.warn(\"The max_iter was reached which means \"\n",
      "/opt/anaconda3/lib/python3.9/site-packages/sklearn/linear_model/_sag.py:328: ConvergenceWarning: The max_iter was reached which means the coef_ did not converge\n",
      "  warnings.warn(\"The max_iter was reached which means \"\n",
      "/opt/anaconda3/lib/python3.9/site-packages/sklearn/linear_model/_sag.py:328: ConvergenceWarning: The max_iter was reached which means the coef_ did not converge\n",
      "  warnings.warn(\"The max_iter was reached which means \"\n",
      "/opt/anaconda3/lib/python3.9/site-packages/sklearn/linear_model/_sag.py:328: ConvergenceWarning: The max_iter was reached which means the coef_ did not converge\n",
      "  warnings.warn(\"The max_iter was reached which means \"\n",
      "/opt/anaconda3/lib/python3.9/site-packages/sklearn/linear_model/_sag.py:328: ConvergenceWarning: The max_iter was reached which means the coef_ did not converge\n",
      "  warnings.warn(\"The max_iter was reached which means \"\n",
      "/opt/anaconda3/lib/python3.9/site-packages/sklearn/linear_model/_sag.py:328: ConvergenceWarning: The max_iter was reached which means the coef_ did not converge\n",
      "  warnings.warn(\"The max_iter was reached which means \"\n",
      "/opt/anaconda3/lib/python3.9/site-packages/sklearn/linear_model/_sag.py:328: ConvergenceWarning: The max_iter was reached which means the coef_ did not converge\n",
      "  warnings.warn(\"The max_iter was reached which means \"\n",
      "/opt/anaconda3/lib/python3.9/site-packages/sklearn/linear_model/_sag.py:328: ConvergenceWarning: The max_iter was reached which means the coef_ did not converge\n",
      "  warnings.warn(\"The max_iter was reached which means \"\n"
     ]
    },
    {
     "name": "stdout",
     "output_type": "stream",
     "text": [
      "[CV 1/5] END features__max_df=0.01, features__min_df=10, features__ngram_range=(1, 3), model__solver=saga;, score=0.907 total time=   3.0s\n"
     ]
    },
    {
     "name": "stderr",
     "output_type": "stream",
     "text": [
      "/opt/anaconda3/lib/python3.9/site-packages/sklearn/linear_model/_sag.py:328: ConvergenceWarning: The max_iter was reached which means the coef_ did not converge\n",
      "  warnings.warn(\"The max_iter was reached which means \"\n",
      "/opt/anaconda3/lib/python3.9/site-packages/sklearn/linear_model/_sag.py:328: ConvergenceWarning: The max_iter was reached which means the coef_ did not converge\n",
      "  warnings.warn(\"The max_iter was reached which means \"\n",
      "/opt/anaconda3/lib/python3.9/site-packages/sklearn/linear_model/_sag.py:328: ConvergenceWarning: The max_iter was reached which means the coef_ did not converge\n",
      "  warnings.warn(\"The max_iter was reached which means \"\n",
      "/opt/anaconda3/lib/python3.9/site-packages/sklearn/linear_model/_sag.py:328: ConvergenceWarning: The max_iter was reached which means the coef_ did not converge\n",
      "  warnings.warn(\"The max_iter was reached which means \"\n",
      "/opt/anaconda3/lib/python3.9/site-packages/sklearn/linear_model/_sag.py:328: ConvergenceWarning: The max_iter was reached which means the coef_ did not converge\n",
      "  warnings.warn(\"The max_iter was reached which means \"\n",
      "/opt/anaconda3/lib/python3.9/site-packages/sklearn/linear_model/_sag.py:328: ConvergenceWarning: The max_iter was reached which means the coef_ did not converge\n",
      "  warnings.warn(\"The max_iter was reached which means \"\n",
      "/opt/anaconda3/lib/python3.9/site-packages/sklearn/linear_model/_sag.py:328: ConvergenceWarning: The max_iter was reached which means the coef_ did not converge\n",
      "  warnings.warn(\"The max_iter was reached which means \"\n",
      "/opt/anaconda3/lib/python3.9/site-packages/sklearn/linear_model/_sag.py:328: ConvergenceWarning: The max_iter was reached which means the coef_ did not converge\n",
      "  warnings.warn(\"The max_iter was reached which means \"\n",
      "/opt/anaconda3/lib/python3.9/site-packages/sklearn/linear_model/_sag.py:328: ConvergenceWarning: The max_iter was reached which means the coef_ did not converge\n",
      "  warnings.warn(\"The max_iter was reached which means \"\n",
      "/opt/anaconda3/lib/python3.9/site-packages/sklearn/linear_model/_sag.py:328: ConvergenceWarning: The max_iter was reached which means the coef_ did not converge\n",
      "  warnings.warn(\"The max_iter was reached which means \"\n",
      "/opt/anaconda3/lib/python3.9/site-packages/sklearn/linear_model/_sag.py:328: ConvergenceWarning: The max_iter was reached which means the coef_ did not converge\n",
      "  warnings.warn(\"The max_iter was reached which means \"\n",
      "/opt/anaconda3/lib/python3.9/site-packages/sklearn/linear_model/_sag.py:328: ConvergenceWarning: The max_iter was reached which means the coef_ did not converge\n",
      "  warnings.warn(\"The max_iter was reached which means \"\n",
      "/opt/anaconda3/lib/python3.9/site-packages/sklearn/linear_model/_sag.py:328: ConvergenceWarning: The max_iter was reached which means the coef_ did not converge\n",
      "  warnings.warn(\"The max_iter was reached which means \"\n",
      "/opt/anaconda3/lib/python3.9/site-packages/sklearn/linear_model/_sag.py:328: ConvergenceWarning: The max_iter was reached which means the coef_ did not converge\n",
      "  warnings.warn(\"The max_iter was reached which means \"\n",
      "/opt/anaconda3/lib/python3.9/site-packages/sklearn/linear_model/_sag.py:328: ConvergenceWarning: The max_iter was reached which means the coef_ did not converge\n",
      "  warnings.warn(\"The max_iter was reached which means \"\n"
     ]
    },
    {
     "name": "stdout",
     "output_type": "stream",
     "text": [
      "[CV 2/5] END features__max_df=0.01, features__min_df=10, features__ngram_range=(1, 3), model__solver=saga;, score=0.900 total time=   3.0s\n"
     ]
    },
    {
     "name": "stderr",
     "output_type": "stream",
     "text": [
      "/opt/anaconda3/lib/python3.9/site-packages/sklearn/linear_model/_sag.py:328: ConvergenceWarning: The max_iter was reached which means the coef_ did not converge\n",
      "  warnings.warn(\"The max_iter was reached which means \"\n",
      "/opt/anaconda3/lib/python3.9/site-packages/sklearn/linear_model/_sag.py:328: ConvergenceWarning: The max_iter was reached which means the coef_ did not converge\n",
      "  warnings.warn(\"The max_iter was reached which means \"\n",
      "/opt/anaconda3/lib/python3.9/site-packages/sklearn/linear_model/_sag.py:328: ConvergenceWarning: The max_iter was reached which means the coef_ did not converge\n",
      "  warnings.warn(\"The max_iter was reached which means \"\n",
      "/opt/anaconda3/lib/python3.9/site-packages/sklearn/linear_model/_sag.py:328: ConvergenceWarning: The max_iter was reached which means the coef_ did not converge\n",
      "  warnings.warn(\"The max_iter was reached which means \"\n",
      "/opt/anaconda3/lib/python3.9/site-packages/sklearn/linear_model/_sag.py:328: ConvergenceWarning: The max_iter was reached which means the coef_ did not converge\n",
      "  warnings.warn(\"The max_iter was reached which means \"\n",
      "/opt/anaconda3/lib/python3.9/site-packages/sklearn/linear_model/_sag.py:328: ConvergenceWarning: The max_iter was reached which means the coef_ did not converge\n",
      "  warnings.warn(\"The max_iter was reached which means \"\n",
      "/opt/anaconda3/lib/python3.9/site-packages/sklearn/linear_model/_sag.py:328: ConvergenceWarning: The max_iter was reached which means the coef_ did not converge\n",
      "  warnings.warn(\"The max_iter was reached which means \"\n",
      "/opt/anaconda3/lib/python3.9/site-packages/sklearn/linear_model/_sag.py:328: ConvergenceWarning: The max_iter was reached which means the coef_ did not converge\n",
      "  warnings.warn(\"The max_iter was reached which means \"\n",
      "/opt/anaconda3/lib/python3.9/site-packages/sklearn/linear_model/_sag.py:328: ConvergenceWarning: The max_iter was reached which means the coef_ did not converge\n",
      "  warnings.warn(\"The max_iter was reached which means \"\n",
      "/opt/anaconda3/lib/python3.9/site-packages/sklearn/linear_model/_sag.py:328: ConvergenceWarning: The max_iter was reached which means the coef_ did not converge\n",
      "  warnings.warn(\"The max_iter was reached which means \"\n",
      "/opt/anaconda3/lib/python3.9/site-packages/sklearn/linear_model/_sag.py:328: ConvergenceWarning: The max_iter was reached which means the coef_ did not converge\n",
      "  warnings.warn(\"The max_iter was reached which means \"\n",
      "/opt/anaconda3/lib/python3.9/site-packages/sklearn/linear_model/_sag.py:328: ConvergenceWarning: The max_iter was reached which means the coef_ did not converge\n",
      "  warnings.warn(\"The max_iter was reached which means \"\n",
      "/opt/anaconda3/lib/python3.9/site-packages/sklearn/linear_model/_sag.py:328: ConvergenceWarning: The max_iter was reached which means the coef_ did not converge\n",
      "  warnings.warn(\"The max_iter was reached which means \"\n",
      "/opt/anaconda3/lib/python3.9/site-packages/sklearn/linear_model/_sag.py:328: ConvergenceWarning: The max_iter was reached which means the coef_ did not converge\n",
      "  warnings.warn(\"The max_iter was reached which means \"\n",
      "/opt/anaconda3/lib/python3.9/site-packages/sklearn/linear_model/_sag.py:328: ConvergenceWarning: The max_iter was reached which means the coef_ did not converge\n",
      "  warnings.warn(\"The max_iter was reached which means \"\n"
     ]
    },
    {
     "name": "stdout",
     "output_type": "stream",
     "text": [
      "[CV 3/5] END features__max_df=0.01, features__min_df=10, features__ngram_range=(1, 3), model__solver=saga;, score=0.892 total time=   3.0s\n"
     ]
    },
    {
     "name": "stderr",
     "output_type": "stream",
     "text": [
      "/opt/anaconda3/lib/python3.9/site-packages/sklearn/linear_model/_sag.py:328: ConvergenceWarning: The max_iter was reached which means the coef_ did not converge\n",
      "  warnings.warn(\"The max_iter was reached which means \"\n",
      "/opt/anaconda3/lib/python3.9/site-packages/sklearn/linear_model/_sag.py:328: ConvergenceWarning: The max_iter was reached which means the coef_ did not converge\n",
      "  warnings.warn(\"The max_iter was reached which means \"\n",
      "/opt/anaconda3/lib/python3.9/site-packages/sklearn/linear_model/_sag.py:328: ConvergenceWarning: The max_iter was reached which means the coef_ did not converge\n",
      "  warnings.warn(\"The max_iter was reached which means \"\n",
      "/opt/anaconda3/lib/python3.9/site-packages/sklearn/linear_model/_sag.py:328: ConvergenceWarning: The max_iter was reached which means the coef_ did not converge\n",
      "  warnings.warn(\"The max_iter was reached which means \"\n",
      "/opt/anaconda3/lib/python3.9/site-packages/sklearn/linear_model/_sag.py:328: ConvergenceWarning: The max_iter was reached which means the coef_ did not converge\n",
      "  warnings.warn(\"The max_iter was reached which means \"\n",
      "/opt/anaconda3/lib/python3.9/site-packages/sklearn/linear_model/_sag.py:328: ConvergenceWarning: The max_iter was reached which means the coef_ did not converge\n",
      "  warnings.warn(\"The max_iter was reached which means \"\n",
      "/opt/anaconda3/lib/python3.9/site-packages/sklearn/linear_model/_sag.py:328: ConvergenceWarning: The max_iter was reached which means the coef_ did not converge\n",
      "  warnings.warn(\"The max_iter was reached which means \"\n",
      "/opt/anaconda3/lib/python3.9/site-packages/sklearn/linear_model/_sag.py:328: ConvergenceWarning: The max_iter was reached which means the coef_ did not converge\n",
      "  warnings.warn(\"The max_iter was reached which means \"\n",
      "/opt/anaconda3/lib/python3.9/site-packages/sklearn/linear_model/_sag.py:328: ConvergenceWarning: The max_iter was reached which means the coef_ did not converge\n",
      "  warnings.warn(\"The max_iter was reached which means \"\n",
      "/opt/anaconda3/lib/python3.9/site-packages/sklearn/linear_model/_sag.py:328: ConvergenceWarning: The max_iter was reached which means the coef_ did not converge\n",
      "  warnings.warn(\"The max_iter was reached which means \"\n",
      "/opt/anaconda3/lib/python3.9/site-packages/sklearn/linear_model/_sag.py:328: ConvergenceWarning: The max_iter was reached which means the coef_ did not converge\n",
      "  warnings.warn(\"The max_iter was reached which means \"\n",
      "/opt/anaconda3/lib/python3.9/site-packages/sklearn/linear_model/_sag.py:328: ConvergenceWarning: The max_iter was reached which means the coef_ did not converge\n",
      "  warnings.warn(\"The max_iter was reached which means \"\n",
      "/opt/anaconda3/lib/python3.9/site-packages/sklearn/linear_model/_sag.py:328: ConvergenceWarning: The max_iter was reached which means the coef_ did not converge\n",
      "  warnings.warn(\"The max_iter was reached which means \"\n",
      "/opt/anaconda3/lib/python3.9/site-packages/sklearn/linear_model/_sag.py:328: ConvergenceWarning: The max_iter was reached which means the coef_ did not converge\n",
      "  warnings.warn(\"The max_iter was reached which means \"\n",
      "/opt/anaconda3/lib/python3.9/site-packages/sklearn/linear_model/_sag.py:328: ConvergenceWarning: The max_iter was reached which means the coef_ did not converge\n",
      "  warnings.warn(\"The max_iter was reached which means \"\n"
     ]
    },
    {
     "name": "stdout",
     "output_type": "stream",
     "text": [
      "[CV 4/5] END features__max_df=0.01, features__min_df=10, features__ngram_range=(1, 3), model__solver=saga;, score=0.899 total time=   2.9s\n"
     ]
    },
    {
     "name": "stderr",
     "output_type": "stream",
     "text": [
      "/opt/anaconda3/lib/python3.9/site-packages/sklearn/linear_model/_sag.py:328: ConvergenceWarning: The max_iter was reached which means the coef_ did not converge\n",
      "  warnings.warn(\"The max_iter was reached which means \"\n",
      "/opt/anaconda3/lib/python3.9/site-packages/sklearn/linear_model/_sag.py:328: ConvergenceWarning: The max_iter was reached which means the coef_ did not converge\n",
      "  warnings.warn(\"The max_iter was reached which means \"\n",
      "/opt/anaconda3/lib/python3.9/site-packages/sklearn/linear_model/_sag.py:328: ConvergenceWarning: The max_iter was reached which means the coef_ did not converge\n",
      "  warnings.warn(\"The max_iter was reached which means \"\n",
      "/opt/anaconda3/lib/python3.9/site-packages/sklearn/linear_model/_sag.py:328: ConvergenceWarning: The max_iter was reached which means the coef_ did not converge\n",
      "  warnings.warn(\"The max_iter was reached which means \"\n",
      "/opt/anaconda3/lib/python3.9/site-packages/sklearn/linear_model/_sag.py:328: ConvergenceWarning: The max_iter was reached which means the coef_ did not converge\n",
      "  warnings.warn(\"The max_iter was reached which means \"\n",
      "/opt/anaconda3/lib/python3.9/site-packages/sklearn/linear_model/_sag.py:328: ConvergenceWarning: The max_iter was reached which means the coef_ did not converge\n",
      "  warnings.warn(\"The max_iter was reached which means \"\n",
      "/opt/anaconda3/lib/python3.9/site-packages/sklearn/linear_model/_sag.py:328: ConvergenceWarning: The max_iter was reached which means the coef_ did not converge\n",
      "  warnings.warn(\"The max_iter was reached which means \"\n",
      "/opt/anaconda3/lib/python3.9/site-packages/sklearn/linear_model/_sag.py:328: ConvergenceWarning: The max_iter was reached which means the coef_ did not converge\n",
      "  warnings.warn(\"The max_iter was reached which means \"\n",
      "/opt/anaconda3/lib/python3.9/site-packages/sklearn/linear_model/_sag.py:328: ConvergenceWarning: The max_iter was reached which means the coef_ did not converge\n",
      "  warnings.warn(\"The max_iter was reached which means \"\n",
      "/opt/anaconda3/lib/python3.9/site-packages/sklearn/linear_model/_sag.py:328: ConvergenceWarning: The max_iter was reached which means the coef_ did not converge\n",
      "  warnings.warn(\"The max_iter was reached which means \"\n",
      "/opt/anaconda3/lib/python3.9/site-packages/sklearn/linear_model/_sag.py:328: ConvergenceWarning: The max_iter was reached which means the coef_ did not converge\n",
      "  warnings.warn(\"The max_iter was reached which means \"\n",
      "/opt/anaconda3/lib/python3.9/site-packages/sklearn/linear_model/_sag.py:328: ConvergenceWarning: The max_iter was reached which means the coef_ did not converge\n",
      "  warnings.warn(\"The max_iter was reached which means \"\n",
      "/opt/anaconda3/lib/python3.9/site-packages/sklearn/linear_model/_sag.py:328: ConvergenceWarning: The max_iter was reached which means the coef_ did not converge\n",
      "  warnings.warn(\"The max_iter was reached which means \"\n",
      "/opt/anaconda3/lib/python3.9/site-packages/sklearn/linear_model/_sag.py:328: ConvergenceWarning: The max_iter was reached which means the coef_ did not converge\n",
      "  warnings.warn(\"The max_iter was reached which means \"\n",
      "/opt/anaconda3/lib/python3.9/site-packages/sklearn/linear_model/_sag.py:328: ConvergenceWarning: The max_iter was reached which means the coef_ did not converge\n",
      "  warnings.warn(\"The max_iter was reached which means \"\n",
      "/opt/anaconda3/lib/python3.9/site-packages/sklearn/linear_model/_sag.py:328: ConvergenceWarning: The max_iter was reached which means the coef_ did not converge\n",
      "  warnings.warn(\"The max_iter was reached which means \"\n"
     ]
    },
    {
     "name": "stdout",
     "output_type": "stream",
     "text": [
      "[CV 5/5] END features__max_df=0.01, features__min_df=10, features__ngram_range=(1, 3), model__solver=saga;, score=0.892 total time=   2.9s\n",
      "[CV 1/5] END features__max_df=0.01, features__min_df=10, features__ngram_range=(1, 3), model__solver=liblinear;, score=0.904 total time=   1.8s\n",
      "[CV 2/5] END features__max_df=0.01, features__min_df=10, features__ngram_range=(1, 3), model__solver=liblinear;, score=0.897 total time=   1.8s\n",
      "[CV 3/5] END features__max_df=0.01, features__min_df=10, features__ngram_range=(1, 3), model__solver=liblinear;, score=0.893 total time=   1.8s\n",
      "[CV 4/5] END features__max_df=0.01, features__min_df=10, features__ngram_range=(1, 3), model__solver=liblinear;, score=0.896 total time=   1.8s\n",
      "[CV 5/5] END features__max_df=0.01, features__min_df=10, features__ngram_range=(1, 3), model__solver=liblinear;, score=0.892 total time=   1.9s\n"
     ]
    },
    {
     "name": "stderr",
     "output_type": "stream",
     "text": [
      "/opt/anaconda3/lib/python3.9/site-packages/sklearn/linear_model/_sag.py:328: ConvergenceWarning: The max_iter was reached which means the coef_ did not converge\n",
      "  warnings.warn(\"The max_iter was reached which means \"\n",
      "/opt/anaconda3/lib/python3.9/site-packages/sklearn/linear_model/_sag.py:328: ConvergenceWarning: The max_iter was reached which means the coef_ did not converge\n",
      "  warnings.warn(\"The max_iter was reached which means \"\n",
      "/opt/anaconda3/lib/python3.9/site-packages/sklearn/linear_model/_sag.py:328: ConvergenceWarning: The max_iter was reached which means the coef_ did not converge\n",
      "  warnings.warn(\"The max_iter was reached which means \"\n",
      "/opt/anaconda3/lib/python3.9/site-packages/sklearn/linear_model/_sag.py:328: ConvergenceWarning: The max_iter was reached which means the coef_ did not converge\n",
      "  warnings.warn(\"The max_iter was reached which means \"\n",
      "/opt/anaconda3/lib/python3.9/site-packages/sklearn/linear_model/_sag.py:328: ConvergenceWarning: The max_iter was reached which means the coef_ did not converge\n",
      "  warnings.warn(\"The max_iter was reached which means \"\n",
      "/opt/anaconda3/lib/python3.9/site-packages/sklearn/linear_model/_sag.py:328: ConvergenceWarning: The max_iter was reached which means the coef_ did not converge\n",
      "  warnings.warn(\"The max_iter was reached which means \"\n",
      "/opt/anaconda3/lib/python3.9/site-packages/sklearn/linear_model/_sag.py:328: ConvergenceWarning: The max_iter was reached which means the coef_ did not converge\n",
      "  warnings.warn(\"The max_iter was reached which means \"\n",
      "/opt/anaconda3/lib/python3.9/site-packages/sklearn/linear_model/_sag.py:328: ConvergenceWarning: The max_iter was reached which means the coef_ did not converge\n",
      "  warnings.warn(\"The max_iter was reached which means \"\n",
      "/opt/anaconda3/lib/python3.9/site-packages/sklearn/linear_model/_sag.py:328: ConvergenceWarning: The max_iter was reached which means the coef_ did not converge\n",
      "  warnings.warn(\"The max_iter was reached which means \"\n",
      "/opt/anaconda3/lib/python3.9/site-packages/sklearn/linear_model/_sag.py:328: ConvergenceWarning: The max_iter was reached which means the coef_ did not converge\n",
      "  warnings.warn(\"The max_iter was reached which means \"\n",
      "/opt/anaconda3/lib/python3.9/site-packages/sklearn/linear_model/_sag.py:328: ConvergenceWarning: The max_iter was reached which means the coef_ did not converge\n",
      "  warnings.warn(\"The max_iter was reached which means \"\n",
      "/opt/anaconda3/lib/python3.9/site-packages/sklearn/linear_model/_sag.py:328: ConvergenceWarning: The max_iter was reached which means the coef_ did not converge\n",
      "  warnings.warn(\"The max_iter was reached which means \"\n",
      "/opt/anaconda3/lib/python3.9/site-packages/sklearn/linear_model/_sag.py:328: ConvergenceWarning: The max_iter was reached which means the coef_ did not converge\n",
      "  warnings.warn(\"The max_iter was reached which means \"\n",
      "/opt/anaconda3/lib/python3.9/site-packages/sklearn/linear_model/_sag.py:328: ConvergenceWarning: The max_iter was reached which means the coef_ did not converge\n",
      "  warnings.warn(\"The max_iter was reached which means \"\n",
      "/opt/anaconda3/lib/python3.9/site-packages/sklearn/linear_model/_sag.py:328: ConvergenceWarning: The max_iter was reached which means the coef_ did not converge\n",
      "  warnings.warn(\"The max_iter was reached which means \"\n",
      "/opt/anaconda3/lib/python3.9/site-packages/sklearn/linear_model/_sag.py:328: ConvergenceWarning: The max_iter was reached which means the coef_ did not converge\n",
      "  warnings.warn(\"The max_iter was reached which means \"\n",
      "/opt/anaconda3/lib/python3.9/site-packages/sklearn/linear_model/_sag.py:328: ConvergenceWarning: The max_iter was reached which means the coef_ did not converge\n",
      "  warnings.warn(\"The max_iter was reached which means \"\n"
     ]
    },
    {
     "name": "stdout",
     "output_type": "stream",
     "text": [
      "[CV 1/5] END features__max_df=0.01, features__min_df=10, features__ngram_range=(1, 4), model__solver=saga;, score=0.906 total time=   3.2s\n"
     ]
    },
    {
     "name": "stderr",
     "output_type": "stream",
     "text": [
      "/opt/anaconda3/lib/python3.9/site-packages/sklearn/linear_model/_sag.py:328: ConvergenceWarning: The max_iter was reached which means the coef_ did not converge\n",
      "  warnings.warn(\"The max_iter was reached which means \"\n",
      "/opt/anaconda3/lib/python3.9/site-packages/sklearn/linear_model/_sag.py:328: ConvergenceWarning: The max_iter was reached which means the coef_ did not converge\n",
      "  warnings.warn(\"The max_iter was reached which means \"\n",
      "/opt/anaconda3/lib/python3.9/site-packages/sklearn/linear_model/_sag.py:328: ConvergenceWarning: The max_iter was reached which means the coef_ did not converge\n",
      "  warnings.warn(\"The max_iter was reached which means \"\n",
      "/opt/anaconda3/lib/python3.9/site-packages/sklearn/linear_model/_sag.py:328: ConvergenceWarning: The max_iter was reached which means the coef_ did not converge\n",
      "  warnings.warn(\"The max_iter was reached which means \"\n",
      "/opt/anaconda3/lib/python3.9/site-packages/sklearn/linear_model/_sag.py:328: ConvergenceWarning: The max_iter was reached which means the coef_ did not converge\n",
      "  warnings.warn(\"The max_iter was reached which means \"\n",
      "/opt/anaconda3/lib/python3.9/site-packages/sklearn/linear_model/_sag.py:328: ConvergenceWarning: The max_iter was reached which means the coef_ did not converge\n",
      "  warnings.warn(\"The max_iter was reached which means \"\n",
      "/opt/anaconda3/lib/python3.9/site-packages/sklearn/linear_model/_sag.py:328: ConvergenceWarning: The max_iter was reached which means the coef_ did not converge\n",
      "  warnings.warn(\"The max_iter was reached which means \"\n",
      "/opt/anaconda3/lib/python3.9/site-packages/sklearn/linear_model/_sag.py:328: ConvergenceWarning: The max_iter was reached which means the coef_ did not converge\n",
      "  warnings.warn(\"The max_iter was reached which means \"\n",
      "/opt/anaconda3/lib/python3.9/site-packages/sklearn/linear_model/_sag.py:328: ConvergenceWarning: The max_iter was reached which means the coef_ did not converge\n",
      "  warnings.warn(\"The max_iter was reached which means \"\n",
      "/opt/anaconda3/lib/python3.9/site-packages/sklearn/linear_model/_sag.py:328: ConvergenceWarning: The max_iter was reached which means the coef_ did not converge\n",
      "  warnings.warn(\"The max_iter was reached which means \"\n",
      "/opt/anaconda3/lib/python3.9/site-packages/sklearn/linear_model/_sag.py:328: ConvergenceWarning: The max_iter was reached which means the coef_ did not converge\n",
      "  warnings.warn(\"The max_iter was reached which means \"\n",
      "/opt/anaconda3/lib/python3.9/site-packages/sklearn/linear_model/_sag.py:328: ConvergenceWarning: The max_iter was reached which means the coef_ did not converge\n",
      "  warnings.warn(\"The max_iter was reached which means \"\n",
      "/opt/anaconda3/lib/python3.9/site-packages/sklearn/linear_model/_sag.py:328: ConvergenceWarning: The max_iter was reached which means the coef_ did not converge\n",
      "  warnings.warn(\"The max_iter was reached which means \"\n",
      "/opt/anaconda3/lib/python3.9/site-packages/sklearn/linear_model/_sag.py:328: ConvergenceWarning: The max_iter was reached which means the coef_ did not converge\n",
      "  warnings.warn(\"The max_iter was reached which means \"\n",
      "/opt/anaconda3/lib/python3.9/site-packages/sklearn/linear_model/_sag.py:328: ConvergenceWarning: The max_iter was reached which means the coef_ did not converge\n",
      "  warnings.warn(\"The max_iter was reached which means \"\n"
     ]
    },
    {
     "name": "stdout",
     "output_type": "stream",
     "text": [
      "[CV 2/5] END features__max_df=0.01, features__min_df=10, features__ngram_range=(1, 4), model__solver=saga;, score=0.900 total time=   3.3s\n"
     ]
    },
    {
     "name": "stderr",
     "output_type": "stream",
     "text": [
      "/opt/anaconda3/lib/python3.9/site-packages/sklearn/linear_model/_sag.py:328: ConvergenceWarning: The max_iter was reached which means the coef_ did not converge\n",
      "  warnings.warn(\"The max_iter was reached which means \"\n",
      "/opt/anaconda3/lib/python3.9/site-packages/sklearn/linear_model/_sag.py:328: ConvergenceWarning: The max_iter was reached which means the coef_ did not converge\n",
      "  warnings.warn(\"The max_iter was reached which means \"\n",
      "/opt/anaconda3/lib/python3.9/site-packages/sklearn/linear_model/_sag.py:328: ConvergenceWarning: The max_iter was reached which means the coef_ did not converge\n",
      "  warnings.warn(\"The max_iter was reached which means \"\n",
      "/opt/anaconda3/lib/python3.9/site-packages/sklearn/linear_model/_sag.py:328: ConvergenceWarning: The max_iter was reached which means the coef_ did not converge\n",
      "  warnings.warn(\"The max_iter was reached which means \"\n",
      "/opt/anaconda3/lib/python3.9/site-packages/sklearn/linear_model/_sag.py:328: ConvergenceWarning: The max_iter was reached which means the coef_ did not converge\n",
      "  warnings.warn(\"The max_iter was reached which means \"\n",
      "/opt/anaconda3/lib/python3.9/site-packages/sklearn/linear_model/_sag.py:328: ConvergenceWarning: The max_iter was reached which means the coef_ did not converge\n",
      "  warnings.warn(\"The max_iter was reached which means \"\n",
      "/opt/anaconda3/lib/python3.9/site-packages/sklearn/linear_model/_sag.py:328: ConvergenceWarning: The max_iter was reached which means the coef_ did not converge\n",
      "  warnings.warn(\"The max_iter was reached which means \"\n",
      "/opt/anaconda3/lib/python3.9/site-packages/sklearn/linear_model/_sag.py:328: ConvergenceWarning: The max_iter was reached which means the coef_ did not converge\n",
      "  warnings.warn(\"The max_iter was reached which means \"\n",
      "/opt/anaconda3/lib/python3.9/site-packages/sklearn/linear_model/_sag.py:328: ConvergenceWarning: The max_iter was reached which means the coef_ did not converge\n",
      "  warnings.warn(\"The max_iter was reached which means \"\n",
      "/opt/anaconda3/lib/python3.9/site-packages/sklearn/linear_model/_sag.py:328: ConvergenceWarning: The max_iter was reached which means the coef_ did not converge\n",
      "  warnings.warn(\"The max_iter was reached which means \"\n",
      "/opt/anaconda3/lib/python3.9/site-packages/sklearn/linear_model/_sag.py:328: ConvergenceWarning: The max_iter was reached which means the coef_ did not converge\n",
      "  warnings.warn(\"The max_iter was reached which means \"\n",
      "/opt/anaconda3/lib/python3.9/site-packages/sklearn/linear_model/_sag.py:328: ConvergenceWarning: The max_iter was reached which means the coef_ did not converge\n",
      "  warnings.warn(\"The max_iter was reached which means \"\n",
      "/opt/anaconda3/lib/python3.9/site-packages/sklearn/linear_model/_sag.py:328: ConvergenceWarning: The max_iter was reached which means the coef_ did not converge\n",
      "  warnings.warn(\"The max_iter was reached which means \"\n",
      "/opt/anaconda3/lib/python3.9/site-packages/sklearn/linear_model/_sag.py:328: ConvergenceWarning: The max_iter was reached which means the coef_ did not converge\n",
      "  warnings.warn(\"The max_iter was reached which means \"\n",
      "/opt/anaconda3/lib/python3.9/site-packages/sklearn/linear_model/_sag.py:328: ConvergenceWarning: The max_iter was reached which means the coef_ did not converge\n",
      "  warnings.warn(\"The max_iter was reached which means \"\n"
     ]
    },
    {
     "name": "stdout",
     "output_type": "stream",
     "text": [
      "[CV 3/5] END features__max_df=0.01, features__min_df=10, features__ngram_range=(1, 4), model__solver=saga;, score=0.892 total time=   3.2s\n"
     ]
    },
    {
     "name": "stderr",
     "output_type": "stream",
     "text": [
      "/opt/anaconda3/lib/python3.9/site-packages/sklearn/linear_model/_sag.py:328: ConvergenceWarning: The max_iter was reached which means the coef_ did not converge\n",
      "  warnings.warn(\"The max_iter was reached which means \"\n",
      "/opt/anaconda3/lib/python3.9/site-packages/sklearn/linear_model/_sag.py:328: ConvergenceWarning: The max_iter was reached which means the coef_ did not converge\n",
      "  warnings.warn(\"The max_iter was reached which means \"\n",
      "/opt/anaconda3/lib/python3.9/site-packages/sklearn/linear_model/_sag.py:328: ConvergenceWarning: The max_iter was reached which means the coef_ did not converge\n",
      "  warnings.warn(\"The max_iter was reached which means \"\n",
      "/opt/anaconda3/lib/python3.9/site-packages/sklearn/linear_model/_sag.py:328: ConvergenceWarning: The max_iter was reached which means the coef_ did not converge\n",
      "  warnings.warn(\"The max_iter was reached which means \"\n",
      "/opt/anaconda3/lib/python3.9/site-packages/sklearn/linear_model/_sag.py:328: ConvergenceWarning: The max_iter was reached which means the coef_ did not converge\n",
      "  warnings.warn(\"The max_iter was reached which means \"\n",
      "/opt/anaconda3/lib/python3.9/site-packages/sklearn/linear_model/_sag.py:328: ConvergenceWarning: The max_iter was reached which means the coef_ did not converge\n",
      "  warnings.warn(\"The max_iter was reached which means \"\n",
      "/opt/anaconda3/lib/python3.9/site-packages/sklearn/linear_model/_sag.py:328: ConvergenceWarning: The max_iter was reached which means the coef_ did not converge\n",
      "  warnings.warn(\"The max_iter was reached which means \"\n",
      "/opt/anaconda3/lib/python3.9/site-packages/sklearn/linear_model/_sag.py:328: ConvergenceWarning: The max_iter was reached which means the coef_ did not converge\n",
      "  warnings.warn(\"The max_iter was reached which means \"\n",
      "/opt/anaconda3/lib/python3.9/site-packages/sklearn/linear_model/_sag.py:328: ConvergenceWarning: The max_iter was reached which means the coef_ did not converge\n",
      "  warnings.warn(\"The max_iter was reached which means \"\n",
      "/opt/anaconda3/lib/python3.9/site-packages/sklearn/linear_model/_sag.py:328: ConvergenceWarning: The max_iter was reached which means the coef_ did not converge\n",
      "  warnings.warn(\"The max_iter was reached which means \"\n",
      "/opt/anaconda3/lib/python3.9/site-packages/sklearn/linear_model/_sag.py:328: ConvergenceWarning: The max_iter was reached which means the coef_ did not converge\n",
      "  warnings.warn(\"The max_iter was reached which means \"\n",
      "/opt/anaconda3/lib/python3.9/site-packages/sklearn/linear_model/_sag.py:328: ConvergenceWarning: The max_iter was reached which means the coef_ did not converge\n",
      "  warnings.warn(\"The max_iter was reached which means \"\n",
      "/opt/anaconda3/lib/python3.9/site-packages/sklearn/linear_model/_sag.py:328: ConvergenceWarning: The max_iter was reached which means the coef_ did not converge\n",
      "  warnings.warn(\"The max_iter was reached which means \"\n",
      "/opt/anaconda3/lib/python3.9/site-packages/sklearn/linear_model/_sag.py:328: ConvergenceWarning: The max_iter was reached which means the coef_ did not converge\n",
      "  warnings.warn(\"The max_iter was reached which means \"\n",
      "/opt/anaconda3/lib/python3.9/site-packages/sklearn/linear_model/_sag.py:328: ConvergenceWarning: The max_iter was reached which means the coef_ did not converge\n",
      "  warnings.warn(\"The max_iter was reached which means \"\n"
     ]
    },
    {
     "name": "stdout",
     "output_type": "stream",
     "text": [
      "[CV 4/5] END features__max_df=0.01, features__min_df=10, features__ngram_range=(1, 4), model__solver=saga;, score=0.899 total time=   3.1s\n"
     ]
    },
    {
     "name": "stderr",
     "output_type": "stream",
     "text": [
      "/opt/anaconda3/lib/python3.9/site-packages/sklearn/linear_model/_sag.py:328: ConvergenceWarning: The max_iter was reached which means the coef_ did not converge\n",
      "  warnings.warn(\"The max_iter was reached which means \"\n",
      "/opt/anaconda3/lib/python3.9/site-packages/sklearn/linear_model/_sag.py:328: ConvergenceWarning: The max_iter was reached which means the coef_ did not converge\n",
      "  warnings.warn(\"The max_iter was reached which means \"\n",
      "/opt/anaconda3/lib/python3.9/site-packages/sklearn/linear_model/_sag.py:328: ConvergenceWarning: The max_iter was reached which means the coef_ did not converge\n",
      "  warnings.warn(\"The max_iter was reached which means \"\n",
      "/opt/anaconda3/lib/python3.9/site-packages/sklearn/linear_model/_sag.py:328: ConvergenceWarning: The max_iter was reached which means the coef_ did not converge\n",
      "  warnings.warn(\"The max_iter was reached which means \"\n",
      "/opt/anaconda3/lib/python3.9/site-packages/sklearn/linear_model/_sag.py:328: ConvergenceWarning: The max_iter was reached which means the coef_ did not converge\n",
      "  warnings.warn(\"The max_iter was reached which means \"\n",
      "/opt/anaconda3/lib/python3.9/site-packages/sklearn/linear_model/_sag.py:328: ConvergenceWarning: The max_iter was reached which means the coef_ did not converge\n",
      "  warnings.warn(\"The max_iter was reached which means \"\n",
      "/opt/anaconda3/lib/python3.9/site-packages/sklearn/linear_model/_sag.py:328: ConvergenceWarning: The max_iter was reached which means the coef_ did not converge\n",
      "  warnings.warn(\"The max_iter was reached which means \"\n",
      "/opt/anaconda3/lib/python3.9/site-packages/sklearn/linear_model/_sag.py:328: ConvergenceWarning: The max_iter was reached which means the coef_ did not converge\n",
      "  warnings.warn(\"The max_iter was reached which means \"\n",
      "/opt/anaconda3/lib/python3.9/site-packages/sklearn/linear_model/_sag.py:328: ConvergenceWarning: The max_iter was reached which means the coef_ did not converge\n",
      "  warnings.warn(\"The max_iter was reached which means \"\n",
      "/opt/anaconda3/lib/python3.9/site-packages/sklearn/linear_model/_sag.py:328: ConvergenceWarning: The max_iter was reached which means the coef_ did not converge\n",
      "  warnings.warn(\"The max_iter was reached which means \"\n",
      "/opt/anaconda3/lib/python3.9/site-packages/sklearn/linear_model/_sag.py:328: ConvergenceWarning: The max_iter was reached which means the coef_ did not converge\n",
      "  warnings.warn(\"The max_iter was reached which means \"\n",
      "/opt/anaconda3/lib/python3.9/site-packages/sklearn/linear_model/_sag.py:328: ConvergenceWarning: The max_iter was reached which means the coef_ did not converge\n",
      "  warnings.warn(\"The max_iter was reached which means \"\n",
      "/opt/anaconda3/lib/python3.9/site-packages/sklearn/linear_model/_sag.py:328: ConvergenceWarning: The max_iter was reached which means the coef_ did not converge\n",
      "  warnings.warn(\"The max_iter was reached which means \"\n",
      "/opt/anaconda3/lib/python3.9/site-packages/sklearn/linear_model/_sag.py:328: ConvergenceWarning: The max_iter was reached which means the coef_ did not converge\n",
      "  warnings.warn(\"The max_iter was reached which means \"\n",
      "/opt/anaconda3/lib/python3.9/site-packages/sklearn/linear_model/_sag.py:328: ConvergenceWarning: The max_iter was reached which means the coef_ did not converge\n",
      "  warnings.warn(\"The max_iter was reached which means \"\n",
      "/opt/anaconda3/lib/python3.9/site-packages/sklearn/linear_model/_sag.py:328: ConvergenceWarning: The max_iter was reached which means the coef_ did not converge\n",
      "  warnings.warn(\"The max_iter was reached which means \"\n"
     ]
    },
    {
     "name": "stdout",
     "output_type": "stream",
     "text": [
      "[CV 5/5] END features__max_df=0.01, features__min_df=10, features__ngram_range=(1, 4), model__solver=saga;, score=0.892 total time=   3.1s\n",
      "[CV 1/5] END features__max_df=0.01, features__min_df=10, features__ngram_range=(1, 4), model__solver=liblinear;, score=0.904 total time=   2.1s\n",
      "[CV 2/5] END features__max_df=0.01, features__min_df=10, features__ngram_range=(1, 4), model__solver=liblinear;, score=0.897 total time=   2.0s\n",
      "[CV 3/5] END features__max_df=0.01, features__min_df=10, features__ngram_range=(1, 4), model__solver=liblinear;, score=0.893 total time=   2.0s\n",
      "[CV 4/5] END features__max_df=0.01, features__min_df=10, features__ngram_range=(1, 4), model__solver=liblinear;, score=0.896 total time=   2.1s\n",
      "[CV 5/5] END features__max_df=0.01, features__min_df=10, features__ngram_range=(1, 4), model__solver=liblinear;, score=0.892 total time=   2.1s\n"
     ]
    },
    {
     "name": "stderr",
     "output_type": "stream",
     "text": [
      "/opt/anaconda3/lib/python3.9/site-packages/sklearn/linear_model/_sag.py:328: ConvergenceWarning: The max_iter was reached which means the coef_ did not converge\n",
      "  warnings.warn(\"The max_iter was reached which means \"\n",
      "/opt/anaconda3/lib/python3.9/site-packages/sklearn/linear_model/_sag.py:328: ConvergenceWarning: The max_iter was reached which means the coef_ did not converge\n",
      "  warnings.warn(\"The max_iter was reached which means \"\n",
      "/opt/anaconda3/lib/python3.9/site-packages/sklearn/linear_model/_sag.py:328: ConvergenceWarning: The max_iter was reached which means the coef_ did not converge\n",
      "  warnings.warn(\"The max_iter was reached which means \"\n",
      "/opt/anaconda3/lib/python3.9/site-packages/sklearn/linear_model/_sag.py:328: ConvergenceWarning: The max_iter was reached which means the coef_ did not converge\n",
      "  warnings.warn(\"The max_iter was reached which means \"\n",
      "/opt/anaconda3/lib/python3.9/site-packages/sklearn/linear_model/_sag.py:328: ConvergenceWarning: The max_iter was reached which means the coef_ did not converge\n",
      "  warnings.warn(\"The max_iter was reached which means \"\n",
      "/opt/anaconda3/lib/python3.9/site-packages/sklearn/linear_model/_sag.py:328: ConvergenceWarning: The max_iter was reached which means the coef_ did not converge\n",
      "  warnings.warn(\"The max_iter was reached which means \"\n",
      "/opt/anaconda3/lib/python3.9/site-packages/sklearn/linear_model/_sag.py:328: ConvergenceWarning: The max_iter was reached which means the coef_ did not converge\n",
      "  warnings.warn(\"The max_iter was reached which means \"\n",
      "/opt/anaconda3/lib/python3.9/site-packages/sklearn/linear_model/_sag.py:328: ConvergenceWarning: The max_iter was reached which means the coef_ did not converge\n",
      "  warnings.warn(\"The max_iter was reached which means \"\n",
      "/opt/anaconda3/lib/python3.9/site-packages/sklearn/linear_model/_sag.py:328: ConvergenceWarning: The max_iter was reached which means the coef_ did not converge\n",
      "  warnings.warn(\"The max_iter was reached which means \"\n",
      "/opt/anaconda3/lib/python3.9/site-packages/sklearn/linear_model/_sag.py:328: ConvergenceWarning: The max_iter was reached which means the coef_ did not converge\n",
      "  warnings.warn(\"The max_iter was reached which means \"\n",
      "/opt/anaconda3/lib/python3.9/site-packages/sklearn/linear_model/_sag.py:328: ConvergenceWarning: The max_iter was reached which means the coef_ did not converge\n",
      "  warnings.warn(\"The max_iter was reached which means \"\n"
     ]
    },
    {
     "name": "stdout",
     "output_type": "stream",
     "text": [
      "[CV 1/5] END features__max_df=0.05, features__min_df=1, features__ngram_range=(1, 3), model__solver=saga;, score=0.942 total time=  25.1s\n"
     ]
    },
    {
     "name": "stderr",
     "output_type": "stream",
     "text": [
      "/opt/anaconda3/lib/python3.9/site-packages/sklearn/linear_model/_sag.py:328: ConvergenceWarning: The max_iter was reached which means the coef_ did not converge\n",
      "  warnings.warn(\"The max_iter was reached which means \"\n",
      "/opt/anaconda3/lib/python3.9/site-packages/sklearn/linear_model/_sag.py:328: ConvergenceWarning: The max_iter was reached which means the coef_ did not converge\n",
      "  warnings.warn(\"The max_iter was reached which means \"\n",
      "/opt/anaconda3/lib/python3.9/site-packages/sklearn/linear_model/_sag.py:328: ConvergenceWarning: The max_iter was reached which means the coef_ did not converge\n",
      "  warnings.warn(\"The max_iter was reached which means \"\n",
      "/opt/anaconda3/lib/python3.9/site-packages/sklearn/linear_model/_sag.py:328: ConvergenceWarning: The max_iter was reached which means the coef_ did not converge\n",
      "  warnings.warn(\"The max_iter was reached which means \"\n",
      "/opt/anaconda3/lib/python3.9/site-packages/sklearn/linear_model/_sag.py:328: ConvergenceWarning: The max_iter was reached which means the coef_ did not converge\n",
      "  warnings.warn(\"The max_iter was reached which means \"\n",
      "/opt/anaconda3/lib/python3.9/site-packages/sklearn/linear_model/_sag.py:328: ConvergenceWarning: The max_iter was reached which means the coef_ did not converge\n",
      "  warnings.warn(\"The max_iter was reached which means \"\n",
      "/opt/anaconda3/lib/python3.9/site-packages/sklearn/linear_model/_sag.py:328: ConvergenceWarning: The max_iter was reached which means the coef_ did not converge\n",
      "  warnings.warn(\"The max_iter was reached which means \"\n",
      "/opt/anaconda3/lib/python3.9/site-packages/sklearn/linear_model/_sag.py:328: ConvergenceWarning: The max_iter was reached which means the coef_ did not converge\n",
      "  warnings.warn(\"The max_iter was reached which means \"\n",
      "/opt/anaconda3/lib/python3.9/site-packages/sklearn/linear_model/_sag.py:328: ConvergenceWarning: The max_iter was reached which means the coef_ did not converge\n",
      "  warnings.warn(\"The max_iter was reached which means \"\n",
      "/opt/anaconda3/lib/python3.9/site-packages/sklearn/linear_model/_sag.py:328: ConvergenceWarning: The max_iter was reached which means the coef_ did not converge\n",
      "  warnings.warn(\"The max_iter was reached which means \"\n",
      "/opt/anaconda3/lib/python3.9/site-packages/sklearn/linear_model/_sag.py:328: ConvergenceWarning: The max_iter was reached which means the coef_ did not converge\n",
      "  warnings.warn(\"The max_iter was reached which means \"\n"
     ]
    },
    {
     "name": "stdout",
     "output_type": "stream",
     "text": [
      "[CV 2/5] END features__max_df=0.05, features__min_df=1, features__ngram_range=(1, 3), model__solver=saga;, score=0.937 total time=  26.0s\n"
     ]
    },
    {
     "name": "stderr",
     "output_type": "stream",
     "text": [
      "/opt/anaconda3/lib/python3.9/site-packages/sklearn/linear_model/_sag.py:328: ConvergenceWarning: The max_iter was reached which means the coef_ did not converge\n",
      "  warnings.warn(\"The max_iter was reached which means \"\n",
      "/opt/anaconda3/lib/python3.9/site-packages/sklearn/linear_model/_sag.py:328: ConvergenceWarning: The max_iter was reached which means the coef_ did not converge\n",
      "  warnings.warn(\"The max_iter was reached which means \"\n",
      "/opt/anaconda3/lib/python3.9/site-packages/sklearn/linear_model/_sag.py:328: ConvergenceWarning: The max_iter was reached which means the coef_ did not converge\n",
      "  warnings.warn(\"The max_iter was reached which means \"\n",
      "/opt/anaconda3/lib/python3.9/site-packages/sklearn/linear_model/_sag.py:328: ConvergenceWarning: The max_iter was reached which means the coef_ did not converge\n",
      "  warnings.warn(\"The max_iter was reached which means \"\n",
      "/opt/anaconda3/lib/python3.9/site-packages/sklearn/linear_model/_sag.py:328: ConvergenceWarning: The max_iter was reached which means the coef_ did not converge\n",
      "  warnings.warn(\"The max_iter was reached which means \"\n",
      "/opt/anaconda3/lib/python3.9/site-packages/sklearn/linear_model/_sag.py:328: ConvergenceWarning: The max_iter was reached which means the coef_ did not converge\n",
      "  warnings.warn(\"The max_iter was reached which means \"\n",
      "/opt/anaconda3/lib/python3.9/site-packages/sklearn/linear_model/_sag.py:328: ConvergenceWarning: The max_iter was reached which means the coef_ did not converge\n",
      "  warnings.warn(\"The max_iter was reached which means \"\n",
      "/opt/anaconda3/lib/python3.9/site-packages/sklearn/linear_model/_sag.py:328: ConvergenceWarning: The max_iter was reached which means the coef_ did not converge\n",
      "  warnings.warn(\"The max_iter was reached which means \"\n",
      "/opt/anaconda3/lib/python3.9/site-packages/sklearn/linear_model/_sag.py:328: ConvergenceWarning: The max_iter was reached which means the coef_ did not converge\n",
      "  warnings.warn(\"The max_iter was reached which means \"\n",
      "/opt/anaconda3/lib/python3.9/site-packages/sklearn/linear_model/_sag.py:328: ConvergenceWarning: The max_iter was reached which means the coef_ did not converge\n",
      "  warnings.warn(\"The max_iter was reached which means \"\n",
      "/opt/anaconda3/lib/python3.9/site-packages/sklearn/linear_model/_sag.py:328: ConvergenceWarning: The max_iter was reached which means the coef_ did not converge\n",
      "  warnings.warn(\"The max_iter was reached which means \"\n"
     ]
    },
    {
     "name": "stdout",
     "output_type": "stream",
     "text": [
      "[CV 3/5] END features__max_df=0.05, features__min_df=1, features__ngram_range=(1, 3), model__solver=saga;, score=0.935 total time=  24.7s\n"
     ]
    },
    {
     "name": "stderr",
     "output_type": "stream",
     "text": [
      "/opt/anaconda3/lib/python3.9/site-packages/sklearn/linear_model/_sag.py:328: ConvergenceWarning: The max_iter was reached which means the coef_ did not converge\n",
      "  warnings.warn(\"The max_iter was reached which means \"\n",
      "/opt/anaconda3/lib/python3.9/site-packages/sklearn/linear_model/_sag.py:328: ConvergenceWarning: The max_iter was reached which means the coef_ did not converge\n",
      "  warnings.warn(\"The max_iter was reached which means \"\n",
      "/opt/anaconda3/lib/python3.9/site-packages/sklearn/linear_model/_sag.py:328: ConvergenceWarning: The max_iter was reached which means the coef_ did not converge\n",
      "  warnings.warn(\"The max_iter was reached which means \"\n",
      "/opt/anaconda3/lib/python3.9/site-packages/sklearn/linear_model/_sag.py:328: ConvergenceWarning: The max_iter was reached which means the coef_ did not converge\n",
      "  warnings.warn(\"The max_iter was reached which means \"\n",
      "/opt/anaconda3/lib/python3.9/site-packages/sklearn/linear_model/_sag.py:328: ConvergenceWarning: The max_iter was reached which means the coef_ did not converge\n",
      "  warnings.warn(\"The max_iter was reached which means \"\n",
      "/opt/anaconda3/lib/python3.9/site-packages/sklearn/linear_model/_sag.py:328: ConvergenceWarning: The max_iter was reached which means the coef_ did not converge\n",
      "  warnings.warn(\"The max_iter was reached which means \"\n",
      "/opt/anaconda3/lib/python3.9/site-packages/sklearn/linear_model/_sag.py:328: ConvergenceWarning: The max_iter was reached which means the coef_ did not converge\n",
      "  warnings.warn(\"The max_iter was reached which means \"\n",
      "/opt/anaconda3/lib/python3.9/site-packages/sklearn/linear_model/_sag.py:328: ConvergenceWarning: The max_iter was reached which means the coef_ did not converge\n",
      "  warnings.warn(\"The max_iter was reached which means \"\n",
      "/opt/anaconda3/lib/python3.9/site-packages/sklearn/linear_model/_sag.py:328: ConvergenceWarning: The max_iter was reached which means the coef_ did not converge\n",
      "  warnings.warn(\"The max_iter was reached which means \"\n",
      "/opt/anaconda3/lib/python3.9/site-packages/sklearn/linear_model/_sag.py:328: ConvergenceWarning: The max_iter was reached which means the coef_ did not converge\n",
      "  warnings.warn(\"The max_iter was reached which means \"\n",
      "/opt/anaconda3/lib/python3.9/site-packages/sklearn/linear_model/_sag.py:328: ConvergenceWarning: The max_iter was reached which means the coef_ did not converge\n",
      "  warnings.warn(\"The max_iter was reached which means \"\n"
     ]
    },
    {
     "name": "stdout",
     "output_type": "stream",
     "text": [
      "[CV 4/5] END features__max_df=0.05, features__min_df=1, features__ngram_range=(1, 3), model__solver=saga;, score=0.939 total time=  24.4s\n"
     ]
    },
    {
     "name": "stderr",
     "output_type": "stream",
     "text": [
      "/opt/anaconda3/lib/python3.9/site-packages/sklearn/linear_model/_sag.py:328: ConvergenceWarning: The max_iter was reached which means the coef_ did not converge\n",
      "  warnings.warn(\"The max_iter was reached which means \"\n",
      "/opt/anaconda3/lib/python3.9/site-packages/sklearn/linear_model/_sag.py:328: ConvergenceWarning: The max_iter was reached which means the coef_ did not converge\n",
      "  warnings.warn(\"The max_iter was reached which means \"\n",
      "/opt/anaconda3/lib/python3.9/site-packages/sklearn/linear_model/_sag.py:328: ConvergenceWarning: The max_iter was reached which means the coef_ did not converge\n",
      "  warnings.warn(\"The max_iter was reached which means \"\n",
      "/opt/anaconda3/lib/python3.9/site-packages/sklearn/linear_model/_sag.py:328: ConvergenceWarning: The max_iter was reached which means the coef_ did not converge\n",
      "  warnings.warn(\"The max_iter was reached which means \"\n",
      "/opt/anaconda3/lib/python3.9/site-packages/sklearn/linear_model/_sag.py:328: ConvergenceWarning: The max_iter was reached which means the coef_ did not converge\n",
      "  warnings.warn(\"The max_iter was reached which means \"\n",
      "/opt/anaconda3/lib/python3.9/site-packages/sklearn/linear_model/_sag.py:328: ConvergenceWarning: The max_iter was reached which means the coef_ did not converge\n",
      "  warnings.warn(\"The max_iter was reached which means \"\n",
      "/opt/anaconda3/lib/python3.9/site-packages/sklearn/linear_model/_sag.py:328: ConvergenceWarning: The max_iter was reached which means the coef_ did not converge\n",
      "  warnings.warn(\"The max_iter was reached which means \"\n",
      "/opt/anaconda3/lib/python3.9/site-packages/sklearn/linear_model/_sag.py:328: ConvergenceWarning: The max_iter was reached which means the coef_ did not converge\n",
      "  warnings.warn(\"The max_iter was reached which means \"\n",
      "/opt/anaconda3/lib/python3.9/site-packages/sklearn/linear_model/_sag.py:328: ConvergenceWarning: The max_iter was reached which means the coef_ did not converge\n",
      "  warnings.warn(\"The max_iter was reached which means \"\n",
      "/opt/anaconda3/lib/python3.9/site-packages/sklearn/linear_model/_sag.py:328: ConvergenceWarning: The max_iter was reached which means the coef_ did not converge\n",
      "  warnings.warn(\"The max_iter was reached which means \"\n",
      "/opt/anaconda3/lib/python3.9/site-packages/sklearn/linear_model/_sag.py:328: ConvergenceWarning: The max_iter was reached which means the coef_ did not converge\n",
      "  warnings.warn(\"The max_iter was reached which means \"\n"
     ]
    },
    {
     "name": "stdout",
     "output_type": "stream",
     "text": [
      "[CV 5/5] END features__max_df=0.05, features__min_df=1, features__ngram_range=(1, 3), model__solver=saga;, score=0.934 total time=  24.7s\n"
     ]
    },
    {
     "name": "stderr",
     "output_type": "stream",
     "text": [
      "/opt/anaconda3/lib/python3.9/site-packages/joblib/externals/loky/process_executor.py:702: UserWarning: A worker stopped while some jobs were given to the executor. This can be caused by a too short worker timeout or by a memory leak.\n",
      "  warnings.warn(\n"
     ]
    },
    {
     "name": "stdout",
     "output_type": "stream",
     "text": [
      "[CV 1/5] END features__max_df=0.05, features__min_df=1, features__ngram_range=(1, 3), model__solver=liblinear;, score=0.943 total time=   9.7s\n",
      "[CV 2/5] END features__max_df=0.05, features__min_df=1, features__ngram_range=(1, 3), model__solver=liblinear;, score=0.937 total time=   8.7s\n",
      "[CV 3/5] END features__max_df=0.05, features__min_df=1, features__ngram_range=(1, 3), model__solver=liblinear;, score=0.937 total time=   8.9s\n",
      "[CV 4/5] END features__max_df=0.05, features__min_df=1, features__ngram_range=(1, 3), model__solver=liblinear;, score=0.941 total time=   8.7s\n",
      "[CV 5/5] END features__max_df=0.05, features__min_df=1, features__ngram_range=(1, 3), model__solver=liblinear;, score=0.936 total time=   8.8s\n"
     ]
    },
    {
     "name": "stderr",
     "output_type": "stream",
     "text": [
      "/opt/anaconda3/lib/python3.9/site-packages/sklearn/linear_model/_sag.py:328: ConvergenceWarning: The max_iter was reached which means the coef_ did not converge\n",
      "  warnings.warn(\"The max_iter was reached which means \"\n",
      "/opt/anaconda3/lib/python3.9/site-packages/sklearn/linear_model/_sag.py:328: ConvergenceWarning: The max_iter was reached which means the coef_ did not converge\n",
      "  warnings.warn(\"The max_iter was reached which means \"\n",
      "/opt/anaconda3/lib/python3.9/site-packages/sklearn/linear_model/_sag.py:328: ConvergenceWarning: The max_iter was reached which means the coef_ did not converge\n",
      "  warnings.warn(\"The max_iter was reached which means \"\n",
      "/opt/anaconda3/lib/python3.9/site-packages/sklearn/linear_model/_sag.py:328: ConvergenceWarning: The max_iter was reached which means the coef_ did not converge\n",
      "  warnings.warn(\"The max_iter was reached which means \"\n",
      "/opt/anaconda3/lib/python3.9/site-packages/sklearn/linear_model/_sag.py:328: ConvergenceWarning: The max_iter was reached which means the coef_ did not converge\n",
      "  warnings.warn(\"The max_iter was reached which means \"\n",
      "/opt/anaconda3/lib/python3.9/site-packages/sklearn/linear_model/_sag.py:328: ConvergenceWarning: The max_iter was reached which means the coef_ did not converge\n",
      "  warnings.warn(\"The max_iter was reached which means \"\n",
      "/opt/anaconda3/lib/python3.9/site-packages/sklearn/linear_model/_sag.py:328: ConvergenceWarning: The max_iter was reached which means the coef_ did not converge\n",
      "  warnings.warn(\"The max_iter was reached which means \"\n",
      "/opt/anaconda3/lib/python3.9/site-packages/sklearn/linear_model/_sag.py:328: ConvergenceWarning: The max_iter was reached which means the coef_ did not converge\n",
      "  warnings.warn(\"The max_iter was reached which means \"\n",
      "/opt/anaconda3/lib/python3.9/site-packages/sklearn/linear_model/_sag.py:328: ConvergenceWarning: The max_iter was reached which means the coef_ did not converge\n",
      "  warnings.warn(\"The max_iter was reached which means \"\n",
      "/opt/anaconda3/lib/python3.9/site-packages/sklearn/linear_model/_sag.py:328: ConvergenceWarning: The max_iter was reached which means the coef_ did not converge\n",
      "  warnings.warn(\"The max_iter was reached which means \"\n",
      "/opt/anaconda3/lib/python3.9/site-packages/sklearn/linear_model/_sag.py:328: ConvergenceWarning: The max_iter was reached which means the coef_ did not converge\n",
      "  warnings.warn(\"The max_iter was reached which means \"\n"
     ]
    },
    {
     "name": "stdout",
     "output_type": "stream",
     "text": [
      "[CV 1/5] END features__max_df=0.05, features__min_df=1, features__ngram_range=(1, 4), model__solver=saga;, score=0.941 total time=  33.7s\n"
     ]
    },
    {
     "name": "stderr",
     "output_type": "stream",
     "text": [
      "/opt/anaconda3/lib/python3.9/site-packages/sklearn/linear_model/_sag.py:328: ConvergenceWarning: The max_iter was reached which means the coef_ did not converge\n",
      "  warnings.warn(\"The max_iter was reached which means \"\n",
      "/opt/anaconda3/lib/python3.9/site-packages/sklearn/linear_model/_sag.py:328: ConvergenceWarning: The max_iter was reached which means the coef_ did not converge\n",
      "  warnings.warn(\"The max_iter was reached which means \"\n",
      "/opt/anaconda3/lib/python3.9/site-packages/sklearn/linear_model/_sag.py:328: ConvergenceWarning: The max_iter was reached which means the coef_ did not converge\n",
      "  warnings.warn(\"The max_iter was reached which means \"\n",
      "/opt/anaconda3/lib/python3.9/site-packages/sklearn/linear_model/_sag.py:328: ConvergenceWarning: The max_iter was reached which means the coef_ did not converge\n",
      "  warnings.warn(\"The max_iter was reached which means \"\n",
      "/opt/anaconda3/lib/python3.9/site-packages/sklearn/linear_model/_sag.py:328: ConvergenceWarning: The max_iter was reached which means the coef_ did not converge\n",
      "  warnings.warn(\"The max_iter was reached which means \"\n",
      "/opt/anaconda3/lib/python3.9/site-packages/sklearn/linear_model/_sag.py:328: ConvergenceWarning: The max_iter was reached which means the coef_ did not converge\n",
      "  warnings.warn(\"The max_iter was reached which means \"\n",
      "/opt/anaconda3/lib/python3.9/site-packages/sklearn/linear_model/_sag.py:328: ConvergenceWarning: The max_iter was reached which means the coef_ did not converge\n",
      "  warnings.warn(\"The max_iter was reached which means \"\n",
      "/opt/anaconda3/lib/python3.9/site-packages/sklearn/linear_model/_sag.py:328: ConvergenceWarning: The max_iter was reached which means the coef_ did not converge\n",
      "  warnings.warn(\"The max_iter was reached which means \"\n",
      "/opt/anaconda3/lib/python3.9/site-packages/sklearn/linear_model/_sag.py:328: ConvergenceWarning: The max_iter was reached which means the coef_ did not converge\n",
      "  warnings.warn(\"The max_iter was reached which means \"\n",
      "/opt/anaconda3/lib/python3.9/site-packages/sklearn/linear_model/_sag.py:328: ConvergenceWarning: The max_iter was reached which means the coef_ did not converge\n",
      "  warnings.warn(\"The max_iter was reached which means \"\n",
      "/opt/anaconda3/lib/python3.9/site-packages/sklearn/linear_model/_sag.py:328: ConvergenceWarning: The max_iter was reached which means the coef_ did not converge\n",
      "  warnings.warn(\"The max_iter was reached which means \"\n"
     ]
    },
    {
     "name": "stdout",
     "output_type": "stream",
     "text": [
      "[CV 2/5] END features__max_df=0.05, features__min_df=1, features__ngram_range=(1, 4), model__solver=saga;, score=0.934 total time=  34.6s\n"
     ]
    },
    {
     "name": "stderr",
     "output_type": "stream",
     "text": [
      "/opt/anaconda3/lib/python3.9/site-packages/sklearn/linear_model/_sag.py:328: ConvergenceWarning: The max_iter was reached which means the coef_ did not converge\n",
      "  warnings.warn(\"The max_iter was reached which means \"\n",
      "/opt/anaconda3/lib/python3.9/site-packages/sklearn/linear_model/_sag.py:328: ConvergenceWarning: The max_iter was reached which means the coef_ did not converge\n",
      "  warnings.warn(\"The max_iter was reached which means \"\n",
      "/opt/anaconda3/lib/python3.9/site-packages/sklearn/linear_model/_sag.py:328: ConvergenceWarning: The max_iter was reached which means the coef_ did not converge\n",
      "  warnings.warn(\"The max_iter was reached which means \"\n",
      "/opt/anaconda3/lib/python3.9/site-packages/sklearn/linear_model/_sag.py:328: ConvergenceWarning: The max_iter was reached which means the coef_ did not converge\n",
      "  warnings.warn(\"The max_iter was reached which means \"\n",
      "/opt/anaconda3/lib/python3.9/site-packages/sklearn/linear_model/_sag.py:328: ConvergenceWarning: The max_iter was reached which means the coef_ did not converge\n",
      "  warnings.warn(\"The max_iter was reached which means \"\n",
      "/opt/anaconda3/lib/python3.9/site-packages/sklearn/linear_model/_sag.py:328: ConvergenceWarning: The max_iter was reached which means the coef_ did not converge\n",
      "  warnings.warn(\"The max_iter was reached which means \"\n",
      "/opt/anaconda3/lib/python3.9/site-packages/sklearn/linear_model/_sag.py:328: ConvergenceWarning: The max_iter was reached which means the coef_ did not converge\n",
      "  warnings.warn(\"The max_iter was reached which means \"\n",
      "/opt/anaconda3/lib/python3.9/site-packages/sklearn/linear_model/_sag.py:328: ConvergenceWarning: The max_iter was reached which means the coef_ did not converge\n",
      "  warnings.warn(\"The max_iter was reached which means \"\n",
      "/opt/anaconda3/lib/python3.9/site-packages/sklearn/linear_model/_sag.py:328: ConvergenceWarning: The max_iter was reached which means the coef_ did not converge\n",
      "  warnings.warn(\"The max_iter was reached which means \"\n",
      "/opt/anaconda3/lib/python3.9/site-packages/sklearn/linear_model/_sag.py:328: ConvergenceWarning: The max_iter was reached which means the coef_ did not converge\n",
      "  warnings.warn(\"The max_iter was reached which means \"\n",
      "/opt/anaconda3/lib/python3.9/site-packages/sklearn/linear_model/_sag.py:328: ConvergenceWarning: The max_iter was reached which means the coef_ did not converge\n",
      "  warnings.warn(\"The max_iter was reached which means \"\n"
     ]
    },
    {
     "name": "stdout",
     "output_type": "stream",
     "text": [
      "[CV 3/5] END features__max_df=0.05, features__min_df=1, features__ngram_range=(1, 4), model__solver=saga;, score=0.932 total time=  33.5s\n"
     ]
    },
    {
     "name": "stderr",
     "output_type": "stream",
     "text": [
      "/opt/anaconda3/lib/python3.9/site-packages/sklearn/linear_model/_sag.py:328: ConvergenceWarning: The max_iter was reached which means the coef_ did not converge\n",
      "  warnings.warn(\"The max_iter was reached which means \"\n",
      "/opt/anaconda3/lib/python3.9/site-packages/sklearn/linear_model/_sag.py:328: ConvergenceWarning: The max_iter was reached which means the coef_ did not converge\n",
      "  warnings.warn(\"The max_iter was reached which means \"\n",
      "/opt/anaconda3/lib/python3.9/site-packages/sklearn/linear_model/_sag.py:328: ConvergenceWarning: The max_iter was reached which means the coef_ did not converge\n",
      "  warnings.warn(\"The max_iter was reached which means \"\n",
      "/opt/anaconda3/lib/python3.9/site-packages/sklearn/linear_model/_sag.py:328: ConvergenceWarning: The max_iter was reached which means the coef_ did not converge\n",
      "  warnings.warn(\"The max_iter was reached which means \"\n",
      "/opt/anaconda3/lib/python3.9/site-packages/sklearn/linear_model/_sag.py:328: ConvergenceWarning: The max_iter was reached which means the coef_ did not converge\n",
      "  warnings.warn(\"The max_iter was reached which means \"\n",
      "/opt/anaconda3/lib/python3.9/site-packages/sklearn/linear_model/_sag.py:328: ConvergenceWarning: The max_iter was reached which means the coef_ did not converge\n",
      "  warnings.warn(\"The max_iter was reached which means \"\n",
      "/opt/anaconda3/lib/python3.9/site-packages/sklearn/linear_model/_sag.py:328: ConvergenceWarning: The max_iter was reached which means the coef_ did not converge\n",
      "  warnings.warn(\"The max_iter was reached which means \"\n",
      "/opt/anaconda3/lib/python3.9/site-packages/sklearn/linear_model/_sag.py:328: ConvergenceWarning: The max_iter was reached which means the coef_ did not converge\n",
      "  warnings.warn(\"The max_iter was reached which means \"\n",
      "/opt/anaconda3/lib/python3.9/site-packages/sklearn/linear_model/_sag.py:328: ConvergenceWarning: The max_iter was reached which means the coef_ did not converge\n",
      "  warnings.warn(\"The max_iter was reached which means \"\n",
      "/opt/anaconda3/lib/python3.9/site-packages/sklearn/linear_model/_sag.py:328: ConvergenceWarning: The max_iter was reached which means the coef_ did not converge\n",
      "  warnings.warn(\"The max_iter was reached which means \"\n",
      "/opt/anaconda3/lib/python3.9/site-packages/sklearn/linear_model/_sag.py:328: ConvergenceWarning: The max_iter was reached which means the coef_ did not converge\n",
      "  warnings.warn(\"The max_iter was reached which means \"\n"
     ]
    },
    {
     "name": "stdout",
     "output_type": "stream",
     "text": [
      "[CV 4/5] END features__max_df=0.05, features__min_df=1, features__ngram_range=(1, 4), model__solver=saga;, score=0.936 total time=  32.8s\n"
     ]
    },
    {
     "name": "stderr",
     "output_type": "stream",
     "text": [
      "/opt/anaconda3/lib/python3.9/site-packages/sklearn/linear_model/_sag.py:328: ConvergenceWarning: The max_iter was reached which means the coef_ did not converge\n",
      "  warnings.warn(\"The max_iter was reached which means \"\n",
      "/opt/anaconda3/lib/python3.9/site-packages/sklearn/linear_model/_sag.py:328: ConvergenceWarning: The max_iter was reached which means the coef_ did not converge\n",
      "  warnings.warn(\"The max_iter was reached which means \"\n",
      "/opt/anaconda3/lib/python3.9/site-packages/sklearn/linear_model/_sag.py:328: ConvergenceWarning: The max_iter was reached which means the coef_ did not converge\n",
      "  warnings.warn(\"The max_iter was reached which means \"\n",
      "/opt/anaconda3/lib/python3.9/site-packages/sklearn/linear_model/_sag.py:328: ConvergenceWarning: The max_iter was reached which means the coef_ did not converge\n",
      "  warnings.warn(\"The max_iter was reached which means \"\n",
      "/opt/anaconda3/lib/python3.9/site-packages/sklearn/linear_model/_sag.py:328: ConvergenceWarning: The max_iter was reached which means the coef_ did not converge\n",
      "  warnings.warn(\"The max_iter was reached which means \"\n",
      "/opt/anaconda3/lib/python3.9/site-packages/sklearn/linear_model/_sag.py:328: ConvergenceWarning: The max_iter was reached which means the coef_ did not converge\n",
      "  warnings.warn(\"The max_iter was reached which means \"\n",
      "/opt/anaconda3/lib/python3.9/site-packages/sklearn/linear_model/_sag.py:328: ConvergenceWarning: The max_iter was reached which means the coef_ did not converge\n",
      "  warnings.warn(\"The max_iter was reached which means \"\n",
      "/opt/anaconda3/lib/python3.9/site-packages/sklearn/linear_model/_sag.py:328: ConvergenceWarning: The max_iter was reached which means the coef_ did not converge\n",
      "  warnings.warn(\"The max_iter was reached which means \"\n",
      "/opt/anaconda3/lib/python3.9/site-packages/sklearn/linear_model/_sag.py:328: ConvergenceWarning: The max_iter was reached which means the coef_ did not converge\n",
      "  warnings.warn(\"The max_iter was reached which means \"\n",
      "/opt/anaconda3/lib/python3.9/site-packages/sklearn/linear_model/_sag.py:328: ConvergenceWarning: The max_iter was reached which means the coef_ did not converge\n",
      "  warnings.warn(\"The max_iter was reached which means \"\n",
      "/opt/anaconda3/lib/python3.9/site-packages/sklearn/linear_model/_sag.py:328: ConvergenceWarning: The max_iter was reached which means the coef_ did not converge\n",
      "  warnings.warn(\"The max_iter was reached which means \"\n"
     ]
    },
    {
     "name": "stdout",
     "output_type": "stream",
     "text": [
      "[CV 5/5] END features__max_df=0.05, features__min_df=1, features__ngram_range=(1, 4), model__solver=saga;, score=0.930 total time=  33.5s\n"
     ]
    },
    {
     "name": "stderr",
     "output_type": "stream",
     "text": [
      "/opt/anaconda3/lib/python3.9/site-packages/joblib/externals/loky/process_executor.py:702: UserWarning: A worker stopped while some jobs were given to the executor. This can be caused by a too short worker timeout or by a memory leak.\n",
      "  warnings.warn(\n"
     ]
    },
    {
     "name": "stdout",
     "output_type": "stream",
     "text": [
      "[CV 1/5] END features__max_df=0.05, features__min_df=1, features__ngram_range=(1, 4), model__solver=liblinear;, score=0.940 total time=  14.3s\n",
      "[CV 2/5] END features__max_df=0.05, features__min_df=1, features__ngram_range=(1, 4), model__solver=liblinear;, score=0.935 total time=  13.0s\n",
      "[CV 3/5] END features__max_df=0.05, features__min_df=1, features__ngram_range=(1, 4), model__solver=liblinear;, score=0.935 total time=  12.4s\n",
      "[CV 4/5] END features__max_df=0.05, features__min_df=1, features__ngram_range=(1, 4), model__solver=liblinear;, score=0.937 total time=  12.2s\n",
      "[CV 5/5] END features__max_df=0.05, features__min_df=1, features__ngram_range=(1, 4), model__solver=liblinear;, score=0.933 total time=  12.2s\n"
     ]
    },
    {
     "name": "stderr",
     "output_type": "stream",
     "text": [
      "/opt/anaconda3/lib/python3.9/site-packages/sklearn/linear_model/_sag.py:328: ConvergenceWarning: The max_iter was reached which means the coef_ did not converge\n",
      "  warnings.warn(\"The max_iter was reached which means \"\n",
      "/opt/anaconda3/lib/python3.9/site-packages/sklearn/linear_model/_sag.py:328: ConvergenceWarning: The max_iter was reached which means the coef_ did not converge\n",
      "  warnings.warn(\"The max_iter was reached which means \"\n",
      "/opt/anaconda3/lib/python3.9/site-packages/sklearn/linear_model/_sag.py:328: ConvergenceWarning: The max_iter was reached which means the coef_ did not converge\n",
      "  warnings.warn(\"The max_iter was reached which means \"\n",
      "/opt/anaconda3/lib/python3.9/site-packages/sklearn/linear_model/_sag.py:328: ConvergenceWarning: The max_iter was reached which means the coef_ did not converge\n",
      "  warnings.warn(\"The max_iter was reached which means \"\n",
      "/opt/anaconda3/lib/python3.9/site-packages/sklearn/linear_model/_sag.py:328: ConvergenceWarning: The max_iter was reached which means the coef_ did not converge\n",
      "  warnings.warn(\"The max_iter was reached which means \"\n",
      "/opt/anaconda3/lib/python3.9/site-packages/sklearn/linear_model/_sag.py:328: ConvergenceWarning: The max_iter was reached which means the coef_ did not converge\n",
      "  warnings.warn(\"The max_iter was reached which means \"\n",
      "/opt/anaconda3/lib/python3.9/site-packages/sklearn/linear_model/_sag.py:328: ConvergenceWarning: The max_iter was reached which means the coef_ did not converge\n",
      "  warnings.warn(\"The max_iter was reached which means \"\n",
      "/opt/anaconda3/lib/python3.9/site-packages/sklearn/linear_model/_sag.py:328: ConvergenceWarning: The max_iter was reached which means the coef_ did not converge\n",
      "  warnings.warn(\"The max_iter was reached which means \"\n",
      "/opt/anaconda3/lib/python3.9/site-packages/sklearn/linear_model/_sag.py:328: ConvergenceWarning: The max_iter was reached which means the coef_ did not converge\n",
      "  warnings.warn(\"The max_iter was reached which means \"\n",
      "/opt/anaconda3/lib/python3.9/site-packages/sklearn/linear_model/_sag.py:328: ConvergenceWarning: The max_iter was reached which means the coef_ did not converge\n",
      "  warnings.warn(\"The max_iter was reached which means \"\n",
      "/opt/anaconda3/lib/python3.9/site-packages/sklearn/linear_model/_sag.py:328: ConvergenceWarning: The max_iter was reached which means the coef_ did not converge\n",
      "  warnings.warn(\"The max_iter was reached which means \"\n",
      "/opt/anaconda3/lib/python3.9/site-packages/sklearn/linear_model/_sag.py:328: ConvergenceWarning: The max_iter was reached which means the coef_ did not converge\n",
      "  warnings.warn(\"The max_iter was reached which means \"\n",
      "/opt/anaconda3/lib/python3.9/site-packages/sklearn/linear_model/_sag.py:328: ConvergenceWarning: The max_iter was reached which means the coef_ did not converge\n",
      "  warnings.warn(\"The max_iter was reached which means \"\n",
      "/opt/anaconda3/lib/python3.9/site-packages/sklearn/linear_model/_sag.py:328: ConvergenceWarning: The max_iter was reached which means the coef_ did not converge\n",
      "  warnings.warn(\"The max_iter was reached which means \"\n",
      "/opt/anaconda3/lib/python3.9/site-packages/sklearn/linear_model/_sag.py:328: ConvergenceWarning: The max_iter was reached which means the coef_ did not converge\n",
      "  warnings.warn(\"The max_iter was reached which means \"\n"
     ]
    },
    {
     "name": "stdout",
     "output_type": "stream",
     "text": [
      "[CV 1/5] END features__max_df=0.05, features__min_df=10, features__ngram_range=(1, 3), model__solver=saga;, score=0.919 total time=   3.3s\n"
     ]
    },
    {
     "name": "stderr",
     "output_type": "stream",
     "text": [
      "/opt/anaconda3/lib/python3.9/site-packages/sklearn/linear_model/_sag.py:328: ConvergenceWarning: The max_iter was reached which means the coef_ did not converge\n",
      "  warnings.warn(\"The max_iter was reached which means \"\n",
      "/opt/anaconda3/lib/python3.9/site-packages/sklearn/linear_model/_sag.py:328: ConvergenceWarning: The max_iter was reached which means the coef_ did not converge\n",
      "  warnings.warn(\"The max_iter was reached which means \"\n",
      "/opt/anaconda3/lib/python3.9/site-packages/sklearn/linear_model/_sag.py:328: ConvergenceWarning: The max_iter was reached which means the coef_ did not converge\n",
      "  warnings.warn(\"The max_iter was reached which means \"\n",
      "/opt/anaconda3/lib/python3.9/site-packages/sklearn/linear_model/_sag.py:328: ConvergenceWarning: The max_iter was reached which means the coef_ did not converge\n",
      "  warnings.warn(\"The max_iter was reached which means \"\n",
      "/opt/anaconda3/lib/python3.9/site-packages/sklearn/linear_model/_sag.py:328: ConvergenceWarning: The max_iter was reached which means the coef_ did not converge\n",
      "  warnings.warn(\"The max_iter was reached which means \"\n",
      "/opt/anaconda3/lib/python3.9/site-packages/sklearn/linear_model/_sag.py:328: ConvergenceWarning: The max_iter was reached which means the coef_ did not converge\n",
      "  warnings.warn(\"The max_iter was reached which means \"\n",
      "/opt/anaconda3/lib/python3.9/site-packages/sklearn/linear_model/_sag.py:328: ConvergenceWarning: The max_iter was reached which means the coef_ did not converge\n",
      "  warnings.warn(\"The max_iter was reached which means \"\n",
      "/opt/anaconda3/lib/python3.9/site-packages/sklearn/linear_model/_sag.py:328: ConvergenceWarning: The max_iter was reached which means the coef_ did not converge\n",
      "  warnings.warn(\"The max_iter was reached which means \"\n",
      "/opt/anaconda3/lib/python3.9/site-packages/sklearn/linear_model/_sag.py:328: ConvergenceWarning: The max_iter was reached which means the coef_ did not converge\n",
      "  warnings.warn(\"The max_iter was reached which means \"\n",
      "/opt/anaconda3/lib/python3.9/site-packages/sklearn/linear_model/_sag.py:328: ConvergenceWarning: The max_iter was reached which means the coef_ did not converge\n",
      "  warnings.warn(\"The max_iter was reached which means \"\n",
      "/opt/anaconda3/lib/python3.9/site-packages/sklearn/linear_model/_sag.py:328: ConvergenceWarning: The max_iter was reached which means the coef_ did not converge\n",
      "  warnings.warn(\"The max_iter was reached which means \"\n",
      "/opt/anaconda3/lib/python3.9/site-packages/sklearn/linear_model/_sag.py:328: ConvergenceWarning: The max_iter was reached which means the coef_ did not converge\n",
      "  warnings.warn(\"The max_iter was reached which means \"\n",
      "/opt/anaconda3/lib/python3.9/site-packages/sklearn/linear_model/_sag.py:328: ConvergenceWarning: The max_iter was reached which means the coef_ did not converge\n",
      "  warnings.warn(\"The max_iter was reached which means \"\n",
      "/opt/anaconda3/lib/python3.9/site-packages/sklearn/linear_model/_sag.py:328: ConvergenceWarning: The max_iter was reached which means the coef_ did not converge\n",
      "  warnings.warn(\"The max_iter was reached which means \"\n",
      "/opt/anaconda3/lib/python3.9/site-packages/sklearn/linear_model/_sag.py:328: ConvergenceWarning: The max_iter was reached which means the coef_ did not converge\n",
      "  warnings.warn(\"The max_iter was reached which means \"\n"
     ]
    },
    {
     "name": "stdout",
     "output_type": "stream",
     "text": [
      "[CV 2/5] END features__max_df=0.05, features__min_df=10, features__ngram_range=(1, 3), model__solver=saga;, score=0.917 total time=   3.3s\n"
     ]
    },
    {
     "name": "stderr",
     "output_type": "stream",
     "text": [
      "/opt/anaconda3/lib/python3.9/site-packages/sklearn/linear_model/_sag.py:328: ConvergenceWarning: The max_iter was reached which means the coef_ did not converge\n",
      "  warnings.warn(\"The max_iter was reached which means \"\n",
      "/opt/anaconda3/lib/python3.9/site-packages/sklearn/linear_model/_sag.py:328: ConvergenceWarning: The max_iter was reached which means the coef_ did not converge\n",
      "  warnings.warn(\"The max_iter was reached which means \"\n",
      "/opt/anaconda3/lib/python3.9/site-packages/sklearn/linear_model/_sag.py:328: ConvergenceWarning: The max_iter was reached which means the coef_ did not converge\n",
      "  warnings.warn(\"The max_iter was reached which means \"\n",
      "/opt/anaconda3/lib/python3.9/site-packages/sklearn/linear_model/_sag.py:328: ConvergenceWarning: The max_iter was reached which means the coef_ did not converge\n",
      "  warnings.warn(\"The max_iter was reached which means \"\n",
      "/opt/anaconda3/lib/python3.9/site-packages/sklearn/linear_model/_sag.py:328: ConvergenceWarning: The max_iter was reached which means the coef_ did not converge\n",
      "  warnings.warn(\"The max_iter was reached which means \"\n",
      "/opt/anaconda3/lib/python3.9/site-packages/sklearn/linear_model/_sag.py:328: ConvergenceWarning: The max_iter was reached which means the coef_ did not converge\n",
      "  warnings.warn(\"The max_iter was reached which means \"\n",
      "/opt/anaconda3/lib/python3.9/site-packages/sklearn/linear_model/_sag.py:328: ConvergenceWarning: The max_iter was reached which means the coef_ did not converge\n",
      "  warnings.warn(\"The max_iter was reached which means \"\n",
      "/opt/anaconda3/lib/python3.9/site-packages/sklearn/linear_model/_sag.py:328: ConvergenceWarning: The max_iter was reached which means the coef_ did not converge\n",
      "  warnings.warn(\"The max_iter was reached which means \"\n",
      "/opt/anaconda3/lib/python3.9/site-packages/sklearn/linear_model/_sag.py:328: ConvergenceWarning: The max_iter was reached which means the coef_ did not converge\n",
      "  warnings.warn(\"The max_iter was reached which means \"\n",
      "/opt/anaconda3/lib/python3.9/site-packages/sklearn/linear_model/_sag.py:328: ConvergenceWarning: The max_iter was reached which means the coef_ did not converge\n",
      "  warnings.warn(\"The max_iter was reached which means \"\n",
      "/opt/anaconda3/lib/python3.9/site-packages/sklearn/linear_model/_sag.py:328: ConvergenceWarning: The max_iter was reached which means the coef_ did not converge\n",
      "  warnings.warn(\"The max_iter was reached which means \"\n",
      "/opt/anaconda3/lib/python3.9/site-packages/sklearn/linear_model/_sag.py:328: ConvergenceWarning: The max_iter was reached which means the coef_ did not converge\n",
      "  warnings.warn(\"The max_iter was reached which means \"\n",
      "/opt/anaconda3/lib/python3.9/site-packages/sklearn/linear_model/_sag.py:328: ConvergenceWarning: The max_iter was reached which means the coef_ did not converge\n",
      "  warnings.warn(\"The max_iter was reached which means \"\n",
      "/opt/anaconda3/lib/python3.9/site-packages/sklearn/linear_model/_sag.py:328: ConvergenceWarning: The max_iter was reached which means the coef_ did not converge\n",
      "  warnings.warn(\"The max_iter was reached which means \"\n",
      "/opt/anaconda3/lib/python3.9/site-packages/sklearn/linear_model/_sag.py:328: ConvergenceWarning: The max_iter was reached which means the coef_ did not converge\n",
      "  warnings.warn(\"The max_iter was reached which means \"\n"
     ]
    },
    {
     "name": "stdout",
     "output_type": "stream",
     "text": [
      "[CV 3/5] END features__max_df=0.05, features__min_df=10, features__ngram_range=(1, 3), model__solver=saga;, score=0.914 total time=   3.2s\n"
     ]
    },
    {
     "name": "stderr",
     "output_type": "stream",
     "text": [
      "/opt/anaconda3/lib/python3.9/site-packages/sklearn/linear_model/_sag.py:328: ConvergenceWarning: The max_iter was reached which means the coef_ did not converge\n",
      "  warnings.warn(\"The max_iter was reached which means \"\n",
      "/opt/anaconda3/lib/python3.9/site-packages/sklearn/linear_model/_sag.py:328: ConvergenceWarning: The max_iter was reached which means the coef_ did not converge\n",
      "  warnings.warn(\"The max_iter was reached which means \"\n",
      "/opt/anaconda3/lib/python3.9/site-packages/sklearn/linear_model/_sag.py:328: ConvergenceWarning: The max_iter was reached which means the coef_ did not converge\n",
      "  warnings.warn(\"The max_iter was reached which means \"\n",
      "/opt/anaconda3/lib/python3.9/site-packages/sklearn/linear_model/_sag.py:328: ConvergenceWarning: The max_iter was reached which means the coef_ did not converge\n",
      "  warnings.warn(\"The max_iter was reached which means \"\n",
      "/opt/anaconda3/lib/python3.9/site-packages/sklearn/linear_model/_sag.py:328: ConvergenceWarning: The max_iter was reached which means the coef_ did not converge\n",
      "  warnings.warn(\"The max_iter was reached which means \"\n",
      "/opt/anaconda3/lib/python3.9/site-packages/sklearn/linear_model/_sag.py:328: ConvergenceWarning: The max_iter was reached which means the coef_ did not converge\n",
      "  warnings.warn(\"The max_iter was reached which means \"\n",
      "/opt/anaconda3/lib/python3.9/site-packages/sklearn/linear_model/_sag.py:328: ConvergenceWarning: The max_iter was reached which means the coef_ did not converge\n",
      "  warnings.warn(\"The max_iter was reached which means \"\n",
      "/opt/anaconda3/lib/python3.9/site-packages/sklearn/linear_model/_sag.py:328: ConvergenceWarning: The max_iter was reached which means the coef_ did not converge\n",
      "  warnings.warn(\"The max_iter was reached which means \"\n",
      "/opt/anaconda3/lib/python3.9/site-packages/sklearn/linear_model/_sag.py:328: ConvergenceWarning: The max_iter was reached which means the coef_ did not converge\n",
      "  warnings.warn(\"The max_iter was reached which means \"\n",
      "/opt/anaconda3/lib/python3.9/site-packages/sklearn/linear_model/_sag.py:328: ConvergenceWarning: The max_iter was reached which means the coef_ did not converge\n",
      "  warnings.warn(\"The max_iter was reached which means \"\n",
      "/opt/anaconda3/lib/python3.9/site-packages/sklearn/linear_model/_sag.py:328: ConvergenceWarning: The max_iter was reached which means the coef_ did not converge\n",
      "  warnings.warn(\"The max_iter was reached which means \"\n",
      "/opt/anaconda3/lib/python3.9/site-packages/sklearn/linear_model/_sag.py:328: ConvergenceWarning: The max_iter was reached which means the coef_ did not converge\n",
      "  warnings.warn(\"The max_iter was reached which means \"\n",
      "/opt/anaconda3/lib/python3.9/site-packages/sklearn/linear_model/_sag.py:328: ConvergenceWarning: The max_iter was reached which means the coef_ did not converge\n",
      "  warnings.warn(\"The max_iter was reached which means \"\n",
      "/opt/anaconda3/lib/python3.9/site-packages/sklearn/linear_model/_sag.py:328: ConvergenceWarning: The max_iter was reached which means the coef_ did not converge\n",
      "  warnings.warn(\"The max_iter was reached which means \"\n",
      "/opt/anaconda3/lib/python3.9/site-packages/sklearn/linear_model/_sag.py:328: ConvergenceWarning: The max_iter was reached which means the coef_ did not converge\n",
      "  warnings.warn(\"The max_iter was reached which means \"\n"
     ]
    },
    {
     "name": "stdout",
     "output_type": "stream",
     "text": [
      "[CV 4/5] END features__max_df=0.05, features__min_df=10, features__ngram_range=(1, 3), model__solver=saga;, score=0.914 total time=   3.2s\n"
     ]
    },
    {
     "name": "stderr",
     "output_type": "stream",
     "text": [
      "/opt/anaconda3/lib/python3.9/site-packages/sklearn/linear_model/_sag.py:328: ConvergenceWarning: The max_iter was reached which means the coef_ did not converge\n",
      "  warnings.warn(\"The max_iter was reached which means \"\n",
      "/opt/anaconda3/lib/python3.9/site-packages/sklearn/linear_model/_sag.py:328: ConvergenceWarning: The max_iter was reached which means the coef_ did not converge\n",
      "  warnings.warn(\"The max_iter was reached which means \"\n",
      "/opt/anaconda3/lib/python3.9/site-packages/sklearn/linear_model/_sag.py:328: ConvergenceWarning: The max_iter was reached which means the coef_ did not converge\n",
      "  warnings.warn(\"The max_iter was reached which means \"\n",
      "/opt/anaconda3/lib/python3.9/site-packages/sklearn/linear_model/_sag.py:328: ConvergenceWarning: The max_iter was reached which means the coef_ did not converge\n",
      "  warnings.warn(\"The max_iter was reached which means \"\n",
      "/opt/anaconda3/lib/python3.9/site-packages/sklearn/linear_model/_sag.py:328: ConvergenceWarning: The max_iter was reached which means the coef_ did not converge\n",
      "  warnings.warn(\"The max_iter was reached which means \"\n",
      "/opt/anaconda3/lib/python3.9/site-packages/sklearn/linear_model/_sag.py:328: ConvergenceWarning: The max_iter was reached which means the coef_ did not converge\n",
      "  warnings.warn(\"The max_iter was reached which means \"\n",
      "/opt/anaconda3/lib/python3.9/site-packages/sklearn/linear_model/_sag.py:328: ConvergenceWarning: The max_iter was reached which means the coef_ did not converge\n",
      "  warnings.warn(\"The max_iter was reached which means \"\n",
      "/opt/anaconda3/lib/python3.9/site-packages/sklearn/linear_model/_sag.py:328: ConvergenceWarning: The max_iter was reached which means the coef_ did not converge\n",
      "  warnings.warn(\"The max_iter was reached which means \"\n",
      "/opt/anaconda3/lib/python3.9/site-packages/sklearn/linear_model/_sag.py:328: ConvergenceWarning: The max_iter was reached which means the coef_ did not converge\n",
      "  warnings.warn(\"The max_iter was reached which means \"\n",
      "/opt/anaconda3/lib/python3.9/site-packages/sklearn/linear_model/_sag.py:328: ConvergenceWarning: The max_iter was reached which means the coef_ did not converge\n",
      "  warnings.warn(\"The max_iter was reached which means \"\n",
      "/opt/anaconda3/lib/python3.9/site-packages/sklearn/linear_model/_sag.py:328: ConvergenceWarning: The max_iter was reached which means the coef_ did not converge\n",
      "  warnings.warn(\"The max_iter was reached which means \"\n",
      "/opt/anaconda3/lib/python3.9/site-packages/sklearn/linear_model/_sag.py:328: ConvergenceWarning: The max_iter was reached which means the coef_ did not converge\n",
      "  warnings.warn(\"The max_iter was reached which means \"\n",
      "/opt/anaconda3/lib/python3.9/site-packages/sklearn/linear_model/_sag.py:328: ConvergenceWarning: The max_iter was reached which means the coef_ did not converge\n",
      "  warnings.warn(\"The max_iter was reached which means \"\n",
      "/opt/anaconda3/lib/python3.9/site-packages/sklearn/linear_model/_sag.py:328: ConvergenceWarning: The max_iter was reached which means the coef_ did not converge\n",
      "  warnings.warn(\"The max_iter was reached which means \"\n",
      "/opt/anaconda3/lib/python3.9/site-packages/sklearn/linear_model/_sag.py:328: ConvergenceWarning: The max_iter was reached which means the coef_ did not converge\n",
      "  warnings.warn(\"The max_iter was reached which means \"\n"
     ]
    },
    {
     "name": "stdout",
     "output_type": "stream",
     "text": [
      "[CV 5/5] END features__max_df=0.05, features__min_df=10, features__ngram_range=(1, 3), model__solver=saga;, score=0.915 total time=   3.2s\n",
      "[CV 1/5] END features__max_df=0.05, features__min_df=10, features__ngram_range=(1, 3), model__solver=liblinear;, score=0.919 total time=   2.1s\n",
      "[CV 2/5] END features__max_df=0.05, features__min_df=10, features__ngram_range=(1, 3), model__solver=liblinear;, score=0.915 total time=   2.0s\n",
      "[CV 3/5] END features__max_df=0.05, features__min_df=10, features__ngram_range=(1, 3), model__solver=liblinear;, score=0.909 total time=   2.0s\n",
      "[CV 4/5] END features__max_df=0.05, features__min_df=10, features__ngram_range=(1, 3), model__solver=liblinear;, score=0.914 total time=   2.1s\n",
      "[CV 5/5] END features__max_df=0.05, features__min_df=10, features__ngram_range=(1, 3), model__solver=liblinear;, score=0.912 total time=   2.0s\n"
     ]
    },
    {
     "name": "stderr",
     "output_type": "stream",
     "text": [
      "/opt/anaconda3/lib/python3.9/site-packages/sklearn/linear_model/_sag.py:328: ConvergenceWarning: The max_iter was reached which means the coef_ did not converge\n",
      "  warnings.warn(\"The max_iter was reached which means \"\n",
      "/opt/anaconda3/lib/python3.9/site-packages/sklearn/linear_model/_sag.py:328: ConvergenceWarning: The max_iter was reached which means the coef_ did not converge\n",
      "  warnings.warn(\"The max_iter was reached which means \"\n",
      "/opt/anaconda3/lib/python3.9/site-packages/sklearn/linear_model/_sag.py:328: ConvergenceWarning: The max_iter was reached which means the coef_ did not converge\n",
      "  warnings.warn(\"The max_iter was reached which means \"\n",
      "/opt/anaconda3/lib/python3.9/site-packages/sklearn/linear_model/_sag.py:328: ConvergenceWarning: The max_iter was reached which means the coef_ did not converge\n",
      "  warnings.warn(\"The max_iter was reached which means \"\n",
      "/opt/anaconda3/lib/python3.9/site-packages/sklearn/linear_model/_sag.py:328: ConvergenceWarning: The max_iter was reached which means the coef_ did not converge\n",
      "  warnings.warn(\"The max_iter was reached which means \"\n",
      "/opt/anaconda3/lib/python3.9/site-packages/sklearn/linear_model/_sag.py:328: ConvergenceWarning: The max_iter was reached which means the coef_ did not converge\n",
      "  warnings.warn(\"The max_iter was reached which means \"\n",
      "/opt/anaconda3/lib/python3.9/site-packages/sklearn/linear_model/_sag.py:328: ConvergenceWarning: The max_iter was reached which means the coef_ did not converge\n",
      "  warnings.warn(\"The max_iter was reached which means \"\n",
      "/opt/anaconda3/lib/python3.9/site-packages/sklearn/linear_model/_sag.py:328: ConvergenceWarning: The max_iter was reached which means the coef_ did not converge\n",
      "  warnings.warn(\"The max_iter was reached which means \"\n",
      "/opt/anaconda3/lib/python3.9/site-packages/sklearn/linear_model/_sag.py:328: ConvergenceWarning: The max_iter was reached which means the coef_ did not converge\n",
      "  warnings.warn(\"The max_iter was reached which means \"\n",
      "/opt/anaconda3/lib/python3.9/site-packages/sklearn/linear_model/_sag.py:328: ConvergenceWarning: The max_iter was reached which means the coef_ did not converge\n",
      "  warnings.warn(\"The max_iter was reached which means \"\n",
      "/opt/anaconda3/lib/python3.9/site-packages/sklearn/linear_model/_sag.py:328: ConvergenceWarning: The max_iter was reached which means the coef_ did not converge\n",
      "  warnings.warn(\"The max_iter was reached which means \"\n",
      "/opt/anaconda3/lib/python3.9/site-packages/sklearn/linear_model/_sag.py:328: ConvergenceWarning: The max_iter was reached which means the coef_ did not converge\n",
      "  warnings.warn(\"The max_iter was reached which means \"\n",
      "/opt/anaconda3/lib/python3.9/site-packages/sklearn/linear_model/_sag.py:328: ConvergenceWarning: The max_iter was reached which means the coef_ did not converge\n",
      "  warnings.warn(\"The max_iter was reached which means \"\n",
      "/opt/anaconda3/lib/python3.9/site-packages/sklearn/linear_model/_sag.py:328: ConvergenceWarning: The max_iter was reached which means the coef_ did not converge\n",
      "  warnings.warn(\"The max_iter was reached which means \"\n",
      "/opt/anaconda3/lib/python3.9/site-packages/sklearn/linear_model/_sag.py:328: ConvergenceWarning: The max_iter was reached which means the coef_ did not converge\n",
      "  warnings.warn(\"The max_iter was reached which means \"\n"
     ]
    },
    {
     "name": "stdout",
     "output_type": "stream",
     "text": [
      "[CV 1/5] END features__max_df=0.05, features__min_df=10, features__ngram_range=(1, 4), model__solver=saga;, score=0.919 total time=   3.5s\n"
     ]
    },
    {
     "name": "stderr",
     "output_type": "stream",
     "text": [
      "/opt/anaconda3/lib/python3.9/site-packages/sklearn/linear_model/_sag.py:328: ConvergenceWarning: The max_iter was reached which means the coef_ did not converge\n",
      "  warnings.warn(\"The max_iter was reached which means \"\n",
      "/opt/anaconda3/lib/python3.9/site-packages/sklearn/linear_model/_sag.py:328: ConvergenceWarning: The max_iter was reached which means the coef_ did not converge\n",
      "  warnings.warn(\"The max_iter was reached which means \"\n",
      "/opt/anaconda3/lib/python3.9/site-packages/sklearn/linear_model/_sag.py:328: ConvergenceWarning: The max_iter was reached which means the coef_ did not converge\n",
      "  warnings.warn(\"The max_iter was reached which means \"\n",
      "/opt/anaconda3/lib/python3.9/site-packages/sklearn/linear_model/_sag.py:328: ConvergenceWarning: The max_iter was reached which means the coef_ did not converge\n",
      "  warnings.warn(\"The max_iter was reached which means \"\n",
      "/opt/anaconda3/lib/python3.9/site-packages/sklearn/linear_model/_sag.py:328: ConvergenceWarning: The max_iter was reached which means the coef_ did not converge\n",
      "  warnings.warn(\"The max_iter was reached which means \"\n",
      "/opt/anaconda3/lib/python3.9/site-packages/sklearn/linear_model/_sag.py:328: ConvergenceWarning: The max_iter was reached which means the coef_ did not converge\n",
      "  warnings.warn(\"The max_iter was reached which means \"\n",
      "/opt/anaconda3/lib/python3.9/site-packages/sklearn/linear_model/_sag.py:328: ConvergenceWarning: The max_iter was reached which means the coef_ did not converge\n",
      "  warnings.warn(\"The max_iter was reached which means \"\n",
      "/opt/anaconda3/lib/python3.9/site-packages/sklearn/linear_model/_sag.py:328: ConvergenceWarning: The max_iter was reached which means the coef_ did not converge\n",
      "  warnings.warn(\"The max_iter was reached which means \"\n",
      "/opt/anaconda3/lib/python3.9/site-packages/sklearn/linear_model/_sag.py:328: ConvergenceWarning: The max_iter was reached which means the coef_ did not converge\n",
      "  warnings.warn(\"The max_iter was reached which means \"\n",
      "/opt/anaconda3/lib/python3.9/site-packages/sklearn/linear_model/_sag.py:328: ConvergenceWarning: The max_iter was reached which means the coef_ did not converge\n",
      "  warnings.warn(\"The max_iter was reached which means \"\n",
      "/opt/anaconda3/lib/python3.9/site-packages/sklearn/linear_model/_sag.py:328: ConvergenceWarning: The max_iter was reached which means the coef_ did not converge\n",
      "  warnings.warn(\"The max_iter was reached which means \"\n",
      "/opt/anaconda3/lib/python3.9/site-packages/sklearn/linear_model/_sag.py:328: ConvergenceWarning: The max_iter was reached which means the coef_ did not converge\n",
      "  warnings.warn(\"The max_iter was reached which means \"\n",
      "/opt/anaconda3/lib/python3.9/site-packages/sklearn/linear_model/_sag.py:328: ConvergenceWarning: The max_iter was reached which means the coef_ did not converge\n",
      "  warnings.warn(\"The max_iter was reached which means \"\n",
      "/opt/anaconda3/lib/python3.9/site-packages/sklearn/linear_model/_sag.py:328: ConvergenceWarning: The max_iter was reached which means the coef_ did not converge\n",
      "  warnings.warn(\"The max_iter was reached which means \"\n",
      "/opt/anaconda3/lib/python3.9/site-packages/sklearn/linear_model/_sag.py:328: ConvergenceWarning: The max_iter was reached which means the coef_ did not converge\n",
      "  warnings.warn(\"The max_iter was reached which means \"\n"
     ]
    },
    {
     "name": "stdout",
     "output_type": "stream",
     "text": [
      "[CV 2/5] END features__max_df=0.05, features__min_df=10, features__ngram_range=(1, 4), model__solver=saga;, score=0.917 total time=   3.5s\n"
     ]
    },
    {
     "name": "stderr",
     "output_type": "stream",
     "text": [
      "/opt/anaconda3/lib/python3.9/site-packages/sklearn/linear_model/_sag.py:328: ConvergenceWarning: The max_iter was reached which means the coef_ did not converge\n",
      "  warnings.warn(\"The max_iter was reached which means \"\n",
      "/opt/anaconda3/lib/python3.9/site-packages/sklearn/linear_model/_sag.py:328: ConvergenceWarning: The max_iter was reached which means the coef_ did not converge\n",
      "  warnings.warn(\"The max_iter was reached which means \"\n",
      "/opt/anaconda3/lib/python3.9/site-packages/sklearn/linear_model/_sag.py:328: ConvergenceWarning: The max_iter was reached which means the coef_ did not converge\n",
      "  warnings.warn(\"The max_iter was reached which means \"\n",
      "/opt/anaconda3/lib/python3.9/site-packages/sklearn/linear_model/_sag.py:328: ConvergenceWarning: The max_iter was reached which means the coef_ did not converge\n",
      "  warnings.warn(\"The max_iter was reached which means \"\n",
      "/opt/anaconda3/lib/python3.9/site-packages/sklearn/linear_model/_sag.py:328: ConvergenceWarning: The max_iter was reached which means the coef_ did not converge\n",
      "  warnings.warn(\"The max_iter was reached which means \"\n",
      "/opt/anaconda3/lib/python3.9/site-packages/sklearn/linear_model/_sag.py:328: ConvergenceWarning: The max_iter was reached which means the coef_ did not converge\n",
      "  warnings.warn(\"The max_iter was reached which means \"\n",
      "/opt/anaconda3/lib/python3.9/site-packages/sklearn/linear_model/_sag.py:328: ConvergenceWarning: The max_iter was reached which means the coef_ did not converge\n",
      "  warnings.warn(\"The max_iter was reached which means \"\n",
      "/opt/anaconda3/lib/python3.9/site-packages/sklearn/linear_model/_sag.py:328: ConvergenceWarning: The max_iter was reached which means the coef_ did not converge\n",
      "  warnings.warn(\"The max_iter was reached which means \"\n",
      "/opt/anaconda3/lib/python3.9/site-packages/sklearn/linear_model/_sag.py:328: ConvergenceWarning: The max_iter was reached which means the coef_ did not converge\n",
      "  warnings.warn(\"The max_iter was reached which means \"\n",
      "/opt/anaconda3/lib/python3.9/site-packages/sklearn/linear_model/_sag.py:328: ConvergenceWarning: The max_iter was reached which means the coef_ did not converge\n",
      "  warnings.warn(\"The max_iter was reached which means \"\n",
      "/opt/anaconda3/lib/python3.9/site-packages/sklearn/linear_model/_sag.py:328: ConvergenceWarning: The max_iter was reached which means the coef_ did not converge\n",
      "  warnings.warn(\"The max_iter was reached which means \"\n",
      "/opt/anaconda3/lib/python3.9/site-packages/sklearn/linear_model/_sag.py:328: ConvergenceWarning: The max_iter was reached which means the coef_ did not converge\n",
      "  warnings.warn(\"The max_iter was reached which means \"\n",
      "/opt/anaconda3/lib/python3.9/site-packages/sklearn/linear_model/_sag.py:328: ConvergenceWarning: The max_iter was reached which means the coef_ did not converge\n",
      "  warnings.warn(\"The max_iter was reached which means \"\n",
      "/opt/anaconda3/lib/python3.9/site-packages/sklearn/linear_model/_sag.py:328: ConvergenceWarning: The max_iter was reached which means the coef_ did not converge\n",
      "  warnings.warn(\"The max_iter was reached which means \"\n",
      "/opt/anaconda3/lib/python3.9/site-packages/sklearn/linear_model/_sag.py:328: ConvergenceWarning: The max_iter was reached which means the coef_ did not converge\n",
      "  warnings.warn(\"The max_iter was reached which means \"\n"
     ]
    },
    {
     "name": "stdout",
     "output_type": "stream",
     "text": [
      "[CV 3/5] END features__max_df=0.05, features__min_df=10, features__ngram_range=(1, 4), model__solver=saga;, score=0.914 total time=   3.5s\n"
     ]
    },
    {
     "name": "stderr",
     "output_type": "stream",
     "text": [
      "/opt/anaconda3/lib/python3.9/site-packages/sklearn/linear_model/_sag.py:328: ConvergenceWarning: The max_iter was reached which means the coef_ did not converge\n",
      "  warnings.warn(\"The max_iter was reached which means \"\n",
      "/opt/anaconda3/lib/python3.9/site-packages/sklearn/linear_model/_sag.py:328: ConvergenceWarning: The max_iter was reached which means the coef_ did not converge\n",
      "  warnings.warn(\"The max_iter was reached which means \"\n",
      "/opt/anaconda3/lib/python3.9/site-packages/sklearn/linear_model/_sag.py:328: ConvergenceWarning: The max_iter was reached which means the coef_ did not converge\n",
      "  warnings.warn(\"The max_iter was reached which means \"\n",
      "/opt/anaconda3/lib/python3.9/site-packages/sklearn/linear_model/_sag.py:328: ConvergenceWarning: The max_iter was reached which means the coef_ did not converge\n",
      "  warnings.warn(\"The max_iter was reached which means \"\n",
      "/opt/anaconda3/lib/python3.9/site-packages/sklearn/linear_model/_sag.py:328: ConvergenceWarning: The max_iter was reached which means the coef_ did not converge\n",
      "  warnings.warn(\"The max_iter was reached which means \"\n",
      "/opt/anaconda3/lib/python3.9/site-packages/sklearn/linear_model/_sag.py:328: ConvergenceWarning: The max_iter was reached which means the coef_ did not converge\n",
      "  warnings.warn(\"The max_iter was reached which means \"\n",
      "/opt/anaconda3/lib/python3.9/site-packages/sklearn/linear_model/_sag.py:328: ConvergenceWarning: The max_iter was reached which means the coef_ did not converge\n",
      "  warnings.warn(\"The max_iter was reached which means \"\n",
      "/opt/anaconda3/lib/python3.9/site-packages/sklearn/linear_model/_sag.py:328: ConvergenceWarning: The max_iter was reached which means the coef_ did not converge\n",
      "  warnings.warn(\"The max_iter was reached which means \"\n",
      "/opt/anaconda3/lib/python3.9/site-packages/sklearn/linear_model/_sag.py:328: ConvergenceWarning: The max_iter was reached which means the coef_ did not converge\n",
      "  warnings.warn(\"The max_iter was reached which means \"\n",
      "/opt/anaconda3/lib/python3.9/site-packages/sklearn/linear_model/_sag.py:328: ConvergenceWarning: The max_iter was reached which means the coef_ did not converge\n",
      "  warnings.warn(\"The max_iter was reached which means \"\n",
      "/opt/anaconda3/lib/python3.9/site-packages/sklearn/linear_model/_sag.py:328: ConvergenceWarning: The max_iter was reached which means the coef_ did not converge\n",
      "  warnings.warn(\"The max_iter was reached which means \"\n",
      "/opt/anaconda3/lib/python3.9/site-packages/sklearn/linear_model/_sag.py:328: ConvergenceWarning: The max_iter was reached which means the coef_ did not converge\n",
      "  warnings.warn(\"The max_iter was reached which means \"\n",
      "/opt/anaconda3/lib/python3.9/site-packages/sklearn/linear_model/_sag.py:328: ConvergenceWarning: The max_iter was reached which means the coef_ did not converge\n",
      "  warnings.warn(\"The max_iter was reached which means \"\n",
      "/opt/anaconda3/lib/python3.9/site-packages/sklearn/linear_model/_sag.py:328: ConvergenceWarning: The max_iter was reached which means the coef_ did not converge\n",
      "  warnings.warn(\"The max_iter was reached which means \"\n",
      "/opt/anaconda3/lib/python3.9/site-packages/sklearn/linear_model/_sag.py:328: ConvergenceWarning: The max_iter was reached which means the coef_ did not converge\n",
      "  warnings.warn(\"The max_iter was reached which means \"\n"
     ]
    },
    {
     "name": "stdout",
     "output_type": "stream",
     "text": [
      "[CV 4/5] END features__max_df=0.05, features__min_df=10, features__ngram_range=(1, 4), model__solver=saga;, score=0.914 total time=   3.5s\n"
     ]
    },
    {
     "name": "stderr",
     "output_type": "stream",
     "text": [
      "/opt/anaconda3/lib/python3.9/site-packages/sklearn/linear_model/_sag.py:328: ConvergenceWarning: The max_iter was reached which means the coef_ did not converge\n",
      "  warnings.warn(\"The max_iter was reached which means \"\n",
      "/opt/anaconda3/lib/python3.9/site-packages/sklearn/linear_model/_sag.py:328: ConvergenceWarning: The max_iter was reached which means the coef_ did not converge\n",
      "  warnings.warn(\"The max_iter was reached which means \"\n",
      "/opt/anaconda3/lib/python3.9/site-packages/sklearn/linear_model/_sag.py:328: ConvergenceWarning: The max_iter was reached which means the coef_ did not converge\n",
      "  warnings.warn(\"The max_iter was reached which means \"\n",
      "/opt/anaconda3/lib/python3.9/site-packages/sklearn/linear_model/_sag.py:328: ConvergenceWarning: The max_iter was reached which means the coef_ did not converge\n",
      "  warnings.warn(\"The max_iter was reached which means \"\n",
      "/opt/anaconda3/lib/python3.9/site-packages/sklearn/linear_model/_sag.py:328: ConvergenceWarning: The max_iter was reached which means the coef_ did not converge\n",
      "  warnings.warn(\"The max_iter was reached which means \"\n",
      "/opt/anaconda3/lib/python3.9/site-packages/sklearn/linear_model/_sag.py:328: ConvergenceWarning: The max_iter was reached which means the coef_ did not converge\n",
      "  warnings.warn(\"The max_iter was reached which means \"\n",
      "/opt/anaconda3/lib/python3.9/site-packages/sklearn/linear_model/_sag.py:328: ConvergenceWarning: The max_iter was reached which means the coef_ did not converge\n",
      "  warnings.warn(\"The max_iter was reached which means \"\n",
      "/opt/anaconda3/lib/python3.9/site-packages/sklearn/linear_model/_sag.py:328: ConvergenceWarning: The max_iter was reached which means the coef_ did not converge\n",
      "  warnings.warn(\"The max_iter was reached which means \"\n",
      "/opt/anaconda3/lib/python3.9/site-packages/sklearn/linear_model/_sag.py:328: ConvergenceWarning: The max_iter was reached which means the coef_ did not converge\n",
      "  warnings.warn(\"The max_iter was reached which means \"\n",
      "/opt/anaconda3/lib/python3.9/site-packages/sklearn/linear_model/_sag.py:328: ConvergenceWarning: The max_iter was reached which means the coef_ did not converge\n",
      "  warnings.warn(\"The max_iter was reached which means \"\n",
      "/opt/anaconda3/lib/python3.9/site-packages/sklearn/linear_model/_sag.py:328: ConvergenceWarning: The max_iter was reached which means the coef_ did not converge\n",
      "  warnings.warn(\"The max_iter was reached which means \"\n",
      "/opt/anaconda3/lib/python3.9/site-packages/sklearn/linear_model/_sag.py:328: ConvergenceWarning: The max_iter was reached which means the coef_ did not converge\n",
      "  warnings.warn(\"The max_iter was reached which means \"\n",
      "/opt/anaconda3/lib/python3.9/site-packages/sklearn/linear_model/_sag.py:328: ConvergenceWarning: The max_iter was reached which means the coef_ did not converge\n",
      "  warnings.warn(\"The max_iter was reached which means \"\n",
      "/opt/anaconda3/lib/python3.9/site-packages/sklearn/linear_model/_sag.py:328: ConvergenceWarning: The max_iter was reached which means the coef_ did not converge\n",
      "  warnings.warn(\"The max_iter was reached which means \"\n",
      "/opt/anaconda3/lib/python3.9/site-packages/sklearn/linear_model/_sag.py:328: ConvergenceWarning: The max_iter was reached which means the coef_ did not converge\n",
      "  warnings.warn(\"The max_iter was reached which means \"\n"
     ]
    },
    {
     "name": "stdout",
     "output_type": "stream",
     "text": [
      "[CV 5/5] END features__max_df=0.05, features__min_df=10, features__ngram_range=(1, 4), model__solver=saga;, score=0.915 total time=   3.5s\n",
      "[CV 1/5] END features__max_df=0.05, features__min_df=10, features__ngram_range=(1, 4), model__solver=liblinear;, score=0.919 total time=   2.2s\n",
      "[CV 2/5] END features__max_df=0.05, features__min_df=10, features__ngram_range=(1, 4), model__solver=liblinear;, score=0.915 total time=   2.2s\n",
      "[CV 3/5] END features__max_df=0.05, features__min_df=10, features__ngram_range=(1, 4), model__solver=liblinear;, score=0.907 total time=   2.3s\n",
      "[CV 4/5] END features__max_df=0.05, features__min_df=10, features__ngram_range=(1, 4), model__solver=liblinear;, score=0.914 total time=   2.2s\n",
      "[CV 5/5] END features__max_df=0.05, features__min_df=10, features__ngram_range=(1, 4), model__solver=liblinear;, score=0.912 total time=   2.2s\n"
     ]
    },
    {
     "name": "stderr",
     "output_type": "stream",
     "text": [
      "/opt/anaconda3/lib/python3.9/site-packages/sklearn/linear_model/_sag.py:328: ConvergenceWarning: The max_iter was reached which means the coef_ did not converge\n",
      "  warnings.warn(\"The max_iter was reached which means \"\n",
      "/opt/anaconda3/lib/python3.9/site-packages/sklearn/linear_model/_sag.py:328: ConvergenceWarning: The max_iter was reached which means the coef_ did not converge\n",
      "  warnings.warn(\"The max_iter was reached which means \"\n",
      "/opt/anaconda3/lib/python3.9/site-packages/sklearn/linear_model/_sag.py:328: ConvergenceWarning: The max_iter was reached which means the coef_ did not converge\n",
      "  warnings.warn(\"The max_iter was reached which means \"\n",
      "/opt/anaconda3/lib/python3.9/site-packages/sklearn/linear_model/_sag.py:328: ConvergenceWarning: The max_iter was reached which means the coef_ did not converge\n",
      "  warnings.warn(\"The max_iter was reached which means \"\n",
      "/opt/anaconda3/lib/python3.9/site-packages/sklearn/linear_model/_sag.py:328: ConvergenceWarning: The max_iter was reached which means the coef_ did not converge\n",
      "  warnings.warn(\"The max_iter was reached which means \"\n",
      "/opt/anaconda3/lib/python3.9/site-packages/sklearn/linear_model/_sag.py:328: ConvergenceWarning: The max_iter was reached which means the coef_ did not converge\n",
      "  warnings.warn(\"The max_iter was reached which means \"\n",
      "/opt/anaconda3/lib/python3.9/site-packages/sklearn/linear_model/_sag.py:328: ConvergenceWarning: The max_iter was reached which means the coef_ did not converge\n",
      "  warnings.warn(\"The max_iter was reached which means \"\n",
      "/opt/anaconda3/lib/python3.9/site-packages/sklearn/linear_model/_sag.py:328: ConvergenceWarning: The max_iter was reached which means the coef_ did not converge\n",
      "  warnings.warn(\"The max_iter was reached which means \"\n",
      "/opt/anaconda3/lib/python3.9/site-packages/sklearn/linear_model/_sag.py:328: ConvergenceWarning: The max_iter was reached which means the coef_ did not converge\n",
      "  warnings.warn(\"The max_iter was reached which means \"\n",
      "/opt/anaconda3/lib/python3.9/site-packages/sklearn/linear_model/_sag.py:328: ConvergenceWarning: The max_iter was reached which means the coef_ did not converge\n",
      "  warnings.warn(\"The max_iter was reached which means \"\n",
      "/opt/anaconda3/lib/python3.9/site-packages/sklearn/linear_model/_sag.py:328: ConvergenceWarning: The max_iter was reached which means the coef_ did not converge\n",
      "  warnings.warn(\"The max_iter was reached which means \"\n"
     ]
    },
    {
     "name": "stdout",
     "output_type": "stream",
     "text": [
      "[CV 1/5] END features__max_df=0.1, features__min_df=1, features__ngram_range=(1, 3), model__solver=saga;, score=0.942 total time=  24.2s\n"
     ]
    },
    {
     "name": "stderr",
     "output_type": "stream",
     "text": [
      "/opt/anaconda3/lib/python3.9/site-packages/sklearn/linear_model/_sag.py:328: ConvergenceWarning: The max_iter was reached which means the coef_ did not converge\n",
      "  warnings.warn(\"The max_iter was reached which means \"\n",
      "/opt/anaconda3/lib/python3.9/site-packages/sklearn/linear_model/_sag.py:328: ConvergenceWarning: The max_iter was reached which means the coef_ did not converge\n",
      "  warnings.warn(\"The max_iter was reached which means \"\n",
      "/opt/anaconda3/lib/python3.9/site-packages/sklearn/linear_model/_sag.py:328: ConvergenceWarning: The max_iter was reached which means the coef_ did not converge\n",
      "  warnings.warn(\"The max_iter was reached which means \"\n",
      "/opt/anaconda3/lib/python3.9/site-packages/sklearn/linear_model/_sag.py:328: ConvergenceWarning: The max_iter was reached which means the coef_ did not converge\n",
      "  warnings.warn(\"The max_iter was reached which means \"\n",
      "/opt/anaconda3/lib/python3.9/site-packages/sklearn/linear_model/_sag.py:328: ConvergenceWarning: The max_iter was reached which means the coef_ did not converge\n",
      "  warnings.warn(\"The max_iter was reached which means \"\n",
      "/opt/anaconda3/lib/python3.9/site-packages/sklearn/linear_model/_sag.py:328: ConvergenceWarning: The max_iter was reached which means the coef_ did not converge\n",
      "  warnings.warn(\"The max_iter was reached which means \"\n",
      "/opt/anaconda3/lib/python3.9/site-packages/sklearn/linear_model/_sag.py:328: ConvergenceWarning: The max_iter was reached which means the coef_ did not converge\n",
      "  warnings.warn(\"The max_iter was reached which means \"\n",
      "/opt/anaconda3/lib/python3.9/site-packages/sklearn/linear_model/_sag.py:328: ConvergenceWarning: The max_iter was reached which means the coef_ did not converge\n",
      "  warnings.warn(\"The max_iter was reached which means \"\n",
      "/opt/anaconda3/lib/python3.9/site-packages/sklearn/linear_model/_sag.py:328: ConvergenceWarning: The max_iter was reached which means the coef_ did not converge\n",
      "  warnings.warn(\"The max_iter was reached which means \"\n",
      "/opt/anaconda3/lib/python3.9/site-packages/sklearn/linear_model/_sag.py:328: ConvergenceWarning: The max_iter was reached which means the coef_ did not converge\n",
      "  warnings.warn(\"The max_iter was reached which means \"\n",
      "/opt/anaconda3/lib/python3.9/site-packages/sklearn/linear_model/_sag.py:328: ConvergenceWarning: The max_iter was reached which means the coef_ did not converge\n",
      "  warnings.warn(\"The max_iter was reached which means \"\n"
     ]
    },
    {
     "name": "stdout",
     "output_type": "stream",
     "text": [
      "[CV 2/5] END features__max_df=0.1, features__min_df=1, features__ngram_range=(1, 3), model__solver=saga;, score=0.936 total time=  25.7s\n"
     ]
    },
    {
     "name": "stderr",
     "output_type": "stream",
     "text": [
      "/opt/anaconda3/lib/python3.9/site-packages/sklearn/linear_model/_sag.py:328: ConvergenceWarning: The max_iter was reached which means the coef_ did not converge\n",
      "  warnings.warn(\"The max_iter was reached which means \"\n",
      "/opt/anaconda3/lib/python3.9/site-packages/sklearn/linear_model/_sag.py:328: ConvergenceWarning: The max_iter was reached which means the coef_ did not converge\n",
      "  warnings.warn(\"The max_iter was reached which means \"\n",
      "/opt/anaconda3/lib/python3.9/site-packages/sklearn/linear_model/_sag.py:328: ConvergenceWarning: The max_iter was reached which means the coef_ did not converge\n",
      "  warnings.warn(\"The max_iter was reached which means \"\n",
      "/opt/anaconda3/lib/python3.9/site-packages/sklearn/linear_model/_sag.py:328: ConvergenceWarning: The max_iter was reached which means the coef_ did not converge\n",
      "  warnings.warn(\"The max_iter was reached which means \"\n",
      "/opt/anaconda3/lib/python3.9/site-packages/sklearn/linear_model/_sag.py:328: ConvergenceWarning: The max_iter was reached which means the coef_ did not converge\n",
      "  warnings.warn(\"The max_iter was reached which means \"\n",
      "/opt/anaconda3/lib/python3.9/site-packages/sklearn/linear_model/_sag.py:328: ConvergenceWarning: The max_iter was reached which means the coef_ did not converge\n",
      "  warnings.warn(\"The max_iter was reached which means \"\n",
      "/opt/anaconda3/lib/python3.9/site-packages/sklearn/linear_model/_sag.py:328: ConvergenceWarning: The max_iter was reached which means the coef_ did not converge\n",
      "  warnings.warn(\"The max_iter was reached which means \"\n",
      "/opt/anaconda3/lib/python3.9/site-packages/sklearn/linear_model/_sag.py:328: ConvergenceWarning: The max_iter was reached which means the coef_ did not converge\n",
      "  warnings.warn(\"The max_iter was reached which means \"\n",
      "/opt/anaconda3/lib/python3.9/site-packages/sklearn/linear_model/_sag.py:328: ConvergenceWarning: The max_iter was reached which means the coef_ did not converge\n",
      "  warnings.warn(\"The max_iter was reached which means \"\n",
      "/opt/anaconda3/lib/python3.9/site-packages/sklearn/linear_model/_sag.py:328: ConvergenceWarning: The max_iter was reached which means the coef_ did not converge\n",
      "  warnings.warn(\"The max_iter was reached which means \"\n",
      "/opt/anaconda3/lib/python3.9/site-packages/sklearn/linear_model/_sag.py:328: ConvergenceWarning: The max_iter was reached which means the coef_ did not converge\n",
      "  warnings.warn(\"The max_iter was reached which means \"\n"
     ]
    },
    {
     "name": "stdout",
     "output_type": "stream",
     "text": [
      "[CV 3/5] END features__max_df=0.1, features__min_df=1, features__ngram_range=(1, 3), model__solver=saga;, score=0.932 total time=  24.3s\n"
     ]
    },
    {
     "name": "stderr",
     "output_type": "stream",
     "text": [
      "/opt/anaconda3/lib/python3.9/site-packages/sklearn/linear_model/_sag.py:328: ConvergenceWarning: The max_iter was reached which means the coef_ did not converge\n",
      "  warnings.warn(\"The max_iter was reached which means \"\n",
      "/opt/anaconda3/lib/python3.9/site-packages/sklearn/linear_model/_sag.py:328: ConvergenceWarning: The max_iter was reached which means the coef_ did not converge\n",
      "  warnings.warn(\"The max_iter was reached which means \"\n",
      "/opt/anaconda3/lib/python3.9/site-packages/sklearn/linear_model/_sag.py:328: ConvergenceWarning: The max_iter was reached which means the coef_ did not converge\n",
      "  warnings.warn(\"The max_iter was reached which means \"\n",
      "/opt/anaconda3/lib/python3.9/site-packages/sklearn/linear_model/_sag.py:328: ConvergenceWarning: The max_iter was reached which means the coef_ did not converge\n",
      "  warnings.warn(\"The max_iter was reached which means \"\n",
      "/opt/anaconda3/lib/python3.9/site-packages/sklearn/linear_model/_sag.py:328: ConvergenceWarning: The max_iter was reached which means the coef_ did not converge\n",
      "  warnings.warn(\"The max_iter was reached which means \"\n",
      "/opt/anaconda3/lib/python3.9/site-packages/sklearn/linear_model/_sag.py:328: ConvergenceWarning: The max_iter was reached which means the coef_ did not converge\n",
      "  warnings.warn(\"The max_iter was reached which means \"\n",
      "/opt/anaconda3/lib/python3.9/site-packages/sklearn/linear_model/_sag.py:328: ConvergenceWarning: The max_iter was reached which means the coef_ did not converge\n",
      "  warnings.warn(\"The max_iter was reached which means \"\n",
      "/opt/anaconda3/lib/python3.9/site-packages/sklearn/linear_model/_sag.py:328: ConvergenceWarning: The max_iter was reached which means the coef_ did not converge\n",
      "  warnings.warn(\"The max_iter was reached which means \"\n",
      "/opt/anaconda3/lib/python3.9/site-packages/sklearn/linear_model/_sag.py:328: ConvergenceWarning: The max_iter was reached which means the coef_ did not converge\n",
      "  warnings.warn(\"The max_iter was reached which means \"\n",
      "/opt/anaconda3/lib/python3.9/site-packages/sklearn/linear_model/_sag.py:328: ConvergenceWarning: The max_iter was reached which means the coef_ did not converge\n",
      "  warnings.warn(\"The max_iter was reached which means \"\n",
      "/opt/anaconda3/lib/python3.9/site-packages/sklearn/linear_model/_sag.py:328: ConvergenceWarning: The max_iter was reached which means the coef_ did not converge\n",
      "  warnings.warn(\"The max_iter was reached which means \"\n"
     ]
    },
    {
     "name": "stdout",
     "output_type": "stream",
     "text": [
      "[CV 4/5] END features__max_df=0.1, features__min_df=1, features__ngram_range=(1, 3), model__solver=saga;, score=0.941 total time=  24.5s\n"
     ]
    },
    {
     "name": "stderr",
     "output_type": "stream",
     "text": [
      "/opt/anaconda3/lib/python3.9/site-packages/sklearn/linear_model/_sag.py:328: ConvergenceWarning: The max_iter was reached which means the coef_ did not converge\n",
      "  warnings.warn(\"The max_iter was reached which means \"\n",
      "/opt/anaconda3/lib/python3.9/site-packages/sklearn/linear_model/_sag.py:328: ConvergenceWarning: The max_iter was reached which means the coef_ did not converge\n",
      "  warnings.warn(\"The max_iter was reached which means \"\n",
      "/opt/anaconda3/lib/python3.9/site-packages/sklearn/linear_model/_sag.py:328: ConvergenceWarning: The max_iter was reached which means the coef_ did not converge\n",
      "  warnings.warn(\"The max_iter was reached which means \"\n",
      "/opt/anaconda3/lib/python3.9/site-packages/sklearn/linear_model/_sag.py:328: ConvergenceWarning: The max_iter was reached which means the coef_ did not converge\n",
      "  warnings.warn(\"The max_iter was reached which means \"\n",
      "/opt/anaconda3/lib/python3.9/site-packages/sklearn/linear_model/_sag.py:328: ConvergenceWarning: The max_iter was reached which means the coef_ did not converge\n",
      "  warnings.warn(\"The max_iter was reached which means \"\n",
      "/opt/anaconda3/lib/python3.9/site-packages/sklearn/linear_model/_sag.py:328: ConvergenceWarning: The max_iter was reached which means the coef_ did not converge\n",
      "  warnings.warn(\"The max_iter was reached which means \"\n",
      "/opt/anaconda3/lib/python3.9/site-packages/sklearn/linear_model/_sag.py:328: ConvergenceWarning: The max_iter was reached which means the coef_ did not converge\n",
      "  warnings.warn(\"The max_iter was reached which means \"\n",
      "/opt/anaconda3/lib/python3.9/site-packages/sklearn/linear_model/_sag.py:328: ConvergenceWarning: The max_iter was reached which means the coef_ did not converge\n",
      "  warnings.warn(\"The max_iter was reached which means \"\n",
      "/opt/anaconda3/lib/python3.9/site-packages/sklearn/linear_model/_sag.py:328: ConvergenceWarning: The max_iter was reached which means the coef_ did not converge\n",
      "  warnings.warn(\"The max_iter was reached which means \"\n",
      "/opt/anaconda3/lib/python3.9/site-packages/sklearn/linear_model/_sag.py:328: ConvergenceWarning: The max_iter was reached which means the coef_ did not converge\n",
      "  warnings.warn(\"The max_iter was reached which means \"\n",
      "/opt/anaconda3/lib/python3.9/site-packages/sklearn/linear_model/_sag.py:328: ConvergenceWarning: The max_iter was reached which means the coef_ did not converge\n",
      "  warnings.warn(\"The max_iter was reached which means \"\n"
     ]
    },
    {
     "name": "stdout",
     "output_type": "stream",
     "text": [
      "[CV 5/5] END features__max_df=0.1, features__min_df=1, features__ngram_range=(1, 3), model__solver=saga;, score=0.936 total time=  24.4s\n"
     ]
    },
    {
     "name": "stderr",
     "output_type": "stream",
     "text": [
      "/opt/anaconda3/lib/python3.9/site-packages/joblib/externals/loky/process_executor.py:702: UserWarning: A worker stopped while some jobs were given to the executor. This can be caused by a too short worker timeout or by a memory leak.\n",
      "  warnings.warn(\n"
     ]
    },
    {
     "name": "stdout",
     "output_type": "stream",
     "text": [
      "[CV 1/5] END features__max_df=0.1, features__min_df=1, features__ngram_range=(1, 3), model__solver=liblinear;, score=0.944 total time=  10.1s\n",
      "[CV 2/5] END features__max_df=0.1, features__min_df=1, features__ngram_range=(1, 3), model__solver=liblinear;, score=0.938 total time=   9.4s\n",
      "[CV 3/5] END features__max_df=0.1, features__min_df=1, features__ngram_range=(1, 3), model__solver=liblinear;, score=0.937 total time=   8.6s\n",
      "[CV 4/5] END features__max_df=0.1, features__min_df=1, features__ngram_range=(1, 3), model__solver=liblinear;, score=0.942 total time=   9.1s\n",
      "[CV 5/5] END features__max_df=0.1, features__min_df=1, features__ngram_range=(1, 3), model__solver=liblinear;, score=0.936 total time=   8.8s\n"
     ]
    },
    {
     "name": "stderr",
     "output_type": "stream",
     "text": [
      "/opt/anaconda3/lib/python3.9/site-packages/sklearn/linear_model/_sag.py:328: ConvergenceWarning: The max_iter was reached which means the coef_ did not converge\n",
      "  warnings.warn(\"The max_iter was reached which means \"\n",
      "/opt/anaconda3/lib/python3.9/site-packages/sklearn/linear_model/_sag.py:328: ConvergenceWarning: The max_iter was reached which means the coef_ did not converge\n",
      "  warnings.warn(\"The max_iter was reached which means \"\n",
      "/opt/anaconda3/lib/python3.9/site-packages/sklearn/linear_model/_sag.py:328: ConvergenceWarning: The max_iter was reached which means the coef_ did not converge\n",
      "  warnings.warn(\"The max_iter was reached which means \"\n",
      "/opt/anaconda3/lib/python3.9/site-packages/sklearn/linear_model/_sag.py:328: ConvergenceWarning: The max_iter was reached which means the coef_ did not converge\n",
      "  warnings.warn(\"The max_iter was reached which means \"\n",
      "/opt/anaconda3/lib/python3.9/site-packages/sklearn/linear_model/_sag.py:328: ConvergenceWarning: The max_iter was reached which means the coef_ did not converge\n",
      "  warnings.warn(\"The max_iter was reached which means \"\n",
      "/opt/anaconda3/lib/python3.9/site-packages/sklearn/linear_model/_sag.py:328: ConvergenceWarning: The max_iter was reached which means the coef_ did not converge\n",
      "  warnings.warn(\"The max_iter was reached which means \"\n",
      "/opt/anaconda3/lib/python3.9/site-packages/sklearn/linear_model/_sag.py:328: ConvergenceWarning: The max_iter was reached which means the coef_ did not converge\n",
      "  warnings.warn(\"The max_iter was reached which means \"\n",
      "/opt/anaconda3/lib/python3.9/site-packages/sklearn/linear_model/_sag.py:328: ConvergenceWarning: The max_iter was reached which means the coef_ did not converge\n",
      "  warnings.warn(\"The max_iter was reached which means \"\n",
      "/opt/anaconda3/lib/python3.9/site-packages/sklearn/linear_model/_sag.py:328: ConvergenceWarning: The max_iter was reached which means the coef_ did not converge\n",
      "  warnings.warn(\"The max_iter was reached which means \"\n",
      "/opt/anaconda3/lib/python3.9/site-packages/sklearn/linear_model/_sag.py:328: ConvergenceWarning: The max_iter was reached which means the coef_ did not converge\n",
      "  warnings.warn(\"The max_iter was reached which means \"\n",
      "/opt/anaconda3/lib/python3.9/site-packages/sklearn/linear_model/_sag.py:328: ConvergenceWarning: The max_iter was reached which means the coef_ did not converge\n",
      "  warnings.warn(\"The max_iter was reached which means \"\n"
     ]
    },
    {
     "name": "stdout",
     "output_type": "stream",
     "text": [
      "[CV 1/5] END features__max_df=0.1, features__min_df=1, features__ngram_range=(1, 4), model__solver=saga;, score=0.941 total time=  32.9s\n"
     ]
    },
    {
     "name": "stderr",
     "output_type": "stream",
     "text": [
      "/opt/anaconda3/lib/python3.9/site-packages/sklearn/linear_model/_sag.py:328: ConvergenceWarning: The max_iter was reached which means the coef_ did not converge\n",
      "  warnings.warn(\"The max_iter was reached which means \"\n",
      "/opt/anaconda3/lib/python3.9/site-packages/sklearn/linear_model/_sag.py:328: ConvergenceWarning: The max_iter was reached which means the coef_ did not converge\n",
      "  warnings.warn(\"The max_iter was reached which means \"\n",
      "/opt/anaconda3/lib/python3.9/site-packages/sklearn/linear_model/_sag.py:328: ConvergenceWarning: The max_iter was reached which means the coef_ did not converge\n",
      "  warnings.warn(\"The max_iter was reached which means \"\n",
      "/opt/anaconda3/lib/python3.9/site-packages/sklearn/linear_model/_sag.py:328: ConvergenceWarning: The max_iter was reached which means the coef_ did not converge\n",
      "  warnings.warn(\"The max_iter was reached which means \"\n",
      "/opt/anaconda3/lib/python3.9/site-packages/sklearn/linear_model/_sag.py:328: ConvergenceWarning: The max_iter was reached which means the coef_ did not converge\n",
      "  warnings.warn(\"The max_iter was reached which means \"\n",
      "/opt/anaconda3/lib/python3.9/site-packages/sklearn/linear_model/_sag.py:328: ConvergenceWarning: The max_iter was reached which means the coef_ did not converge\n",
      "  warnings.warn(\"The max_iter was reached which means \"\n",
      "/opt/anaconda3/lib/python3.9/site-packages/sklearn/linear_model/_sag.py:328: ConvergenceWarning: The max_iter was reached which means the coef_ did not converge\n",
      "  warnings.warn(\"The max_iter was reached which means \"\n",
      "/opt/anaconda3/lib/python3.9/site-packages/sklearn/linear_model/_sag.py:328: ConvergenceWarning: The max_iter was reached which means the coef_ did not converge\n",
      "  warnings.warn(\"The max_iter was reached which means \"\n",
      "/opt/anaconda3/lib/python3.9/site-packages/sklearn/linear_model/_sag.py:328: ConvergenceWarning: The max_iter was reached which means the coef_ did not converge\n",
      "  warnings.warn(\"The max_iter was reached which means \"\n",
      "/opt/anaconda3/lib/python3.9/site-packages/sklearn/linear_model/_sag.py:328: ConvergenceWarning: The max_iter was reached which means the coef_ did not converge\n",
      "  warnings.warn(\"The max_iter was reached which means \"\n",
      "/opt/anaconda3/lib/python3.9/site-packages/sklearn/linear_model/_sag.py:328: ConvergenceWarning: The max_iter was reached which means the coef_ did not converge\n",
      "  warnings.warn(\"The max_iter was reached which means \"\n"
     ]
    },
    {
     "name": "stdout",
     "output_type": "stream",
     "text": [
      "[CV 2/5] END features__max_df=0.1, features__min_df=1, features__ngram_range=(1, 4), model__solver=saga;, score=0.935 total time=  34.8s\n"
     ]
    },
    {
     "name": "stderr",
     "output_type": "stream",
     "text": [
      "/opt/anaconda3/lib/python3.9/site-packages/sklearn/linear_model/_sag.py:328: ConvergenceWarning: The max_iter was reached which means the coef_ did not converge\n",
      "  warnings.warn(\"The max_iter was reached which means \"\n",
      "/opt/anaconda3/lib/python3.9/site-packages/sklearn/linear_model/_sag.py:328: ConvergenceWarning: The max_iter was reached which means the coef_ did not converge\n",
      "  warnings.warn(\"The max_iter was reached which means \"\n",
      "/opt/anaconda3/lib/python3.9/site-packages/sklearn/linear_model/_sag.py:328: ConvergenceWarning: The max_iter was reached which means the coef_ did not converge\n",
      "  warnings.warn(\"The max_iter was reached which means \"\n",
      "/opt/anaconda3/lib/python3.9/site-packages/sklearn/linear_model/_sag.py:328: ConvergenceWarning: The max_iter was reached which means the coef_ did not converge\n",
      "  warnings.warn(\"The max_iter was reached which means \"\n",
      "/opt/anaconda3/lib/python3.9/site-packages/sklearn/linear_model/_sag.py:328: ConvergenceWarning: The max_iter was reached which means the coef_ did not converge\n",
      "  warnings.warn(\"The max_iter was reached which means \"\n",
      "/opt/anaconda3/lib/python3.9/site-packages/sklearn/linear_model/_sag.py:328: ConvergenceWarning: The max_iter was reached which means the coef_ did not converge\n",
      "  warnings.warn(\"The max_iter was reached which means \"\n",
      "/opt/anaconda3/lib/python3.9/site-packages/sklearn/linear_model/_sag.py:328: ConvergenceWarning: The max_iter was reached which means the coef_ did not converge\n",
      "  warnings.warn(\"The max_iter was reached which means \"\n",
      "/opt/anaconda3/lib/python3.9/site-packages/sklearn/linear_model/_sag.py:328: ConvergenceWarning: The max_iter was reached which means the coef_ did not converge\n",
      "  warnings.warn(\"The max_iter was reached which means \"\n",
      "/opt/anaconda3/lib/python3.9/site-packages/sklearn/linear_model/_sag.py:328: ConvergenceWarning: The max_iter was reached which means the coef_ did not converge\n",
      "  warnings.warn(\"The max_iter was reached which means \"\n",
      "/opt/anaconda3/lib/python3.9/site-packages/sklearn/linear_model/_sag.py:328: ConvergenceWarning: The max_iter was reached which means the coef_ did not converge\n",
      "  warnings.warn(\"The max_iter was reached which means \"\n",
      "/opt/anaconda3/lib/python3.9/site-packages/sklearn/linear_model/_sag.py:328: ConvergenceWarning: The max_iter was reached which means the coef_ did not converge\n",
      "  warnings.warn(\"The max_iter was reached which means \"\n"
     ]
    },
    {
     "name": "stdout",
     "output_type": "stream",
     "text": [
      "[CV 3/5] END features__max_df=0.1, features__min_df=1, features__ngram_range=(1, 4), model__solver=saga;, score=0.930 total time=  33.0s\n"
     ]
    },
    {
     "name": "stderr",
     "output_type": "stream",
     "text": [
      "/opt/anaconda3/lib/python3.9/site-packages/sklearn/linear_model/_sag.py:328: ConvergenceWarning: The max_iter was reached which means the coef_ did not converge\n",
      "  warnings.warn(\"The max_iter was reached which means \"\n",
      "/opt/anaconda3/lib/python3.9/site-packages/sklearn/linear_model/_sag.py:328: ConvergenceWarning: The max_iter was reached which means the coef_ did not converge\n",
      "  warnings.warn(\"The max_iter was reached which means \"\n",
      "/opt/anaconda3/lib/python3.9/site-packages/sklearn/linear_model/_sag.py:328: ConvergenceWarning: The max_iter was reached which means the coef_ did not converge\n",
      "  warnings.warn(\"The max_iter was reached which means \"\n",
      "/opt/anaconda3/lib/python3.9/site-packages/sklearn/linear_model/_sag.py:328: ConvergenceWarning: The max_iter was reached which means the coef_ did not converge\n",
      "  warnings.warn(\"The max_iter was reached which means \"\n",
      "/opt/anaconda3/lib/python3.9/site-packages/sklearn/linear_model/_sag.py:328: ConvergenceWarning: The max_iter was reached which means the coef_ did not converge\n",
      "  warnings.warn(\"The max_iter was reached which means \"\n",
      "/opt/anaconda3/lib/python3.9/site-packages/sklearn/linear_model/_sag.py:328: ConvergenceWarning: The max_iter was reached which means the coef_ did not converge\n",
      "  warnings.warn(\"The max_iter was reached which means \"\n",
      "/opt/anaconda3/lib/python3.9/site-packages/sklearn/linear_model/_sag.py:328: ConvergenceWarning: The max_iter was reached which means the coef_ did not converge\n",
      "  warnings.warn(\"The max_iter was reached which means \"\n",
      "/opt/anaconda3/lib/python3.9/site-packages/sklearn/linear_model/_sag.py:328: ConvergenceWarning: The max_iter was reached which means the coef_ did not converge\n",
      "  warnings.warn(\"The max_iter was reached which means \"\n",
      "/opt/anaconda3/lib/python3.9/site-packages/sklearn/linear_model/_sag.py:328: ConvergenceWarning: The max_iter was reached which means the coef_ did not converge\n",
      "  warnings.warn(\"The max_iter was reached which means \"\n",
      "/opt/anaconda3/lib/python3.9/site-packages/sklearn/linear_model/_sag.py:328: ConvergenceWarning: The max_iter was reached which means the coef_ did not converge\n",
      "  warnings.warn(\"The max_iter was reached which means \"\n",
      "/opt/anaconda3/lib/python3.9/site-packages/sklearn/linear_model/_sag.py:328: ConvergenceWarning: The max_iter was reached which means the coef_ did not converge\n",
      "  warnings.warn(\"The max_iter was reached which means \"\n"
     ]
    },
    {
     "name": "stdout",
     "output_type": "stream",
     "text": [
      "[CV 4/5] END features__max_df=0.1, features__min_df=1, features__ngram_range=(1, 4), model__solver=saga;, score=0.938 total time=  31.7s\n"
     ]
    },
    {
     "name": "stderr",
     "output_type": "stream",
     "text": [
      "/opt/anaconda3/lib/python3.9/site-packages/sklearn/linear_model/_sag.py:328: ConvergenceWarning: The max_iter was reached which means the coef_ did not converge\n",
      "  warnings.warn(\"The max_iter was reached which means \"\n",
      "/opt/anaconda3/lib/python3.9/site-packages/sklearn/linear_model/_sag.py:328: ConvergenceWarning: The max_iter was reached which means the coef_ did not converge\n",
      "  warnings.warn(\"The max_iter was reached which means \"\n",
      "/opt/anaconda3/lib/python3.9/site-packages/sklearn/linear_model/_sag.py:328: ConvergenceWarning: The max_iter was reached which means the coef_ did not converge\n",
      "  warnings.warn(\"The max_iter was reached which means \"\n",
      "/opt/anaconda3/lib/python3.9/site-packages/sklearn/linear_model/_sag.py:328: ConvergenceWarning: The max_iter was reached which means the coef_ did not converge\n",
      "  warnings.warn(\"The max_iter was reached which means \"\n",
      "/opt/anaconda3/lib/python3.9/site-packages/sklearn/linear_model/_sag.py:328: ConvergenceWarning: The max_iter was reached which means the coef_ did not converge\n",
      "  warnings.warn(\"The max_iter was reached which means \"\n",
      "/opt/anaconda3/lib/python3.9/site-packages/sklearn/linear_model/_sag.py:328: ConvergenceWarning: The max_iter was reached which means the coef_ did not converge\n",
      "  warnings.warn(\"The max_iter was reached which means \"\n",
      "/opt/anaconda3/lib/python3.9/site-packages/sklearn/linear_model/_sag.py:328: ConvergenceWarning: The max_iter was reached which means the coef_ did not converge\n",
      "  warnings.warn(\"The max_iter was reached which means \"\n",
      "/opt/anaconda3/lib/python3.9/site-packages/sklearn/linear_model/_sag.py:328: ConvergenceWarning: The max_iter was reached which means the coef_ did not converge\n",
      "  warnings.warn(\"The max_iter was reached which means \"\n",
      "/opt/anaconda3/lib/python3.9/site-packages/sklearn/linear_model/_sag.py:328: ConvergenceWarning: The max_iter was reached which means the coef_ did not converge\n",
      "  warnings.warn(\"The max_iter was reached which means \"\n",
      "/opt/anaconda3/lib/python3.9/site-packages/sklearn/linear_model/_sag.py:328: ConvergenceWarning: The max_iter was reached which means the coef_ did not converge\n",
      "  warnings.warn(\"The max_iter was reached which means \"\n",
      "/opt/anaconda3/lib/python3.9/site-packages/sklearn/linear_model/_sag.py:328: ConvergenceWarning: The max_iter was reached which means the coef_ did not converge\n",
      "  warnings.warn(\"The max_iter was reached which means \"\n"
     ]
    },
    {
     "name": "stdout",
     "output_type": "stream",
     "text": [
      "[CV 5/5] END features__max_df=0.1, features__min_df=1, features__ngram_range=(1, 4), model__solver=saga;, score=0.930 total time=  32.6s\n"
     ]
    },
    {
     "name": "stderr",
     "output_type": "stream",
     "text": [
      "/opt/anaconda3/lib/python3.9/site-packages/joblib/externals/loky/process_executor.py:702: UserWarning: A worker stopped while some jobs were given to the executor. This can be caused by a too short worker timeout or by a memory leak.\n",
      "  warnings.warn(\n"
     ]
    },
    {
     "name": "stdout",
     "output_type": "stream",
     "text": [
      "[CV 1/5] END features__max_df=0.1, features__min_df=1, features__ngram_range=(1, 4), model__solver=liblinear;, score=0.941 total time=  14.1s\n",
      "[CV 2/5] END features__max_df=0.1, features__min_df=1, features__ngram_range=(1, 4), model__solver=liblinear;, score=0.933 total time=  12.6s\n",
      "[CV 3/5] END features__max_df=0.1, features__min_df=1, features__ngram_range=(1, 4), model__solver=liblinear;, score=0.933 total time=  12.4s\n",
      "[CV 4/5] END features__max_df=0.1, features__min_df=1, features__ngram_range=(1, 4), model__solver=liblinear;, score=0.939 total time=  12.5s\n",
      "[CV 5/5] END features__max_df=0.1, features__min_df=1, features__ngram_range=(1, 4), model__solver=liblinear;, score=0.933 total time=  12.5s\n"
     ]
    },
    {
     "name": "stderr",
     "output_type": "stream",
     "text": [
      "/opt/anaconda3/lib/python3.9/site-packages/sklearn/linear_model/_sag.py:328: ConvergenceWarning: The max_iter was reached which means the coef_ did not converge\n",
      "  warnings.warn(\"The max_iter was reached which means \"\n",
      "/opt/anaconda3/lib/python3.9/site-packages/sklearn/linear_model/_sag.py:328: ConvergenceWarning: The max_iter was reached which means the coef_ did not converge\n",
      "  warnings.warn(\"The max_iter was reached which means \"\n",
      "/opt/anaconda3/lib/python3.9/site-packages/sklearn/linear_model/_sag.py:328: ConvergenceWarning: The max_iter was reached which means the coef_ did not converge\n",
      "  warnings.warn(\"The max_iter was reached which means \"\n",
      "/opt/anaconda3/lib/python3.9/site-packages/sklearn/linear_model/_sag.py:328: ConvergenceWarning: The max_iter was reached which means the coef_ did not converge\n",
      "  warnings.warn(\"The max_iter was reached which means \"\n",
      "/opt/anaconda3/lib/python3.9/site-packages/sklearn/linear_model/_sag.py:328: ConvergenceWarning: The max_iter was reached which means the coef_ did not converge\n",
      "  warnings.warn(\"The max_iter was reached which means \"\n",
      "/opt/anaconda3/lib/python3.9/site-packages/sklearn/linear_model/_sag.py:328: ConvergenceWarning: The max_iter was reached which means the coef_ did not converge\n",
      "  warnings.warn(\"The max_iter was reached which means \"\n",
      "/opt/anaconda3/lib/python3.9/site-packages/sklearn/linear_model/_sag.py:328: ConvergenceWarning: The max_iter was reached which means the coef_ did not converge\n",
      "  warnings.warn(\"The max_iter was reached which means \"\n",
      "/opt/anaconda3/lib/python3.9/site-packages/sklearn/linear_model/_sag.py:328: ConvergenceWarning: The max_iter was reached which means the coef_ did not converge\n",
      "  warnings.warn(\"The max_iter was reached which means \"\n",
      "/opt/anaconda3/lib/python3.9/site-packages/sklearn/linear_model/_sag.py:328: ConvergenceWarning: The max_iter was reached which means the coef_ did not converge\n",
      "  warnings.warn(\"The max_iter was reached which means \"\n",
      "/opt/anaconda3/lib/python3.9/site-packages/sklearn/linear_model/_sag.py:328: ConvergenceWarning: The max_iter was reached which means the coef_ did not converge\n",
      "  warnings.warn(\"The max_iter was reached which means \"\n",
      "/opt/anaconda3/lib/python3.9/site-packages/sklearn/linear_model/_sag.py:328: ConvergenceWarning: The max_iter was reached which means the coef_ did not converge\n",
      "  warnings.warn(\"The max_iter was reached which means \"\n",
      "/opt/anaconda3/lib/python3.9/site-packages/sklearn/linear_model/_sag.py:328: ConvergenceWarning: The max_iter was reached which means the coef_ did not converge\n",
      "  warnings.warn(\"The max_iter was reached which means \"\n",
      "/opt/anaconda3/lib/python3.9/site-packages/sklearn/linear_model/_sag.py:328: ConvergenceWarning: The max_iter was reached which means the coef_ did not converge\n",
      "  warnings.warn(\"The max_iter was reached which means \"\n",
      "/opt/anaconda3/lib/python3.9/site-packages/sklearn/linear_model/_sag.py:328: ConvergenceWarning: The max_iter was reached which means the coef_ did not converge\n",
      "  warnings.warn(\"The max_iter was reached which means \"\n",
      "/opt/anaconda3/lib/python3.9/site-packages/sklearn/linear_model/_sag.py:328: ConvergenceWarning: The max_iter was reached which means the coef_ did not converge\n",
      "  warnings.warn(\"The max_iter was reached which means \"\n"
     ]
    },
    {
     "name": "stdout",
     "output_type": "stream",
     "text": [
      "[CV 1/5] END features__max_df=0.1, features__min_df=10, features__ngram_range=(1, 3), model__solver=saga;, score=0.919 total time=   3.4s\n"
     ]
    },
    {
     "name": "stderr",
     "output_type": "stream",
     "text": [
      "/opt/anaconda3/lib/python3.9/site-packages/sklearn/linear_model/_sag.py:328: ConvergenceWarning: The max_iter was reached which means the coef_ did not converge\n",
      "  warnings.warn(\"The max_iter was reached which means \"\n",
      "/opt/anaconda3/lib/python3.9/site-packages/sklearn/linear_model/_sag.py:328: ConvergenceWarning: The max_iter was reached which means the coef_ did not converge\n",
      "  warnings.warn(\"The max_iter was reached which means \"\n",
      "/opt/anaconda3/lib/python3.9/site-packages/sklearn/linear_model/_sag.py:328: ConvergenceWarning: The max_iter was reached which means the coef_ did not converge\n",
      "  warnings.warn(\"The max_iter was reached which means \"\n",
      "/opt/anaconda3/lib/python3.9/site-packages/sklearn/linear_model/_sag.py:328: ConvergenceWarning: The max_iter was reached which means the coef_ did not converge\n",
      "  warnings.warn(\"The max_iter was reached which means \"\n",
      "/opt/anaconda3/lib/python3.9/site-packages/sklearn/linear_model/_sag.py:328: ConvergenceWarning: The max_iter was reached which means the coef_ did not converge\n",
      "  warnings.warn(\"The max_iter was reached which means \"\n",
      "/opt/anaconda3/lib/python3.9/site-packages/sklearn/linear_model/_sag.py:328: ConvergenceWarning: The max_iter was reached which means the coef_ did not converge\n",
      "  warnings.warn(\"The max_iter was reached which means \"\n",
      "/opt/anaconda3/lib/python3.9/site-packages/sklearn/linear_model/_sag.py:328: ConvergenceWarning: The max_iter was reached which means the coef_ did not converge\n",
      "  warnings.warn(\"The max_iter was reached which means \"\n",
      "/opt/anaconda3/lib/python3.9/site-packages/sklearn/linear_model/_sag.py:328: ConvergenceWarning: The max_iter was reached which means the coef_ did not converge\n",
      "  warnings.warn(\"The max_iter was reached which means \"\n",
      "/opt/anaconda3/lib/python3.9/site-packages/sklearn/linear_model/_sag.py:328: ConvergenceWarning: The max_iter was reached which means the coef_ did not converge\n",
      "  warnings.warn(\"The max_iter was reached which means \"\n",
      "/opt/anaconda3/lib/python3.9/site-packages/sklearn/linear_model/_sag.py:328: ConvergenceWarning: The max_iter was reached which means the coef_ did not converge\n",
      "  warnings.warn(\"The max_iter was reached which means \"\n",
      "/opt/anaconda3/lib/python3.9/site-packages/sklearn/linear_model/_sag.py:328: ConvergenceWarning: The max_iter was reached which means the coef_ did not converge\n",
      "  warnings.warn(\"The max_iter was reached which means \"\n",
      "/opt/anaconda3/lib/python3.9/site-packages/sklearn/linear_model/_sag.py:328: ConvergenceWarning: The max_iter was reached which means the coef_ did not converge\n",
      "  warnings.warn(\"The max_iter was reached which means \"\n",
      "/opt/anaconda3/lib/python3.9/site-packages/sklearn/linear_model/_sag.py:328: ConvergenceWarning: The max_iter was reached which means the coef_ did not converge\n",
      "  warnings.warn(\"The max_iter was reached which means \"\n",
      "/opt/anaconda3/lib/python3.9/site-packages/sklearn/linear_model/_sag.py:328: ConvergenceWarning: The max_iter was reached which means the coef_ did not converge\n",
      "  warnings.warn(\"The max_iter was reached which means \"\n",
      "/opt/anaconda3/lib/python3.9/site-packages/sklearn/linear_model/_sag.py:328: ConvergenceWarning: The max_iter was reached which means the coef_ did not converge\n",
      "  warnings.warn(\"The max_iter was reached which means \"\n"
     ]
    },
    {
     "name": "stdout",
     "output_type": "stream",
     "text": [
      "[CV 2/5] END features__max_df=0.1, features__min_df=10, features__ngram_range=(1, 3), model__solver=saga;, score=0.916 total time=   3.4s\n"
     ]
    },
    {
     "name": "stderr",
     "output_type": "stream",
     "text": [
      "/opt/anaconda3/lib/python3.9/site-packages/sklearn/linear_model/_sag.py:328: ConvergenceWarning: The max_iter was reached which means the coef_ did not converge\n",
      "  warnings.warn(\"The max_iter was reached which means \"\n",
      "/opt/anaconda3/lib/python3.9/site-packages/sklearn/linear_model/_sag.py:328: ConvergenceWarning: The max_iter was reached which means the coef_ did not converge\n",
      "  warnings.warn(\"The max_iter was reached which means \"\n",
      "/opt/anaconda3/lib/python3.9/site-packages/sklearn/linear_model/_sag.py:328: ConvergenceWarning: The max_iter was reached which means the coef_ did not converge\n",
      "  warnings.warn(\"The max_iter was reached which means \"\n",
      "/opt/anaconda3/lib/python3.9/site-packages/sklearn/linear_model/_sag.py:328: ConvergenceWarning: The max_iter was reached which means the coef_ did not converge\n",
      "  warnings.warn(\"The max_iter was reached which means \"\n",
      "/opt/anaconda3/lib/python3.9/site-packages/sklearn/linear_model/_sag.py:328: ConvergenceWarning: The max_iter was reached which means the coef_ did not converge\n",
      "  warnings.warn(\"The max_iter was reached which means \"\n",
      "/opt/anaconda3/lib/python3.9/site-packages/sklearn/linear_model/_sag.py:328: ConvergenceWarning: The max_iter was reached which means the coef_ did not converge\n",
      "  warnings.warn(\"The max_iter was reached which means \"\n",
      "/opt/anaconda3/lib/python3.9/site-packages/sklearn/linear_model/_sag.py:328: ConvergenceWarning: The max_iter was reached which means the coef_ did not converge\n",
      "  warnings.warn(\"The max_iter was reached which means \"\n",
      "/opt/anaconda3/lib/python3.9/site-packages/sklearn/linear_model/_sag.py:328: ConvergenceWarning: The max_iter was reached which means the coef_ did not converge\n",
      "  warnings.warn(\"The max_iter was reached which means \"\n",
      "/opt/anaconda3/lib/python3.9/site-packages/sklearn/linear_model/_sag.py:328: ConvergenceWarning: The max_iter was reached which means the coef_ did not converge\n",
      "  warnings.warn(\"The max_iter was reached which means \"\n",
      "/opt/anaconda3/lib/python3.9/site-packages/sklearn/linear_model/_sag.py:328: ConvergenceWarning: The max_iter was reached which means the coef_ did not converge\n",
      "  warnings.warn(\"The max_iter was reached which means \"\n",
      "/opt/anaconda3/lib/python3.9/site-packages/sklearn/linear_model/_sag.py:328: ConvergenceWarning: The max_iter was reached which means the coef_ did not converge\n",
      "  warnings.warn(\"The max_iter was reached which means \"\n",
      "/opt/anaconda3/lib/python3.9/site-packages/sklearn/linear_model/_sag.py:328: ConvergenceWarning: The max_iter was reached which means the coef_ did not converge\n",
      "  warnings.warn(\"The max_iter was reached which means \"\n",
      "/opt/anaconda3/lib/python3.9/site-packages/sklearn/linear_model/_sag.py:328: ConvergenceWarning: The max_iter was reached which means the coef_ did not converge\n",
      "  warnings.warn(\"The max_iter was reached which means \"\n",
      "/opt/anaconda3/lib/python3.9/site-packages/sklearn/linear_model/_sag.py:328: ConvergenceWarning: The max_iter was reached which means the coef_ did not converge\n",
      "  warnings.warn(\"The max_iter was reached which means \"\n",
      "/opt/anaconda3/lib/python3.9/site-packages/sklearn/linear_model/_sag.py:328: ConvergenceWarning: The max_iter was reached which means the coef_ did not converge\n",
      "  warnings.warn(\"The max_iter was reached which means \"\n"
     ]
    },
    {
     "name": "stdout",
     "output_type": "stream",
     "text": [
      "[CV 3/5] END features__max_df=0.1, features__min_df=10, features__ngram_range=(1, 3), model__solver=saga;, score=0.912 total time=   3.3s\n"
     ]
    },
    {
     "name": "stderr",
     "output_type": "stream",
     "text": [
      "/opt/anaconda3/lib/python3.9/site-packages/sklearn/linear_model/_sag.py:328: ConvergenceWarning: The max_iter was reached which means the coef_ did not converge\n",
      "  warnings.warn(\"The max_iter was reached which means \"\n",
      "/opt/anaconda3/lib/python3.9/site-packages/sklearn/linear_model/_sag.py:328: ConvergenceWarning: The max_iter was reached which means the coef_ did not converge\n",
      "  warnings.warn(\"The max_iter was reached which means \"\n",
      "/opt/anaconda3/lib/python3.9/site-packages/sklearn/linear_model/_sag.py:328: ConvergenceWarning: The max_iter was reached which means the coef_ did not converge\n",
      "  warnings.warn(\"The max_iter was reached which means \"\n",
      "/opt/anaconda3/lib/python3.9/site-packages/sklearn/linear_model/_sag.py:328: ConvergenceWarning: The max_iter was reached which means the coef_ did not converge\n",
      "  warnings.warn(\"The max_iter was reached which means \"\n",
      "/opt/anaconda3/lib/python3.9/site-packages/sklearn/linear_model/_sag.py:328: ConvergenceWarning: The max_iter was reached which means the coef_ did not converge\n",
      "  warnings.warn(\"The max_iter was reached which means \"\n",
      "/opt/anaconda3/lib/python3.9/site-packages/sklearn/linear_model/_sag.py:328: ConvergenceWarning: The max_iter was reached which means the coef_ did not converge\n",
      "  warnings.warn(\"The max_iter was reached which means \"\n",
      "/opt/anaconda3/lib/python3.9/site-packages/sklearn/linear_model/_sag.py:328: ConvergenceWarning: The max_iter was reached which means the coef_ did not converge\n",
      "  warnings.warn(\"The max_iter was reached which means \"\n",
      "/opt/anaconda3/lib/python3.9/site-packages/sklearn/linear_model/_sag.py:328: ConvergenceWarning: The max_iter was reached which means the coef_ did not converge\n",
      "  warnings.warn(\"The max_iter was reached which means \"\n",
      "/opt/anaconda3/lib/python3.9/site-packages/sklearn/linear_model/_sag.py:328: ConvergenceWarning: The max_iter was reached which means the coef_ did not converge\n",
      "  warnings.warn(\"The max_iter was reached which means \"\n",
      "/opt/anaconda3/lib/python3.9/site-packages/sklearn/linear_model/_sag.py:328: ConvergenceWarning: The max_iter was reached which means the coef_ did not converge\n",
      "  warnings.warn(\"The max_iter was reached which means \"\n",
      "/opt/anaconda3/lib/python3.9/site-packages/sklearn/linear_model/_sag.py:328: ConvergenceWarning: The max_iter was reached which means the coef_ did not converge\n",
      "  warnings.warn(\"The max_iter was reached which means \"\n",
      "/opt/anaconda3/lib/python3.9/site-packages/sklearn/linear_model/_sag.py:328: ConvergenceWarning: The max_iter was reached which means the coef_ did not converge\n",
      "  warnings.warn(\"The max_iter was reached which means \"\n",
      "/opt/anaconda3/lib/python3.9/site-packages/sklearn/linear_model/_sag.py:328: ConvergenceWarning: The max_iter was reached which means the coef_ did not converge\n",
      "  warnings.warn(\"The max_iter was reached which means \"\n",
      "/opt/anaconda3/lib/python3.9/site-packages/sklearn/linear_model/_sag.py:328: ConvergenceWarning: The max_iter was reached which means the coef_ did not converge\n",
      "  warnings.warn(\"The max_iter was reached which means \"\n",
      "/opt/anaconda3/lib/python3.9/site-packages/sklearn/linear_model/_sag.py:328: ConvergenceWarning: The max_iter was reached which means the coef_ did not converge\n",
      "  warnings.warn(\"The max_iter was reached which means \"\n"
     ]
    },
    {
     "name": "stdout",
     "output_type": "stream",
     "text": [
      "[CV 4/5] END features__max_df=0.1, features__min_df=10, features__ngram_range=(1, 3), model__solver=saga;, score=0.916 total time=   3.4s\n"
     ]
    },
    {
     "name": "stderr",
     "output_type": "stream",
     "text": [
      "/opt/anaconda3/lib/python3.9/site-packages/sklearn/linear_model/_sag.py:328: ConvergenceWarning: The max_iter was reached which means the coef_ did not converge\n",
      "  warnings.warn(\"The max_iter was reached which means \"\n",
      "/opt/anaconda3/lib/python3.9/site-packages/sklearn/linear_model/_sag.py:328: ConvergenceWarning: The max_iter was reached which means the coef_ did not converge\n",
      "  warnings.warn(\"The max_iter was reached which means \"\n",
      "/opt/anaconda3/lib/python3.9/site-packages/sklearn/linear_model/_sag.py:328: ConvergenceWarning: The max_iter was reached which means the coef_ did not converge\n",
      "  warnings.warn(\"The max_iter was reached which means \"\n",
      "/opt/anaconda3/lib/python3.9/site-packages/sklearn/linear_model/_sag.py:328: ConvergenceWarning: The max_iter was reached which means the coef_ did not converge\n",
      "  warnings.warn(\"The max_iter was reached which means \"\n",
      "/opt/anaconda3/lib/python3.9/site-packages/sklearn/linear_model/_sag.py:328: ConvergenceWarning: The max_iter was reached which means the coef_ did not converge\n",
      "  warnings.warn(\"The max_iter was reached which means \"\n",
      "/opt/anaconda3/lib/python3.9/site-packages/sklearn/linear_model/_sag.py:328: ConvergenceWarning: The max_iter was reached which means the coef_ did not converge\n",
      "  warnings.warn(\"The max_iter was reached which means \"\n",
      "/opt/anaconda3/lib/python3.9/site-packages/sklearn/linear_model/_sag.py:328: ConvergenceWarning: The max_iter was reached which means the coef_ did not converge\n",
      "  warnings.warn(\"The max_iter was reached which means \"\n",
      "/opt/anaconda3/lib/python3.9/site-packages/sklearn/linear_model/_sag.py:328: ConvergenceWarning: The max_iter was reached which means the coef_ did not converge\n",
      "  warnings.warn(\"The max_iter was reached which means \"\n",
      "/opt/anaconda3/lib/python3.9/site-packages/sklearn/linear_model/_sag.py:328: ConvergenceWarning: The max_iter was reached which means the coef_ did not converge\n",
      "  warnings.warn(\"The max_iter was reached which means \"\n",
      "/opt/anaconda3/lib/python3.9/site-packages/sklearn/linear_model/_sag.py:328: ConvergenceWarning: The max_iter was reached which means the coef_ did not converge\n",
      "  warnings.warn(\"The max_iter was reached which means \"\n",
      "/opt/anaconda3/lib/python3.9/site-packages/sklearn/linear_model/_sag.py:328: ConvergenceWarning: The max_iter was reached which means the coef_ did not converge\n",
      "  warnings.warn(\"The max_iter was reached which means \"\n",
      "/opt/anaconda3/lib/python3.9/site-packages/sklearn/linear_model/_sag.py:328: ConvergenceWarning: The max_iter was reached which means the coef_ did not converge\n",
      "  warnings.warn(\"The max_iter was reached which means \"\n",
      "/opt/anaconda3/lib/python3.9/site-packages/sklearn/linear_model/_sag.py:328: ConvergenceWarning: The max_iter was reached which means the coef_ did not converge\n",
      "  warnings.warn(\"The max_iter was reached which means \"\n",
      "/opt/anaconda3/lib/python3.9/site-packages/sklearn/linear_model/_sag.py:328: ConvergenceWarning: The max_iter was reached which means the coef_ did not converge\n",
      "  warnings.warn(\"The max_iter was reached which means \"\n",
      "/opt/anaconda3/lib/python3.9/site-packages/sklearn/linear_model/_sag.py:328: ConvergenceWarning: The max_iter was reached which means the coef_ did not converge\n",
      "  warnings.warn(\"The max_iter was reached which means \"\n"
     ]
    },
    {
     "name": "stdout",
     "output_type": "stream",
     "text": [
      "[CV 5/5] END features__max_df=0.1, features__min_df=10, features__ngram_range=(1, 3), model__solver=saga;, score=0.914 total time=   3.4s\n",
      "[CV 1/5] END features__max_df=0.1, features__min_df=10, features__ngram_range=(1, 3), model__solver=liblinear;, score=0.918 total time=   2.1s\n",
      "[CV 2/5] END features__max_df=0.1, features__min_df=10, features__ngram_range=(1, 3), model__solver=liblinear;, score=0.915 total time=   2.1s\n",
      "[CV 3/5] END features__max_df=0.1, features__min_df=10, features__ngram_range=(1, 3), model__solver=liblinear;, score=0.915 total time=   2.1s\n",
      "[CV 4/5] END features__max_df=0.1, features__min_df=10, features__ngram_range=(1, 3), model__solver=liblinear;, score=0.917 total time=   2.1s\n",
      "[CV 5/5] END features__max_df=0.1, features__min_df=10, features__ngram_range=(1, 3), model__solver=liblinear;, score=0.914 total time=   2.3s\n"
     ]
    },
    {
     "name": "stderr",
     "output_type": "stream",
     "text": [
      "/opt/anaconda3/lib/python3.9/site-packages/sklearn/linear_model/_sag.py:328: ConvergenceWarning: The max_iter was reached which means the coef_ did not converge\n",
      "  warnings.warn(\"The max_iter was reached which means \"\n",
      "/opt/anaconda3/lib/python3.9/site-packages/sklearn/linear_model/_sag.py:328: ConvergenceWarning: The max_iter was reached which means the coef_ did not converge\n",
      "  warnings.warn(\"The max_iter was reached which means \"\n",
      "/opt/anaconda3/lib/python3.9/site-packages/sklearn/linear_model/_sag.py:328: ConvergenceWarning: The max_iter was reached which means the coef_ did not converge\n",
      "  warnings.warn(\"The max_iter was reached which means \"\n",
      "/opt/anaconda3/lib/python3.9/site-packages/sklearn/linear_model/_sag.py:328: ConvergenceWarning: The max_iter was reached which means the coef_ did not converge\n",
      "  warnings.warn(\"The max_iter was reached which means \"\n",
      "/opt/anaconda3/lib/python3.9/site-packages/sklearn/linear_model/_sag.py:328: ConvergenceWarning: The max_iter was reached which means the coef_ did not converge\n",
      "  warnings.warn(\"The max_iter was reached which means \"\n",
      "/opt/anaconda3/lib/python3.9/site-packages/sklearn/linear_model/_sag.py:328: ConvergenceWarning: The max_iter was reached which means the coef_ did not converge\n",
      "  warnings.warn(\"The max_iter was reached which means \"\n",
      "/opt/anaconda3/lib/python3.9/site-packages/sklearn/linear_model/_sag.py:328: ConvergenceWarning: The max_iter was reached which means the coef_ did not converge\n",
      "  warnings.warn(\"The max_iter was reached which means \"\n",
      "/opt/anaconda3/lib/python3.9/site-packages/sklearn/linear_model/_sag.py:328: ConvergenceWarning: The max_iter was reached which means the coef_ did not converge\n",
      "  warnings.warn(\"The max_iter was reached which means \"\n",
      "/opt/anaconda3/lib/python3.9/site-packages/sklearn/linear_model/_sag.py:328: ConvergenceWarning: The max_iter was reached which means the coef_ did not converge\n",
      "  warnings.warn(\"The max_iter was reached which means \"\n",
      "/opt/anaconda3/lib/python3.9/site-packages/sklearn/linear_model/_sag.py:328: ConvergenceWarning: The max_iter was reached which means the coef_ did not converge\n",
      "  warnings.warn(\"The max_iter was reached which means \"\n",
      "/opt/anaconda3/lib/python3.9/site-packages/sklearn/linear_model/_sag.py:328: ConvergenceWarning: The max_iter was reached which means the coef_ did not converge\n",
      "  warnings.warn(\"The max_iter was reached which means \"\n",
      "/opt/anaconda3/lib/python3.9/site-packages/sklearn/linear_model/_sag.py:328: ConvergenceWarning: The max_iter was reached which means the coef_ did not converge\n",
      "  warnings.warn(\"The max_iter was reached which means \"\n",
      "/opt/anaconda3/lib/python3.9/site-packages/sklearn/linear_model/_sag.py:328: ConvergenceWarning: The max_iter was reached which means the coef_ did not converge\n",
      "  warnings.warn(\"The max_iter was reached which means \"\n",
      "/opt/anaconda3/lib/python3.9/site-packages/sklearn/linear_model/_sag.py:328: ConvergenceWarning: The max_iter was reached which means the coef_ did not converge\n",
      "  warnings.warn(\"The max_iter was reached which means \"\n",
      "/opt/anaconda3/lib/python3.9/site-packages/sklearn/linear_model/_sag.py:328: ConvergenceWarning: The max_iter was reached which means the coef_ did not converge\n",
      "  warnings.warn(\"The max_iter was reached which means \"\n"
     ]
    },
    {
     "name": "stdout",
     "output_type": "stream",
     "text": [
      "[CV 1/5] END features__max_df=0.1, features__min_df=10, features__ngram_range=(1, 4), model__solver=saga;, score=0.919 total time=   3.6s\n"
     ]
    },
    {
     "name": "stderr",
     "output_type": "stream",
     "text": [
      "/opt/anaconda3/lib/python3.9/site-packages/sklearn/linear_model/_sag.py:328: ConvergenceWarning: The max_iter was reached which means the coef_ did not converge\n",
      "  warnings.warn(\"The max_iter was reached which means \"\n",
      "/opt/anaconda3/lib/python3.9/site-packages/sklearn/linear_model/_sag.py:328: ConvergenceWarning: The max_iter was reached which means the coef_ did not converge\n",
      "  warnings.warn(\"The max_iter was reached which means \"\n",
      "/opt/anaconda3/lib/python3.9/site-packages/sklearn/linear_model/_sag.py:328: ConvergenceWarning: The max_iter was reached which means the coef_ did not converge\n",
      "  warnings.warn(\"The max_iter was reached which means \"\n",
      "/opt/anaconda3/lib/python3.9/site-packages/sklearn/linear_model/_sag.py:328: ConvergenceWarning: The max_iter was reached which means the coef_ did not converge\n",
      "  warnings.warn(\"The max_iter was reached which means \"\n",
      "/opt/anaconda3/lib/python3.9/site-packages/sklearn/linear_model/_sag.py:328: ConvergenceWarning: The max_iter was reached which means the coef_ did not converge\n",
      "  warnings.warn(\"The max_iter was reached which means \"\n",
      "/opt/anaconda3/lib/python3.9/site-packages/sklearn/linear_model/_sag.py:328: ConvergenceWarning: The max_iter was reached which means the coef_ did not converge\n",
      "  warnings.warn(\"The max_iter was reached which means \"\n",
      "/opt/anaconda3/lib/python3.9/site-packages/sklearn/linear_model/_sag.py:328: ConvergenceWarning: The max_iter was reached which means the coef_ did not converge\n",
      "  warnings.warn(\"The max_iter was reached which means \"\n",
      "/opt/anaconda3/lib/python3.9/site-packages/sklearn/linear_model/_sag.py:328: ConvergenceWarning: The max_iter was reached which means the coef_ did not converge\n",
      "  warnings.warn(\"The max_iter was reached which means \"\n",
      "/opt/anaconda3/lib/python3.9/site-packages/sklearn/linear_model/_sag.py:328: ConvergenceWarning: The max_iter was reached which means the coef_ did not converge\n",
      "  warnings.warn(\"The max_iter was reached which means \"\n",
      "/opt/anaconda3/lib/python3.9/site-packages/sklearn/linear_model/_sag.py:328: ConvergenceWarning: The max_iter was reached which means the coef_ did not converge\n",
      "  warnings.warn(\"The max_iter was reached which means \"\n",
      "/opt/anaconda3/lib/python3.9/site-packages/sklearn/linear_model/_sag.py:328: ConvergenceWarning: The max_iter was reached which means the coef_ did not converge\n",
      "  warnings.warn(\"The max_iter was reached which means \"\n",
      "/opt/anaconda3/lib/python3.9/site-packages/sklearn/linear_model/_sag.py:328: ConvergenceWarning: The max_iter was reached which means the coef_ did not converge\n",
      "  warnings.warn(\"The max_iter was reached which means \"\n",
      "/opt/anaconda3/lib/python3.9/site-packages/sklearn/linear_model/_sag.py:328: ConvergenceWarning: The max_iter was reached which means the coef_ did not converge\n",
      "  warnings.warn(\"The max_iter was reached which means \"\n",
      "/opt/anaconda3/lib/python3.9/site-packages/sklearn/linear_model/_sag.py:328: ConvergenceWarning: The max_iter was reached which means the coef_ did not converge\n",
      "  warnings.warn(\"The max_iter was reached which means \"\n",
      "/opt/anaconda3/lib/python3.9/site-packages/sklearn/linear_model/_sag.py:328: ConvergenceWarning: The max_iter was reached which means the coef_ did not converge\n",
      "  warnings.warn(\"The max_iter was reached which means \"\n"
     ]
    },
    {
     "name": "stdout",
     "output_type": "stream",
     "text": [
      "[CV 2/5] END features__max_df=0.1, features__min_df=10, features__ngram_range=(1, 4), model__solver=saga;, score=0.916 total time=   3.7s\n"
     ]
    },
    {
     "name": "stderr",
     "output_type": "stream",
     "text": [
      "/opt/anaconda3/lib/python3.9/site-packages/sklearn/linear_model/_sag.py:328: ConvergenceWarning: The max_iter was reached which means the coef_ did not converge\n",
      "  warnings.warn(\"The max_iter was reached which means \"\n",
      "/opt/anaconda3/lib/python3.9/site-packages/sklearn/linear_model/_sag.py:328: ConvergenceWarning: The max_iter was reached which means the coef_ did not converge\n",
      "  warnings.warn(\"The max_iter was reached which means \"\n",
      "/opt/anaconda3/lib/python3.9/site-packages/sklearn/linear_model/_sag.py:328: ConvergenceWarning: The max_iter was reached which means the coef_ did not converge\n",
      "  warnings.warn(\"The max_iter was reached which means \"\n",
      "/opt/anaconda3/lib/python3.9/site-packages/sklearn/linear_model/_sag.py:328: ConvergenceWarning: The max_iter was reached which means the coef_ did not converge\n",
      "  warnings.warn(\"The max_iter was reached which means \"\n",
      "/opt/anaconda3/lib/python3.9/site-packages/sklearn/linear_model/_sag.py:328: ConvergenceWarning: The max_iter was reached which means the coef_ did not converge\n",
      "  warnings.warn(\"The max_iter was reached which means \"\n",
      "/opt/anaconda3/lib/python3.9/site-packages/sklearn/linear_model/_sag.py:328: ConvergenceWarning: The max_iter was reached which means the coef_ did not converge\n",
      "  warnings.warn(\"The max_iter was reached which means \"\n",
      "/opt/anaconda3/lib/python3.9/site-packages/sklearn/linear_model/_sag.py:328: ConvergenceWarning: The max_iter was reached which means the coef_ did not converge\n",
      "  warnings.warn(\"The max_iter was reached which means \"\n",
      "/opt/anaconda3/lib/python3.9/site-packages/sklearn/linear_model/_sag.py:328: ConvergenceWarning: The max_iter was reached which means the coef_ did not converge\n",
      "  warnings.warn(\"The max_iter was reached which means \"\n",
      "/opt/anaconda3/lib/python3.9/site-packages/sklearn/linear_model/_sag.py:328: ConvergenceWarning: The max_iter was reached which means the coef_ did not converge\n",
      "  warnings.warn(\"The max_iter was reached which means \"\n",
      "/opt/anaconda3/lib/python3.9/site-packages/sklearn/linear_model/_sag.py:328: ConvergenceWarning: The max_iter was reached which means the coef_ did not converge\n",
      "  warnings.warn(\"The max_iter was reached which means \"\n",
      "/opt/anaconda3/lib/python3.9/site-packages/sklearn/linear_model/_sag.py:328: ConvergenceWarning: The max_iter was reached which means the coef_ did not converge\n",
      "  warnings.warn(\"The max_iter was reached which means \"\n",
      "/opt/anaconda3/lib/python3.9/site-packages/sklearn/linear_model/_sag.py:328: ConvergenceWarning: The max_iter was reached which means the coef_ did not converge\n",
      "  warnings.warn(\"The max_iter was reached which means \"\n",
      "/opt/anaconda3/lib/python3.9/site-packages/sklearn/linear_model/_sag.py:328: ConvergenceWarning: The max_iter was reached which means the coef_ did not converge\n",
      "  warnings.warn(\"The max_iter was reached which means \"\n",
      "/opt/anaconda3/lib/python3.9/site-packages/sklearn/linear_model/_sag.py:328: ConvergenceWarning: The max_iter was reached which means the coef_ did not converge\n",
      "  warnings.warn(\"The max_iter was reached which means \"\n",
      "/opt/anaconda3/lib/python3.9/site-packages/sklearn/linear_model/_sag.py:328: ConvergenceWarning: The max_iter was reached which means the coef_ did not converge\n",
      "  warnings.warn(\"The max_iter was reached which means \"\n"
     ]
    },
    {
     "name": "stdout",
     "output_type": "stream",
     "text": [
      "[CV 3/5] END features__max_df=0.1, features__min_df=10, features__ngram_range=(1, 4), model__solver=saga;, score=0.912 total time=   3.7s\n"
     ]
    },
    {
     "name": "stderr",
     "output_type": "stream",
     "text": [
      "/opt/anaconda3/lib/python3.9/site-packages/sklearn/linear_model/_sag.py:328: ConvergenceWarning: The max_iter was reached which means the coef_ did not converge\n",
      "  warnings.warn(\"The max_iter was reached which means \"\n",
      "/opt/anaconda3/lib/python3.9/site-packages/sklearn/linear_model/_sag.py:328: ConvergenceWarning: The max_iter was reached which means the coef_ did not converge\n",
      "  warnings.warn(\"The max_iter was reached which means \"\n",
      "/opt/anaconda3/lib/python3.9/site-packages/sklearn/linear_model/_sag.py:328: ConvergenceWarning: The max_iter was reached which means the coef_ did not converge\n",
      "  warnings.warn(\"The max_iter was reached which means \"\n",
      "/opt/anaconda3/lib/python3.9/site-packages/sklearn/linear_model/_sag.py:328: ConvergenceWarning: The max_iter was reached which means the coef_ did not converge\n",
      "  warnings.warn(\"The max_iter was reached which means \"\n",
      "/opt/anaconda3/lib/python3.9/site-packages/sklearn/linear_model/_sag.py:328: ConvergenceWarning: The max_iter was reached which means the coef_ did not converge\n",
      "  warnings.warn(\"The max_iter was reached which means \"\n",
      "/opt/anaconda3/lib/python3.9/site-packages/sklearn/linear_model/_sag.py:328: ConvergenceWarning: The max_iter was reached which means the coef_ did not converge\n",
      "  warnings.warn(\"The max_iter was reached which means \"\n",
      "/opt/anaconda3/lib/python3.9/site-packages/sklearn/linear_model/_sag.py:328: ConvergenceWarning: The max_iter was reached which means the coef_ did not converge\n",
      "  warnings.warn(\"The max_iter was reached which means \"\n",
      "/opt/anaconda3/lib/python3.9/site-packages/sklearn/linear_model/_sag.py:328: ConvergenceWarning: The max_iter was reached which means the coef_ did not converge\n",
      "  warnings.warn(\"The max_iter was reached which means \"\n",
      "/opt/anaconda3/lib/python3.9/site-packages/sklearn/linear_model/_sag.py:328: ConvergenceWarning: The max_iter was reached which means the coef_ did not converge\n",
      "  warnings.warn(\"The max_iter was reached which means \"\n",
      "/opt/anaconda3/lib/python3.9/site-packages/sklearn/linear_model/_sag.py:328: ConvergenceWarning: The max_iter was reached which means the coef_ did not converge\n",
      "  warnings.warn(\"The max_iter was reached which means \"\n",
      "/opt/anaconda3/lib/python3.9/site-packages/sklearn/linear_model/_sag.py:328: ConvergenceWarning: The max_iter was reached which means the coef_ did not converge\n",
      "  warnings.warn(\"The max_iter was reached which means \"\n",
      "/opt/anaconda3/lib/python3.9/site-packages/sklearn/linear_model/_sag.py:328: ConvergenceWarning: The max_iter was reached which means the coef_ did not converge\n",
      "  warnings.warn(\"The max_iter was reached which means \"\n",
      "/opt/anaconda3/lib/python3.9/site-packages/sklearn/linear_model/_sag.py:328: ConvergenceWarning: The max_iter was reached which means the coef_ did not converge\n",
      "  warnings.warn(\"The max_iter was reached which means \"\n",
      "/opt/anaconda3/lib/python3.9/site-packages/sklearn/linear_model/_sag.py:328: ConvergenceWarning: The max_iter was reached which means the coef_ did not converge\n",
      "  warnings.warn(\"The max_iter was reached which means \"\n",
      "/opt/anaconda3/lib/python3.9/site-packages/sklearn/linear_model/_sag.py:328: ConvergenceWarning: The max_iter was reached which means the coef_ did not converge\n",
      "  warnings.warn(\"The max_iter was reached which means \"\n"
     ]
    },
    {
     "name": "stdout",
     "output_type": "stream",
     "text": [
      "[CV 4/5] END features__max_df=0.1, features__min_df=10, features__ngram_range=(1, 4), model__solver=saga;, score=0.916 total time=   3.7s\n"
     ]
    },
    {
     "name": "stderr",
     "output_type": "stream",
     "text": [
      "/opt/anaconda3/lib/python3.9/site-packages/sklearn/linear_model/_sag.py:328: ConvergenceWarning: The max_iter was reached which means the coef_ did not converge\n",
      "  warnings.warn(\"The max_iter was reached which means \"\n",
      "/opt/anaconda3/lib/python3.9/site-packages/sklearn/linear_model/_sag.py:328: ConvergenceWarning: The max_iter was reached which means the coef_ did not converge\n",
      "  warnings.warn(\"The max_iter was reached which means \"\n",
      "/opt/anaconda3/lib/python3.9/site-packages/sklearn/linear_model/_sag.py:328: ConvergenceWarning: The max_iter was reached which means the coef_ did not converge\n",
      "  warnings.warn(\"The max_iter was reached which means \"\n",
      "/opt/anaconda3/lib/python3.9/site-packages/sklearn/linear_model/_sag.py:328: ConvergenceWarning: The max_iter was reached which means the coef_ did not converge\n",
      "  warnings.warn(\"The max_iter was reached which means \"\n",
      "/opt/anaconda3/lib/python3.9/site-packages/sklearn/linear_model/_sag.py:328: ConvergenceWarning: The max_iter was reached which means the coef_ did not converge\n",
      "  warnings.warn(\"The max_iter was reached which means \"\n",
      "/opt/anaconda3/lib/python3.9/site-packages/sklearn/linear_model/_sag.py:328: ConvergenceWarning: The max_iter was reached which means the coef_ did not converge\n",
      "  warnings.warn(\"The max_iter was reached which means \"\n",
      "/opt/anaconda3/lib/python3.9/site-packages/sklearn/linear_model/_sag.py:328: ConvergenceWarning: The max_iter was reached which means the coef_ did not converge\n",
      "  warnings.warn(\"The max_iter was reached which means \"\n",
      "/opt/anaconda3/lib/python3.9/site-packages/sklearn/linear_model/_sag.py:328: ConvergenceWarning: The max_iter was reached which means the coef_ did not converge\n",
      "  warnings.warn(\"The max_iter was reached which means \"\n",
      "/opt/anaconda3/lib/python3.9/site-packages/sklearn/linear_model/_sag.py:328: ConvergenceWarning: The max_iter was reached which means the coef_ did not converge\n",
      "  warnings.warn(\"The max_iter was reached which means \"\n",
      "/opt/anaconda3/lib/python3.9/site-packages/sklearn/linear_model/_sag.py:328: ConvergenceWarning: The max_iter was reached which means the coef_ did not converge\n",
      "  warnings.warn(\"The max_iter was reached which means \"\n",
      "/opt/anaconda3/lib/python3.9/site-packages/sklearn/linear_model/_sag.py:328: ConvergenceWarning: The max_iter was reached which means the coef_ did not converge\n",
      "  warnings.warn(\"The max_iter was reached which means \"\n",
      "/opt/anaconda3/lib/python3.9/site-packages/sklearn/linear_model/_sag.py:328: ConvergenceWarning: The max_iter was reached which means the coef_ did not converge\n",
      "  warnings.warn(\"The max_iter was reached which means \"\n",
      "/opt/anaconda3/lib/python3.9/site-packages/sklearn/linear_model/_sag.py:328: ConvergenceWarning: The max_iter was reached which means the coef_ did not converge\n",
      "  warnings.warn(\"The max_iter was reached which means \"\n",
      "/opt/anaconda3/lib/python3.9/site-packages/sklearn/linear_model/_sag.py:328: ConvergenceWarning: The max_iter was reached which means the coef_ did not converge\n",
      "  warnings.warn(\"The max_iter was reached which means \"\n",
      "/opt/anaconda3/lib/python3.9/site-packages/sklearn/linear_model/_sag.py:328: ConvergenceWarning: The max_iter was reached which means the coef_ did not converge\n",
      "  warnings.warn(\"The max_iter was reached which means \"\n"
     ]
    },
    {
     "name": "stdout",
     "output_type": "stream",
     "text": [
      "[CV 5/5] END features__max_df=0.1, features__min_df=10, features__ngram_range=(1, 4), model__solver=saga;, score=0.914 total time=   3.7s\n",
      "[CV 1/5] END features__max_df=0.1, features__min_df=10, features__ngram_range=(1, 4), model__solver=liblinear;, score=0.918 total time=   2.4s\n",
      "[CV 2/5] END features__max_df=0.1, features__min_df=10, features__ngram_range=(1, 4), model__solver=liblinear;, score=0.915 total time=   2.5s\n",
      "[CV 3/5] END features__max_df=0.1, features__min_df=10, features__ngram_range=(1, 4), model__solver=liblinear;, score=0.915 total time=   2.4s\n",
      "[CV 4/5] END features__max_df=0.1, features__min_df=10, features__ngram_range=(1, 4), model__solver=liblinear;, score=0.917 total time=   2.4s\n",
      "[CV 5/5] END features__max_df=0.1, features__min_df=10, features__ngram_range=(1, 4), model__solver=liblinear;, score=0.914 total time=   2.3s\n"
     ]
    },
    {
     "name": "stderr",
     "output_type": "stream",
     "text": [
      "/opt/anaconda3/lib/python3.9/site-packages/sklearn/linear_model/_sag.py:328: ConvergenceWarning: The max_iter was reached which means the coef_ did not converge\n",
      "  warnings.warn(\"The max_iter was reached which means \"\n",
      "/opt/anaconda3/lib/python3.9/site-packages/sklearn/linear_model/_sag.py:328: ConvergenceWarning: The max_iter was reached which means the coef_ did not converge\n",
      "  warnings.warn(\"The max_iter was reached which means \"\n",
      "/opt/anaconda3/lib/python3.9/site-packages/sklearn/linear_model/_sag.py:328: ConvergenceWarning: The max_iter was reached which means the coef_ did not converge\n",
      "  warnings.warn(\"The max_iter was reached which means \"\n",
      "/opt/anaconda3/lib/python3.9/site-packages/sklearn/linear_model/_sag.py:328: ConvergenceWarning: The max_iter was reached which means the coef_ did not converge\n",
      "  warnings.warn(\"The max_iter was reached which means \"\n",
      "/opt/anaconda3/lib/python3.9/site-packages/sklearn/linear_model/_sag.py:328: ConvergenceWarning: The max_iter was reached which means the coef_ did not converge\n",
      "  warnings.warn(\"The max_iter was reached which means \"\n",
      "/opt/anaconda3/lib/python3.9/site-packages/sklearn/linear_model/_sag.py:328: ConvergenceWarning: The max_iter was reached which means the coef_ did not converge\n",
      "  warnings.warn(\"The max_iter was reached which means \"\n",
      "/opt/anaconda3/lib/python3.9/site-packages/sklearn/linear_model/_sag.py:328: ConvergenceWarning: The max_iter was reached which means the coef_ did not converge\n",
      "  warnings.warn(\"The max_iter was reached which means \"\n",
      "/opt/anaconda3/lib/python3.9/site-packages/sklearn/linear_model/_sag.py:328: ConvergenceWarning: The max_iter was reached which means the coef_ did not converge\n",
      "  warnings.warn(\"The max_iter was reached which means \"\n",
      "/opt/anaconda3/lib/python3.9/site-packages/sklearn/linear_model/_sag.py:328: ConvergenceWarning: The max_iter was reached which means the coef_ did not converge\n",
      "  warnings.warn(\"The max_iter was reached which means \"\n",
      "/opt/anaconda3/lib/python3.9/site-packages/sklearn/linear_model/_sag.py:328: ConvergenceWarning: The max_iter was reached which means the coef_ did not converge\n",
      "  warnings.warn(\"The max_iter was reached which means \"\n",
      "/opt/anaconda3/lib/python3.9/site-packages/sklearn/linear_model/_sag.py:328: ConvergenceWarning: The max_iter was reached which means the coef_ did not converge\n",
      "  warnings.warn(\"The max_iter was reached which means \"\n"
     ]
    },
    {
     "name": "stdout",
     "output_type": "stream",
     "text": [
      "[CV 1/5] END features__max_df=0.5, features__min_df=1, features__ngram_range=(1, 3), model__solver=saga;, score=0.944 total time=  23.7s\n"
     ]
    },
    {
     "name": "stderr",
     "output_type": "stream",
     "text": [
      "/opt/anaconda3/lib/python3.9/site-packages/sklearn/linear_model/_sag.py:328: ConvergenceWarning: The max_iter was reached which means the coef_ did not converge\n",
      "  warnings.warn(\"The max_iter was reached which means \"\n",
      "/opt/anaconda3/lib/python3.9/site-packages/sklearn/linear_model/_sag.py:328: ConvergenceWarning: The max_iter was reached which means the coef_ did not converge\n",
      "  warnings.warn(\"The max_iter was reached which means \"\n",
      "/opt/anaconda3/lib/python3.9/site-packages/sklearn/linear_model/_sag.py:328: ConvergenceWarning: The max_iter was reached which means the coef_ did not converge\n",
      "  warnings.warn(\"The max_iter was reached which means \"\n",
      "/opt/anaconda3/lib/python3.9/site-packages/sklearn/linear_model/_sag.py:328: ConvergenceWarning: The max_iter was reached which means the coef_ did not converge\n",
      "  warnings.warn(\"The max_iter was reached which means \"\n",
      "/opt/anaconda3/lib/python3.9/site-packages/sklearn/linear_model/_sag.py:328: ConvergenceWarning: The max_iter was reached which means the coef_ did not converge\n",
      "  warnings.warn(\"The max_iter was reached which means \"\n",
      "/opt/anaconda3/lib/python3.9/site-packages/sklearn/linear_model/_sag.py:328: ConvergenceWarning: The max_iter was reached which means the coef_ did not converge\n",
      "  warnings.warn(\"The max_iter was reached which means \"\n",
      "/opt/anaconda3/lib/python3.9/site-packages/sklearn/linear_model/_sag.py:328: ConvergenceWarning: The max_iter was reached which means the coef_ did not converge\n",
      "  warnings.warn(\"The max_iter was reached which means \"\n",
      "/opt/anaconda3/lib/python3.9/site-packages/sklearn/linear_model/_sag.py:328: ConvergenceWarning: The max_iter was reached which means the coef_ did not converge\n",
      "  warnings.warn(\"The max_iter was reached which means \"\n",
      "/opt/anaconda3/lib/python3.9/site-packages/sklearn/linear_model/_sag.py:328: ConvergenceWarning: The max_iter was reached which means the coef_ did not converge\n",
      "  warnings.warn(\"The max_iter was reached which means \"\n",
      "/opt/anaconda3/lib/python3.9/site-packages/sklearn/linear_model/_sag.py:328: ConvergenceWarning: The max_iter was reached which means the coef_ did not converge\n",
      "  warnings.warn(\"The max_iter was reached which means \"\n",
      "/opt/anaconda3/lib/python3.9/site-packages/sklearn/linear_model/_sag.py:328: ConvergenceWarning: The max_iter was reached which means the coef_ did not converge\n",
      "  warnings.warn(\"The max_iter was reached which means \"\n"
     ]
    },
    {
     "name": "stdout",
     "output_type": "stream",
     "text": [
      "[CV 2/5] END features__max_df=0.5, features__min_df=1, features__ngram_range=(1, 3), model__solver=saga;, score=0.941 total time=  24.5s\n"
     ]
    },
    {
     "name": "stderr",
     "output_type": "stream",
     "text": [
      "/opt/anaconda3/lib/python3.9/site-packages/sklearn/linear_model/_sag.py:328: ConvergenceWarning: The max_iter was reached which means the coef_ did not converge\n",
      "  warnings.warn(\"The max_iter was reached which means \"\n",
      "/opt/anaconda3/lib/python3.9/site-packages/sklearn/linear_model/_sag.py:328: ConvergenceWarning: The max_iter was reached which means the coef_ did not converge\n",
      "  warnings.warn(\"The max_iter was reached which means \"\n",
      "/opt/anaconda3/lib/python3.9/site-packages/sklearn/linear_model/_sag.py:328: ConvergenceWarning: The max_iter was reached which means the coef_ did not converge\n",
      "  warnings.warn(\"The max_iter was reached which means \"\n",
      "/opt/anaconda3/lib/python3.9/site-packages/sklearn/linear_model/_sag.py:328: ConvergenceWarning: The max_iter was reached which means the coef_ did not converge\n",
      "  warnings.warn(\"The max_iter was reached which means \"\n",
      "/opt/anaconda3/lib/python3.9/site-packages/sklearn/linear_model/_sag.py:328: ConvergenceWarning: The max_iter was reached which means the coef_ did not converge\n",
      "  warnings.warn(\"The max_iter was reached which means \"\n",
      "/opt/anaconda3/lib/python3.9/site-packages/sklearn/linear_model/_sag.py:328: ConvergenceWarning: The max_iter was reached which means the coef_ did not converge\n",
      "  warnings.warn(\"The max_iter was reached which means \"\n",
      "/opt/anaconda3/lib/python3.9/site-packages/sklearn/linear_model/_sag.py:328: ConvergenceWarning: The max_iter was reached which means the coef_ did not converge\n",
      "  warnings.warn(\"The max_iter was reached which means \"\n",
      "/opt/anaconda3/lib/python3.9/site-packages/sklearn/linear_model/_sag.py:328: ConvergenceWarning: The max_iter was reached which means the coef_ did not converge\n",
      "  warnings.warn(\"The max_iter was reached which means \"\n",
      "/opt/anaconda3/lib/python3.9/site-packages/sklearn/linear_model/_sag.py:328: ConvergenceWarning: The max_iter was reached which means the coef_ did not converge\n",
      "  warnings.warn(\"The max_iter was reached which means \"\n",
      "/opt/anaconda3/lib/python3.9/site-packages/sklearn/linear_model/_sag.py:328: ConvergenceWarning: The max_iter was reached which means the coef_ did not converge\n",
      "  warnings.warn(\"The max_iter was reached which means \"\n",
      "/opt/anaconda3/lib/python3.9/site-packages/sklearn/linear_model/_sag.py:328: ConvergenceWarning: The max_iter was reached which means the coef_ did not converge\n",
      "  warnings.warn(\"The max_iter was reached which means \"\n"
     ]
    },
    {
     "name": "stdout",
     "output_type": "stream",
     "text": [
      "[CV 3/5] END features__max_df=0.5, features__min_df=1, features__ngram_range=(1, 3), model__solver=saga;, score=0.936 total time=  23.3s\n"
     ]
    },
    {
     "name": "stderr",
     "output_type": "stream",
     "text": [
      "/opt/anaconda3/lib/python3.9/site-packages/sklearn/linear_model/_sag.py:328: ConvergenceWarning: The max_iter was reached which means the coef_ did not converge\n",
      "  warnings.warn(\"The max_iter was reached which means \"\n",
      "/opt/anaconda3/lib/python3.9/site-packages/sklearn/linear_model/_sag.py:328: ConvergenceWarning: The max_iter was reached which means the coef_ did not converge\n",
      "  warnings.warn(\"The max_iter was reached which means \"\n",
      "/opt/anaconda3/lib/python3.9/site-packages/sklearn/linear_model/_sag.py:328: ConvergenceWarning: The max_iter was reached which means the coef_ did not converge\n",
      "  warnings.warn(\"The max_iter was reached which means \"\n",
      "/opt/anaconda3/lib/python3.9/site-packages/sklearn/linear_model/_sag.py:328: ConvergenceWarning: The max_iter was reached which means the coef_ did not converge\n",
      "  warnings.warn(\"The max_iter was reached which means \"\n",
      "/opt/anaconda3/lib/python3.9/site-packages/sklearn/linear_model/_sag.py:328: ConvergenceWarning: The max_iter was reached which means the coef_ did not converge\n",
      "  warnings.warn(\"The max_iter was reached which means \"\n",
      "/opt/anaconda3/lib/python3.9/site-packages/sklearn/linear_model/_sag.py:328: ConvergenceWarning: The max_iter was reached which means the coef_ did not converge\n",
      "  warnings.warn(\"The max_iter was reached which means \"\n",
      "/opt/anaconda3/lib/python3.9/site-packages/sklearn/linear_model/_sag.py:328: ConvergenceWarning: The max_iter was reached which means the coef_ did not converge\n",
      "  warnings.warn(\"The max_iter was reached which means \"\n",
      "/opt/anaconda3/lib/python3.9/site-packages/sklearn/linear_model/_sag.py:328: ConvergenceWarning: The max_iter was reached which means the coef_ did not converge\n",
      "  warnings.warn(\"The max_iter was reached which means \"\n",
      "/opt/anaconda3/lib/python3.9/site-packages/sklearn/linear_model/_sag.py:328: ConvergenceWarning: The max_iter was reached which means the coef_ did not converge\n",
      "  warnings.warn(\"The max_iter was reached which means \"\n",
      "/opt/anaconda3/lib/python3.9/site-packages/sklearn/linear_model/_sag.py:328: ConvergenceWarning: The max_iter was reached which means the coef_ did not converge\n",
      "  warnings.warn(\"The max_iter was reached which means \"\n",
      "/opt/anaconda3/lib/python3.9/site-packages/sklearn/linear_model/_sag.py:328: ConvergenceWarning: The max_iter was reached which means the coef_ did not converge\n",
      "  warnings.warn(\"The max_iter was reached which means \"\n"
     ]
    },
    {
     "name": "stdout",
     "output_type": "stream",
     "text": [
      "[CV 4/5] END features__max_df=0.5, features__min_df=1, features__ngram_range=(1, 3), model__solver=saga;, score=0.945 total time=  22.8s\n"
     ]
    },
    {
     "name": "stderr",
     "output_type": "stream",
     "text": [
      "/opt/anaconda3/lib/python3.9/site-packages/sklearn/linear_model/_sag.py:328: ConvergenceWarning: The max_iter was reached which means the coef_ did not converge\n",
      "  warnings.warn(\"The max_iter was reached which means \"\n",
      "/opt/anaconda3/lib/python3.9/site-packages/sklearn/linear_model/_sag.py:328: ConvergenceWarning: The max_iter was reached which means the coef_ did not converge\n",
      "  warnings.warn(\"The max_iter was reached which means \"\n",
      "/opt/anaconda3/lib/python3.9/site-packages/sklearn/linear_model/_sag.py:328: ConvergenceWarning: The max_iter was reached which means the coef_ did not converge\n",
      "  warnings.warn(\"The max_iter was reached which means \"\n",
      "/opt/anaconda3/lib/python3.9/site-packages/sklearn/linear_model/_sag.py:328: ConvergenceWarning: The max_iter was reached which means the coef_ did not converge\n",
      "  warnings.warn(\"The max_iter was reached which means \"\n",
      "/opt/anaconda3/lib/python3.9/site-packages/sklearn/linear_model/_sag.py:328: ConvergenceWarning: The max_iter was reached which means the coef_ did not converge\n",
      "  warnings.warn(\"The max_iter was reached which means \"\n",
      "/opt/anaconda3/lib/python3.9/site-packages/sklearn/linear_model/_sag.py:328: ConvergenceWarning: The max_iter was reached which means the coef_ did not converge\n",
      "  warnings.warn(\"The max_iter was reached which means \"\n",
      "/opt/anaconda3/lib/python3.9/site-packages/sklearn/linear_model/_sag.py:328: ConvergenceWarning: The max_iter was reached which means the coef_ did not converge\n",
      "  warnings.warn(\"The max_iter was reached which means \"\n",
      "/opt/anaconda3/lib/python3.9/site-packages/sklearn/linear_model/_sag.py:328: ConvergenceWarning: The max_iter was reached which means the coef_ did not converge\n",
      "  warnings.warn(\"The max_iter was reached which means \"\n",
      "/opt/anaconda3/lib/python3.9/site-packages/sklearn/linear_model/_sag.py:328: ConvergenceWarning: The max_iter was reached which means the coef_ did not converge\n",
      "  warnings.warn(\"The max_iter was reached which means \"\n",
      "/opt/anaconda3/lib/python3.9/site-packages/sklearn/linear_model/_sag.py:328: ConvergenceWarning: The max_iter was reached which means the coef_ did not converge\n",
      "  warnings.warn(\"The max_iter was reached which means \"\n",
      "/opt/anaconda3/lib/python3.9/site-packages/sklearn/linear_model/_sag.py:328: ConvergenceWarning: The max_iter was reached which means the coef_ did not converge\n",
      "  warnings.warn(\"The max_iter was reached which means \"\n"
     ]
    },
    {
     "name": "stdout",
     "output_type": "stream",
     "text": [
      "[CV 5/5] END features__max_df=0.5, features__min_df=1, features__ngram_range=(1, 3), model__solver=saga;, score=0.938 total time=  23.3s\n"
     ]
    },
    {
     "name": "stderr",
     "output_type": "stream",
     "text": [
      "/opt/anaconda3/lib/python3.9/site-packages/joblib/externals/loky/process_executor.py:702: UserWarning: A worker stopped while some jobs were given to the executor. This can be caused by a too short worker timeout or by a memory leak.\n",
      "  warnings.warn(\n"
     ]
    },
    {
     "name": "stdout",
     "output_type": "stream",
     "text": [
      "[CV 1/5] END features__max_df=0.5, features__min_df=1, features__ngram_range=(1, 3), model__solver=liblinear;, score=0.946 total time=  10.0s\n",
      "[CV 2/5] END features__max_df=0.5, features__min_df=1, features__ngram_range=(1, 3), model__solver=liblinear;, score=0.942 total time=   8.7s\n",
      "[CV 3/5] END features__max_df=0.5, features__min_df=1, features__ngram_range=(1, 3), model__solver=liblinear;, score=0.941 total time=   8.8s\n",
      "[CV 4/5] END features__max_df=0.5, features__min_df=1, features__ngram_range=(1, 3), model__solver=liblinear;, score=0.946 total time=   8.9s\n",
      "[CV 5/5] END features__max_df=0.5, features__min_df=1, features__ngram_range=(1, 3), model__solver=liblinear;, score=0.939 total time=   8.8s\n"
     ]
    },
    {
     "name": "stderr",
     "output_type": "stream",
     "text": [
      "/opt/anaconda3/lib/python3.9/site-packages/sklearn/linear_model/_sag.py:328: ConvergenceWarning: The max_iter was reached which means the coef_ did not converge\n",
      "  warnings.warn(\"The max_iter was reached which means \"\n",
      "/opt/anaconda3/lib/python3.9/site-packages/sklearn/linear_model/_sag.py:328: ConvergenceWarning: The max_iter was reached which means the coef_ did not converge\n",
      "  warnings.warn(\"The max_iter was reached which means \"\n",
      "/opt/anaconda3/lib/python3.9/site-packages/sklearn/linear_model/_sag.py:328: ConvergenceWarning: The max_iter was reached which means the coef_ did not converge\n",
      "  warnings.warn(\"The max_iter was reached which means \"\n",
      "/opt/anaconda3/lib/python3.9/site-packages/sklearn/linear_model/_sag.py:328: ConvergenceWarning: The max_iter was reached which means the coef_ did not converge\n",
      "  warnings.warn(\"The max_iter was reached which means \"\n",
      "/opt/anaconda3/lib/python3.9/site-packages/sklearn/linear_model/_sag.py:328: ConvergenceWarning: The max_iter was reached which means the coef_ did not converge\n",
      "  warnings.warn(\"The max_iter was reached which means \"\n",
      "/opt/anaconda3/lib/python3.9/site-packages/sklearn/linear_model/_sag.py:328: ConvergenceWarning: The max_iter was reached which means the coef_ did not converge\n",
      "  warnings.warn(\"The max_iter was reached which means \"\n",
      "/opt/anaconda3/lib/python3.9/site-packages/sklearn/linear_model/_sag.py:328: ConvergenceWarning: The max_iter was reached which means the coef_ did not converge\n",
      "  warnings.warn(\"The max_iter was reached which means \"\n",
      "/opt/anaconda3/lib/python3.9/site-packages/sklearn/linear_model/_sag.py:328: ConvergenceWarning: The max_iter was reached which means the coef_ did not converge\n",
      "  warnings.warn(\"The max_iter was reached which means \"\n",
      "/opt/anaconda3/lib/python3.9/site-packages/sklearn/linear_model/_sag.py:328: ConvergenceWarning: The max_iter was reached which means the coef_ did not converge\n",
      "  warnings.warn(\"The max_iter was reached which means \"\n",
      "/opt/anaconda3/lib/python3.9/site-packages/sklearn/linear_model/_sag.py:328: ConvergenceWarning: The max_iter was reached which means the coef_ did not converge\n",
      "  warnings.warn(\"The max_iter was reached which means \"\n",
      "/opt/anaconda3/lib/python3.9/site-packages/sklearn/linear_model/_sag.py:328: ConvergenceWarning: The max_iter was reached which means the coef_ did not converge\n",
      "  warnings.warn(\"The max_iter was reached which means \"\n"
     ]
    },
    {
     "name": "stdout",
     "output_type": "stream",
     "text": [
      "[CV 1/5] END features__max_df=0.5, features__min_df=1, features__ngram_range=(1, 4), model__solver=saga;, score=0.944 total time=  31.5s\n"
     ]
    },
    {
     "name": "stderr",
     "output_type": "stream",
     "text": [
      "/opt/anaconda3/lib/python3.9/site-packages/sklearn/linear_model/_sag.py:328: ConvergenceWarning: The max_iter was reached which means the coef_ did not converge\n",
      "  warnings.warn(\"The max_iter was reached which means \"\n",
      "/opt/anaconda3/lib/python3.9/site-packages/sklearn/linear_model/_sag.py:328: ConvergenceWarning: The max_iter was reached which means the coef_ did not converge\n",
      "  warnings.warn(\"The max_iter was reached which means \"\n",
      "/opt/anaconda3/lib/python3.9/site-packages/sklearn/linear_model/_sag.py:328: ConvergenceWarning: The max_iter was reached which means the coef_ did not converge\n",
      "  warnings.warn(\"The max_iter was reached which means \"\n",
      "/opt/anaconda3/lib/python3.9/site-packages/sklearn/linear_model/_sag.py:328: ConvergenceWarning: The max_iter was reached which means the coef_ did not converge\n",
      "  warnings.warn(\"The max_iter was reached which means \"\n",
      "/opt/anaconda3/lib/python3.9/site-packages/sklearn/linear_model/_sag.py:328: ConvergenceWarning: The max_iter was reached which means the coef_ did not converge\n",
      "  warnings.warn(\"The max_iter was reached which means \"\n",
      "/opt/anaconda3/lib/python3.9/site-packages/sklearn/linear_model/_sag.py:328: ConvergenceWarning: The max_iter was reached which means the coef_ did not converge\n",
      "  warnings.warn(\"The max_iter was reached which means \"\n",
      "/opt/anaconda3/lib/python3.9/site-packages/sklearn/linear_model/_sag.py:328: ConvergenceWarning: The max_iter was reached which means the coef_ did not converge\n",
      "  warnings.warn(\"The max_iter was reached which means \"\n",
      "/opt/anaconda3/lib/python3.9/site-packages/sklearn/linear_model/_sag.py:328: ConvergenceWarning: The max_iter was reached which means the coef_ did not converge\n",
      "  warnings.warn(\"The max_iter was reached which means \"\n",
      "/opt/anaconda3/lib/python3.9/site-packages/sklearn/linear_model/_sag.py:328: ConvergenceWarning: The max_iter was reached which means the coef_ did not converge\n",
      "  warnings.warn(\"The max_iter was reached which means \"\n",
      "/opt/anaconda3/lib/python3.9/site-packages/sklearn/linear_model/_sag.py:328: ConvergenceWarning: The max_iter was reached which means the coef_ did not converge\n",
      "  warnings.warn(\"The max_iter was reached which means \"\n",
      "/opt/anaconda3/lib/python3.9/site-packages/sklearn/linear_model/_sag.py:328: ConvergenceWarning: The max_iter was reached which means the coef_ did not converge\n",
      "  warnings.warn(\"The max_iter was reached which means \"\n"
     ]
    },
    {
     "name": "stdout",
     "output_type": "stream",
     "text": [
      "[CV 2/5] END features__max_df=0.5, features__min_df=1, features__ngram_range=(1, 4), model__solver=saga;, score=0.939 total time=  31.6s\n"
     ]
    },
    {
     "name": "stderr",
     "output_type": "stream",
     "text": [
      "/opt/anaconda3/lib/python3.9/site-packages/sklearn/linear_model/_sag.py:328: ConvergenceWarning: The max_iter was reached which means the coef_ did not converge\n",
      "  warnings.warn(\"The max_iter was reached which means \"\n",
      "/opt/anaconda3/lib/python3.9/site-packages/sklearn/linear_model/_sag.py:328: ConvergenceWarning: The max_iter was reached which means the coef_ did not converge\n",
      "  warnings.warn(\"The max_iter was reached which means \"\n",
      "/opt/anaconda3/lib/python3.9/site-packages/sklearn/linear_model/_sag.py:328: ConvergenceWarning: The max_iter was reached which means the coef_ did not converge\n",
      "  warnings.warn(\"The max_iter was reached which means \"\n",
      "/opt/anaconda3/lib/python3.9/site-packages/sklearn/linear_model/_sag.py:328: ConvergenceWarning: The max_iter was reached which means the coef_ did not converge\n",
      "  warnings.warn(\"The max_iter was reached which means \"\n",
      "/opt/anaconda3/lib/python3.9/site-packages/sklearn/linear_model/_sag.py:328: ConvergenceWarning: The max_iter was reached which means the coef_ did not converge\n",
      "  warnings.warn(\"The max_iter was reached which means \"\n",
      "/opt/anaconda3/lib/python3.9/site-packages/sklearn/linear_model/_sag.py:328: ConvergenceWarning: The max_iter was reached which means the coef_ did not converge\n",
      "  warnings.warn(\"The max_iter was reached which means \"\n",
      "/opt/anaconda3/lib/python3.9/site-packages/sklearn/linear_model/_sag.py:328: ConvergenceWarning: The max_iter was reached which means the coef_ did not converge\n",
      "  warnings.warn(\"The max_iter was reached which means \"\n",
      "/opt/anaconda3/lib/python3.9/site-packages/sklearn/linear_model/_sag.py:328: ConvergenceWarning: The max_iter was reached which means the coef_ did not converge\n",
      "  warnings.warn(\"The max_iter was reached which means \"\n",
      "/opt/anaconda3/lib/python3.9/site-packages/sklearn/linear_model/_sag.py:328: ConvergenceWarning: The max_iter was reached which means the coef_ did not converge\n",
      "  warnings.warn(\"The max_iter was reached which means \"\n",
      "/opt/anaconda3/lib/python3.9/site-packages/sklearn/linear_model/_sag.py:328: ConvergenceWarning: The max_iter was reached which means the coef_ did not converge\n",
      "  warnings.warn(\"The max_iter was reached which means \"\n",
      "/opt/anaconda3/lib/python3.9/site-packages/sklearn/linear_model/_sag.py:328: ConvergenceWarning: The max_iter was reached which means the coef_ did not converge\n",
      "  warnings.warn(\"The max_iter was reached which means \"\n"
     ]
    },
    {
     "name": "stdout",
     "output_type": "stream",
     "text": [
      "[CV 3/5] END features__max_df=0.5, features__min_df=1, features__ngram_range=(1, 4), model__solver=saga;, score=0.935 total time=  31.1s\n"
     ]
    },
    {
     "name": "stderr",
     "output_type": "stream",
     "text": [
      "/opt/anaconda3/lib/python3.9/site-packages/sklearn/linear_model/_sag.py:328: ConvergenceWarning: The max_iter was reached which means the coef_ did not converge\n",
      "  warnings.warn(\"The max_iter was reached which means \"\n",
      "/opt/anaconda3/lib/python3.9/site-packages/sklearn/linear_model/_sag.py:328: ConvergenceWarning: The max_iter was reached which means the coef_ did not converge\n",
      "  warnings.warn(\"The max_iter was reached which means \"\n",
      "/opt/anaconda3/lib/python3.9/site-packages/sklearn/linear_model/_sag.py:328: ConvergenceWarning: The max_iter was reached which means the coef_ did not converge\n",
      "  warnings.warn(\"The max_iter was reached which means \"\n",
      "/opt/anaconda3/lib/python3.9/site-packages/sklearn/linear_model/_sag.py:328: ConvergenceWarning: The max_iter was reached which means the coef_ did not converge\n",
      "  warnings.warn(\"The max_iter was reached which means \"\n",
      "/opt/anaconda3/lib/python3.9/site-packages/sklearn/linear_model/_sag.py:328: ConvergenceWarning: The max_iter was reached which means the coef_ did not converge\n",
      "  warnings.warn(\"The max_iter was reached which means \"\n",
      "/opt/anaconda3/lib/python3.9/site-packages/sklearn/linear_model/_sag.py:328: ConvergenceWarning: The max_iter was reached which means the coef_ did not converge\n",
      "  warnings.warn(\"The max_iter was reached which means \"\n",
      "/opt/anaconda3/lib/python3.9/site-packages/sklearn/linear_model/_sag.py:328: ConvergenceWarning: The max_iter was reached which means the coef_ did not converge\n",
      "  warnings.warn(\"The max_iter was reached which means \"\n",
      "/opt/anaconda3/lib/python3.9/site-packages/sklearn/linear_model/_sag.py:328: ConvergenceWarning: The max_iter was reached which means the coef_ did not converge\n",
      "  warnings.warn(\"The max_iter was reached which means \"\n",
      "/opt/anaconda3/lib/python3.9/site-packages/sklearn/linear_model/_sag.py:328: ConvergenceWarning: The max_iter was reached which means the coef_ did not converge\n",
      "  warnings.warn(\"The max_iter was reached which means \"\n",
      "/opt/anaconda3/lib/python3.9/site-packages/sklearn/linear_model/_sag.py:328: ConvergenceWarning: The max_iter was reached which means the coef_ did not converge\n",
      "  warnings.warn(\"The max_iter was reached which means \"\n",
      "/opt/anaconda3/lib/python3.9/site-packages/sklearn/linear_model/_sag.py:328: ConvergenceWarning: The max_iter was reached which means the coef_ did not converge\n",
      "  warnings.warn(\"The max_iter was reached which means \"\n"
     ]
    },
    {
     "name": "stdout",
     "output_type": "stream",
     "text": [
      "[CV 4/5] END features__max_df=0.5, features__min_df=1, features__ngram_range=(1, 4), model__solver=saga;, score=0.943 total time=  31.6s\n"
     ]
    },
    {
     "name": "stderr",
     "output_type": "stream",
     "text": [
      "/opt/anaconda3/lib/python3.9/site-packages/sklearn/linear_model/_sag.py:328: ConvergenceWarning: The max_iter was reached which means the coef_ did not converge\n",
      "  warnings.warn(\"The max_iter was reached which means \"\n",
      "/opt/anaconda3/lib/python3.9/site-packages/sklearn/linear_model/_sag.py:328: ConvergenceWarning: The max_iter was reached which means the coef_ did not converge\n",
      "  warnings.warn(\"The max_iter was reached which means \"\n",
      "/opt/anaconda3/lib/python3.9/site-packages/sklearn/linear_model/_sag.py:328: ConvergenceWarning: The max_iter was reached which means the coef_ did not converge\n",
      "  warnings.warn(\"The max_iter was reached which means \"\n",
      "/opt/anaconda3/lib/python3.9/site-packages/sklearn/linear_model/_sag.py:328: ConvergenceWarning: The max_iter was reached which means the coef_ did not converge\n",
      "  warnings.warn(\"The max_iter was reached which means \"\n",
      "/opt/anaconda3/lib/python3.9/site-packages/sklearn/linear_model/_sag.py:328: ConvergenceWarning: The max_iter was reached which means the coef_ did not converge\n",
      "  warnings.warn(\"The max_iter was reached which means \"\n",
      "/opt/anaconda3/lib/python3.9/site-packages/sklearn/linear_model/_sag.py:328: ConvergenceWarning: The max_iter was reached which means the coef_ did not converge\n",
      "  warnings.warn(\"The max_iter was reached which means \"\n",
      "/opt/anaconda3/lib/python3.9/site-packages/sklearn/linear_model/_sag.py:328: ConvergenceWarning: The max_iter was reached which means the coef_ did not converge\n",
      "  warnings.warn(\"The max_iter was reached which means \"\n",
      "/opt/anaconda3/lib/python3.9/site-packages/sklearn/linear_model/_sag.py:328: ConvergenceWarning: The max_iter was reached which means the coef_ did not converge\n",
      "  warnings.warn(\"The max_iter was reached which means \"\n",
      "/opt/anaconda3/lib/python3.9/site-packages/sklearn/linear_model/_sag.py:328: ConvergenceWarning: The max_iter was reached which means the coef_ did not converge\n",
      "  warnings.warn(\"The max_iter was reached which means \"\n",
      "/opt/anaconda3/lib/python3.9/site-packages/sklearn/linear_model/_sag.py:328: ConvergenceWarning: The max_iter was reached which means the coef_ did not converge\n",
      "  warnings.warn(\"The max_iter was reached which means \"\n",
      "/opt/anaconda3/lib/python3.9/site-packages/sklearn/linear_model/_sag.py:328: ConvergenceWarning: The max_iter was reached which means the coef_ did not converge\n",
      "  warnings.warn(\"The max_iter was reached which means \"\n"
     ]
    },
    {
     "name": "stdout",
     "output_type": "stream",
     "text": [
      "[CV 5/5] END features__max_df=0.5, features__min_df=1, features__ngram_range=(1, 4), model__solver=saga;, score=0.933 total time=  31.1s\n"
     ]
    },
    {
     "name": "stderr",
     "output_type": "stream",
     "text": [
      "/opt/anaconda3/lib/python3.9/site-packages/joblib/externals/loky/process_executor.py:702: UserWarning: A worker stopped while some jobs were given to the executor. This can be caused by a too short worker timeout or by a memory leak.\n",
      "  warnings.warn(\n"
     ]
    },
    {
     "name": "stdout",
     "output_type": "stream",
     "text": [
      "[CV 1/5] END features__max_df=0.5, features__min_df=1, features__ngram_range=(1, 4), model__solver=liblinear;, score=0.943 total time=  14.9s\n",
      "[CV 2/5] END features__max_df=0.5, features__min_df=1, features__ngram_range=(1, 4), model__solver=liblinear;, score=0.936 total time=  13.2s\n",
      "[CV 3/5] END features__max_df=0.5, features__min_df=1, features__ngram_range=(1, 4), model__solver=liblinear;, score=0.937 total time=  13.4s\n",
      "[CV 4/5] END features__max_df=0.5, features__min_df=1, features__ngram_range=(1, 4), model__solver=liblinear;, score=0.944 total time=  13.2s\n",
      "[CV 5/5] END features__max_df=0.5, features__min_df=1, features__ngram_range=(1, 4), model__solver=liblinear;, score=0.937 total time=  13.1s\n"
     ]
    },
    {
     "name": "stderr",
     "output_type": "stream",
     "text": [
      "/opt/anaconda3/lib/python3.9/site-packages/sklearn/linear_model/_sag.py:328: ConvergenceWarning: The max_iter was reached which means the coef_ did not converge\n",
      "  warnings.warn(\"The max_iter was reached which means \"\n",
      "/opt/anaconda3/lib/python3.9/site-packages/sklearn/linear_model/_sag.py:328: ConvergenceWarning: The max_iter was reached which means the coef_ did not converge\n",
      "  warnings.warn(\"The max_iter was reached which means \"\n",
      "/opt/anaconda3/lib/python3.9/site-packages/sklearn/linear_model/_sag.py:328: ConvergenceWarning: The max_iter was reached which means the coef_ did not converge\n",
      "  warnings.warn(\"The max_iter was reached which means \"\n",
      "/opt/anaconda3/lib/python3.9/site-packages/sklearn/linear_model/_sag.py:328: ConvergenceWarning: The max_iter was reached which means the coef_ did not converge\n",
      "  warnings.warn(\"The max_iter was reached which means \"\n",
      "/opt/anaconda3/lib/python3.9/site-packages/sklearn/linear_model/_sag.py:328: ConvergenceWarning: The max_iter was reached which means the coef_ did not converge\n",
      "  warnings.warn(\"The max_iter was reached which means \"\n",
      "/opt/anaconda3/lib/python3.9/site-packages/sklearn/linear_model/_sag.py:328: ConvergenceWarning: The max_iter was reached which means the coef_ did not converge\n",
      "  warnings.warn(\"The max_iter was reached which means \"\n",
      "/opt/anaconda3/lib/python3.9/site-packages/sklearn/linear_model/_sag.py:328: ConvergenceWarning: The max_iter was reached which means the coef_ did not converge\n",
      "  warnings.warn(\"The max_iter was reached which means \"\n",
      "/opt/anaconda3/lib/python3.9/site-packages/sklearn/linear_model/_sag.py:328: ConvergenceWarning: The max_iter was reached which means the coef_ did not converge\n",
      "  warnings.warn(\"The max_iter was reached which means \"\n",
      "/opt/anaconda3/lib/python3.9/site-packages/sklearn/linear_model/_sag.py:328: ConvergenceWarning: The max_iter was reached which means the coef_ did not converge\n",
      "  warnings.warn(\"The max_iter was reached which means \"\n",
      "/opt/anaconda3/lib/python3.9/site-packages/sklearn/linear_model/_sag.py:328: ConvergenceWarning: The max_iter was reached which means the coef_ did not converge\n",
      "  warnings.warn(\"The max_iter was reached which means \"\n",
      "/opt/anaconda3/lib/python3.9/site-packages/sklearn/linear_model/_sag.py:328: ConvergenceWarning: The max_iter was reached which means the coef_ did not converge\n",
      "  warnings.warn(\"The max_iter was reached which means \"\n",
      "/opt/anaconda3/lib/python3.9/site-packages/sklearn/linear_model/_sag.py:328: ConvergenceWarning: The max_iter was reached which means the coef_ did not converge\n",
      "  warnings.warn(\"The max_iter was reached which means \"\n",
      "/opt/anaconda3/lib/python3.9/site-packages/sklearn/linear_model/_sag.py:328: ConvergenceWarning: The max_iter was reached which means the coef_ did not converge\n",
      "  warnings.warn(\"The max_iter was reached which means \"\n",
      "/opt/anaconda3/lib/python3.9/site-packages/sklearn/linear_model/_sag.py:328: ConvergenceWarning: The max_iter was reached which means the coef_ did not converge\n",
      "  warnings.warn(\"The max_iter was reached which means \"\n",
      "/opt/anaconda3/lib/python3.9/site-packages/sklearn/linear_model/_sag.py:328: ConvergenceWarning: The max_iter was reached which means the coef_ did not converge\n",
      "  warnings.warn(\"The max_iter was reached which means \"\n"
     ]
    },
    {
     "name": "stdout",
     "output_type": "stream",
     "text": [
      "[CV 1/5] END features__max_df=0.5, features__min_df=10, features__ngram_range=(1, 3), model__solver=saga;, score=0.924 total time=   3.4s\n"
     ]
    },
    {
     "name": "stderr",
     "output_type": "stream",
     "text": [
      "/opt/anaconda3/lib/python3.9/site-packages/sklearn/linear_model/_sag.py:328: ConvergenceWarning: The max_iter was reached which means the coef_ did not converge\n",
      "  warnings.warn(\"The max_iter was reached which means \"\n",
      "/opt/anaconda3/lib/python3.9/site-packages/sklearn/linear_model/_sag.py:328: ConvergenceWarning: The max_iter was reached which means the coef_ did not converge\n",
      "  warnings.warn(\"The max_iter was reached which means \"\n",
      "/opt/anaconda3/lib/python3.9/site-packages/sklearn/linear_model/_sag.py:328: ConvergenceWarning: The max_iter was reached which means the coef_ did not converge\n",
      "  warnings.warn(\"The max_iter was reached which means \"\n",
      "/opt/anaconda3/lib/python3.9/site-packages/sklearn/linear_model/_sag.py:328: ConvergenceWarning: The max_iter was reached which means the coef_ did not converge\n",
      "  warnings.warn(\"The max_iter was reached which means \"\n",
      "/opt/anaconda3/lib/python3.9/site-packages/sklearn/linear_model/_sag.py:328: ConvergenceWarning: The max_iter was reached which means the coef_ did not converge\n",
      "  warnings.warn(\"The max_iter was reached which means \"\n",
      "/opt/anaconda3/lib/python3.9/site-packages/sklearn/linear_model/_sag.py:328: ConvergenceWarning: The max_iter was reached which means the coef_ did not converge\n",
      "  warnings.warn(\"The max_iter was reached which means \"\n",
      "/opt/anaconda3/lib/python3.9/site-packages/sklearn/linear_model/_sag.py:328: ConvergenceWarning: The max_iter was reached which means the coef_ did not converge\n",
      "  warnings.warn(\"The max_iter was reached which means \"\n",
      "/opt/anaconda3/lib/python3.9/site-packages/sklearn/linear_model/_sag.py:328: ConvergenceWarning: The max_iter was reached which means the coef_ did not converge\n",
      "  warnings.warn(\"The max_iter was reached which means \"\n",
      "/opt/anaconda3/lib/python3.9/site-packages/sklearn/linear_model/_sag.py:328: ConvergenceWarning: The max_iter was reached which means the coef_ did not converge\n",
      "  warnings.warn(\"The max_iter was reached which means \"\n",
      "/opt/anaconda3/lib/python3.9/site-packages/sklearn/linear_model/_sag.py:328: ConvergenceWarning: The max_iter was reached which means the coef_ did not converge\n",
      "  warnings.warn(\"The max_iter was reached which means \"\n",
      "/opt/anaconda3/lib/python3.9/site-packages/sklearn/linear_model/_sag.py:328: ConvergenceWarning: The max_iter was reached which means the coef_ did not converge\n",
      "  warnings.warn(\"The max_iter was reached which means \"\n",
      "/opt/anaconda3/lib/python3.9/site-packages/sklearn/linear_model/_sag.py:328: ConvergenceWarning: The max_iter was reached which means the coef_ did not converge\n",
      "  warnings.warn(\"The max_iter was reached which means \"\n",
      "/opt/anaconda3/lib/python3.9/site-packages/sklearn/linear_model/_sag.py:328: ConvergenceWarning: The max_iter was reached which means the coef_ did not converge\n",
      "  warnings.warn(\"The max_iter was reached which means \"\n",
      "/opt/anaconda3/lib/python3.9/site-packages/sklearn/linear_model/_sag.py:328: ConvergenceWarning: The max_iter was reached which means the coef_ did not converge\n",
      "  warnings.warn(\"The max_iter was reached which means \"\n",
      "/opt/anaconda3/lib/python3.9/site-packages/sklearn/linear_model/_sag.py:328: ConvergenceWarning: The max_iter was reached which means the coef_ did not converge\n",
      "  warnings.warn(\"The max_iter was reached which means \"\n"
     ]
    },
    {
     "name": "stdout",
     "output_type": "stream",
     "text": [
      "[CV 2/5] END features__max_df=0.5, features__min_df=10, features__ngram_range=(1, 3), model__solver=saga;, score=0.919 total time=   3.6s\n"
     ]
    },
    {
     "name": "stderr",
     "output_type": "stream",
     "text": [
      "/opt/anaconda3/lib/python3.9/site-packages/sklearn/linear_model/_sag.py:328: ConvergenceWarning: The max_iter was reached which means the coef_ did not converge\n",
      "  warnings.warn(\"The max_iter was reached which means \"\n",
      "/opt/anaconda3/lib/python3.9/site-packages/sklearn/linear_model/_sag.py:328: ConvergenceWarning: The max_iter was reached which means the coef_ did not converge\n",
      "  warnings.warn(\"The max_iter was reached which means \"\n",
      "/opt/anaconda3/lib/python3.9/site-packages/sklearn/linear_model/_sag.py:328: ConvergenceWarning: The max_iter was reached which means the coef_ did not converge\n",
      "  warnings.warn(\"The max_iter was reached which means \"\n",
      "/opt/anaconda3/lib/python3.9/site-packages/sklearn/linear_model/_sag.py:328: ConvergenceWarning: The max_iter was reached which means the coef_ did not converge\n",
      "  warnings.warn(\"The max_iter was reached which means \"\n",
      "/opt/anaconda3/lib/python3.9/site-packages/sklearn/linear_model/_sag.py:328: ConvergenceWarning: The max_iter was reached which means the coef_ did not converge\n",
      "  warnings.warn(\"The max_iter was reached which means \"\n",
      "/opt/anaconda3/lib/python3.9/site-packages/sklearn/linear_model/_sag.py:328: ConvergenceWarning: The max_iter was reached which means the coef_ did not converge\n",
      "  warnings.warn(\"The max_iter was reached which means \"\n",
      "/opt/anaconda3/lib/python3.9/site-packages/sklearn/linear_model/_sag.py:328: ConvergenceWarning: The max_iter was reached which means the coef_ did not converge\n",
      "  warnings.warn(\"The max_iter was reached which means \"\n",
      "/opt/anaconda3/lib/python3.9/site-packages/sklearn/linear_model/_sag.py:328: ConvergenceWarning: The max_iter was reached which means the coef_ did not converge\n",
      "  warnings.warn(\"The max_iter was reached which means \"\n",
      "/opt/anaconda3/lib/python3.9/site-packages/sklearn/linear_model/_sag.py:328: ConvergenceWarning: The max_iter was reached which means the coef_ did not converge\n",
      "  warnings.warn(\"The max_iter was reached which means \"\n",
      "/opt/anaconda3/lib/python3.9/site-packages/sklearn/linear_model/_sag.py:328: ConvergenceWarning: The max_iter was reached which means the coef_ did not converge\n",
      "  warnings.warn(\"The max_iter was reached which means \"\n",
      "/opt/anaconda3/lib/python3.9/site-packages/sklearn/linear_model/_sag.py:328: ConvergenceWarning: The max_iter was reached which means the coef_ did not converge\n",
      "  warnings.warn(\"The max_iter was reached which means \"\n",
      "/opt/anaconda3/lib/python3.9/site-packages/sklearn/linear_model/_sag.py:328: ConvergenceWarning: The max_iter was reached which means the coef_ did not converge\n",
      "  warnings.warn(\"The max_iter was reached which means \"\n",
      "/opt/anaconda3/lib/python3.9/site-packages/sklearn/linear_model/_sag.py:328: ConvergenceWarning: The max_iter was reached which means the coef_ did not converge\n",
      "  warnings.warn(\"The max_iter was reached which means \"\n",
      "/opt/anaconda3/lib/python3.9/site-packages/sklearn/linear_model/_sag.py:328: ConvergenceWarning: The max_iter was reached which means the coef_ did not converge\n",
      "  warnings.warn(\"The max_iter was reached which means \"\n",
      "/opt/anaconda3/lib/python3.9/site-packages/sklearn/linear_model/_sag.py:328: ConvergenceWarning: The max_iter was reached which means the coef_ did not converge\n",
      "  warnings.warn(\"The max_iter was reached which means \"\n"
     ]
    },
    {
     "name": "stdout",
     "output_type": "stream",
     "text": [
      "[CV 3/5] END features__max_df=0.5, features__min_df=10, features__ngram_range=(1, 3), model__solver=saga;, score=0.917 total time=   3.5s\n"
     ]
    },
    {
     "name": "stderr",
     "output_type": "stream",
     "text": [
      "/opt/anaconda3/lib/python3.9/site-packages/sklearn/linear_model/_sag.py:328: ConvergenceWarning: The max_iter was reached which means the coef_ did not converge\n",
      "  warnings.warn(\"The max_iter was reached which means \"\n",
      "/opt/anaconda3/lib/python3.9/site-packages/sklearn/linear_model/_sag.py:328: ConvergenceWarning: The max_iter was reached which means the coef_ did not converge\n",
      "  warnings.warn(\"The max_iter was reached which means \"\n",
      "/opt/anaconda3/lib/python3.9/site-packages/sklearn/linear_model/_sag.py:328: ConvergenceWarning: The max_iter was reached which means the coef_ did not converge\n",
      "  warnings.warn(\"The max_iter was reached which means \"\n",
      "/opt/anaconda3/lib/python3.9/site-packages/sklearn/linear_model/_sag.py:328: ConvergenceWarning: The max_iter was reached which means the coef_ did not converge\n",
      "  warnings.warn(\"The max_iter was reached which means \"\n",
      "/opt/anaconda3/lib/python3.9/site-packages/sklearn/linear_model/_sag.py:328: ConvergenceWarning: The max_iter was reached which means the coef_ did not converge\n",
      "  warnings.warn(\"The max_iter was reached which means \"\n",
      "/opt/anaconda3/lib/python3.9/site-packages/sklearn/linear_model/_sag.py:328: ConvergenceWarning: The max_iter was reached which means the coef_ did not converge\n",
      "  warnings.warn(\"The max_iter was reached which means \"\n",
      "/opt/anaconda3/lib/python3.9/site-packages/sklearn/linear_model/_sag.py:328: ConvergenceWarning: The max_iter was reached which means the coef_ did not converge\n",
      "  warnings.warn(\"The max_iter was reached which means \"\n",
      "/opt/anaconda3/lib/python3.9/site-packages/sklearn/linear_model/_sag.py:328: ConvergenceWarning: The max_iter was reached which means the coef_ did not converge\n",
      "  warnings.warn(\"The max_iter was reached which means \"\n",
      "/opt/anaconda3/lib/python3.9/site-packages/sklearn/linear_model/_sag.py:328: ConvergenceWarning: The max_iter was reached which means the coef_ did not converge\n",
      "  warnings.warn(\"The max_iter was reached which means \"\n",
      "/opt/anaconda3/lib/python3.9/site-packages/sklearn/linear_model/_sag.py:328: ConvergenceWarning: The max_iter was reached which means the coef_ did not converge\n",
      "  warnings.warn(\"The max_iter was reached which means \"\n",
      "/opt/anaconda3/lib/python3.9/site-packages/sklearn/linear_model/_sag.py:328: ConvergenceWarning: The max_iter was reached which means the coef_ did not converge\n",
      "  warnings.warn(\"The max_iter was reached which means \"\n",
      "/opt/anaconda3/lib/python3.9/site-packages/sklearn/linear_model/_sag.py:328: ConvergenceWarning: The max_iter was reached which means the coef_ did not converge\n",
      "  warnings.warn(\"The max_iter was reached which means \"\n",
      "/opt/anaconda3/lib/python3.9/site-packages/sklearn/linear_model/_sag.py:328: ConvergenceWarning: The max_iter was reached which means the coef_ did not converge\n",
      "  warnings.warn(\"The max_iter was reached which means \"\n",
      "/opt/anaconda3/lib/python3.9/site-packages/sklearn/linear_model/_sag.py:328: ConvergenceWarning: The max_iter was reached which means the coef_ did not converge\n",
      "  warnings.warn(\"The max_iter was reached which means \"\n",
      "/opt/anaconda3/lib/python3.9/site-packages/sklearn/linear_model/_sag.py:328: ConvergenceWarning: The max_iter was reached which means the coef_ did not converge\n",
      "  warnings.warn(\"The max_iter was reached which means \"\n"
     ]
    },
    {
     "name": "stdout",
     "output_type": "stream",
     "text": [
      "[CV 4/5] END features__max_df=0.5, features__min_df=10, features__ngram_range=(1, 3), model__solver=saga;, score=0.921 total time=   3.5s\n"
     ]
    },
    {
     "name": "stderr",
     "output_type": "stream",
     "text": [
      "/opt/anaconda3/lib/python3.9/site-packages/sklearn/linear_model/_sag.py:328: ConvergenceWarning: The max_iter was reached which means the coef_ did not converge\n",
      "  warnings.warn(\"The max_iter was reached which means \"\n",
      "/opt/anaconda3/lib/python3.9/site-packages/sklearn/linear_model/_sag.py:328: ConvergenceWarning: The max_iter was reached which means the coef_ did not converge\n",
      "  warnings.warn(\"The max_iter was reached which means \"\n",
      "/opt/anaconda3/lib/python3.9/site-packages/sklearn/linear_model/_sag.py:328: ConvergenceWarning: The max_iter was reached which means the coef_ did not converge\n",
      "  warnings.warn(\"The max_iter was reached which means \"\n",
      "/opt/anaconda3/lib/python3.9/site-packages/sklearn/linear_model/_sag.py:328: ConvergenceWarning: The max_iter was reached which means the coef_ did not converge\n",
      "  warnings.warn(\"The max_iter was reached which means \"\n",
      "/opt/anaconda3/lib/python3.9/site-packages/sklearn/linear_model/_sag.py:328: ConvergenceWarning: The max_iter was reached which means the coef_ did not converge\n",
      "  warnings.warn(\"The max_iter was reached which means \"\n",
      "/opt/anaconda3/lib/python3.9/site-packages/sklearn/linear_model/_sag.py:328: ConvergenceWarning: The max_iter was reached which means the coef_ did not converge\n",
      "  warnings.warn(\"The max_iter was reached which means \"\n",
      "/opt/anaconda3/lib/python3.9/site-packages/sklearn/linear_model/_sag.py:328: ConvergenceWarning: The max_iter was reached which means the coef_ did not converge\n",
      "  warnings.warn(\"The max_iter was reached which means \"\n",
      "/opt/anaconda3/lib/python3.9/site-packages/sklearn/linear_model/_sag.py:328: ConvergenceWarning: The max_iter was reached which means the coef_ did not converge\n",
      "  warnings.warn(\"The max_iter was reached which means \"\n",
      "/opt/anaconda3/lib/python3.9/site-packages/sklearn/linear_model/_sag.py:328: ConvergenceWarning: The max_iter was reached which means the coef_ did not converge\n",
      "  warnings.warn(\"The max_iter was reached which means \"\n",
      "/opt/anaconda3/lib/python3.9/site-packages/sklearn/linear_model/_sag.py:328: ConvergenceWarning: The max_iter was reached which means the coef_ did not converge\n",
      "  warnings.warn(\"The max_iter was reached which means \"\n",
      "/opt/anaconda3/lib/python3.9/site-packages/sklearn/linear_model/_sag.py:328: ConvergenceWarning: The max_iter was reached which means the coef_ did not converge\n",
      "  warnings.warn(\"The max_iter was reached which means \"\n",
      "/opt/anaconda3/lib/python3.9/site-packages/sklearn/linear_model/_sag.py:328: ConvergenceWarning: The max_iter was reached which means the coef_ did not converge\n",
      "  warnings.warn(\"The max_iter was reached which means \"\n",
      "/opt/anaconda3/lib/python3.9/site-packages/sklearn/linear_model/_sag.py:328: ConvergenceWarning: The max_iter was reached which means the coef_ did not converge\n",
      "  warnings.warn(\"The max_iter was reached which means \"\n",
      "/opt/anaconda3/lib/python3.9/site-packages/sklearn/linear_model/_sag.py:328: ConvergenceWarning: The max_iter was reached which means the coef_ did not converge\n",
      "  warnings.warn(\"The max_iter was reached which means \"\n",
      "/opt/anaconda3/lib/python3.9/site-packages/sklearn/linear_model/_sag.py:328: ConvergenceWarning: The max_iter was reached which means the coef_ did not converge\n",
      "  warnings.warn(\"The max_iter was reached which means \"\n"
     ]
    },
    {
     "name": "stdout",
     "output_type": "stream",
     "text": [
      "[CV 5/5] END features__max_df=0.5, features__min_df=10, features__ngram_range=(1, 3), model__solver=saga;, score=0.917 total time=   3.5s\n",
      "[CV 1/5] END features__max_df=0.5, features__min_df=10, features__ngram_range=(1, 3), model__solver=liblinear;, score=0.925 total time=   2.3s\n",
      "[CV 2/5] END features__max_df=0.5, features__min_df=10, features__ngram_range=(1, 3), model__solver=liblinear;, score=0.919 total time=   2.2s\n",
      "[CV 3/5] END features__max_df=0.5, features__min_df=10, features__ngram_range=(1, 3), model__solver=liblinear;, score=0.919 total time=   2.2s\n",
      "[CV 4/5] END features__max_df=0.5, features__min_df=10, features__ngram_range=(1, 3), model__solver=liblinear;, score=0.921 total time=   2.2s\n",
      "[CV 5/5] END features__max_df=0.5, features__min_df=10, features__ngram_range=(1, 3), model__solver=liblinear;, score=0.917 total time=   2.3s\n"
     ]
    },
    {
     "name": "stderr",
     "output_type": "stream",
     "text": [
      "/opt/anaconda3/lib/python3.9/site-packages/sklearn/linear_model/_sag.py:328: ConvergenceWarning: The max_iter was reached which means the coef_ did not converge\n",
      "  warnings.warn(\"The max_iter was reached which means \"\n",
      "/opt/anaconda3/lib/python3.9/site-packages/sklearn/linear_model/_sag.py:328: ConvergenceWarning: The max_iter was reached which means the coef_ did not converge\n",
      "  warnings.warn(\"The max_iter was reached which means \"\n",
      "/opt/anaconda3/lib/python3.9/site-packages/sklearn/linear_model/_sag.py:328: ConvergenceWarning: The max_iter was reached which means the coef_ did not converge\n",
      "  warnings.warn(\"The max_iter was reached which means \"\n",
      "/opt/anaconda3/lib/python3.9/site-packages/sklearn/linear_model/_sag.py:328: ConvergenceWarning: The max_iter was reached which means the coef_ did not converge\n",
      "  warnings.warn(\"The max_iter was reached which means \"\n",
      "/opt/anaconda3/lib/python3.9/site-packages/sklearn/linear_model/_sag.py:328: ConvergenceWarning: The max_iter was reached which means the coef_ did not converge\n",
      "  warnings.warn(\"The max_iter was reached which means \"\n",
      "/opt/anaconda3/lib/python3.9/site-packages/sklearn/linear_model/_sag.py:328: ConvergenceWarning: The max_iter was reached which means the coef_ did not converge\n",
      "  warnings.warn(\"The max_iter was reached which means \"\n",
      "/opt/anaconda3/lib/python3.9/site-packages/sklearn/linear_model/_sag.py:328: ConvergenceWarning: The max_iter was reached which means the coef_ did not converge\n",
      "  warnings.warn(\"The max_iter was reached which means \"\n",
      "/opt/anaconda3/lib/python3.9/site-packages/sklearn/linear_model/_sag.py:328: ConvergenceWarning: The max_iter was reached which means the coef_ did not converge\n",
      "  warnings.warn(\"The max_iter was reached which means \"\n",
      "/opt/anaconda3/lib/python3.9/site-packages/sklearn/linear_model/_sag.py:328: ConvergenceWarning: The max_iter was reached which means the coef_ did not converge\n",
      "  warnings.warn(\"The max_iter was reached which means \"\n",
      "/opt/anaconda3/lib/python3.9/site-packages/sklearn/linear_model/_sag.py:328: ConvergenceWarning: The max_iter was reached which means the coef_ did not converge\n",
      "  warnings.warn(\"The max_iter was reached which means \"\n",
      "/opt/anaconda3/lib/python3.9/site-packages/sklearn/linear_model/_sag.py:328: ConvergenceWarning: The max_iter was reached which means the coef_ did not converge\n",
      "  warnings.warn(\"The max_iter was reached which means \"\n",
      "/opt/anaconda3/lib/python3.9/site-packages/sklearn/linear_model/_sag.py:328: ConvergenceWarning: The max_iter was reached which means the coef_ did not converge\n",
      "  warnings.warn(\"The max_iter was reached which means \"\n",
      "/opt/anaconda3/lib/python3.9/site-packages/sklearn/linear_model/_sag.py:328: ConvergenceWarning: The max_iter was reached which means the coef_ did not converge\n",
      "  warnings.warn(\"The max_iter was reached which means \"\n",
      "/opt/anaconda3/lib/python3.9/site-packages/sklearn/linear_model/_sag.py:328: ConvergenceWarning: The max_iter was reached which means the coef_ did not converge\n",
      "  warnings.warn(\"The max_iter was reached which means \"\n",
      "/opt/anaconda3/lib/python3.9/site-packages/sklearn/linear_model/_sag.py:328: ConvergenceWarning: The max_iter was reached which means the coef_ did not converge\n",
      "  warnings.warn(\"The max_iter was reached which means \"\n"
     ]
    },
    {
     "name": "stdout",
     "output_type": "stream",
     "text": [
      "[CV 1/5] END features__max_df=0.5, features__min_df=10, features__ngram_range=(1, 4), model__solver=saga;, score=0.924 total time=   3.7s\n"
     ]
    },
    {
     "name": "stderr",
     "output_type": "stream",
     "text": [
      "/opt/anaconda3/lib/python3.9/site-packages/sklearn/linear_model/_sag.py:328: ConvergenceWarning: The max_iter was reached which means the coef_ did not converge\n",
      "  warnings.warn(\"The max_iter was reached which means \"\n",
      "/opt/anaconda3/lib/python3.9/site-packages/sklearn/linear_model/_sag.py:328: ConvergenceWarning: The max_iter was reached which means the coef_ did not converge\n",
      "  warnings.warn(\"The max_iter was reached which means \"\n",
      "/opt/anaconda3/lib/python3.9/site-packages/sklearn/linear_model/_sag.py:328: ConvergenceWarning: The max_iter was reached which means the coef_ did not converge\n",
      "  warnings.warn(\"The max_iter was reached which means \"\n",
      "/opt/anaconda3/lib/python3.9/site-packages/sklearn/linear_model/_sag.py:328: ConvergenceWarning: The max_iter was reached which means the coef_ did not converge\n",
      "  warnings.warn(\"The max_iter was reached which means \"\n",
      "/opt/anaconda3/lib/python3.9/site-packages/sklearn/linear_model/_sag.py:328: ConvergenceWarning: The max_iter was reached which means the coef_ did not converge\n",
      "  warnings.warn(\"The max_iter was reached which means \"\n",
      "/opt/anaconda3/lib/python3.9/site-packages/sklearn/linear_model/_sag.py:328: ConvergenceWarning: The max_iter was reached which means the coef_ did not converge\n",
      "  warnings.warn(\"The max_iter was reached which means \"\n",
      "/opt/anaconda3/lib/python3.9/site-packages/sklearn/linear_model/_sag.py:328: ConvergenceWarning: The max_iter was reached which means the coef_ did not converge\n",
      "  warnings.warn(\"The max_iter was reached which means \"\n",
      "/opt/anaconda3/lib/python3.9/site-packages/sklearn/linear_model/_sag.py:328: ConvergenceWarning: The max_iter was reached which means the coef_ did not converge\n",
      "  warnings.warn(\"The max_iter was reached which means \"\n",
      "/opt/anaconda3/lib/python3.9/site-packages/sklearn/linear_model/_sag.py:328: ConvergenceWarning: The max_iter was reached which means the coef_ did not converge\n",
      "  warnings.warn(\"The max_iter was reached which means \"\n",
      "/opt/anaconda3/lib/python3.9/site-packages/sklearn/linear_model/_sag.py:328: ConvergenceWarning: The max_iter was reached which means the coef_ did not converge\n",
      "  warnings.warn(\"The max_iter was reached which means \"\n",
      "/opt/anaconda3/lib/python3.9/site-packages/sklearn/linear_model/_sag.py:328: ConvergenceWarning: The max_iter was reached which means the coef_ did not converge\n",
      "  warnings.warn(\"The max_iter was reached which means \"\n",
      "/opt/anaconda3/lib/python3.9/site-packages/sklearn/linear_model/_sag.py:328: ConvergenceWarning: The max_iter was reached which means the coef_ did not converge\n",
      "  warnings.warn(\"The max_iter was reached which means \"\n",
      "/opt/anaconda3/lib/python3.9/site-packages/sklearn/linear_model/_sag.py:328: ConvergenceWarning: The max_iter was reached which means the coef_ did not converge\n",
      "  warnings.warn(\"The max_iter was reached which means \"\n",
      "/opt/anaconda3/lib/python3.9/site-packages/sklearn/linear_model/_sag.py:328: ConvergenceWarning: The max_iter was reached which means the coef_ did not converge\n",
      "  warnings.warn(\"The max_iter was reached which means \"\n",
      "/opt/anaconda3/lib/python3.9/site-packages/sklearn/linear_model/_sag.py:328: ConvergenceWarning: The max_iter was reached which means the coef_ did not converge\n",
      "  warnings.warn(\"The max_iter was reached which means \"\n"
     ]
    },
    {
     "name": "stdout",
     "output_type": "stream",
     "text": [
      "[CV 2/5] END features__max_df=0.5, features__min_df=10, features__ngram_range=(1, 4), model__solver=saga;, score=0.919 total time=   3.7s\n"
     ]
    },
    {
     "name": "stderr",
     "output_type": "stream",
     "text": [
      "/opt/anaconda3/lib/python3.9/site-packages/sklearn/linear_model/_sag.py:328: ConvergenceWarning: The max_iter was reached which means the coef_ did not converge\n",
      "  warnings.warn(\"The max_iter was reached which means \"\n",
      "/opt/anaconda3/lib/python3.9/site-packages/sklearn/linear_model/_sag.py:328: ConvergenceWarning: The max_iter was reached which means the coef_ did not converge\n",
      "  warnings.warn(\"The max_iter was reached which means \"\n",
      "/opt/anaconda3/lib/python3.9/site-packages/sklearn/linear_model/_sag.py:328: ConvergenceWarning: The max_iter was reached which means the coef_ did not converge\n",
      "  warnings.warn(\"The max_iter was reached which means \"\n",
      "/opt/anaconda3/lib/python3.9/site-packages/sklearn/linear_model/_sag.py:328: ConvergenceWarning: The max_iter was reached which means the coef_ did not converge\n",
      "  warnings.warn(\"The max_iter was reached which means \"\n",
      "/opt/anaconda3/lib/python3.9/site-packages/sklearn/linear_model/_sag.py:328: ConvergenceWarning: The max_iter was reached which means the coef_ did not converge\n",
      "  warnings.warn(\"The max_iter was reached which means \"\n",
      "/opt/anaconda3/lib/python3.9/site-packages/sklearn/linear_model/_sag.py:328: ConvergenceWarning: The max_iter was reached which means the coef_ did not converge\n",
      "  warnings.warn(\"The max_iter was reached which means \"\n",
      "/opt/anaconda3/lib/python3.9/site-packages/sklearn/linear_model/_sag.py:328: ConvergenceWarning: The max_iter was reached which means the coef_ did not converge\n",
      "  warnings.warn(\"The max_iter was reached which means \"\n",
      "/opt/anaconda3/lib/python3.9/site-packages/sklearn/linear_model/_sag.py:328: ConvergenceWarning: The max_iter was reached which means the coef_ did not converge\n",
      "  warnings.warn(\"The max_iter was reached which means \"\n",
      "/opt/anaconda3/lib/python3.9/site-packages/sklearn/linear_model/_sag.py:328: ConvergenceWarning: The max_iter was reached which means the coef_ did not converge\n",
      "  warnings.warn(\"The max_iter was reached which means \"\n",
      "/opt/anaconda3/lib/python3.9/site-packages/sklearn/linear_model/_sag.py:328: ConvergenceWarning: The max_iter was reached which means the coef_ did not converge\n",
      "  warnings.warn(\"The max_iter was reached which means \"\n",
      "/opt/anaconda3/lib/python3.9/site-packages/sklearn/linear_model/_sag.py:328: ConvergenceWarning: The max_iter was reached which means the coef_ did not converge\n",
      "  warnings.warn(\"The max_iter was reached which means \"\n",
      "/opt/anaconda3/lib/python3.9/site-packages/sklearn/linear_model/_sag.py:328: ConvergenceWarning: The max_iter was reached which means the coef_ did not converge\n",
      "  warnings.warn(\"The max_iter was reached which means \"\n",
      "/opt/anaconda3/lib/python3.9/site-packages/sklearn/linear_model/_sag.py:328: ConvergenceWarning: The max_iter was reached which means the coef_ did not converge\n",
      "  warnings.warn(\"The max_iter was reached which means \"\n",
      "/opt/anaconda3/lib/python3.9/site-packages/sklearn/linear_model/_sag.py:328: ConvergenceWarning: The max_iter was reached which means the coef_ did not converge\n",
      "  warnings.warn(\"The max_iter was reached which means \"\n",
      "/opt/anaconda3/lib/python3.9/site-packages/sklearn/linear_model/_sag.py:328: ConvergenceWarning: The max_iter was reached which means the coef_ did not converge\n",
      "  warnings.warn(\"The max_iter was reached which means \"\n"
     ]
    },
    {
     "name": "stdout",
     "output_type": "stream",
     "text": [
      "[CV 3/5] END features__max_df=0.5, features__min_df=10, features__ngram_range=(1, 4), model__solver=saga;, score=0.917 total time=   3.7s\n"
     ]
    },
    {
     "name": "stderr",
     "output_type": "stream",
     "text": [
      "/opt/anaconda3/lib/python3.9/site-packages/sklearn/linear_model/_sag.py:328: ConvergenceWarning: The max_iter was reached which means the coef_ did not converge\n",
      "  warnings.warn(\"The max_iter was reached which means \"\n",
      "/opt/anaconda3/lib/python3.9/site-packages/sklearn/linear_model/_sag.py:328: ConvergenceWarning: The max_iter was reached which means the coef_ did not converge\n",
      "  warnings.warn(\"The max_iter was reached which means \"\n",
      "/opt/anaconda3/lib/python3.9/site-packages/sklearn/linear_model/_sag.py:328: ConvergenceWarning: The max_iter was reached which means the coef_ did not converge\n",
      "  warnings.warn(\"The max_iter was reached which means \"\n",
      "/opt/anaconda3/lib/python3.9/site-packages/sklearn/linear_model/_sag.py:328: ConvergenceWarning: The max_iter was reached which means the coef_ did not converge\n",
      "  warnings.warn(\"The max_iter was reached which means \"\n",
      "/opt/anaconda3/lib/python3.9/site-packages/sklearn/linear_model/_sag.py:328: ConvergenceWarning: The max_iter was reached which means the coef_ did not converge\n",
      "  warnings.warn(\"The max_iter was reached which means \"\n",
      "/opt/anaconda3/lib/python3.9/site-packages/sklearn/linear_model/_sag.py:328: ConvergenceWarning: The max_iter was reached which means the coef_ did not converge\n",
      "  warnings.warn(\"The max_iter was reached which means \"\n",
      "/opt/anaconda3/lib/python3.9/site-packages/sklearn/linear_model/_sag.py:328: ConvergenceWarning: The max_iter was reached which means the coef_ did not converge\n",
      "  warnings.warn(\"The max_iter was reached which means \"\n",
      "/opt/anaconda3/lib/python3.9/site-packages/sklearn/linear_model/_sag.py:328: ConvergenceWarning: The max_iter was reached which means the coef_ did not converge\n",
      "  warnings.warn(\"The max_iter was reached which means \"\n",
      "/opt/anaconda3/lib/python3.9/site-packages/sklearn/linear_model/_sag.py:328: ConvergenceWarning: The max_iter was reached which means the coef_ did not converge\n",
      "  warnings.warn(\"The max_iter was reached which means \"\n",
      "/opt/anaconda3/lib/python3.9/site-packages/sklearn/linear_model/_sag.py:328: ConvergenceWarning: The max_iter was reached which means the coef_ did not converge\n",
      "  warnings.warn(\"The max_iter was reached which means \"\n",
      "/opt/anaconda3/lib/python3.9/site-packages/sklearn/linear_model/_sag.py:328: ConvergenceWarning: The max_iter was reached which means the coef_ did not converge\n",
      "  warnings.warn(\"The max_iter was reached which means \"\n",
      "/opt/anaconda3/lib/python3.9/site-packages/sklearn/linear_model/_sag.py:328: ConvergenceWarning: The max_iter was reached which means the coef_ did not converge\n",
      "  warnings.warn(\"The max_iter was reached which means \"\n",
      "/opt/anaconda3/lib/python3.9/site-packages/sklearn/linear_model/_sag.py:328: ConvergenceWarning: The max_iter was reached which means the coef_ did not converge\n",
      "  warnings.warn(\"The max_iter was reached which means \"\n",
      "/opt/anaconda3/lib/python3.9/site-packages/sklearn/linear_model/_sag.py:328: ConvergenceWarning: The max_iter was reached which means the coef_ did not converge\n",
      "  warnings.warn(\"The max_iter was reached which means \"\n",
      "/opt/anaconda3/lib/python3.9/site-packages/sklearn/linear_model/_sag.py:328: ConvergenceWarning: The max_iter was reached which means the coef_ did not converge\n",
      "  warnings.warn(\"The max_iter was reached which means \"\n"
     ]
    },
    {
     "name": "stdout",
     "output_type": "stream",
     "text": [
      "[CV 4/5] END features__max_df=0.5, features__min_df=10, features__ngram_range=(1, 4), model__solver=saga;, score=0.922 total time=   3.6s\n"
     ]
    },
    {
     "name": "stderr",
     "output_type": "stream",
     "text": [
      "/opt/anaconda3/lib/python3.9/site-packages/sklearn/linear_model/_sag.py:328: ConvergenceWarning: The max_iter was reached which means the coef_ did not converge\n",
      "  warnings.warn(\"The max_iter was reached which means \"\n",
      "/opt/anaconda3/lib/python3.9/site-packages/sklearn/linear_model/_sag.py:328: ConvergenceWarning: The max_iter was reached which means the coef_ did not converge\n",
      "  warnings.warn(\"The max_iter was reached which means \"\n",
      "/opt/anaconda3/lib/python3.9/site-packages/sklearn/linear_model/_sag.py:328: ConvergenceWarning: The max_iter was reached which means the coef_ did not converge\n",
      "  warnings.warn(\"The max_iter was reached which means \"\n",
      "/opt/anaconda3/lib/python3.9/site-packages/sklearn/linear_model/_sag.py:328: ConvergenceWarning: The max_iter was reached which means the coef_ did not converge\n",
      "  warnings.warn(\"The max_iter was reached which means \"\n",
      "/opt/anaconda3/lib/python3.9/site-packages/sklearn/linear_model/_sag.py:328: ConvergenceWarning: The max_iter was reached which means the coef_ did not converge\n",
      "  warnings.warn(\"The max_iter was reached which means \"\n",
      "/opt/anaconda3/lib/python3.9/site-packages/sklearn/linear_model/_sag.py:328: ConvergenceWarning: The max_iter was reached which means the coef_ did not converge\n",
      "  warnings.warn(\"The max_iter was reached which means \"\n",
      "/opt/anaconda3/lib/python3.9/site-packages/sklearn/linear_model/_sag.py:328: ConvergenceWarning: The max_iter was reached which means the coef_ did not converge\n",
      "  warnings.warn(\"The max_iter was reached which means \"\n",
      "/opt/anaconda3/lib/python3.9/site-packages/sklearn/linear_model/_sag.py:328: ConvergenceWarning: The max_iter was reached which means the coef_ did not converge\n",
      "  warnings.warn(\"The max_iter was reached which means \"\n",
      "/opt/anaconda3/lib/python3.9/site-packages/sklearn/linear_model/_sag.py:328: ConvergenceWarning: The max_iter was reached which means the coef_ did not converge\n",
      "  warnings.warn(\"The max_iter was reached which means \"\n",
      "/opt/anaconda3/lib/python3.9/site-packages/sklearn/linear_model/_sag.py:328: ConvergenceWarning: The max_iter was reached which means the coef_ did not converge\n",
      "  warnings.warn(\"The max_iter was reached which means \"\n",
      "/opt/anaconda3/lib/python3.9/site-packages/sklearn/linear_model/_sag.py:328: ConvergenceWarning: The max_iter was reached which means the coef_ did not converge\n",
      "  warnings.warn(\"The max_iter was reached which means \"\n",
      "/opt/anaconda3/lib/python3.9/site-packages/sklearn/linear_model/_sag.py:328: ConvergenceWarning: The max_iter was reached which means the coef_ did not converge\n",
      "  warnings.warn(\"The max_iter was reached which means \"\n",
      "/opt/anaconda3/lib/python3.9/site-packages/sklearn/linear_model/_sag.py:328: ConvergenceWarning: The max_iter was reached which means the coef_ did not converge\n",
      "  warnings.warn(\"The max_iter was reached which means \"\n",
      "/opt/anaconda3/lib/python3.9/site-packages/sklearn/linear_model/_sag.py:328: ConvergenceWarning: The max_iter was reached which means the coef_ did not converge\n",
      "  warnings.warn(\"The max_iter was reached which means \"\n",
      "/opt/anaconda3/lib/python3.9/site-packages/sklearn/linear_model/_sag.py:328: ConvergenceWarning: The max_iter was reached which means the coef_ did not converge\n",
      "  warnings.warn(\"The max_iter was reached which means \"\n"
     ]
    },
    {
     "name": "stdout",
     "output_type": "stream",
     "text": [
      "[CV 5/5] END features__max_df=0.5, features__min_df=10, features__ngram_range=(1, 4), model__solver=saga;, score=0.917 total time=   3.6s\n",
      "[CV 1/5] END features__max_df=0.5, features__min_df=10, features__ngram_range=(1, 4), model__solver=liblinear;, score=0.925 total time=   2.4s\n",
      "[CV 2/5] END features__max_df=0.5, features__min_df=10, features__ngram_range=(1, 4), model__solver=liblinear;, score=0.919 total time=   2.3s\n",
      "[CV 3/5] END features__max_df=0.5, features__min_df=10, features__ngram_range=(1, 4), model__solver=liblinear;, score=0.919 total time=   2.3s\n",
      "[CV 4/5] END features__max_df=0.5, features__min_df=10, features__ngram_range=(1, 4), model__solver=liblinear;, score=0.921 total time=   2.3s\n",
      "[CV 5/5] END features__max_df=0.5, features__min_df=10, features__ngram_range=(1, 4), model__solver=liblinear;, score=0.917 total time=   2.3s\n"
     ]
    },
    {
     "data": {
      "text/plain": [
       "GridSearchCV(estimator=Pipeline(steps=[('features',\n",
       "                                        TfidfVectorizer(min_df=5,\n",
       "                                                        ngram_range=(1, 2),\n",
       "                                                        stop_words='english',\n",
       "                                                        sublinear_tf=True)),\n",
       "                                       ('model',\n",
       "                                        LogisticRegressionCV(cv=5, n_jobs=-1,\n",
       "                                                             random_state=42,\n",
       "                                                             scoring='accuracy',\n",
       "                                                             solver='saga'))]),\n",
       "             param_grid={'features__max_df': [0.01, 0.05, 0.1, 0.5],\n",
       "                         'features__min_df': [1, 10],\n",
       "                         'features__ngram_range': [(1, 3), (1, 4)],\n",
       "                         'model__solver': ['saga', 'liblinear']},\n",
       "             verbose=3)"
      ]
     },
     "execution_count": 59,
     "metadata": {},
     "output_type": "execute_result"
    }
   ],
   "source": [
    "gridsearch_LRCV.fit(X_train, y_train)"
   ]
  },
  {
   "cell_type": "code",
   "execution_count": 60,
   "id": "8138f1f0",
   "metadata": {},
   "outputs": [
    {
     "data": {
      "text/plain": [
       "({'features__max_df': 0.5,\n",
       "  'features__min_df': 1,\n",
       "  'features__ngram_range': (1, 3),\n",
       "  'model__solver': 'liblinear'},\n",
       " Pipeline(steps=[('features',\n",
       "                  TfidfVectorizer(max_df=0.5, ngram_range=(1, 3),\n",
       "                                  stop_words='english', sublinear_tf=True)),\n",
       "                 ('model',\n",
       "                  LogisticRegressionCV(cv=5, n_jobs=-1, random_state=42,\n",
       "                                       scoring='accuracy',\n",
       "                                       solver='liblinear'))]))"
      ]
     },
     "execution_count": 60,
     "metadata": {},
     "output_type": "execute_result"
    }
   ],
   "source": [
    "gridsearch_LRCV.best_params_ , gridsearch_LRCV.best_estimator_"
   ]
  },
  {
   "cell_type": "code",
   "execution_count": 61,
   "id": "a65f5e92",
   "metadata": {
    "scrolled": true
   },
   "outputs": [
    {
     "name": "stdout",
     "output_type": "stream",
     "text": [
      "              precision    recall  f1-score   support\n",
      "\n",
      "        Book       0.94      0.94      0.94       964\n",
      "     Grocery       0.96      0.91      0.94       223\n",
      "       Music       0.96      0.95      0.95       625\n",
      "      Office       0.93      0.94      0.93       951\n",
      "         Toy       0.92      0.92      0.92       899\n",
      "       Watch       0.98      0.98      0.98       635\n",
      "\n",
      "    accuracy                           0.94      4297\n",
      "   macro avg       0.95      0.94      0.94      4297\n",
      "weighted avg       0.94      0.94      0.94      4297\n",
      "\n"
     ]
    },
    {
     "data": {
      "image/png": "[encoded data removed]",
      "text/plain": [
       "<Figure size 432x288 with 2 Axes>"
      ]
     },
     "metadata": {
      "needs_background": "light"
     },
     "output_type": "display_data"
    }
   ],
   "source": [
    "get_scores(gridsearch_LRCV, X_test, y_test)"
   ]
  },
  {
   "cell_type": "markdown",
   "id": "b9a11583",
   "metadata": {},
   "source": [
    " ## LinearSVC"
   ]
  },
  {
   "cell_type": "code",
   "execution_count": 78,
   "id": "6824954c",
   "metadata": {},
   "outputs": [],
   "source": [
    "tfidf_params = dict(sublinear_tf = True,\n",
    "                   min_df = 1,\n",
    "                   norm = 'l2',\n",
    "                   ngram_range=(1,4),\n",
    "                   stop_words = 'english')"
   ]
  },
  {
   "cell_type": "code",
   "execution_count": 80,
   "id": "33d044be",
   "metadata": {},
   "outputs": [],
   "source": [
    "# create a Pipeline that will do features transformation then pass to the model\n",
    "clf_LSVC = Pipeline(steps=[\n",
    "    ('features', TfidfVectorizer(**tfidf_params)),\n",
    "    ('model',  LinearSVC(loss='hinge',random_state=42, max_iter=2000))\n",
    "])\n"
   ]
  },
  {
   "cell_type": "code",
   "execution_count": 81,
   "id": "0477fe2c",
   "metadata": {},
   "outputs": [
    {
     "data": {
      "text/plain": [
       "Pipeline(steps=[('features',\n",
       "                 TfidfVectorizer(ngram_range=(1, 4), stop_words='english',\n",
       "                                 sublinear_tf=True)),\n",
       "                ('model',\n",
       "                 LinearSVC(loss='hinge', max_iter=2000, random_state=42))])"
      ]
     },
     "execution_count": 81,
     "metadata": {},
     "output_type": "execute_result"
    }
   ],
   "source": [
    "# Use classifier pipeline as a model, fit X_train and y_train\n",
    "clf_LSVC.fit(X_train, y_train)"
   ]
  },
  {
   "cell_type": "code",
   "execution_count": 82,
   "id": "5598a45a",
   "metadata": {
    "scrolled": true
   },
   "outputs": [
    {
     "name": "stdout",
     "output_type": "stream",
     "text": [
      "              precision    recall  f1-score   support\n",
      "\n",
      "        Book       0.94      0.94      0.94       964\n",
      "     Grocery       0.94      0.91      0.92       223\n",
      "       Music       0.96      0.94      0.95       625\n",
      "      Office       0.91      0.94      0.93       951\n",
      "         Toy       0.91      0.91      0.91       899\n",
      "       Watch       0.98      0.98      0.98       635\n",
      "\n",
      "    accuracy                           0.94      4297\n",
      "   macro avg       0.94      0.94      0.94      4297\n",
      "weighted avg       0.94      0.94      0.94      4297\n",
      "\n"
     ]
    },
    {
     "data": {
      "image/png": "[encoded data removed]",
      "text/plain": [
       "<Figure size 432x288 with 2 Axes>"
      ]
     },
     "metadata": {
      "needs_background": "light"
     },
     "output_type": "display_data"
    }
   ],
   "source": [
    "get_scores(clf_LSVC, X_test, y_test)"
   ]
  },
  {
   "cell_type": "code",
   "execution_count": 85,
   "id": "5d834770",
   "metadata": {
    "scrolled": true
   },
   "outputs": [
    {
     "data": {
      "text/plain": [
       "{'memory': None,\n",
       " 'steps': [('features',\n",
       "   TfidfVectorizer(ngram_range=(1, 4), stop_words='english', sublinear_tf=True)),\n",
       "  ('model', LinearSVC(loss='hinge', max_iter=2000, random_state=42))],\n",
       " 'verbose': False,\n",
       " 'features': TfidfVectorizer(ngram_range=(1, 4), stop_words='english', sublinear_tf=True),\n",
       " 'model': LinearSVC(loss='hinge', max_iter=2000, random_state=42),\n",
       " 'features__analyzer': 'word',\n",
       " 'features__binary': False,\n",
       " 'features__decode_error': 'strict',\n",
       " 'features__dtype': numpy.float64,\n",
       " 'features__encoding': 'utf-8',\n",
       " 'features__input': 'content',\n",
       " 'features__lowercase': True,\n",
       " 'features__max_df': 1.0,\n",
       " 'features__max_features': None,\n",
       " 'features__min_df': 1,\n",
       " 'features__ngram_range': (1, 4),\n",
       " 'features__norm': 'l2',\n",
       " 'features__preprocessor': None,\n",
       " 'features__smooth_idf': True,\n",
       " 'features__stop_words': 'english',\n",
       " 'features__strip_accents': None,\n",
       " 'features__sublinear_tf': True,\n",
       " 'features__token_pattern': '(?u)\\\\b\\\\w\\\\w+\\\\b',\n",
       " 'features__tokenizer': None,\n",
       " 'features__use_idf': True,\n",
       " 'features__vocabulary': None,\n",
       " 'model__C': 1.0,\n",
       " 'model__class_weight': None,\n",
       " 'model__dual': True,\n",
       " 'model__fit_intercept': True,\n",
       " 'model__intercept_scaling': 1,\n",
       " 'model__loss': 'hinge',\n",
       " 'model__max_iter': 2000,\n",
       " 'model__multi_class': 'ovr',\n",
       " 'model__penalty': 'l2',\n",
       " 'model__random_state': 42,\n",
       " 'model__tol': 0.0001,\n",
       " 'model__verbose': 0}"
      ]
     },
     "execution_count": 85,
     "metadata": {},
     "output_type": "execute_result"
    }
   ],
   "source": [
    "clf_LSVC.get_params()"
   ]
  },
  {
   "cell_type": "code",
   "execution_count": 91,
   "id": "6f8fbe9d",
   "metadata": {},
   "outputs": [],
   "source": [
    "clf_LSVC_parameter_grid = {\n",
    "    'features__min_df': [1, 10],\n",
    "    'features__max_df': [0.01, 0.05, 0.1, 0.5],\n",
    "    'features__ngram_range': [(1,3), (1,4)],\n",
    "    'model__C': list(range(1,11))\n",
    "}"
   ]
  },
  {
   "cell_type": "code",
   "execution_count": 92,
   "id": "37b40b20",
   "metadata": {},
   "outputs": [],
   "source": [
    "gridsearch_LSVC = GridSearchCV(clf_LSVC,\n",
    "                          clf_LSVC_parameter_grid,\n",
    "                          scoring = None,\n",
    "                          verbose = 3\n",
    "                         )"
   ]
  },
  {
   "cell_type": "code",
   "execution_count": 93,
   "id": "b7da8a7b",
   "metadata": {},
   "outputs": [
    {
     "name": "stdout",
     "output_type": "stream",
     "text": [
      "Fitting 5 folds for each of 160 candidates, totalling 800 fits\n",
      "[CV 1/5] END features__max_df=0.01, features__min_df=1, features__ngram_range=(1, 3), model__C=1;, score=0.944 total time=   1.9s\n",
      "[CV 2/5] END features__max_df=0.01, features__min_df=1, features__ngram_range=(1, 3), model__C=1;, score=0.930 total time=   2.4s\n",
      "[CV 3/5] END features__max_df=0.01, features__min_df=1, features__ngram_range=(1, 3), model__C=1;, score=0.935 total time=   1.6s\n",
      "[CV 4/5] END features__max_df=0.01, features__min_df=1, features__ngram_range=(1, 3), model__C=1;, score=0.940 total time=   1.6s\n",
      "[CV 5/5] END features__max_df=0.01, features__min_df=1, features__ngram_range=(1, 3), model__C=1;, score=0.933 total time=   1.8s\n",
      "[CV 1/5] END features__max_df=0.01, features__min_df=1, features__ngram_range=(1, 3), model__C=2;, score=0.947 total time=   2.4s\n",
      "[CV 2/5] END features__max_df=0.01, features__min_df=1, features__ngram_range=(1, 3), model__C=2;, score=0.933 total time=   2.6s\n",
      "[CV 3/5] END features__max_df=0.01, features__min_df=1, features__ngram_range=(1, 3), model__C=2;, score=0.935 total time=   1.9s\n",
      "[CV 4/5] END features__max_df=0.01, features__min_df=1, features__ngram_range=(1, 3), model__C=2;, score=0.939 total time=   1.7s\n",
      "[CV 5/5] END features__max_df=0.01, features__min_df=1, features__ngram_range=(1, 3), model__C=2;, score=0.934 total time=   1.6s\n",
      "[CV 1/5] END features__max_df=0.01, features__min_df=1, features__ngram_range=(1, 3), model__C=3;, score=0.947 total time=   2.3s\n",
      "[CV 2/5] END features__max_df=0.01, features__min_df=1, features__ngram_range=(1, 3), model__C=3;, score=0.933 total time=   2.6s\n",
      "[CV 3/5] END features__max_df=0.01, features__min_df=1, features__ngram_range=(1, 3), model__C=3;, score=0.935 total time=   2.0s\n",
      "[CV 4/5] END features__max_df=0.01, features__min_df=1, features__ngram_range=(1, 3), model__C=3;, score=0.939 total time=   1.7s\n",
      "[CV 5/5] END features__max_df=0.01, features__min_df=1, features__ngram_range=(1, 3), model__C=3;, score=0.934 total time=   1.6s\n",
      "[CV 1/5] END features__max_df=0.01, features__min_df=1, features__ngram_range=(1, 3), model__C=4;, score=0.946 total time=   2.3s\n",
      "[CV 2/5] END features__max_df=0.01, features__min_df=1, features__ngram_range=(1, 3), model__C=4;, score=0.933 total time=   2.8s\n",
      "[CV 3/5] END features__max_df=0.01, features__min_df=1, features__ngram_range=(1, 3), model__C=4;, score=0.935 total time=   1.5s\n",
      "[CV 4/5] END features__max_df=0.01, features__min_df=1, features__ngram_range=(1, 3), model__C=4;, score=0.939 total time=   1.7s\n",
      "[CV 5/5] END features__max_df=0.01, features__min_df=1, features__ngram_range=(1, 3), model__C=4;, score=0.934 total time=   2.0s\n",
      "[CV 1/5] END features__max_df=0.01, features__min_df=1, features__ngram_range=(1, 3), model__C=5;, score=0.946 total time=   2.4s\n",
      "[CV 2/5] END features__max_df=0.01, features__min_df=1, features__ngram_range=(1, 3), model__C=5;, score=0.933 total time=   3.0s\n",
      "[CV 3/5] END features__max_df=0.01, features__min_df=1, features__ngram_range=(1, 3), model__C=5;, score=0.935 total time=   1.7s\n",
      "[CV 4/5] END features__max_df=0.01, features__min_df=1, features__ngram_range=(1, 3), model__C=5;, score=0.939 total time=   1.7s\n",
      "[CV 5/5] END features__max_df=0.01, features__min_df=1, features__ngram_range=(1, 3), model__C=5;, score=0.934 total time=   1.7s\n",
      "[CV 1/5] END features__max_df=0.01, features__min_df=1, features__ngram_range=(1, 3), model__C=6;, score=0.946 total time=   1.9s\n",
      "[CV 2/5] END features__max_df=0.01, features__min_df=1, features__ngram_range=(1, 3), model__C=6;, score=0.933 total time=   2.4s\n",
      "[CV 3/5] END features__max_df=0.01, features__min_df=1, features__ngram_range=(1, 3), model__C=6;, score=0.935 total time=   1.6s\n",
      "[CV 4/5] END features__max_df=0.01, features__min_df=1, features__ngram_range=(1, 3), model__C=6;, score=0.939 total time=   1.9s\n",
      "[CV 5/5] END features__max_df=0.01, features__min_df=1, features__ngram_range=(1, 3), model__C=6;, score=0.934 total time=   1.6s\n",
      "[CV 1/5] END features__max_df=0.01, features__min_df=1, features__ngram_range=(1, 3), model__C=7;, score=0.946 total time=   2.5s\n",
      "[CV 2/5] END features__max_df=0.01, features__min_df=1, features__ngram_range=(1, 3), model__C=7;, score=0.933 total time=   2.9s\n",
      "[CV 3/5] END features__max_df=0.01, features__min_df=1, features__ngram_range=(1, 3), model__C=7;, score=0.935 total time=   1.7s\n",
      "[CV 4/5] END features__max_df=0.01, features__min_df=1, features__ngram_range=(1, 3), model__C=7;, score=0.939 total time=   1.8s\n",
      "[CV 5/5] END features__max_df=0.01, features__min_df=1, features__ngram_range=(1, 3), model__C=7;, score=0.934 total time=   1.6s\n",
      "[CV 1/5] END features__max_df=0.01, features__min_df=1, features__ngram_range=(1, 3), model__C=8;, score=0.946 total time=   1.9s\n",
      "[CV 2/5] END features__max_df=0.01, features__min_df=1, features__ngram_range=(1, 3), model__C=8;, score=0.933 total time=   3.8s\n",
      "[CV 3/5] END features__max_df=0.01, features__min_df=1, features__ngram_range=(1, 3), model__C=8;, score=0.935 total time=   1.6s\n",
      "[CV 4/5] END features__max_df=0.01, features__min_df=1, features__ngram_range=(1, 3), model__C=8;, score=0.939 total time=   1.8s\n",
      "[CV 5/5] END features__max_df=0.01, features__min_df=1, features__ngram_range=(1, 3), model__C=8;, score=0.934 total time=   1.7s\n",
      "[CV 1/5] END features__max_df=0.01, features__min_df=1, features__ngram_range=(1, 3), model__C=9;, score=0.946 total time=   1.8s\n",
      "[CV 2/5] END features__max_df=0.01, features__min_df=1, features__ngram_range=(1, 3), model__C=9;, score=0.933 total time=   2.9s\n",
      "[CV 3/5] END features__max_df=0.01, features__min_df=1, features__ngram_range=(1, 3), model__C=9;, score=0.935 total time=   1.9s\n",
      "[CV 4/5] END features__max_df=0.01, features__min_df=1, features__ngram_range=(1, 3), model__C=9;, score=0.939 total time=   1.9s\n",
      "[CV 5/5] END features__max_df=0.01, features__min_df=1, features__ngram_range=(1, 3), model__C=9;, score=0.934 total time=   1.6s\n",
      "[CV 1/5] END features__max_df=0.01, features__min_df=1, features__ngram_range=(1, 3), model__C=10;, score=0.946 total time=   1.9s\n",
      "[CV 2/5] END features__max_df=0.01, features__min_df=1, features__ngram_range=(1, 3), model__C=10;, score=0.933 total time=   3.3s\n",
      "[CV 3/5] END features__max_df=0.01, features__min_df=1, features__ngram_range=(1, 3), model__C=10;, score=0.935 total time=   1.9s\n",
      "[CV 4/5] END features__max_df=0.01, features__min_df=1, features__ngram_range=(1, 3), model__C=10;, score=0.939 total time=   1.8s\n",
      "[CV 5/5] END features__max_df=0.01, features__min_df=1, features__ngram_range=(1, 3), model__C=10;, score=0.934 total time=   1.7s\n",
      "[CV 1/5] END features__max_df=0.01, features__min_df=1, features__ngram_range=(1, 4), model__C=1;, score=0.943 total time=   3.5s\n",
      "[CV 2/5] END features__max_df=0.01, features__min_df=1, features__ngram_range=(1, 4), model__C=1;, score=0.929 total time=   3.3s\n",
      "[CV 3/5] END features__max_df=0.01, features__min_df=1, features__ngram_range=(1, 4), model__C=1;, score=0.933 total time=   2.2s\n",
      "[CV 4/5] END features__max_df=0.01, features__min_df=1, features__ngram_range=(1, 4), model__C=1;, score=0.937 total time=   4.7s\n",
      "[CV 5/5] END features__max_df=0.01, features__min_df=1, features__ngram_range=(1, 4), model__C=1;, score=0.931 total time=   2.6s\n",
      "[CV 1/5] END features__max_df=0.01, features__min_df=1, features__ngram_range=(1, 4), model__C=2;, score=0.945 total time=   2.6s\n",
      "[CV 2/5] END features__max_df=0.01, features__min_df=1, features__ngram_range=(1, 4), model__C=2;, score=0.931 total time=   4.2s\n",
      "[CV 3/5] END features__max_df=0.01, features__min_df=1, features__ngram_range=(1, 4), model__C=2;, score=0.935 total time=   3.0s\n",
      "[CV 4/5] END features__max_df=0.01, features__min_df=1, features__ngram_range=(1, 4), model__C=2;, score=0.939 total time=   3.2s\n",
      "[CV 5/5] END features__max_df=0.01, features__min_df=1, features__ngram_range=(1, 4), model__C=2;, score=0.933 total time=   2.7s\n",
      "[CV 1/5] END features__max_df=0.01, features__min_df=1, features__ngram_range=(1, 4), model__C=3;, score=0.945 total time=   3.0s\n",
      "[CV 2/5] END features__max_df=0.01, features__min_df=1, features__ngram_range=(1, 4), model__C=3;, score=0.931 total time=   2.9s\n",
      "[CV 3/5] END features__max_df=0.01, features__min_df=1, features__ngram_range=(1, 4), model__C=3;, score=0.935 total time=   2.7s\n"
     ]
    },
    {
     "name": "stdout",
     "output_type": "stream",
     "text": [
      "[CV 4/5] END features__max_df=0.01, features__min_df=1, features__ngram_range=(1, 4), model__C=3;, score=0.939 total time=   4.1s\n",
      "[CV 5/5] END features__max_df=0.01, features__min_df=1, features__ngram_range=(1, 4), model__C=3;, score=0.933 total time=   2.3s\n",
      "[CV 1/5] END features__max_df=0.01, features__min_df=1, features__ngram_range=(1, 4), model__C=4;, score=0.944 total time=   2.3s\n",
      "[CV 2/5] END features__max_df=0.01, features__min_df=1, features__ngram_range=(1, 4), model__C=4;, score=0.931 total time=   4.2s\n",
      "[CV 3/5] END features__max_df=0.01, features__min_df=1, features__ngram_range=(1, 4), model__C=4;, score=0.935 total time=   2.7s\n",
      "[CV 4/5] END features__max_df=0.01, features__min_df=1, features__ngram_range=(1, 4), model__C=4;, score=0.939 total time=   3.6s\n",
      "[CV 5/5] END features__max_df=0.01, features__min_df=1, features__ngram_range=(1, 4), model__C=4;, score=0.933 total time=   2.3s\n",
      "[CV 1/5] END features__max_df=0.01, features__min_df=1, features__ngram_range=(1, 4), model__C=5;, score=0.944 total time=   2.9s\n",
      "[CV 2/5] END features__max_df=0.01, features__min_df=1, features__ngram_range=(1, 4), model__C=5;, score=0.931 total time=   4.1s\n",
      "[CV 3/5] END features__max_df=0.01, features__min_df=1, features__ngram_range=(1, 4), model__C=5;, score=0.934 total time=   2.6s\n",
      "[CV 4/5] END features__max_df=0.01, features__min_df=1, features__ngram_range=(1, 4), model__C=5;, score=0.939 total time=   4.8s\n",
      "[CV 5/5] END features__max_df=0.01, features__min_df=1, features__ngram_range=(1, 4), model__C=5;, score=0.933 total time=   2.6s\n",
      "[CV 1/5] END features__max_df=0.01, features__min_df=1, features__ngram_range=(1, 4), model__C=6;, score=0.944 total time=   3.0s\n",
      "[CV 2/5] END features__max_df=0.01, features__min_df=1, features__ngram_range=(1, 4), model__C=6;, score=0.931 total time=   4.3s\n",
      "[CV 3/5] END features__max_df=0.01, features__min_df=1, features__ngram_range=(1, 4), model__C=6;, score=0.934 total time=   2.9s\n",
      "[CV 4/5] END features__max_df=0.01, features__min_df=1, features__ngram_range=(1, 4), model__C=6;, score=0.939 total time=   4.0s\n",
      "[CV 5/5] END features__max_df=0.01, features__min_df=1, features__ngram_range=(1, 4), model__C=6;, score=0.933 total time=   2.4s\n",
      "[CV 1/5] END features__max_df=0.01, features__min_df=1, features__ngram_range=(1, 4), model__C=7;, score=0.944 total time=   2.7s\n",
      "[CV 2/5] END features__max_df=0.01, features__min_df=1, features__ngram_range=(1, 4), model__C=7;, score=0.931 total time=   3.5s\n",
      "[CV 3/5] END features__max_df=0.01, features__min_df=1, features__ngram_range=(1, 4), model__C=7;, score=0.934 total time=   2.3s\n",
      "[CV 4/5] END features__max_df=0.01, features__min_df=1, features__ngram_range=(1, 4), model__C=7;, score=0.939 total time=   4.9s\n",
      "[CV 5/5] END features__max_df=0.01, features__min_df=1, features__ngram_range=(1, 4), model__C=7;, score=0.933 total time=   2.8s\n",
      "[CV 1/5] END features__max_df=0.01, features__min_df=1, features__ngram_range=(1, 4), model__C=8;, score=0.944 total time=   3.4s\n",
      "[CV 2/5] END features__max_df=0.01, features__min_df=1, features__ngram_range=(1, 4), model__C=8;, score=0.931 total time=   4.3s\n",
      "[CV 3/5] END features__max_df=0.01, features__min_df=1, features__ngram_range=(1, 4), model__C=8;, score=0.934 total time=   2.7s\n",
      "[CV 4/5] END features__max_df=0.01, features__min_df=1, features__ngram_range=(1, 4), model__C=8;, score=0.939 total time=   5.0s\n",
      "[CV 5/5] END features__max_df=0.01, features__min_df=1, features__ngram_range=(1, 4), model__C=8;, score=0.933 total time=   2.8s\n",
      "[CV 1/5] END features__max_df=0.01, features__min_df=1, features__ngram_range=(1, 4), model__C=9;, score=0.944 total time=   3.4s\n",
      "[CV 2/5] END features__max_df=0.01, features__min_df=1, features__ngram_range=(1, 4), model__C=9;, score=0.931 total time=   3.2s\n",
      "[CV 3/5] END features__max_df=0.01, features__min_df=1, features__ngram_range=(1, 4), model__C=9;, score=0.935 total time=   2.6s\n",
      "[CV 4/5] END features__max_df=0.01, features__min_df=1, features__ngram_range=(1, 4), model__C=9;, score=0.939 total time=   3.5s\n",
      "[CV 5/5] END features__max_df=0.01, features__min_df=1, features__ngram_range=(1, 4), model__C=9;, score=0.933 total time=   2.3s\n",
      "[CV 1/5] END features__max_df=0.01, features__min_df=1, features__ngram_range=(1, 4), model__C=10;, score=0.944 total time=   2.5s\n",
      "[CV 2/5] END features__max_df=0.01, features__min_df=1, features__ngram_range=(1, 4), model__C=10;, score=0.931 total time=   3.7s\n",
      "[CV 3/5] END features__max_df=0.01, features__min_df=1, features__ngram_range=(1, 4), model__C=10;, score=0.935 total time=   2.4s\n",
      "[CV 4/5] END features__max_df=0.01, features__min_df=1, features__ngram_range=(1, 4), model__C=10;, score=0.939 total time=   3.0s\n",
      "[CV 5/5] END features__max_df=0.01, features__min_df=1, features__ngram_range=(1, 4), model__C=10;, score=0.933 total time=   2.9s\n",
      "[CV 1/5] END features__max_df=0.01, features__min_df=10, features__ngram_range=(1, 3), model__C=1;, score=0.907 total time=   0.8s\n",
      "[CV 2/5] END features__max_df=0.01, features__min_df=10, features__ngram_range=(1, 3), model__C=1;, score=0.899 total time=   0.8s\n",
      "[CV 3/5] END features__max_df=0.01, features__min_df=10, features__ngram_range=(1, 3), model__C=1;, score=0.900 total time=   0.8s\n",
      "[CV 4/5] END features__max_df=0.01, features__min_df=10, features__ngram_range=(1, 3), model__C=1;, score=0.905 total time=   0.8s\n",
      "[CV 5/5] END features__max_df=0.01, features__min_df=10, features__ngram_range=(1, 3), model__C=1;, score=0.895 total time=   0.9s\n",
      "[CV 1/5] END features__max_df=0.01, features__min_df=10, features__ngram_range=(1, 3), model__C=2;, score=0.905 total time=   0.8s\n",
      "[CV 2/5] END features__max_df=0.01, features__min_df=10, features__ngram_range=(1, 3), model__C=2;, score=0.898 total time=   0.9s\n",
      "[CV 3/5] END features__max_df=0.01, features__min_df=10, features__ngram_range=(1, 3), model__C=2;, score=0.894 total time=   0.9s\n"
     ]
    },
    {
     "name": "stderr",
     "output_type": "stream",
     "text": [
      "/opt/anaconda3/lib/python3.9/site-packages/sklearn/svm/_base.py:985: ConvergenceWarning: Liblinear failed to converge, increase the number of iterations.\n",
      "  warnings.warn(\"Liblinear failed to converge, increase \"\n"
     ]
    },
    {
     "name": "stdout",
     "output_type": "stream",
     "text": [
      "[CV 4/5] END features__max_df=0.01, features__min_df=10, features__ngram_range=(1, 3), model__C=2;, score=0.900 total time=   1.0s\n",
      "[CV 5/5] END features__max_df=0.01, features__min_df=10, features__ngram_range=(1, 3), model__C=2;, score=0.891 total time=   1.0s\n",
      "[CV 1/5] END features__max_df=0.01, features__min_df=10, features__ngram_range=(1, 3), model__C=3;, score=0.906 total time=   1.0s\n"
     ]
    },
    {
     "name": "stderr",
     "output_type": "stream",
     "text": [
      "/opt/anaconda3/lib/python3.9/site-packages/sklearn/svm/_base.py:985: ConvergenceWarning: Liblinear failed to converge, increase the number of iterations.\n",
      "  warnings.warn(\"Liblinear failed to converge, increase \"\n"
     ]
    },
    {
     "name": "stdout",
     "output_type": "stream",
     "text": [
      "[CV 2/5] END features__max_df=0.01, features__min_df=10, features__ngram_range=(1, 3), model__C=3;, score=0.896 total time=   1.1s\n"
     ]
    },
    {
     "name": "stderr",
     "output_type": "stream",
     "text": [
      "/opt/anaconda3/lib/python3.9/site-packages/sklearn/svm/_base.py:985: ConvergenceWarning: Liblinear failed to converge, increase the number of iterations.\n",
      "  warnings.warn(\"Liblinear failed to converge, increase \"\n"
     ]
    },
    {
     "name": "stdout",
     "output_type": "stream",
     "text": [
      "[CV 3/5] END features__max_df=0.01, features__min_df=10, features__ngram_range=(1, 3), model__C=3;, score=0.891 total time=   1.2s\n"
     ]
    },
    {
     "name": "stderr",
     "output_type": "stream",
     "text": [
      "/opt/anaconda3/lib/python3.9/site-packages/sklearn/svm/_base.py:985: ConvergenceWarning: Liblinear failed to converge, increase the number of iterations.\n",
      "  warnings.warn(\"Liblinear failed to converge, increase \"\n"
     ]
    },
    {
     "name": "stdout",
     "output_type": "stream",
     "text": [
      "[CV 4/5] END features__max_df=0.01, features__min_df=10, features__ngram_range=(1, 3), model__C=3;, score=0.898 total time=   1.2s\n",
      "[CV 5/5] END features__max_df=0.01, features__min_df=10, features__ngram_range=(1, 3), model__C=3;, score=0.887 total time=   1.1s\n"
     ]
    },
    {
     "name": "stderr",
     "output_type": "stream",
     "text": [
      "/opt/anaconda3/lib/python3.9/site-packages/sklearn/svm/_base.py:985: ConvergenceWarning: Liblinear failed to converge, increase the number of iterations.\n",
      "  warnings.warn(\"Liblinear failed to converge, increase \"\n"
     ]
    },
    {
     "name": "stdout",
     "output_type": "stream",
     "text": [
      "[CV 1/5] END features__max_df=0.01, features__min_df=10, features__ngram_range=(1, 3), model__C=4;, score=0.905 total time=   1.3s\n"
     ]
    },
    {
     "name": "stderr",
     "output_type": "stream",
     "text": [
      "/opt/anaconda3/lib/python3.9/site-packages/sklearn/svm/_base.py:985: ConvergenceWarning: Liblinear failed to converge, increase the number of iterations.\n",
      "  warnings.warn(\"Liblinear failed to converge, increase \"\n"
     ]
    },
    {
     "name": "stdout",
     "output_type": "stream",
     "text": [
      "[CV 2/5] END features__max_df=0.01, features__min_df=10, features__ngram_range=(1, 3), model__C=4;, score=0.894 total time=   1.0s\n"
     ]
    },
    {
     "name": "stderr",
     "output_type": "stream",
     "text": [
      "/opt/anaconda3/lib/python3.9/site-packages/sklearn/svm/_base.py:985: ConvergenceWarning: Liblinear failed to converge, increase the number of iterations.\n",
      "  warnings.warn(\"Liblinear failed to converge, increase \"\n"
     ]
    },
    {
     "name": "stdout",
     "output_type": "stream",
     "text": [
      "[CV 3/5] END features__max_df=0.01, features__min_df=10, features__ngram_range=(1, 3), model__C=4;, score=0.890 total time=   1.2s\n"
     ]
    },
    {
     "name": "stderr",
     "output_type": "stream",
     "text": [
      "/opt/anaconda3/lib/python3.9/site-packages/sklearn/svm/_base.py:985: ConvergenceWarning: Liblinear failed to converge, increase the number of iterations.\n",
      "  warnings.warn(\"Liblinear failed to converge, increase \"\n"
     ]
    },
    {
     "name": "stdout",
     "output_type": "stream",
     "text": [
      "[CV 4/5] END features__max_df=0.01, features__min_df=10, features__ngram_range=(1, 3), model__C=4;, score=0.894 total time=   1.3s\n"
     ]
    },
    {
     "name": "stderr",
     "output_type": "stream",
     "text": [
      "/opt/anaconda3/lib/python3.9/site-packages/sklearn/svm/_base.py:985: ConvergenceWarning: Liblinear failed to converge, increase the number of iterations.\n",
      "  warnings.warn(\"Liblinear failed to converge, increase \"\n"
     ]
    },
    {
     "name": "stdout",
     "output_type": "stream",
     "text": [
      "[CV 5/5] END features__max_df=0.01, features__min_df=10, features__ngram_range=(1, 3), model__C=4;, score=0.891 total time=   1.1s\n"
     ]
    },
    {
     "name": "stderr",
     "output_type": "stream",
     "text": [
      "/opt/anaconda3/lib/python3.9/site-packages/sklearn/svm/_base.py:985: ConvergenceWarning: Liblinear failed to converge, increase the number of iterations.\n",
      "  warnings.warn(\"Liblinear failed to converge, increase \"\n"
     ]
    },
    {
     "name": "stdout",
     "output_type": "stream",
     "text": [
      "[CV 1/5] END features__max_df=0.01, features__min_df=10, features__ngram_range=(1, 3), model__C=5;, score=0.902 total time=   1.1s\n"
     ]
    },
    {
     "name": "stderr",
     "output_type": "stream",
     "text": [
      "/opt/anaconda3/lib/python3.9/site-packages/sklearn/svm/_base.py:985: ConvergenceWarning: Liblinear failed to converge, increase the number of iterations.\n",
      "  warnings.warn(\"Liblinear failed to converge, increase \"\n"
     ]
    },
    {
     "name": "stdout",
     "output_type": "stream",
     "text": [
      "[CV 2/5] END features__max_df=0.01, features__min_df=10, features__ngram_range=(1, 3), model__C=5;, score=0.892 total time=   1.1s\n"
     ]
    },
    {
     "name": "stderr",
     "output_type": "stream",
     "text": [
      "/opt/anaconda3/lib/python3.9/site-packages/sklearn/svm/_base.py:985: ConvergenceWarning: Liblinear failed to converge, increase the number of iterations.\n",
      "  warnings.warn(\"Liblinear failed to converge, increase \"\n"
     ]
    },
    {
     "name": "stdout",
     "output_type": "stream",
     "text": [
      "[CV 3/5] END features__max_df=0.01, features__min_df=10, features__ngram_range=(1, 3), model__C=5;, score=0.890 total time=   1.2s\n"
     ]
    },
    {
     "name": "stderr",
     "output_type": "stream",
     "text": [
      "/opt/anaconda3/lib/python3.9/site-packages/sklearn/svm/_base.py:985: ConvergenceWarning: Liblinear failed to converge, increase the number of iterations.\n",
      "  warnings.warn(\"Liblinear failed to converge, increase \"\n"
     ]
    },
    {
     "name": "stdout",
     "output_type": "stream",
     "text": [
      "[CV 4/5] END features__max_df=0.01, features__min_df=10, features__ngram_range=(1, 3), model__C=5;, score=0.891 total time=   1.2s\n"
     ]
    },
    {
     "name": "stderr",
     "output_type": "stream",
     "text": [
      "/opt/anaconda3/lib/python3.9/site-packages/sklearn/svm/_base.py:985: ConvergenceWarning: Liblinear failed to converge, increase the number of iterations.\n",
      "  warnings.warn(\"Liblinear failed to converge, increase \"\n"
     ]
    },
    {
     "name": "stdout",
     "output_type": "stream",
     "text": [
      "[CV 5/5] END features__max_df=0.01, features__min_df=10, features__ngram_range=(1, 3), model__C=5;, score=0.889 total time=   1.1s\n"
     ]
    },
    {
     "name": "stderr",
     "output_type": "stream",
     "text": [
      "/opt/anaconda3/lib/python3.9/site-packages/sklearn/svm/_base.py:985: ConvergenceWarning: Liblinear failed to converge, increase the number of iterations.\n",
      "  warnings.warn(\"Liblinear failed to converge, increase \"\n"
     ]
    },
    {
     "name": "stdout",
     "output_type": "stream",
     "text": [
      "[CV 1/5] END features__max_df=0.01, features__min_df=10, features__ngram_range=(1, 3), model__C=6;, score=0.901 total time=   1.1s\n"
     ]
    },
    {
     "name": "stderr",
     "output_type": "stream",
     "text": [
      "/opt/anaconda3/lib/python3.9/site-packages/sklearn/svm/_base.py:985: ConvergenceWarning: Liblinear failed to converge, increase the number of iterations.\n",
      "  warnings.warn(\"Liblinear failed to converge, increase \"\n"
     ]
    },
    {
     "name": "stdout",
     "output_type": "stream",
     "text": [
      "[CV 2/5] END features__max_df=0.01, features__min_df=10, features__ngram_range=(1, 3), model__C=6;, score=0.889 total time=   1.3s\n"
     ]
    },
    {
     "name": "stderr",
     "output_type": "stream",
     "text": [
      "/opt/anaconda3/lib/python3.9/site-packages/sklearn/svm/_base.py:985: ConvergenceWarning: Liblinear failed to converge, increase the number of iterations.\n",
      "  warnings.warn(\"Liblinear failed to converge, increase \"\n"
     ]
    },
    {
     "name": "stdout",
     "output_type": "stream",
     "text": [
      "[CV 3/5] END features__max_df=0.01, features__min_df=10, features__ngram_range=(1, 3), model__C=6;, score=0.888 total time=   1.3s\n"
     ]
    },
    {
     "name": "stderr",
     "output_type": "stream",
     "text": [
      "/opt/anaconda3/lib/python3.9/site-packages/sklearn/svm/_base.py:985: ConvergenceWarning: Liblinear failed to converge, increase the number of iterations.\n",
      "  warnings.warn(\"Liblinear failed to converge, increase \"\n"
     ]
    },
    {
     "name": "stdout",
     "output_type": "stream",
     "text": [
      "[CV 4/5] END features__max_df=0.01, features__min_df=10, features__ngram_range=(1, 3), model__C=6;, score=0.889 total time=   1.3s\n"
     ]
    },
    {
     "name": "stderr",
     "output_type": "stream",
     "text": [
      "/opt/anaconda3/lib/python3.9/site-packages/sklearn/svm/_base.py:985: ConvergenceWarning: Liblinear failed to converge, increase the number of iterations.\n",
      "  warnings.warn(\"Liblinear failed to converge, increase \"\n"
     ]
    },
    {
     "name": "stdout",
     "output_type": "stream",
     "text": [
      "[CV 5/5] END features__max_df=0.01, features__min_df=10, features__ngram_range=(1, 3), model__C=6;, score=0.885 total time=   1.2s\n"
     ]
    },
    {
     "name": "stderr",
     "output_type": "stream",
     "text": [
      "/opt/anaconda3/lib/python3.9/site-packages/sklearn/svm/_base.py:985: ConvergenceWarning: Liblinear failed to converge, increase the number of iterations.\n",
      "  warnings.warn(\"Liblinear failed to converge, increase \"\n"
     ]
    },
    {
     "name": "stdout",
     "output_type": "stream",
     "text": [
      "[CV 1/5] END features__max_df=0.01, features__min_df=10, features__ngram_range=(1, 3), model__C=7;, score=0.899 total time=   1.3s\n"
     ]
    },
    {
     "name": "stderr",
     "output_type": "stream",
     "text": [
      "/opt/anaconda3/lib/python3.9/site-packages/sklearn/svm/_base.py:985: ConvergenceWarning: Liblinear failed to converge, increase the number of iterations.\n",
      "  warnings.warn(\"Liblinear failed to converge, increase \"\n"
     ]
    },
    {
     "name": "stdout",
     "output_type": "stream",
     "text": [
      "[CV 2/5] END features__max_df=0.01, features__min_df=10, features__ngram_range=(1, 3), model__C=7;, score=0.890 total time=   1.3s\n"
     ]
    },
    {
     "name": "stderr",
     "output_type": "stream",
     "text": [
      "/opt/anaconda3/lib/python3.9/site-packages/sklearn/svm/_base.py:985: ConvergenceWarning: Liblinear failed to converge, increase the number of iterations.\n",
      "  warnings.warn(\"Liblinear failed to converge, increase \"\n"
     ]
    },
    {
     "name": "stdout",
     "output_type": "stream",
     "text": [
      "[CV 3/5] END features__max_df=0.01, features__min_df=10, features__ngram_range=(1, 3), model__C=7;, score=0.886 total time=   1.3s\n"
     ]
    },
    {
     "name": "stderr",
     "output_type": "stream",
     "text": [
      "/opt/anaconda3/lib/python3.9/site-packages/sklearn/svm/_base.py:985: ConvergenceWarning: Liblinear failed to converge, increase the number of iterations.\n",
      "  warnings.warn(\"Liblinear failed to converge, increase \"\n"
     ]
    },
    {
     "name": "stdout",
     "output_type": "stream",
     "text": [
      "[CV 4/5] END features__max_df=0.01, features__min_df=10, features__ngram_range=(1, 3), model__C=7;, score=0.888 total time=   1.3s\n"
     ]
    },
    {
     "name": "stderr",
     "output_type": "stream",
     "text": [
      "/opt/anaconda3/lib/python3.9/site-packages/sklearn/svm/_base.py:985: ConvergenceWarning: Liblinear failed to converge, increase the number of iterations.\n",
      "  warnings.warn(\"Liblinear failed to converge, increase \"\n"
     ]
    },
    {
     "name": "stdout",
     "output_type": "stream",
     "text": [
      "[CV 5/5] END features__max_df=0.01, features__min_df=10, features__ngram_range=(1, 3), model__C=7;, score=0.884 total time=   1.3s\n"
     ]
    },
    {
     "name": "stderr",
     "output_type": "stream",
     "text": [
      "/opt/anaconda3/lib/python3.9/site-packages/sklearn/svm/_base.py:985: ConvergenceWarning: Liblinear failed to converge, increase the number of iterations.\n",
      "  warnings.warn(\"Liblinear failed to converge, increase \"\n"
     ]
    },
    {
     "name": "stdout",
     "output_type": "stream",
     "text": [
      "[CV 1/5] END features__max_df=0.01, features__min_df=10, features__ngram_range=(1, 3), model__C=8;, score=0.897 total time=   1.4s\n"
     ]
    },
    {
     "name": "stderr",
     "output_type": "stream",
     "text": [
      "/opt/anaconda3/lib/python3.9/site-packages/sklearn/svm/_base.py:985: ConvergenceWarning: Liblinear failed to converge, increase the number of iterations.\n",
      "  warnings.warn(\"Liblinear failed to converge, increase \"\n"
     ]
    },
    {
     "name": "stdout",
     "output_type": "stream",
     "text": [
      "[CV 2/5] END features__max_df=0.01, features__min_df=10, features__ngram_range=(1, 3), model__C=8;, score=0.889 total time=   1.4s\n"
     ]
    },
    {
     "name": "stderr",
     "output_type": "stream",
     "text": [
      "/opt/anaconda3/lib/python3.9/site-packages/sklearn/svm/_base.py:985: ConvergenceWarning: Liblinear failed to converge, increase the number of iterations.\n",
      "  warnings.warn(\"Liblinear failed to converge, increase \"\n"
     ]
    },
    {
     "name": "stdout",
     "output_type": "stream",
     "text": [
      "[CV 3/5] END features__max_df=0.01, features__min_df=10, features__ngram_range=(1, 3), model__C=8;, score=0.884 total time=   1.3s\n"
     ]
    },
    {
     "name": "stderr",
     "output_type": "stream",
     "text": [
      "/opt/anaconda3/lib/python3.9/site-packages/sklearn/svm/_base.py:985: ConvergenceWarning: Liblinear failed to converge, increase the number of iterations.\n",
      "  warnings.warn(\"Liblinear failed to converge, increase \"\n"
     ]
    },
    {
     "name": "stdout",
     "output_type": "stream",
     "text": [
      "[CV 4/5] END features__max_df=0.01, features__min_df=10, features__ngram_range=(1, 3), model__C=8;, score=0.887 total time=   1.3s\n"
     ]
    },
    {
     "name": "stderr",
     "output_type": "stream",
     "text": [
      "/opt/anaconda3/lib/python3.9/site-packages/sklearn/svm/_base.py:985: ConvergenceWarning: Liblinear failed to converge, increase the number of iterations.\n",
      "  warnings.warn(\"Liblinear failed to converge, increase \"\n"
     ]
    },
    {
     "name": "stdout",
     "output_type": "stream",
     "text": [
      "[CV 5/5] END features__max_df=0.01, features__min_df=10, features__ngram_range=(1, 3), model__C=8;, score=0.884 total time=   1.4s\n"
     ]
    },
    {
     "name": "stderr",
     "output_type": "stream",
     "text": [
      "/opt/anaconda3/lib/python3.9/site-packages/sklearn/svm/_base.py:985: ConvergenceWarning: Liblinear failed to converge, increase the number of iterations.\n",
      "  warnings.warn(\"Liblinear failed to converge, increase \"\n"
     ]
    },
    {
     "name": "stdout",
     "output_type": "stream",
     "text": [
      "[CV 1/5] END features__max_df=0.01, features__min_df=10, features__ngram_range=(1, 3), model__C=9;, score=0.896 total time=   1.4s\n"
     ]
    },
    {
     "name": "stderr",
     "output_type": "stream",
     "text": [
      "/opt/anaconda3/lib/python3.9/site-packages/sklearn/svm/_base.py:985: ConvergenceWarning: Liblinear failed to converge, increase the number of iterations.\n",
      "  warnings.warn(\"Liblinear failed to converge, increase \"\n"
     ]
    },
    {
     "name": "stdout",
     "output_type": "stream",
     "text": [
      "[CV 2/5] END features__max_df=0.01, features__min_df=10, features__ngram_range=(1, 3), model__C=9;, score=0.887 total time=   1.4s\n"
     ]
    },
    {
     "name": "stderr",
     "output_type": "stream",
     "text": [
      "/opt/anaconda3/lib/python3.9/site-packages/sklearn/svm/_base.py:985: ConvergenceWarning: Liblinear failed to converge, increase the number of iterations.\n",
      "  warnings.warn(\"Liblinear failed to converge, increase \"\n"
     ]
    },
    {
     "name": "stdout",
     "output_type": "stream",
     "text": [
      "[CV 3/5] END features__max_df=0.01, features__min_df=10, features__ngram_range=(1, 3), model__C=9;, score=0.882 total time=   1.4s\n"
     ]
    },
    {
     "name": "stderr",
     "output_type": "stream",
     "text": [
      "/opt/anaconda3/lib/python3.9/site-packages/sklearn/svm/_base.py:985: ConvergenceWarning: Liblinear failed to converge, increase the number of iterations.\n",
      "  warnings.warn(\"Liblinear failed to converge, increase \"\n"
     ]
    },
    {
     "name": "stdout",
     "output_type": "stream",
     "text": [
      "[CV 4/5] END features__max_df=0.01, features__min_df=10, features__ngram_range=(1, 3), model__C=9;, score=0.885 total time=   1.5s\n"
     ]
    },
    {
     "name": "stderr",
     "output_type": "stream",
     "text": [
      "/opt/anaconda3/lib/python3.9/site-packages/sklearn/svm/_base.py:985: ConvergenceWarning: Liblinear failed to converge, increase the number of iterations.\n",
      "  warnings.warn(\"Liblinear failed to converge, increase \"\n"
     ]
    },
    {
     "name": "stdout",
     "output_type": "stream",
     "text": [
      "[CV 5/5] END features__max_df=0.01, features__min_df=10, features__ngram_range=(1, 3), model__C=9;, score=0.882 total time=   1.3s\n"
     ]
    },
    {
     "name": "stderr",
     "output_type": "stream",
     "text": [
      "/opt/anaconda3/lib/python3.9/site-packages/sklearn/svm/_base.py:985: ConvergenceWarning: Liblinear failed to converge, increase the number of iterations.\n",
      "  warnings.warn(\"Liblinear failed to converge, increase \"\n"
     ]
    },
    {
     "name": "stdout",
     "output_type": "stream",
     "text": [
      "[CV 1/5] END features__max_df=0.01, features__min_df=10, features__ngram_range=(1, 3), model__C=10;, score=0.893 total time=   1.5s\n"
     ]
    },
    {
     "name": "stderr",
     "output_type": "stream",
     "text": [
      "/opt/anaconda3/lib/python3.9/site-packages/sklearn/svm/_base.py:985: ConvergenceWarning: Liblinear failed to converge, increase the number of iterations.\n",
      "  warnings.warn(\"Liblinear failed to converge, increase \"\n"
     ]
    },
    {
     "name": "stdout",
     "output_type": "stream",
     "text": [
      "[CV 2/5] END features__max_df=0.01, features__min_df=10, features__ngram_range=(1, 3), model__C=10;, score=0.886 total time=   1.3s\n"
     ]
    },
    {
     "name": "stderr",
     "output_type": "stream",
     "text": [
      "/opt/anaconda3/lib/python3.9/site-packages/sklearn/svm/_base.py:985: ConvergenceWarning: Liblinear failed to converge, increase the number of iterations.\n",
      "  warnings.warn(\"Liblinear failed to converge, increase \"\n"
     ]
    },
    {
     "name": "stdout",
     "output_type": "stream",
     "text": [
      "[CV 3/5] END features__max_df=0.01, features__min_df=10, features__ngram_range=(1, 3), model__C=10;, score=0.881 total time=   1.5s\n"
     ]
    },
    {
     "name": "stderr",
     "output_type": "stream",
     "text": [
      "/opt/anaconda3/lib/python3.9/site-packages/sklearn/svm/_base.py:985: ConvergenceWarning: Liblinear failed to converge, increase the number of iterations.\n",
      "  warnings.warn(\"Liblinear failed to converge, increase \"\n"
     ]
    },
    {
     "name": "stdout",
     "output_type": "stream",
     "text": [
      "[CV 4/5] END features__max_df=0.01, features__min_df=10, features__ngram_range=(1, 3), model__C=10;, score=0.885 total time=   1.4s\n"
     ]
    },
    {
     "name": "stderr",
     "output_type": "stream",
     "text": [
      "/opt/anaconda3/lib/python3.9/site-packages/sklearn/svm/_base.py:985: ConvergenceWarning: Liblinear failed to converge, increase the number of iterations.\n",
      "  warnings.warn(\"Liblinear failed to converge, increase \"\n"
     ]
    },
    {
     "name": "stdout",
     "output_type": "stream",
     "text": [
      "[CV 5/5] END features__max_df=0.01, features__min_df=10, features__ngram_range=(1, 3), model__C=10;, score=0.881 total time=   1.3s\n",
      "[CV 1/5] END features__max_df=0.01, features__min_df=10, features__ngram_range=(1, 4), model__C=1;, score=0.907 total time=   0.9s\n",
      "[CV 2/5] END features__max_df=0.01, features__min_df=10, features__ngram_range=(1, 4), model__C=1;, score=0.899 total time=   1.1s\n",
      "[CV 3/5] END features__max_df=0.01, features__min_df=10, features__ngram_range=(1, 4), model__C=1;, score=0.899 total time=   0.9s\n",
      "[CV 4/5] END features__max_df=0.01, features__min_df=10, features__ngram_range=(1, 4), model__C=1;, score=0.905 total time=   1.0s\n",
      "[CV 5/5] END features__max_df=0.01, features__min_df=10, features__ngram_range=(1, 4), model__C=1;, score=0.896 total time=   0.9s\n",
      "[CV 1/5] END features__max_df=0.01, features__min_df=10, features__ngram_range=(1, 4), model__C=2;, score=0.905 total time=   1.1s\n"
     ]
    },
    {
     "name": "stderr",
     "output_type": "stream",
     "text": [
      "/opt/anaconda3/lib/python3.9/site-packages/sklearn/svm/_base.py:985: ConvergenceWarning: Liblinear failed to converge, increase the number of iterations.\n",
      "  warnings.warn(\"Liblinear failed to converge, increase \"\n"
     ]
    },
    {
     "name": "stdout",
     "output_type": "stream",
     "text": [
      "[CV 2/5] END features__max_df=0.01, features__min_df=10, features__ngram_range=(1, 4), model__C=2;, score=0.898 total time=   1.2s\n"
     ]
    },
    {
     "name": "stderr",
     "output_type": "stream",
     "text": [
      "/opt/anaconda3/lib/python3.9/site-packages/sklearn/svm/_base.py:985: ConvergenceWarning: Liblinear failed to converge, increase the number of iterations.\n",
      "  warnings.warn(\"Liblinear failed to converge, increase \"\n"
     ]
    },
    {
     "name": "stdout",
     "output_type": "stream",
     "text": [
      "[CV 3/5] END features__max_df=0.01, features__min_df=10, features__ngram_range=(1, 4), model__C=2;, score=0.894 total time=   1.2s\n",
      "[CV 4/5] END features__max_df=0.01, features__min_df=10, features__ngram_range=(1, 4), model__C=2;, score=0.900 total time=   1.0s\n"
     ]
    },
    {
     "name": "stderr",
     "output_type": "stream",
     "text": [
      "/opt/anaconda3/lib/python3.9/site-packages/sklearn/svm/_base.py:985: ConvergenceWarning: Liblinear failed to converge, increase the number of iterations.\n",
      "  warnings.warn(\"Liblinear failed to converge, increase \"\n"
     ]
    },
    {
     "name": "stdout",
     "output_type": "stream",
     "text": [
      "[CV 5/5] END features__max_df=0.01, features__min_df=10, features__ngram_range=(1, 4), model__C=2;, score=0.891 total time=   1.1s\n",
      "[CV 1/5] END features__max_df=0.01, features__min_df=10, features__ngram_range=(1, 4), model__C=3;, score=0.906 total time=   1.1s\n"
     ]
    },
    {
     "name": "stderr",
     "output_type": "stream",
     "text": [
      "/opt/anaconda3/lib/python3.9/site-packages/sklearn/svm/_base.py:985: ConvergenceWarning: Liblinear failed to converge, increase the number of iterations.\n",
      "  warnings.warn(\"Liblinear failed to converge, increase \"\n"
     ]
    },
    {
     "name": "stdout",
     "output_type": "stream",
     "text": [
      "[CV 2/5] END features__max_df=0.01, features__min_df=10, features__ngram_range=(1, 4), model__C=3;, score=0.896 total time=   1.3s\n"
     ]
    },
    {
     "name": "stderr",
     "output_type": "stream",
     "text": [
      "/opt/anaconda3/lib/python3.9/site-packages/sklearn/svm/_base.py:985: ConvergenceWarning: Liblinear failed to converge, increase the number of iterations.\n",
      "  warnings.warn(\"Liblinear failed to converge, increase \"\n"
     ]
    },
    {
     "name": "stdout",
     "output_type": "stream",
     "text": [
      "[CV 3/5] END features__max_df=0.01, features__min_df=10, features__ngram_range=(1, 4), model__C=3;, score=0.891 total time=   1.2s\n",
      "[CV 4/5] END features__max_df=0.01, features__min_df=10, features__ngram_range=(1, 4), model__C=3;, score=0.898 total time=   1.2s\n",
      "[CV 5/5] END features__max_df=0.01, features__min_df=10, features__ngram_range=(1, 4), model__C=3;, score=0.888 total time=   1.2s\n",
      "[CV 1/5] END features__max_df=0.01, features__min_df=10, features__ngram_range=(1, 4), model__C=4;, score=0.904 total time=   1.3s\n",
      "[CV 2/5] END features__max_df=0.01, features__min_df=10, features__ngram_range=(1, 4), model__C=4;, score=0.894 total time=   1.1s\n"
     ]
    },
    {
     "name": "stderr",
     "output_type": "stream",
     "text": [
      "/opt/anaconda3/lib/python3.9/site-packages/sklearn/svm/_base.py:985: ConvergenceWarning: Liblinear failed to converge, increase the number of iterations.\n",
      "  warnings.warn(\"Liblinear failed to converge, increase \"\n"
     ]
    },
    {
     "name": "stdout",
     "output_type": "stream",
     "text": [
      "[CV 3/5] END features__max_df=0.01, features__min_df=10, features__ngram_range=(1, 4), model__C=4;, score=0.890 total time=   1.2s\n"
     ]
    },
    {
     "name": "stderr",
     "output_type": "stream",
     "text": [
      "/opt/anaconda3/lib/python3.9/site-packages/sklearn/svm/_base.py:985: ConvergenceWarning: Liblinear failed to converge, increase the number of iterations.\n",
      "  warnings.warn(\"Liblinear failed to converge, increase \"\n"
     ]
    },
    {
     "name": "stdout",
     "output_type": "stream",
     "text": [
      "[CV 4/5] END features__max_df=0.01, features__min_df=10, features__ngram_range=(1, 4), model__C=4;, score=0.894 total time=   1.3s\n"
     ]
    },
    {
     "name": "stderr",
     "output_type": "stream",
     "text": [
      "/opt/anaconda3/lib/python3.9/site-packages/sklearn/svm/_base.py:985: ConvergenceWarning: Liblinear failed to converge, increase the number of iterations.\n",
      "  warnings.warn(\"Liblinear failed to converge, increase \"\n"
     ]
    },
    {
     "name": "stdout",
     "output_type": "stream",
     "text": [
      "[CV 5/5] END features__max_df=0.01, features__min_df=10, features__ngram_range=(1, 4), model__C=4;, score=0.890 total time=   1.2s\n"
     ]
    },
    {
     "name": "stderr",
     "output_type": "stream",
     "text": [
      "/opt/anaconda3/lib/python3.9/site-packages/sklearn/svm/_base.py:985: ConvergenceWarning: Liblinear failed to converge, increase the number of iterations.\n",
      "  warnings.warn(\"Liblinear failed to converge, increase \"\n"
     ]
    },
    {
     "name": "stdout",
     "output_type": "stream",
     "text": [
      "[CV 1/5] END features__max_df=0.01, features__min_df=10, features__ngram_range=(1, 4), model__C=5;, score=0.903 total time=   1.4s\n"
     ]
    },
    {
     "name": "stderr",
     "output_type": "stream",
     "text": [
      "/opt/anaconda3/lib/python3.9/site-packages/sklearn/svm/_base.py:985: ConvergenceWarning: Liblinear failed to converge, increase the number of iterations.\n",
      "  warnings.warn(\"Liblinear failed to converge, increase \"\n"
     ]
    },
    {
     "name": "stdout",
     "output_type": "stream",
     "text": [
      "[CV 2/5] END features__max_df=0.01, features__min_df=10, features__ngram_range=(1, 4), model__C=5;, score=0.892 total time=   1.2s\n"
     ]
    },
    {
     "name": "stderr",
     "output_type": "stream",
     "text": [
      "/opt/anaconda3/lib/python3.9/site-packages/sklearn/svm/_base.py:985: ConvergenceWarning: Liblinear failed to converge, increase the number of iterations.\n",
      "  warnings.warn(\"Liblinear failed to converge, increase \"\n"
     ]
    },
    {
     "name": "stdout",
     "output_type": "stream",
     "text": [
      "[CV 3/5] END features__max_df=0.01, features__min_df=10, features__ngram_range=(1, 4), model__C=5;, score=0.889 total time=   1.4s\n"
     ]
    },
    {
     "name": "stderr",
     "output_type": "stream",
     "text": [
      "/opt/anaconda3/lib/python3.9/site-packages/sklearn/svm/_base.py:985: ConvergenceWarning: Liblinear failed to converge, increase the number of iterations.\n",
      "  warnings.warn(\"Liblinear failed to converge, increase \"\n"
     ]
    },
    {
     "name": "stdout",
     "output_type": "stream",
     "text": [
      "[CV 4/5] END features__max_df=0.01, features__min_df=10, features__ngram_range=(1, 4), model__C=5;, score=0.891 total time=   1.3s\n"
     ]
    },
    {
     "name": "stderr",
     "output_type": "stream",
     "text": [
      "/opt/anaconda3/lib/python3.9/site-packages/sklearn/svm/_base.py:985: ConvergenceWarning: Liblinear failed to converge, increase the number of iterations.\n",
      "  warnings.warn(\"Liblinear failed to converge, increase \"\n"
     ]
    },
    {
     "name": "stdout",
     "output_type": "stream",
     "text": [
      "[CV 5/5] END features__max_df=0.01, features__min_df=10, features__ngram_range=(1, 4), model__C=5;, score=0.888 total time=   1.3s\n"
     ]
    },
    {
     "name": "stderr",
     "output_type": "stream",
     "text": [
      "/opt/anaconda3/lib/python3.9/site-packages/sklearn/svm/_base.py:985: ConvergenceWarning: Liblinear failed to converge, increase the number of iterations.\n",
      "  warnings.warn(\"Liblinear failed to converge, increase \"\n"
     ]
    },
    {
     "name": "stdout",
     "output_type": "stream",
     "text": [
      "[CV 1/5] END features__max_df=0.01, features__min_df=10, features__ngram_range=(1, 4), model__C=6;, score=0.901 total time=   1.4s\n"
     ]
    },
    {
     "name": "stderr",
     "output_type": "stream",
     "text": [
      "/opt/anaconda3/lib/python3.9/site-packages/sklearn/svm/_base.py:985: ConvergenceWarning: Liblinear failed to converge, increase the number of iterations.\n",
      "  warnings.warn(\"Liblinear failed to converge, increase \"\n"
     ]
    },
    {
     "name": "stdout",
     "output_type": "stream",
     "text": [
      "[CV 2/5] END features__max_df=0.01, features__min_df=10, features__ngram_range=(1, 4), model__C=6;, score=0.889 total time=   1.4s\n",
      "[CV 3/5] END features__max_df=0.01, features__min_df=10, features__ngram_range=(1, 4), model__C=6;, score=0.888 total time=   1.4s\n"
     ]
    },
    {
     "name": "stderr",
     "output_type": "stream",
     "text": [
      "/opt/anaconda3/lib/python3.9/site-packages/sklearn/svm/_base.py:985: ConvergenceWarning: Liblinear failed to converge, increase the number of iterations.\n",
      "  warnings.warn(\"Liblinear failed to converge, increase \"\n"
     ]
    },
    {
     "name": "stdout",
     "output_type": "stream",
     "text": [
      "[CV 4/5] END features__max_df=0.01, features__min_df=10, features__ngram_range=(1, 4), model__C=6;, score=0.889 total time=   1.5s\n"
     ]
    },
    {
     "name": "stderr",
     "output_type": "stream",
     "text": [
      "/opt/anaconda3/lib/python3.9/site-packages/sklearn/svm/_base.py:985: ConvergenceWarning: Liblinear failed to converge, increase the number of iterations.\n",
      "  warnings.warn(\"Liblinear failed to converge, increase \"\n"
     ]
    },
    {
     "name": "stdout",
     "output_type": "stream",
     "text": [
      "[CV 5/5] END features__max_df=0.01, features__min_df=10, features__ngram_range=(1, 4), model__C=6;, score=0.885 total time=   1.4s\n"
     ]
    },
    {
     "name": "stderr",
     "output_type": "stream",
     "text": [
      "/opt/anaconda3/lib/python3.9/site-packages/sklearn/svm/_base.py:985: ConvergenceWarning: Liblinear failed to converge, increase the number of iterations.\n",
      "  warnings.warn(\"Liblinear failed to converge, increase \"\n"
     ]
    },
    {
     "name": "stdout",
     "output_type": "stream",
     "text": [
      "[CV 1/5] END features__max_df=0.01, features__min_df=10, features__ngram_range=(1, 4), model__C=7;, score=0.898 total time=   1.4s\n"
     ]
    },
    {
     "name": "stderr",
     "output_type": "stream",
     "text": [
      "/opt/anaconda3/lib/python3.9/site-packages/sklearn/svm/_base.py:985: ConvergenceWarning: Liblinear failed to converge, increase the number of iterations.\n",
      "  warnings.warn(\"Liblinear failed to converge, increase \"\n"
     ]
    },
    {
     "name": "stdout",
     "output_type": "stream",
     "text": [
      "[CV 2/5] END features__max_df=0.01, features__min_df=10, features__ngram_range=(1, 4), model__C=7;, score=0.890 total time=   1.4s\n",
      "[CV 3/5] END features__max_df=0.01, features__min_df=10, features__ngram_range=(1, 4), model__C=7;, score=0.886 total time=   1.3s\n"
     ]
    },
    {
     "name": "stderr",
     "output_type": "stream",
     "text": [
      "/opt/anaconda3/lib/python3.9/site-packages/sklearn/svm/_base.py:985: ConvergenceWarning: Liblinear failed to converge, increase the number of iterations.\n",
      "  warnings.warn(\"Liblinear failed to converge, increase \"\n"
     ]
    },
    {
     "name": "stdout",
     "output_type": "stream",
     "text": [
      "[CV 4/5] END features__max_df=0.01, features__min_df=10, features__ngram_range=(1, 4), model__C=7;, score=0.888 total time=   1.3s\n"
     ]
    },
    {
     "name": "stderr",
     "output_type": "stream",
     "text": [
      "/opt/anaconda3/lib/python3.9/site-packages/sklearn/svm/_base.py:985: ConvergenceWarning: Liblinear failed to converge, increase the number of iterations.\n",
      "  warnings.warn(\"Liblinear failed to converge, increase \"\n"
     ]
    },
    {
     "name": "stdout",
     "output_type": "stream",
     "text": [
      "[CV 5/5] END features__max_df=0.01, features__min_df=10, features__ngram_range=(1, 4), model__C=7;, score=0.885 total time=   1.5s\n"
     ]
    },
    {
     "name": "stderr",
     "output_type": "stream",
     "text": [
      "/opt/anaconda3/lib/python3.9/site-packages/sklearn/svm/_base.py:985: ConvergenceWarning: Liblinear failed to converge, increase the number of iterations.\n",
      "  warnings.warn(\"Liblinear failed to converge, increase \"\n"
     ]
    },
    {
     "name": "stdout",
     "output_type": "stream",
     "text": [
      "[CV 1/5] END features__max_df=0.01, features__min_df=10, features__ngram_range=(1, 4), model__C=8;, score=0.897 total time=   1.4s\n"
     ]
    },
    {
     "name": "stderr",
     "output_type": "stream",
     "text": [
      "/opt/anaconda3/lib/python3.9/site-packages/sklearn/svm/_base.py:985: ConvergenceWarning: Liblinear failed to converge, increase the number of iterations.\n",
      "  warnings.warn(\"Liblinear failed to converge, increase \"\n"
     ]
    },
    {
     "name": "stdout",
     "output_type": "stream",
     "text": [
      "[CV 2/5] END features__max_df=0.01, features__min_df=10, features__ngram_range=(1, 4), model__C=8;, score=0.888 total time=   1.5s\n",
      "[CV 3/5] END features__max_df=0.01, features__min_df=10, features__ngram_range=(1, 4), model__C=8;, score=0.885 total time=   1.3s\n"
     ]
    },
    {
     "name": "stderr",
     "output_type": "stream",
     "text": [
      "/opt/anaconda3/lib/python3.9/site-packages/sklearn/svm/_base.py:985: ConvergenceWarning: Liblinear failed to converge, increase the number of iterations.\n",
      "  warnings.warn(\"Liblinear failed to converge, increase \"\n"
     ]
    },
    {
     "name": "stdout",
     "output_type": "stream",
     "text": [
      "[CV 4/5] END features__max_df=0.01, features__min_df=10, features__ngram_range=(1, 4), model__C=8;, score=0.888 total time=   1.4s\n"
     ]
    },
    {
     "name": "stderr",
     "output_type": "stream",
     "text": [
      "/opt/anaconda3/lib/python3.9/site-packages/sklearn/svm/_base.py:985: ConvergenceWarning: Liblinear failed to converge, increase the number of iterations.\n",
      "  warnings.warn(\"Liblinear failed to converge, increase \"\n"
     ]
    },
    {
     "name": "stdout",
     "output_type": "stream",
     "text": [
      "[CV 5/5] END features__max_df=0.01, features__min_df=10, features__ngram_range=(1, 4), model__C=8;, score=0.885 total time=   1.5s\n"
     ]
    },
    {
     "name": "stderr",
     "output_type": "stream",
     "text": [
      "/opt/anaconda3/lib/python3.9/site-packages/sklearn/svm/_base.py:985: ConvergenceWarning: Liblinear failed to converge, increase the number of iterations.\n",
      "  warnings.warn(\"Liblinear failed to converge, increase \"\n"
     ]
    },
    {
     "name": "stdout",
     "output_type": "stream",
     "text": [
      "[CV 1/5] END features__max_df=0.01, features__min_df=10, features__ngram_range=(1, 4), model__C=9;, score=0.896 total time=   1.6s\n"
     ]
    },
    {
     "name": "stderr",
     "output_type": "stream",
     "text": [
      "/opt/anaconda3/lib/python3.9/site-packages/sklearn/svm/_base.py:985: ConvergenceWarning: Liblinear failed to converge, increase the number of iterations.\n",
      "  warnings.warn(\"Liblinear failed to converge, increase \"\n"
     ]
    },
    {
     "name": "stdout",
     "output_type": "stream",
     "text": [
      "[CV 2/5] END features__max_df=0.01, features__min_df=10, features__ngram_range=(1, 4), model__C=9;, score=0.888 total time=   1.5s\n"
     ]
    },
    {
     "name": "stderr",
     "output_type": "stream",
     "text": [
      "/opt/anaconda3/lib/python3.9/site-packages/sklearn/svm/_base.py:985: ConvergenceWarning: Liblinear failed to converge, increase the number of iterations.\n",
      "  warnings.warn(\"Liblinear failed to converge, increase \"\n"
     ]
    },
    {
     "name": "stdout",
     "output_type": "stream",
     "text": [
      "[CV 3/5] END features__max_df=0.01, features__min_df=10, features__ngram_range=(1, 4), model__C=9;, score=0.882 total time=   1.5s\n"
     ]
    },
    {
     "name": "stderr",
     "output_type": "stream",
     "text": [
      "/opt/anaconda3/lib/python3.9/site-packages/sklearn/svm/_base.py:985: ConvergenceWarning: Liblinear failed to converge, increase the number of iterations.\n",
      "  warnings.warn(\"Liblinear failed to converge, increase \"\n"
     ]
    },
    {
     "name": "stdout",
     "output_type": "stream",
     "text": [
      "[CV 4/5] END features__max_df=0.01, features__min_df=10, features__ngram_range=(1, 4), model__C=9;, score=0.886 total time=   1.6s\n"
     ]
    },
    {
     "name": "stderr",
     "output_type": "stream",
     "text": [
      "/opt/anaconda3/lib/python3.9/site-packages/sklearn/svm/_base.py:985: ConvergenceWarning: Liblinear failed to converge, increase the number of iterations.\n",
      "  warnings.warn(\"Liblinear failed to converge, increase \"\n"
     ]
    },
    {
     "name": "stdout",
     "output_type": "stream",
     "text": [
      "[CV 5/5] END features__max_df=0.01, features__min_df=10, features__ngram_range=(1, 4), model__C=9;, score=0.882 total time=   1.4s\n"
     ]
    },
    {
     "name": "stderr",
     "output_type": "stream",
     "text": [
      "/opt/anaconda3/lib/python3.9/site-packages/sklearn/svm/_base.py:985: ConvergenceWarning: Liblinear failed to converge, increase the number of iterations.\n",
      "  warnings.warn(\"Liblinear failed to converge, increase \"\n"
     ]
    },
    {
     "name": "stdout",
     "output_type": "stream",
     "text": [
      "[CV 1/5] END features__max_df=0.01, features__min_df=10, features__ngram_range=(1, 4), model__C=10;, score=0.893 total time=   1.6s\n"
     ]
    },
    {
     "name": "stderr",
     "output_type": "stream",
     "text": [
      "/opt/anaconda3/lib/python3.9/site-packages/sklearn/svm/_base.py:985: ConvergenceWarning: Liblinear failed to converge, increase the number of iterations.\n",
      "  warnings.warn(\"Liblinear failed to converge, increase \"\n"
     ]
    },
    {
     "name": "stdout",
     "output_type": "stream",
     "text": [
      "[CV 2/5] END features__max_df=0.01, features__min_df=10, features__ngram_range=(1, 4), model__C=10;, score=0.886 total time=   1.4s\n"
     ]
    },
    {
     "name": "stderr",
     "output_type": "stream",
     "text": [
      "/opt/anaconda3/lib/python3.9/site-packages/sklearn/svm/_base.py:985: ConvergenceWarning: Liblinear failed to converge, increase the number of iterations.\n",
      "  warnings.warn(\"Liblinear failed to converge, increase \"\n"
     ]
    },
    {
     "name": "stdout",
     "output_type": "stream",
     "text": [
      "[CV 3/5] END features__max_df=0.01, features__min_df=10, features__ngram_range=(1, 4), model__C=10;, score=0.882 total time=   1.6s\n"
     ]
    },
    {
     "name": "stderr",
     "output_type": "stream",
     "text": [
      "/opt/anaconda3/lib/python3.9/site-packages/sklearn/svm/_base.py:985: ConvergenceWarning: Liblinear failed to converge, increase the number of iterations.\n",
      "  warnings.warn(\"Liblinear failed to converge, increase \"\n"
     ]
    },
    {
     "name": "stdout",
     "output_type": "stream",
     "text": [
      "[CV 4/5] END features__max_df=0.01, features__min_df=10, features__ngram_range=(1, 4), model__C=10;, score=0.885 total time=   1.5s\n"
     ]
    },
    {
     "name": "stderr",
     "output_type": "stream",
     "text": [
      "/opt/anaconda3/lib/python3.9/site-packages/sklearn/svm/_base.py:985: ConvergenceWarning: Liblinear failed to converge, increase the number of iterations.\n",
      "  warnings.warn(\"Liblinear failed to converge, increase \"\n"
     ]
    },
    {
     "name": "stdout",
     "output_type": "stream",
     "text": [
      "[CV 5/5] END features__max_df=0.01, features__min_df=10, features__ngram_range=(1, 4), model__C=10;, score=0.882 total time=   1.5s\n",
      "[CV 1/5] END features__max_df=0.05, features__min_df=1, features__ngram_range=(1, 3), model__C=1;, score=0.946 total time=   1.4s\n",
      "[CV 2/5] END features__max_df=0.05, features__min_df=1, features__ngram_range=(1, 3), model__C=1;, score=0.939 total time=   1.4s\n",
      "[CV 3/5] END features__max_df=0.05, features__min_df=1, features__ngram_range=(1, 3), model__C=1;, score=0.939 total time=   1.4s\n",
      "[CV 4/5] END features__max_df=0.05, features__min_df=1, features__ngram_range=(1, 3), model__C=1;, score=0.943 total time=   1.5s\n",
      "[CV 5/5] END features__max_df=0.05, features__min_df=1, features__ngram_range=(1, 3), model__C=1;, score=0.938 total time=   1.3s\n",
      "[CV 1/5] END features__max_df=0.05, features__min_df=1, features__ngram_range=(1, 3), model__C=2;, score=0.946 total time=   1.6s\n",
      "[CV 2/5] END features__max_df=0.05, features__min_df=1, features__ngram_range=(1, 3), model__C=2;, score=0.941 total time=   1.5s\n",
      "[CV 3/5] END features__max_df=0.05, features__min_df=1, features__ngram_range=(1, 3), model__C=2;, score=0.942 total time=   1.4s\n",
      "[CV 4/5] END features__max_df=0.05, features__min_df=1, features__ngram_range=(1, 3), model__C=2;, score=0.944 total time=   1.6s\n",
      "[CV 5/5] END features__max_df=0.05, features__min_df=1, features__ngram_range=(1, 3), model__C=2;, score=0.939 total time=   1.4s\n",
      "[CV 1/5] END features__max_df=0.05, features__min_df=1, features__ngram_range=(1, 3), model__C=3;, score=0.946 total time=   1.6s\n",
      "[CV 2/5] END features__max_df=0.05, features__min_df=1, features__ngram_range=(1, 3), model__C=3;, score=0.941 total time=   1.6s\n",
      "[CV 3/5] END features__max_df=0.05, features__min_df=1, features__ngram_range=(1, 3), model__C=3;, score=0.942 total time=   1.4s\n",
      "[CV 4/5] END features__max_df=0.05, features__min_df=1, features__ngram_range=(1, 3), model__C=3;, score=0.944 total time=   1.6s\n",
      "[CV 5/5] END features__max_df=0.05, features__min_df=1, features__ngram_range=(1, 3), model__C=3;, score=0.939 total time=   1.4s\n",
      "[CV 1/5] END features__max_df=0.05, features__min_df=1, features__ngram_range=(1, 3), model__C=4;, score=0.946 total time=   1.6s\n",
      "[CV 2/5] END features__max_df=0.05, features__min_df=1, features__ngram_range=(1, 3), model__C=4;, score=0.941 total time=   1.6s\n",
      "[CV 3/5] END features__max_df=0.05, features__min_df=1, features__ngram_range=(1, 3), model__C=4;, score=0.942 total time=   1.5s\n",
      "[CV 4/5] END features__max_df=0.05, features__min_df=1, features__ngram_range=(1, 3), model__C=4;, score=0.944 total time=   1.6s\n",
      "[CV 5/5] END features__max_df=0.05, features__min_df=1, features__ngram_range=(1, 3), model__C=4;, score=0.939 total time=   1.4s\n",
      "[CV 1/5] END features__max_df=0.05, features__min_df=1, features__ngram_range=(1, 3), model__C=5;, score=0.946 total time=   1.5s\n",
      "[CV 2/5] END features__max_df=0.05, features__min_df=1, features__ngram_range=(1, 3), model__C=5;, score=0.941 total time=   1.5s\n",
      "[CV 3/5] END features__max_df=0.05, features__min_df=1, features__ngram_range=(1, 3), model__C=5;, score=0.942 total time=   1.4s\n",
      "[CV 4/5] END features__max_df=0.05, features__min_df=1, features__ngram_range=(1, 3), model__C=5;, score=0.944 total time=   1.7s\n",
      "[CV 5/5] END features__max_df=0.05, features__min_df=1, features__ngram_range=(1, 3), model__C=5;, score=0.939 total time=   1.5s\n",
      "[CV 1/5] END features__max_df=0.05, features__min_df=1, features__ngram_range=(1, 3), model__C=6;, score=0.946 total time=   1.6s\n",
      "[CV 2/5] END features__max_df=0.05, features__min_df=1, features__ngram_range=(1, 3), model__C=6;, score=0.941 total time=   1.5s\n",
      "[CV 3/5] END features__max_df=0.05, features__min_df=1, features__ngram_range=(1, 3), model__C=6;, score=0.942 total time=   1.4s\n",
      "[CV 4/5] END features__max_df=0.05, features__min_df=1, features__ngram_range=(1, 3), model__C=6;, score=0.944 total time=   1.5s\n",
      "[CV 5/5] END features__max_df=0.05, features__min_df=1, features__ngram_range=(1, 3), model__C=6;, score=0.939 total time=   1.4s\n",
      "[CV 1/5] END features__max_df=0.05, features__min_df=1, features__ngram_range=(1, 3), model__C=7;, score=0.946 total time=   1.6s\n",
      "[CV 2/5] END features__max_df=0.05, features__min_df=1, features__ngram_range=(1, 3), model__C=7;, score=0.941 total time=   1.6s\n",
      "[CV 3/5] END features__max_df=0.05, features__min_df=1, features__ngram_range=(1, 3), model__C=7;, score=0.942 total time=   1.4s\n",
      "[CV 4/5] END features__max_df=0.05, features__min_df=1, features__ngram_range=(1, 3), model__C=7;, score=0.944 total time=   1.6s\n",
      "[CV 5/5] END features__max_df=0.05, features__min_df=1, features__ngram_range=(1, 3), model__C=7;, score=0.939 total time=   1.5s\n",
      "[CV 1/5] END features__max_df=0.05, features__min_df=1, features__ngram_range=(1, 3), model__C=8;, score=0.946 total time=   1.7s\n",
      "[CV 2/5] END features__max_df=0.05, features__min_df=1, features__ngram_range=(1, 3), model__C=8;, score=0.940 total time=   1.5s\n",
      "[CV 3/5] END features__max_df=0.05, features__min_df=1, features__ngram_range=(1, 3), model__C=8;, score=0.942 total time=   1.5s\n",
      "[CV 4/5] END features__max_df=0.05, features__min_df=1, features__ngram_range=(1, 3), model__C=8;, score=0.944 total time=   1.5s\n",
      "[CV 5/5] END features__max_df=0.05, features__min_df=1, features__ngram_range=(1, 3), model__C=8;, score=0.939 total time=   1.5s\n",
      "[CV 1/5] END features__max_df=0.05, features__min_df=1, features__ngram_range=(1, 3), model__C=9;, score=0.946 total time=   1.7s\n",
      "[CV 2/5] END features__max_df=0.05, features__min_df=1, features__ngram_range=(1, 3), model__C=9;, score=0.940 total time=   1.6s\n",
      "[CV 3/5] END features__max_df=0.05, features__min_df=1, features__ngram_range=(1, 3), model__C=9;, score=0.942 total time=   1.5s\n",
      "[CV 4/5] END features__max_df=0.05, features__min_df=1, features__ngram_range=(1, 3), model__C=9;, score=0.944 total time=   1.6s\n",
      "[CV 5/5] END features__max_df=0.05, features__min_df=1, features__ngram_range=(1, 3), model__C=9;, score=0.939 total time=   1.6s\n",
      "[CV 1/5] END features__max_df=0.05, features__min_df=1, features__ngram_range=(1, 3), model__C=10;, score=0.946 total time=   1.6s\n",
      "[CV 2/5] END features__max_df=0.05, features__min_df=1, features__ngram_range=(1, 3), model__C=10;, score=0.940 total time=   1.4s\n",
      "[CV 3/5] END features__max_df=0.05, features__min_df=1, features__ngram_range=(1, 3), model__C=10;, score=0.942 total time=   1.5s\n",
      "[CV 4/5] END features__max_df=0.05, features__min_df=1, features__ngram_range=(1, 3), model__C=10;, score=0.944 total time=   1.6s\n",
      "[CV 5/5] END features__max_df=0.05, features__min_df=1, features__ngram_range=(1, 3), model__C=10;, score=0.939 total time=   1.5s\n",
      "[CV 1/5] END features__max_df=0.05, features__min_df=1, features__ngram_range=(1, 4), model__C=1;, score=0.943 total time=   2.0s\n",
      "[CV 2/5] END features__max_df=0.05, features__min_df=1, features__ngram_range=(1, 4), model__C=1;, score=0.938 total time=   2.0s\n",
      "[CV 3/5] END features__max_df=0.05, features__min_df=1, features__ngram_range=(1, 4), model__C=1;, score=0.936 total time=   2.0s\n",
      "[CV 4/5] END features__max_df=0.05, features__min_df=1, features__ngram_range=(1, 4), model__C=1;, score=0.939 total time=   2.3s\n",
      "[CV 5/5] END features__max_df=0.05, features__min_df=1, features__ngram_range=(1, 4), model__C=1;, score=0.936 total time=   2.0s\n",
      "[CV 1/5] END features__max_df=0.05, features__min_df=1, features__ngram_range=(1, 4), model__C=2;, score=0.944 total time=   2.2s\n",
      "[CV 2/5] END features__max_df=0.05, features__min_df=1, features__ngram_range=(1, 4), model__C=2;, score=0.938 total time=   2.4s\n",
      "[CV 3/5] END features__max_df=0.05, features__min_df=1, features__ngram_range=(1, 4), model__C=2;, score=0.939 total time=   2.5s\n",
      "[CV 4/5] END features__max_df=0.05, features__min_df=1, features__ngram_range=(1, 4), model__C=2;, score=0.940 total time=   2.8s\n",
      "[CV 5/5] END features__max_df=0.05, features__min_df=1, features__ngram_range=(1, 4), model__C=2;, score=0.938 total time=   2.9s\n",
      "[CV 1/5] END features__max_df=0.05, features__min_df=1, features__ngram_range=(1, 4), model__C=3;, score=0.944 total time=   2.9s\n",
      "[CV 2/5] END features__max_df=0.05, features__min_df=1, features__ngram_range=(1, 4), model__C=3;, score=0.938 total time=   2.9s\n"
     ]
    },
    {
     "name": "stdout",
     "output_type": "stream",
     "text": [
      "[CV 3/5] END features__max_df=0.05, features__min_df=1, features__ngram_range=(1, 4), model__C=3;, score=0.939 total time=   2.8s\n",
      "[CV 4/5] END features__max_df=0.05, features__min_df=1, features__ngram_range=(1, 4), model__C=3;, score=0.940 total time=   3.0s\n",
      "[CV 5/5] END features__max_df=0.05, features__min_df=1, features__ngram_range=(1, 4), model__C=3;, score=0.938 total time=   2.8s\n",
      "[CV 1/5] END features__max_df=0.05, features__min_df=1, features__ngram_range=(1, 4), model__C=4;, score=0.944 total time=   3.3s\n",
      "[CV 2/5] END features__max_df=0.05, features__min_df=1, features__ngram_range=(1, 4), model__C=4;, score=0.938 total time=   2.9s\n",
      "[CV 3/5] END features__max_df=0.05, features__min_df=1, features__ngram_range=(1, 4), model__C=4;, score=0.939 total time=   2.7s\n",
      "[CV 4/5] END features__max_df=0.05, features__min_df=1, features__ngram_range=(1, 4), model__C=4;, score=0.940 total time=   2.9s\n",
      "[CV 5/5] END features__max_df=0.05, features__min_df=1, features__ngram_range=(1, 4), model__C=4;, score=0.938 total time=   2.8s\n",
      "[CV 1/5] END features__max_df=0.05, features__min_df=1, features__ngram_range=(1, 4), model__C=5;, score=0.944 total time=   3.0s\n",
      "[CV 2/5] END features__max_df=0.05, features__min_df=1, features__ngram_range=(1, 4), model__C=5;, score=0.938 total time=   2.9s\n",
      "[CV 3/5] END features__max_df=0.05, features__min_df=1, features__ngram_range=(1, 4), model__C=5;, score=0.939 total time=   2.6s\n",
      "[CV 4/5] END features__max_df=0.05, features__min_df=1, features__ngram_range=(1, 4), model__C=5;, score=0.940 total time=   3.0s\n",
      "[CV 5/5] END features__max_df=0.05, features__min_df=1, features__ngram_range=(1, 4), model__C=5;, score=0.938 total time=   2.7s\n",
      "[CV 1/5] END features__max_df=0.05, features__min_df=1, features__ngram_range=(1, 4), model__C=6;, score=0.944 total time=   3.0s\n",
      "[CV 2/5] END features__max_df=0.05, features__min_df=1, features__ngram_range=(1, 4), model__C=6;, score=0.938 total time=   3.1s\n",
      "[CV 3/5] END features__max_df=0.05, features__min_df=1, features__ngram_range=(1, 4), model__C=6;, score=0.939 total time=   2.8s\n",
      "[CV 4/5] END features__max_df=0.05, features__min_df=1, features__ngram_range=(1, 4), model__C=6;, score=0.940 total time=   3.0s\n",
      "[CV 5/5] END features__max_df=0.05, features__min_df=1, features__ngram_range=(1, 4), model__C=6;, score=0.938 total time=   2.8s\n",
      "[CV 1/5] END features__max_df=0.05, features__min_df=1, features__ngram_range=(1, 4), model__C=7;, score=0.944 total time=   2.9s\n",
      "[CV 2/5] END features__max_df=0.05, features__min_df=1, features__ngram_range=(1, 4), model__C=7;, score=0.938 total time=   3.0s\n",
      "[CV 3/5] END features__max_df=0.05, features__min_df=1, features__ngram_range=(1, 4), model__C=7;, score=0.939 total time=   2.8s\n",
      "[CV 4/5] END features__max_df=0.05, features__min_df=1, features__ngram_range=(1, 4), model__C=7;, score=0.940 total time=   3.0s\n",
      "[CV 5/5] END features__max_df=0.05, features__min_df=1, features__ngram_range=(1, 4), model__C=7;, score=0.938 total time=   2.8s\n",
      "[CV 1/5] END features__max_df=0.05, features__min_df=1, features__ngram_range=(1, 4), model__C=8;, score=0.944 total time=   3.1s\n",
      "[CV 2/5] END features__max_df=0.05, features__min_df=1, features__ngram_range=(1, 4), model__C=8;, score=0.938 total time=   3.0s\n",
      "[CV 3/5] END features__max_df=0.05, features__min_df=1, features__ngram_range=(1, 4), model__C=8;, score=0.939 total time=   2.9s\n",
      "[CV 4/5] END features__max_df=0.05, features__min_df=1, features__ngram_range=(1, 4), model__C=8;, score=0.940 total time=   2.9s\n",
      "[CV 5/5] END features__max_df=0.05, features__min_df=1, features__ngram_range=(1, 4), model__C=8;, score=0.938 total time=   2.8s\n",
      "[CV 1/5] END features__max_df=0.05, features__min_df=1, features__ngram_range=(1, 4), model__C=9;, score=0.944 total time=   3.0s\n",
      "[CV 2/5] END features__max_df=0.05, features__min_df=1, features__ngram_range=(1, 4), model__C=9;, score=0.938 total time=   3.0s\n",
      "[CV 3/5] END features__max_df=0.05, features__min_df=1, features__ngram_range=(1, 4), model__C=9;, score=0.939 total time=   3.0s\n",
      "[CV 4/5] END features__max_df=0.05, features__min_df=1, features__ngram_range=(1, 4), model__C=9;, score=0.940 total time=   3.2s\n",
      "[CV 5/5] END features__max_df=0.05, features__min_df=1, features__ngram_range=(1, 4), model__C=9;, score=0.938 total time=   2.8s\n",
      "[CV 1/5] END features__max_df=0.05, features__min_df=1, features__ngram_range=(1, 4), model__C=10;, score=0.944 total time=   3.0s\n",
      "[CV 2/5] END features__max_df=0.05, features__min_df=1, features__ngram_range=(1, 4), model__C=10;, score=0.938 total time=   2.9s\n",
      "[CV 3/5] END features__max_df=0.05, features__min_df=1, features__ngram_range=(1, 4), model__C=10;, score=0.939 total time=   2.8s\n",
      "[CV 4/5] END features__max_df=0.05, features__min_df=1, features__ngram_range=(1, 4), model__C=10;, score=0.940 total time=   3.0s\n",
      "[CV 5/5] END features__max_df=0.05, features__min_df=1, features__ngram_range=(1, 4), model__C=10;, score=0.937 total time=   2.9s\n"
     ]
    },
    {
     "name": "stderr",
     "output_type": "stream",
     "text": [
      "/opt/anaconda3/lib/python3.9/site-packages/sklearn/svm/_base.py:985: ConvergenceWarning: Liblinear failed to converge, increase the number of iterations.\n",
      "  warnings.warn(\"Liblinear failed to converge, increase \"\n"
     ]
    },
    {
     "name": "stdout",
     "output_type": "stream",
     "text": [
      "[CV 1/5] END features__max_df=0.05, features__min_df=10, features__ngram_range=(1, 3), model__C=1;, score=0.922 total time=   1.0s\n",
      "[CV 2/5] END features__max_df=0.05, features__min_df=10, features__ngram_range=(1, 3), model__C=1;, score=0.913 total time=   0.9s\n"
     ]
    },
    {
     "name": "stderr",
     "output_type": "stream",
     "text": [
      "/opt/anaconda3/lib/python3.9/site-packages/sklearn/svm/_base.py:985: ConvergenceWarning: Liblinear failed to converge, increase the number of iterations.\n",
      "  warnings.warn(\"Liblinear failed to converge, increase \"\n"
     ]
    },
    {
     "name": "stdout",
     "output_type": "stream",
     "text": [
      "[CV 3/5] END features__max_df=0.05, features__min_df=10, features__ngram_range=(1, 3), model__C=1;, score=0.915 total time=   0.9s\n",
      "[CV 4/5] END features__max_df=0.05, features__min_df=10, features__ngram_range=(1, 3), model__C=1;, score=0.917 total time=   0.8s\n",
      "[CV 5/5] END features__max_df=0.05, features__min_df=10, features__ngram_range=(1, 3), model__C=1;, score=0.919 total time=   0.8s\n"
     ]
    },
    {
     "name": "stderr",
     "output_type": "stream",
     "text": [
      "/opt/anaconda3/lib/python3.9/site-packages/sklearn/svm/_base.py:985: ConvergenceWarning: Liblinear failed to converge, increase the number of iterations.\n",
      "  warnings.warn(\"Liblinear failed to converge, increase \"\n"
     ]
    },
    {
     "name": "stdout",
     "output_type": "stream",
     "text": [
      "[CV 1/5] END features__max_df=0.05, features__min_df=10, features__ngram_range=(1, 3), model__C=2;, score=0.923 total time=   1.1s\n",
      "[CV 2/5] END features__max_df=0.05, features__min_df=10, features__ngram_range=(1, 3), model__C=2;, score=0.912 total time=   0.9s\n"
     ]
    },
    {
     "name": "stderr",
     "output_type": "stream",
     "text": [
      "/opt/anaconda3/lib/python3.9/site-packages/sklearn/svm/_base.py:985: ConvergenceWarning: Liblinear failed to converge, increase the number of iterations.\n",
      "  warnings.warn(\"Liblinear failed to converge, increase \"\n"
     ]
    },
    {
     "name": "stdout",
     "output_type": "stream",
     "text": [
      "[CV 3/5] END features__max_df=0.05, features__min_df=10, features__ngram_range=(1, 3), model__C=2;, score=0.914 total time=   1.0s\n",
      "[CV 4/5] END features__max_df=0.05, features__min_df=10, features__ngram_range=(1, 3), model__C=2;, score=0.916 total time=   0.9s\n",
      "[CV 5/5] END features__max_df=0.05, features__min_df=10, features__ngram_range=(1, 3), model__C=2;, score=0.917 total time=   1.0s\n"
     ]
    },
    {
     "name": "stderr",
     "output_type": "stream",
     "text": [
      "/opt/anaconda3/lib/python3.9/site-packages/sklearn/svm/_base.py:985: ConvergenceWarning: Liblinear failed to converge, increase the number of iterations.\n",
      "  warnings.warn(\"Liblinear failed to converge, increase \"\n"
     ]
    },
    {
     "name": "stdout",
     "output_type": "stream",
     "text": [
      "[CV 1/5] END features__max_df=0.05, features__min_df=10, features__ngram_range=(1, 3), model__C=3;, score=0.917 total time=   1.0s\n",
      "[CV 2/5] END features__max_df=0.05, features__min_df=10, features__ngram_range=(1, 3), model__C=3;, score=0.912 total time=   1.0s\n",
      "[CV 3/5] END features__max_df=0.05, features__min_df=10, features__ngram_range=(1, 3), model__C=3;, score=0.911 total time=   1.0s\n"
     ]
    },
    {
     "name": "stderr",
     "output_type": "stream",
     "text": [
      "/opt/anaconda3/lib/python3.9/site-packages/sklearn/svm/_base.py:985: ConvergenceWarning: Liblinear failed to converge, increase the number of iterations.\n",
      "  warnings.warn(\"Liblinear failed to converge, increase \"\n"
     ]
    },
    {
     "name": "stdout",
     "output_type": "stream",
     "text": [
      "[CV 4/5] END features__max_df=0.05, features__min_df=10, features__ngram_range=(1, 3), model__C=3;, score=0.915 total time=   1.1s\n"
     ]
    },
    {
     "name": "stderr",
     "output_type": "stream",
     "text": [
      "/opt/anaconda3/lib/python3.9/site-packages/sklearn/svm/_base.py:985: ConvergenceWarning: Liblinear failed to converge, increase the number of iterations.\n",
      "  warnings.warn(\"Liblinear failed to converge, increase \"\n"
     ]
    },
    {
     "name": "stdout",
     "output_type": "stream",
     "text": [
      "[CV 5/5] END features__max_df=0.05, features__min_df=10, features__ngram_range=(1, 3), model__C=3;, score=0.914 total time=   1.1s\n"
     ]
    },
    {
     "name": "stderr",
     "output_type": "stream",
     "text": [
      "/opt/anaconda3/lib/python3.9/site-packages/sklearn/svm/_base.py:985: ConvergenceWarning: Liblinear failed to converge, increase the number of iterations.\n",
      "  warnings.warn(\"Liblinear failed to converge, increase \"\n"
     ]
    },
    {
     "name": "stdout",
     "output_type": "stream",
     "text": [
      "[CV 1/5] END features__max_df=0.05, features__min_df=10, features__ngram_range=(1, 3), model__C=4;, score=0.916 total time=   1.2s\n",
      "[CV 2/5] END features__max_df=0.05, features__min_df=10, features__ngram_range=(1, 3), model__C=4;, score=0.913 total time=   1.0s\n",
      "[CV 3/5] END features__max_df=0.05, features__min_df=10, features__ngram_range=(1, 3), model__C=4;, score=0.908 total time=   1.0s\n",
      "[CV 4/5] END features__max_df=0.05, features__min_df=10, features__ngram_range=(1, 3), model__C=4;, score=0.912 total time=   1.0s\n"
     ]
    },
    {
     "name": "stderr",
     "output_type": "stream",
     "text": [
      "/opt/anaconda3/lib/python3.9/site-packages/sklearn/svm/_base.py:985: ConvergenceWarning: Liblinear failed to converge, increase the number of iterations.\n",
      "  warnings.warn(\"Liblinear failed to converge, increase \"\n"
     ]
    },
    {
     "name": "stdout",
     "output_type": "stream",
     "text": [
      "[CV 5/5] END features__max_df=0.05, features__min_df=10, features__ngram_range=(1, 3), model__C=4;, score=0.914 total time=   1.2s\n"
     ]
    },
    {
     "name": "stderr",
     "output_type": "stream",
     "text": [
      "/opt/anaconda3/lib/python3.9/site-packages/sklearn/svm/_base.py:985: ConvergenceWarning: Liblinear failed to converge, increase the number of iterations.\n",
      "  warnings.warn(\"Liblinear failed to converge, increase \"\n"
     ]
    },
    {
     "name": "stdout",
     "output_type": "stream",
     "text": [
      "[CV 1/5] END features__max_df=0.05, features__min_df=10, features__ngram_range=(1, 3), model__C=5;, score=0.914 total time=   1.2s\n"
     ]
    },
    {
     "name": "stderr",
     "output_type": "stream",
     "text": [
      "/opt/anaconda3/lib/python3.9/site-packages/sklearn/svm/_base.py:985: ConvergenceWarning: Liblinear failed to converge, increase the number of iterations.\n",
      "  warnings.warn(\"Liblinear failed to converge, increase \"\n"
     ]
    },
    {
     "name": "stdout",
     "output_type": "stream",
     "text": [
      "[CV 2/5] END features__max_df=0.05, features__min_df=10, features__ngram_range=(1, 3), model__C=5;, score=0.911 total time=   1.1s\n"
     ]
    },
    {
     "name": "stderr",
     "output_type": "stream",
     "text": [
      "/opt/anaconda3/lib/python3.9/site-packages/sklearn/svm/_base.py:985: ConvergenceWarning: Liblinear failed to converge, increase the number of iterations.\n",
      "  warnings.warn(\"Liblinear failed to converge, increase \"\n"
     ]
    },
    {
     "name": "stdout",
     "output_type": "stream",
     "text": [
      "[CV 3/5] END features__max_df=0.05, features__min_df=10, features__ngram_range=(1, 3), model__C=5;, score=0.908 total time=   1.1s\n",
      "[CV 4/5] END features__max_df=0.05, features__min_df=10, features__ngram_range=(1, 3), model__C=5;, score=0.910 total time=   1.3s\n"
     ]
    },
    {
     "name": "stderr",
     "output_type": "stream",
     "text": [
      "/opt/anaconda3/lib/python3.9/site-packages/sklearn/svm/_base.py:985: ConvergenceWarning: Liblinear failed to converge, increase the number of iterations.\n",
      "  warnings.warn(\"Liblinear failed to converge, increase \"\n"
     ]
    },
    {
     "name": "stdout",
     "output_type": "stream",
     "text": [
      "[CV 5/5] END features__max_df=0.05, features__min_df=10, features__ngram_range=(1, 3), model__C=5;, score=0.910 total time=   1.1s\n"
     ]
    },
    {
     "name": "stderr",
     "output_type": "stream",
     "text": [
      "/opt/anaconda3/lib/python3.9/site-packages/sklearn/svm/_base.py:985: ConvergenceWarning: Liblinear failed to converge, increase the number of iterations.\n",
      "  warnings.warn(\"Liblinear failed to converge, increase \"\n"
     ]
    },
    {
     "name": "stdout",
     "output_type": "stream",
     "text": [
      "[CV 1/5] END features__max_df=0.05, features__min_df=10, features__ngram_range=(1, 3), model__C=6;, score=0.914 total time=   1.3s\n",
      "[CV 2/5] END features__max_df=0.05, features__min_df=10, features__ngram_range=(1, 3), model__C=6;, score=0.908 total time=   1.2s\n"
     ]
    },
    {
     "name": "stderr",
     "output_type": "stream",
     "text": [
      "/opt/anaconda3/lib/python3.9/site-packages/sklearn/svm/_base.py:985: ConvergenceWarning: Liblinear failed to converge, increase the number of iterations.\n",
      "  warnings.warn(\"Liblinear failed to converge, increase \"\n"
     ]
    },
    {
     "name": "stdout",
     "output_type": "stream",
     "text": [
      "[CV 3/5] END features__max_df=0.05, features__min_df=10, features__ngram_range=(1, 3), model__C=6;, score=0.906 total time=   1.2s\n"
     ]
    },
    {
     "name": "stderr",
     "output_type": "stream",
     "text": [
      "/opt/anaconda3/lib/python3.9/site-packages/sklearn/svm/_base.py:985: ConvergenceWarning: Liblinear failed to converge, increase the number of iterations.\n",
      "  warnings.warn(\"Liblinear failed to converge, increase \"\n"
     ]
    },
    {
     "name": "stdout",
     "output_type": "stream",
     "text": [
      "[CV 4/5] END features__max_df=0.05, features__min_df=10, features__ngram_range=(1, 3), model__C=6;, score=0.910 total time=   1.2s\n"
     ]
    },
    {
     "name": "stderr",
     "output_type": "stream",
     "text": [
      "/opt/anaconda3/lib/python3.9/site-packages/sklearn/svm/_base.py:985: ConvergenceWarning: Liblinear failed to converge, increase the number of iterations.\n",
      "  warnings.warn(\"Liblinear failed to converge, increase \"\n"
     ]
    },
    {
     "name": "stdout",
     "output_type": "stream",
     "text": [
      "[CV 5/5] END features__max_df=0.05, features__min_df=10, features__ngram_range=(1, 3), model__C=6;, score=0.909 total time=   1.2s\n"
     ]
    },
    {
     "name": "stderr",
     "output_type": "stream",
     "text": [
      "/opt/anaconda3/lib/python3.9/site-packages/sklearn/svm/_base.py:985: ConvergenceWarning: Liblinear failed to converge, increase the number of iterations.\n",
      "  warnings.warn(\"Liblinear failed to converge, increase \"\n"
     ]
    },
    {
     "name": "stdout",
     "output_type": "stream",
     "text": [
      "[CV 1/5] END features__max_df=0.05, features__min_df=10, features__ngram_range=(1, 3), model__C=7;, score=0.915 total time=   1.3s\n",
      "[CV 2/5] END features__max_df=0.05, features__min_df=10, features__ngram_range=(1, 3), model__C=7;, score=0.907 total time=   1.1s\n"
     ]
    },
    {
     "name": "stderr",
     "output_type": "stream",
     "text": [
      "/opt/anaconda3/lib/python3.9/site-packages/sklearn/svm/_base.py:985: ConvergenceWarning: Liblinear failed to converge, increase the number of iterations.\n",
      "  warnings.warn(\"Liblinear failed to converge, increase \"\n"
     ]
    },
    {
     "name": "stdout",
     "output_type": "stream",
     "text": [
      "[CV 3/5] END features__max_df=0.05, features__min_df=10, features__ngram_range=(1, 3), model__C=7;, score=0.903 total time=   1.3s\n",
      "[CV 4/5] END features__max_df=0.05, features__min_df=10, features__ngram_range=(1, 3), model__C=7;, score=0.907 total time=   1.2s\n"
     ]
    },
    {
     "name": "stderr",
     "output_type": "stream",
     "text": [
      "/opt/anaconda3/lib/python3.9/site-packages/sklearn/svm/_base.py:985: ConvergenceWarning: Liblinear failed to converge, increase the number of iterations.\n",
      "  warnings.warn(\"Liblinear failed to converge, increase \"\n"
     ]
    },
    {
     "name": "stdout",
     "output_type": "stream",
     "text": [
      "[CV 5/5] END features__max_df=0.05, features__min_df=10, features__ngram_range=(1, 3), model__C=7;, score=0.908 total time=   1.2s\n"
     ]
    },
    {
     "name": "stderr",
     "output_type": "stream",
     "text": [
      "/opt/anaconda3/lib/python3.9/site-packages/sklearn/svm/_base.py:985: ConvergenceWarning: Liblinear failed to converge, increase the number of iterations.\n",
      "  warnings.warn(\"Liblinear failed to converge, increase \"\n"
     ]
    },
    {
     "name": "stdout",
     "output_type": "stream",
     "text": [
      "[CV 1/5] END features__max_df=0.05, features__min_df=10, features__ngram_range=(1, 3), model__C=8;, score=0.914 total time=   1.3s\n"
     ]
    },
    {
     "name": "stderr",
     "output_type": "stream",
     "text": [
      "/opt/anaconda3/lib/python3.9/site-packages/sklearn/svm/_base.py:985: ConvergenceWarning: Liblinear failed to converge, increase the number of iterations.\n",
      "  warnings.warn(\"Liblinear failed to converge, increase \"\n"
     ]
    },
    {
     "name": "stdout",
     "output_type": "stream",
     "text": [
      "[CV 2/5] END features__max_df=0.05, features__min_df=10, features__ngram_range=(1, 3), model__C=8;, score=0.905 total time=   1.3s\n"
     ]
    },
    {
     "name": "stderr",
     "output_type": "stream",
     "text": [
      "/opt/anaconda3/lib/python3.9/site-packages/sklearn/svm/_base.py:985: ConvergenceWarning: Liblinear failed to converge, increase the number of iterations.\n",
      "  warnings.warn(\"Liblinear failed to converge, increase \"\n"
     ]
    },
    {
     "name": "stdout",
     "output_type": "stream",
     "text": [
      "[CV 3/5] END features__max_df=0.05, features__min_df=10, features__ngram_range=(1, 3), model__C=8;, score=0.902 total time=   1.4s\n"
     ]
    },
    {
     "name": "stderr",
     "output_type": "stream",
     "text": [
      "/opt/anaconda3/lib/python3.9/site-packages/sklearn/svm/_base.py:985: ConvergenceWarning: Liblinear failed to converge, increase the number of iterations.\n",
      "  warnings.warn(\"Liblinear failed to converge, increase \"\n"
     ]
    },
    {
     "name": "stdout",
     "output_type": "stream",
     "text": [
      "[CV 4/5] END features__max_df=0.05, features__min_df=10, features__ngram_range=(1, 3), model__C=8;, score=0.907 total time=   1.3s\n"
     ]
    },
    {
     "name": "stderr",
     "output_type": "stream",
     "text": [
      "/opt/anaconda3/lib/python3.9/site-packages/sklearn/svm/_base.py:985: ConvergenceWarning: Liblinear failed to converge, increase the number of iterations.\n",
      "  warnings.warn(\"Liblinear failed to converge, increase \"\n"
     ]
    },
    {
     "name": "stdout",
     "output_type": "stream",
     "text": [
      "[CV 5/5] END features__max_df=0.05, features__min_df=10, features__ngram_range=(1, 3), model__C=8;, score=0.906 total time=   1.3s\n"
     ]
    },
    {
     "name": "stderr",
     "output_type": "stream",
     "text": [
      "/opt/anaconda3/lib/python3.9/site-packages/sklearn/svm/_base.py:985: ConvergenceWarning: Liblinear failed to converge, increase the number of iterations.\n",
      "  warnings.warn(\"Liblinear failed to converge, increase \"\n"
     ]
    },
    {
     "name": "stdout",
     "output_type": "stream",
     "text": [
      "[CV 1/5] END features__max_df=0.05, features__min_df=10, features__ngram_range=(1, 3), model__C=9;, score=0.912 total time=   1.4s\n"
     ]
    },
    {
     "name": "stderr",
     "output_type": "stream",
     "text": [
      "/opt/anaconda3/lib/python3.9/site-packages/sklearn/svm/_base.py:985: ConvergenceWarning: Liblinear failed to converge, increase the number of iterations.\n",
      "  warnings.warn(\"Liblinear failed to converge, increase \"\n"
     ]
    },
    {
     "name": "stdout",
     "output_type": "stream",
     "text": [
      "[CV 2/5] END features__max_df=0.05, features__min_df=10, features__ngram_range=(1, 3), model__C=9;, score=0.904 total time=   1.3s\n"
     ]
    },
    {
     "name": "stderr",
     "output_type": "stream",
     "text": [
      "/opt/anaconda3/lib/python3.9/site-packages/sklearn/svm/_base.py:985: ConvergenceWarning: Liblinear failed to converge, increase the number of iterations.\n",
      "  warnings.warn(\"Liblinear failed to converge, increase \"\n"
     ]
    },
    {
     "name": "stdout",
     "output_type": "stream",
     "text": [
      "[CV 3/5] END features__max_df=0.05, features__min_df=10, features__ngram_range=(1, 3), model__C=9;, score=0.901 total time=   1.5s\n"
     ]
    },
    {
     "name": "stderr",
     "output_type": "stream",
     "text": [
      "/opt/anaconda3/lib/python3.9/site-packages/sklearn/svm/_base.py:985: ConvergenceWarning: Liblinear failed to converge, increase the number of iterations.\n",
      "  warnings.warn(\"Liblinear failed to converge, increase \"\n"
     ]
    },
    {
     "name": "stdout",
     "output_type": "stream",
     "text": [
      "[CV 4/5] END features__max_df=0.05, features__min_df=10, features__ngram_range=(1, 3), model__C=9;, score=0.905 total time=   1.4s\n"
     ]
    },
    {
     "name": "stderr",
     "output_type": "stream",
     "text": [
      "/opt/anaconda3/lib/python3.9/site-packages/sklearn/svm/_base.py:985: ConvergenceWarning: Liblinear failed to converge, increase the number of iterations.\n",
      "  warnings.warn(\"Liblinear failed to converge, increase \"\n"
     ]
    },
    {
     "name": "stdout",
     "output_type": "stream",
     "text": [
      "[CV 5/5] END features__max_df=0.05, features__min_df=10, features__ngram_range=(1, 3), model__C=9;, score=0.904 total time=   1.3s\n"
     ]
    },
    {
     "name": "stderr",
     "output_type": "stream",
     "text": [
      "/opt/anaconda3/lib/python3.9/site-packages/sklearn/svm/_base.py:985: ConvergenceWarning: Liblinear failed to converge, increase the number of iterations.\n",
      "  warnings.warn(\"Liblinear failed to converge, increase \"\n"
     ]
    },
    {
     "name": "stdout",
     "output_type": "stream",
     "text": [
      "[CV 1/5] END features__max_df=0.05, features__min_df=10, features__ngram_range=(1, 3), model__C=10;, score=0.910 total time=   1.3s\n"
     ]
    },
    {
     "name": "stderr",
     "output_type": "stream",
     "text": [
      "/opt/anaconda3/lib/python3.9/site-packages/sklearn/svm/_base.py:985: ConvergenceWarning: Liblinear failed to converge, increase the number of iterations.\n",
      "  warnings.warn(\"Liblinear failed to converge, increase \"\n"
     ]
    },
    {
     "name": "stdout",
     "output_type": "stream",
     "text": [
      "[CV 2/5] END features__max_df=0.05, features__min_df=10, features__ngram_range=(1, 3), model__C=10;, score=0.905 total time=   1.3s\n"
     ]
    },
    {
     "name": "stderr",
     "output_type": "stream",
     "text": [
      "/opt/anaconda3/lib/python3.9/site-packages/sklearn/svm/_base.py:985: ConvergenceWarning: Liblinear failed to converge, increase the number of iterations.\n",
      "  warnings.warn(\"Liblinear failed to converge, increase \"\n"
     ]
    },
    {
     "name": "stdout",
     "output_type": "stream",
     "text": [
      "[CV 3/5] END features__max_df=0.05, features__min_df=10, features__ngram_range=(1, 3), model__C=10;, score=0.900 total time=   1.4s\n"
     ]
    },
    {
     "name": "stderr",
     "output_type": "stream",
     "text": [
      "/opt/anaconda3/lib/python3.9/site-packages/sklearn/svm/_base.py:985: ConvergenceWarning: Liblinear failed to converge, increase the number of iterations.\n",
      "  warnings.warn(\"Liblinear failed to converge, increase \"\n"
     ]
    },
    {
     "name": "stdout",
     "output_type": "stream",
     "text": [
      "[CV 4/5] END features__max_df=0.05, features__min_df=10, features__ngram_range=(1, 3), model__C=10;, score=0.905 total time=   1.3s\n"
     ]
    },
    {
     "name": "stderr",
     "output_type": "stream",
     "text": [
      "/opt/anaconda3/lib/python3.9/site-packages/sklearn/svm/_base.py:985: ConvergenceWarning: Liblinear failed to converge, increase the number of iterations.\n",
      "  warnings.warn(\"Liblinear failed to converge, increase \"\n"
     ]
    },
    {
     "name": "stdout",
     "output_type": "stream",
     "text": [
      "[CV 5/5] END features__max_df=0.05, features__min_df=10, features__ngram_range=(1, 3), model__C=10;, score=0.903 total time=   1.4s\n"
     ]
    },
    {
     "name": "stderr",
     "output_type": "stream",
     "text": [
      "/opt/anaconda3/lib/python3.9/site-packages/sklearn/svm/_base.py:985: ConvergenceWarning: Liblinear failed to converge, increase the number of iterations.\n",
      "  warnings.warn(\"Liblinear failed to converge, increase \"\n"
     ]
    },
    {
     "name": "stdout",
     "output_type": "stream",
     "text": [
      "[CV 1/5] END features__max_df=0.05, features__min_df=10, features__ngram_range=(1, 4), model__C=1;, score=0.922 total time=   1.1s\n",
      "[CV 2/5] END features__max_df=0.05, features__min_df=10, features__ngram_range=(1, 4), model__C=1;, score=0.913 total time=   1.0s\n"
     ]
    },
    {
     "name": "stderr",
     "output_type": "stream",
     "text": [
      "/opt/anaconda3/lib/python3.9/site-packages/sklearn/svm/_base.py:985: ConvergenceWarning: Liblinear failed to converge, increase the number of iterations.\n",
      "  warnings.warn(\"Liblinear failed to converge, increase \"\n"
     ]
    },
    {
     "name": "stdout",
     "output_type": "stream",
     "text": [
      "[CV 3/5] END features__max_df=0.05, features__min_df=10, features__ngram_range=(1, 4), model__C=1;, score=0.916 total time=   1.1s\n",
      "[CV 4/5] END features__max_df=0.05, features__min_df=10, features__ngram_range=(1, 4), model__C=1;, score=0.917 total time=   1.0s\n",
      "[CV 5/5] END features__max_df=0.05, features__min_df=10, features__ngram_range=(1, 4), model__C=1;, score=0.919 total time=   1.0s\n"
     ]
    },
    {
     "name": "stderr",
     "output_type": "stream",
     "text": [
      "/opt/anaconda3/lib/python3.9/site-packages/sklearn/svm/_base.py:985: ConvergenceWarning: Liblinear failed to converge, increase the number of iterations.\n",
      "  warnings.warn(\"Liblinear failed to converge, increase \"\n"
     ]
    },
    {
     "name": "stdout",
     "output_type": "stream",
     "text": [
      "[CV 1/5] END features__max_df=0.05, features__min_df=10, features__ngram_range=(1, 4), model__C=2;, score=0.924 total time=   1.3s\n",
      "[CV 2/5] END features__max_df=0.05, features__min_df=10, features__ngram_range=(1, 4), model__C=2;, score=0.913 total time=   1.1s\n",
      "[CV 3/5] END features__max_df=0.05, features__min_df=10, features__ngram_range=(1, 4), model__C=2;, score=0.914 total time=   1.1s\n",
      "[CV 4/5] END features__max_df=0.05, features__min_df=10, features__ngram_range=(1, 4), model__C=2;, score=0.916 total time=   1.1s\n",
      "[CV 5/5] END features__max_df=0.05, features__min_df=10, features__ngram_range=(1, 4), model__C=2;, score=0.917 total time=   1.2s\n"
     ]
    },
    {
     "name": "stderr",
     "output_type": "stream",
     "text": [
      "/opt/anaconda3/lib/python3.9/site-packages/sklearn/svm/_base.py:985: ConvergenceWarning: Liblinear failed to converge, increase the number of iterations.\n",
      "  warnings.warn(\"Liblinear failed to converge, increase \"\n"
     ]
    },
    {
     "name": "stdout",
     "output_type": "stream",
     "text": [
      "[CV 1/5] END features__max_df=0.05, features__min_df=10, features__ngram_range=(1, 4), model__C=3;, score=0.917 total time=   1.3s\n",
      "[CV 2/5] END features__max_df=0.05, features__min_df=10, features__ngram_range=(1, 4), model__C=3;, score=0.912 total time=   1.3s\n",
      "[CV 3/5] END features__max_df=0.05, features__min_df=10, features__ngram_range=(1, 4), model__C=3;, score=0.911 total time=   1.1s\n"
     ]
    },
    {
     "name": "stderr",
     "output_type": "stream",
     "text": [
      "/opt/anaconda3/lib/python3.9/site-packages/sklearn/svm/_base.py:985: ConvergenceWarning: Liblinear failed to converge, increase the number of iterations.\n",
      "  warnings.warn(\"Liblinear failed to converge, increase \"\n"
     ]
    },
    {
     "name": "stdout",
     "output_type": "stream",
     "text": [
      "[CV 4/5] END features__max_df=0.05, features__min_df=10, features__ngram_range=(1, 4), model__C=3;, score=0.915 total time=   1.2s\n"
     ]
    },
    {
     "name": "stderr",
     "output_type": "stream",
     "text": [
      "/opt/anaconda3/lib/python3.9/site-packages/sklearn/svm/_base.py:985: ConvergenceWarning: Liblinear failed to converge, increase the number of iterations.\n",
      "  warnings.warn(\"Liblinear failed to converge, increase \"\n"
     ]
    },
    {
     "name": "stdout",
     "output_type": "stream",
     "text": [
      "[CV 5/5] END features__max_df=0.05, features__min_df=10, features__ngram_range=(1, 4), model__C=3;, score=0.914 total time=   1.3s\n"
     ]
    },
    {
     "name": "stderr",
     "output_type": "stream",
     "text": [
      "/opt/anaconda3/lib/python3.9/site-packages/sklearn/svm/_base.py:985: ConvergenceWarning: Liblinear failed to converge, increase the number of iterations.\n",
      "  warnings.warn(\"Liblinear failed to converge, increase \"\n"
     ]
    },
    {
     "name": "stdout",
     "output_type": "stream",
     "text": [
      "[CV 1/5] END features__max_df=0.05, features__min_df=10, features__ngram_range=(1, 4), model__C=4;, score=0.916 total time=   1.4s\n",
      "[CV 2/5] END features__max_df=0.05, features__min_df=10, features__ngram_range=(1, 4), model__C=4;, score=0.912 total time=   1.2s\n"
     ]
    },
    {
     "name": "stderr",
     "output_type": "stream",
     "text": [
      "/opt/anaconda3/lib/python3.9/site-packages/sklearn/svm/_base.py:985: ConvergenceWarning: Liblinear failed to converge, increase the number of iterations.\n",
      "  warnings.warn(\"Liblinear failed to converge, increase \"\n"
     ]
    },
    {
     "name": "stdout",
     "output_type": "stream",
     "text": [
      "[CV 3/5] END features__max_df=0.05, features__min_df=10, features__ngram_range=(1, 4), model__C=4;, score=0.908 total time=   1.2s\n",
      "[CV 4/5] END features__max_df=0.05, features__min_df=10, features__ngram_range=(1, 4), model__C=4;, score=0.912 total time=   1.3s\n"
     ]
    },
    {
     "name": "stderr",
     "output_type": "stream",
     "text": [
      "/opt/anaconda3/lib/python3.9/site-packages/sklearn/svm/_base.py:985: ConvergenceWarning: Liblinear failed to converge, increase the number of iterations.\n",
      "  warnings.warn(\"Liblinear failed to converge, increase \"\n"
     ]
    },
    {
     "name": "stdout",
     "output_type": "stream",
     "text": [
      "[CV 5/5] END features__max_df=0.05, features__min_df=10, features__ngram_range=(1, 4), model__C=4;, score=0.913 total time=   1.3s\n"
     ]
    },
    {
     "name": "stderr",
     "output_type": "stream",
     "text": [
      "/opt/anaconda3/lib/python3.9/site-packages/sklearn/svm/_base.py:985: ConvergenceWarning: Liblinear failed to converge, increase the number of iterations.\n",
      "  warnings.warn(\"Liblinear failed to converge, increase \"\n"
     ]
    },
    {
     "name": "stdout",
     "output_type": "stream",
     "text": [
      "[CV 1/5] END features__max_df=0.05, features__min_df=10, features__ngram_range=(1, 4), model__C=5;, score=0.914 total time=   1.4s\n"
     ]
    },
    {
     "name": "stderr",
     "output_type": "stream",
     "text": [
      "/opt/anaconda3/lib/python3.9/site-packages/sklearn/svm/_base.py:985: ConvergenceWarning: Liblinear failed to converge, increase the number of iterations.\n",
      "  warnings.warn(\"Liblinear failed to converge, increase \"\n"
     ]
    },
    {
     "name": "stdout",
     "output_type": "stream",
     "text": [
      "[CV 2/5] END features__max_df=0.05, features__min_df=10, features__ngram_range=(1, 4), model__C=5;, score=0.910 total time=   1.3s\n"
     ]
    },
    {
     "name": "stderr",
     "output_type": "stream",
     "text": [
      "/opt/anaconda3/lib/python3.9/site-packages/sklearn/svm/_base.py:985: ConvergenceWarning: Liblinear failed to converge, increase the number of iterations.\n",
      "  warnings.warn(\"Liblinear failed to converge, increase \"\n"
     ]
    },
    {
     "name": "stdout",
     "output_type": "stream",
     "text": [
      "[CV 3/5] END features__max_df=0.05, features__min_df=10, features__ngram_range=(1, 4), model__C=5;, score=0.907 total time=   1.3s\n"
     ]
    },
    {
     "name": "stderr",
     "output_type": "stream",
     "text": [
      "/opt/anaconda3/lib/python3.9/site-packages/sklearn/svm/_base.py:985: ConvergenceWarning: Liblinear failed to converge, increase the number of iterations.\n",
      "  warnings.warn(\"Liblinear failed to converge, increase \"\n"
     ]
    },
    {
     "name": "stdout",
     "output_type": "stream",
     "text": [
      "[CV 4/5] END features__max_df=0.05, features__min_df=10, features__ngram_range=(1, 4), model__C=5;, score=0.910 total time=   1.5s\n"
     ]
    },
    {
     "name": "stderr",
     "output_type": "stream",
     "text": [
      "/opt/anaconda3/lib/python3.9/site-packages/sklearn/svm/_base.py:985: ConvergenceWarning: Liblinear failed to converge, increase the number of iterations.\n",
      "  warnings.warn(\"Liblinear failed to converge, increase \"\n"
     ]
    },
    {
     "name": "stdout",
     "output_type": "stream",
     "text": [
      "[CV 5/5] END features__max_df=0.05, features__min_df=10, features__ngram_range=(1, 4), model__C=5;, score=0.910 total time=   1.2s\n"
     ]
    },
    {
     "name": "stderr",
     "output_type": "stream",
     "text": [
      "/opt/anaconda3/lib/python3.9/site-packages/sklearn/svm/_base.py:985: ConvergenceWarning: Liblinear failed to converge, increase the number of iterations.\n",
      "  warnings.warn(\"Liblinear failed to converge, increase \"\n"
     ]
    },
    {
     "name": "stdout",
     "output_type": "stream",
     "text": [
      "[CV 1/5] END features__max_df=0.05, features__min_df=10, features__ngram_range=(1, 4), model__C=6;, score=0.914 total time=   1.5s\n",
      "[CV 2/5] END features__max_df=0.05, features__min_df=10, features__ngram_range=(1, 4), model__C=6;, score=0.908 total time=   1.3s\n"
     ]
    },
    {
     "name": "stderr",
     "output_type": "stream",
     "text": [
      "/opt/anaconda3/lib/python3.9/site-packages/sklearn/svm/_base.py:985: ConvergenceWarning: Liblinear failed to converge, increase the number of iterations.\n",
      "  warnings.warn(\"Liblinear failed to converge, increase \"\n"
     ]
    },
    {
     "name": "stdout",
     "output_type": "stream",
     "text": [
      "[CV 3/5] END features__max_df=0.05, features__min_df=10, features__ngram_range=(1, 4), model__C=6;, score=0.906 total time=   1.3s\n"
     ]
    },
    {
     "name": "stderr",
     "output_type": "stream",
     "text": [
      "/opt/anaconda3/lib/python3.9/site-packages/sklearn/svm/_base.py:985: ConvergenceWarning: Liblinear failed to converge, increase the number of iterations.\n",
      "  warnings.warn(\"Liblinear failed to converge, increase \"\n"
     ]
    },
    {
     "name": "stdout",
     "output_type": "stream",
     "text": [
      "[CV 4/5] END features__max_df=0.05, features__min_df=10, features__ngram_range=(1, 4), model__C=6;, score=0.909 total time=   1.3s\n"
     ]
    },
    {
     "name": "stderr",
     "output_type": "stream",
     "text": [
      "/opt/anaconda3/lib/python3.9/site-packages/sklearn/svm/_base.py:985: ConvergenceWarning: Liblinear failed to converge, increase the number of iterations.\n",
      "  warnings.warn(\"Liblinear failed to converge, increase \"\n"
     ]
    },
    {
     "name": "stdout",
     "output_type": "stream",
     "text": [
      "[CV 5/5] END features__max_df=0.05, features__min_df=10, features__ngram_range=(1, 4), model__C=6;, score=0.909 total time=   1.5s\n"
     ]
    },
    {
     "name": "stderr",
     "output_type": "stream",
     "text": [
      "/opt/anaconda3/lib/python3.9/site-packages/sklearn/svm/_base.py:985: ConvergenceWarning: Liblinear failed to converge, increase the number of iterations.\n",
      "  warnings.warn(\"Liblinear failed to converge, increase \"\n"
     ]
    },
    {
     "name": "stdout",
     "output_type": "stream",
     "text": [
      "[CV 1/5] END features__max_df=0.05, features__min_df=10, features__ngram_range=(1, 4), model__C=7;, score=0.915 total time=   1.4s\n",
      "[CV 2/5] END features__max_df=0.05, features__min_df=10, features__ngram_range=(1, 4), model__C=7;, score=0.907 total time=   1.4s\n"
     ]
    },
    {
     "name": "stderr",
     "output_type": "stream",
     "text": [
      "/opt/anaconda3/lib/python3.9/site-packages/sklearn/svm/_base.py:985: ConvergenceWarning: Liblinear failed to converge, increase the number of iterations.\n",
      "  warnings.warn(\"Liblinear failed to converge, increase \"\n"
     ]
    },
    {
     "name": "stdout",
     "output_type": "stream",
     "text": [
      "[CV 3/5] END features__max_df=0.05, features__min_df=10, features__ngram_range=(1, 4), model__C=7;, score=0.904 total time=   1.5s\n"
     ]
    },
    {
     "name": "stderr",
     "output_type": "stream",
     "text": [
      "/opt/anaconda3/lib/python3.9/site-packages/sklearn/svm/_base.py:985: ConvergenceWarning: Liblinear failed to converge, increase the number of iterations.\n",
      "  warnings.warn(\"Liblinear failed to converge, increase \"\n"
     ]
    },
    {
     "name": "stdout",
     "output_type": "stream",
     "text": [
      "[CV 4/5] END features__max_df=0.05, features__min_df=10, features__ngram_range=(1, 4), model__C=7;, score=0.907 total time=   1.4s\n",
      "[CV 5/5] END features__max_df=0.05, features__min_df=10, features__ngram_range=(1, 4), model__C=7;, score=0.908 total time=   1.4s\n"
     ]
    },
    {
     "name": "stderr",
     "output_type": "stream",
     "text": [
      "/opt/anaconda3/lib/python3.9/site-packages/sklearn/svm/_base.py:985: ConvergenceWarning: Liblinear failed to converge, increase the number of iterations.\n",
      "  warnings.warn(\"Liblinear failed to converge, increase \"\n"
     ]
    },
    {
     "name": "stdout",
     "output_type": "stream",
     "text": [
      "[CV 1/5] END features__max_df=0.05, features__min_df=10, features__ngram_range=(1, 4), model__C=8;, score=0.914 total time=   1.5s\n"
     ]
    },
    {
     "name": "stderr",
     "output_type": "stream",
     "text": [
      "/opt/anaconda3/lib/python3.9/site-packages/sklearn/svm/_base.py:985: ConvergenceWarning: Liblinear failed to converge, increase the number of iterations.\n",
      "  warnings.warn(\"Liblinear failed to converge, increase \"\n"
     ]
    },
    {
     "name": "stdout",
     "output_type": "stream",
     "text": [
      "[CV 2/5] END features__max_df=0.05, features__min_df=10, features__ngram_range=(1, 4), model__C=8;, score=0.905 total time=   1.5s\n"
     ]
    },
    {
     "name": "stderr",
     "output_type": "stream",
     "text": [
      "/opt/anaconda3/lib/python3.9/site-packages/sklearn/svm/_base.py:985: ConvergenceWarning: Liblinear failed to converge, increase the number of iterations.\n",
      "  warnings.warn(\"Liblinear failed to converge, increase \"\n"
     ]
    },
    {
     "name": "stdout",
     "output_type": "stream",
     "text": [
      "[CV 3/5] END features__max_df=0.05, features__min_df=10, features__ngram_range=(1, 4), model__C=8;, score=0.902 total time=   1.5s\n"
     ]
    },
    {
     "name": "stderr",
     "output_type": "stream",
     "text": [
      "/opt/anaconda3/lib/python3.9/site-packages/sklearn/svm/_base.py:985: ConvergenceWarning: Liblinear failed to converge, increase the number of iterations.\n",
      "  warnings.warn(\"Liblinear failed to converge, increase \"\n"
     ]
    },
    {
     "name": "stdout",
     "output_type": "stream",
     "text": [
      "[CV 4/5] END features__max_df=0.05, features__min_df=10, features__ngram_range=(1, 4), model__C=8;, score=0.907 total time=   1.4s\n"
     ]
    },
    {
     "name": "stderr",
     "output_type": "stream",
     "text": [
      "/opt/anaconda3/lib/python3.9/site-packages/sklearn/svm/_base.py:985: ConvergenceWarning: Liblinear failed to converge, increase the number of iterations.\n",
      "  warnings.warn(\"Liblinear failed to converge, increase \"\n"
     ]
    },
    {
     "name": "stdout",
     "output_type": "stream",
     "text": [
      "[CV 5/5] END features__max_df=0.05, features__min_df=10, features__ngram_range=(1, 4), model__C=8;, score=0.906 total time=   1.5s\n"
     ]
    },
    {
     "name": "stderr",
     "output_type": "stream",
     "text": [
      "/opt/anaconda3/lib/python3.9/site-packages/sklearn/svm/_base.py:985: ConvergenceWarning: Liblinear failed to converge, increase the number of iterations.\n",
      "  warnings.warn(\"Liblinear failed to converge, increase \"\n"
     ]
    },
    {
     "name": "stdout",
     "output_type": "stream",
     "text": [
      "[CV 1/5] END features__max_df=0.05, features__min_df=10, features__ngram_range=(1, 4), model__C=9;, score=0.912 total time=   1.5s\n"
     ]
    },
    {
     "name": "stderr",
     "output_type": "stream",
     "text": [
      "/opt/anaconda3/lib/python3.9/site-packages/sklearn/svm/_base.py:985: ConvergenceWarning: Liblinear failed to converge, increase the number of iterations.\n",
      "  warnings.warn(\"Liblinear failed to converge, increase \"\n"
     ]
    },
    {
     "name": "stdout",
     "output_type": "stream",
     "text": [
      "[CV 2/5] END features__max_df=0.05, features__min_df=10, features__ngram_range=(1, 4), model__C=9;, score=0.904 total time=   1.5s\n"
     ]
    },
    {
     "name": "stderr",
     "output_type": "stream",
     "text": [
      "/opt/anaconda3/lib/python3.9/site-packages/sklearn/svm/_base.py:985: ConvergenceWarning: Liblinear failed to converge, increase the number of iterations.\n",
      "  warnings.warn(\"Liblinear failed to converge, increase \"\n"
     ]
    },
    {
     "name": "stdout",
     "output_type": "stream",
     "text": [
      "[CV 3/5] END features__max_df=0.05, features__min_df=10, features__ngram_range=(1, 4), model__C=9;, score=0.901 total time=   1.7s\n"
     ]
    },
    {
     "name": "stderr",
     "output_type": "stream",
     "text": [
      "/opt/anaconda3/lib/python3.9/site-packages/sklearn/svm/_base.py:985: ConvergenceWarning: Liblinear failed to converge, increase the number of iterations.\n",
      "  warnings.warn(\"Liblinear failed to converge, increase \"\n"
     ]
    },
    {
     "name": "stdout",
     "output_type": "stream",
     "text": [
      "[CV 4/5] END features__max_df=0.05, features__min_df=10, features__ngram_range=(1, 4), model__C=9;, score=0.905 total time=   1.5s\n"
     ]
    },
    {
     "name": "stderr",
     "output_type": "stream",
     "text": [
      "/opt/anaconda3/lib/python3.9/site-packages/sklearn/svm/_base.py:985: ConvergenceWarning: Liblinear failed to converge, increase the number of iterations.\n",
      "  warnings.warn(\"Liblinear failed to converge, increase \"\n"
     ]
    },
    {
     "name": "stdout",
     "output_type": "stream",
     "text": [
      "[CV 5/5] END features__max_df=0.05, features__min_df=10, features__ngram_range=(1, 4), model__C=9;, score=0.904 total time=   1.4s\n"
     ]
    },
    {
     "name": "stderr",
     "output_type": "stream",
     "text": [
      "/opt/anaconda3/lib/python3.9/site-packages/sklearn/svm/_base.py:985: ConvergenceWarning: Liblinear failed to converge, increase the number of iterations.\n",
      "  warnings.warn(\"Liblinear failed to converge, increase \"\n"
     ]
    },
    {
     "name": "stdout",
     "output_type": "stream",
     "text": [
      "[CV 1/5] END features__max_df=0.05, features__min_df=10, features__ngram_range=(1, 4), model__C=10;, score=0.910 total time=   1.5s\n"
     ]
    },
    {
     "name": "stderr",
     "output_type": "stream",
     "text": [
      "/opt/anaconda3/lib/python3.9/site-packages/sklearn/svm/_base.py:985: ConvergenceWarning: Liblinear failed to converge, increase the number of iterations.\n",
      "  warnings.warn(\"Liblinear failed to converge, increase \"\n"
     ]
    },
    {
     "name": "stdout",
     "output_type": "stream",
     "text": [
      "[CV 2/5] END features__max_df=0.05, features__min_df=10, features__ngram_range=(1, 4), model__C=10;, score=0.904 total time=   1.6s\n"
     ]
    },
    {
     "name": "stderr",
     "output_type": "stream",
     "text": [
      "/opt/anaconda3/lib/python3.9/site-packages/sklearn/svm/_base.py:985: ConvergenceWarning: Liblinear failed to converge, increase the number of iterations.\n",
      "  warnings.warn(\"Liblinear failed to converge, increase \"\n"
     ]
    },
    {
     "name": "stdout",
     "output_type": "stream",
     "text": [
      "[CV 3/5] END features__max_df=0.05, features__min_df=10, features__ngram_range=(1, 4), model__C=10;, score=0.900 total time=   1.7s\n"
     ]
    },
    {
     "name": "stderr",
     "output_type": "stream",
     "text": [
      "/opt/anaconda3/lib/python3.9/site-packages/sklearn/svm/_base.py:985: ConvergenceWarning: Liblinear failed to converge, increase the number of iterations.\n",
      "  warnings.warn(\"Liblinear failed to converge, increase \"\n"
     ]
    },
    {
     "name": "stdout",
     "output_type": "stream",
     "text": [
      "[CV 4/5] END features__max_df=0.05, features__min_df=10, features__ngram_range=(1, 4), model__C=10;, score=0.905 total time=   1.5s\n"
     ]
    },
    {
     "name": "stderr",
     "output_type": "stream",
     "text": [
      "/opt/anaconda3/lib/python3.9/site-packages/sklearn/svm/_base.py:985: ConvergenceWarning: Liblinear failed to converge, increase the number of iterations.\n",
      "  warnings.warn(\"Liblinear failed to converge, increase \"\n"
     ]
    },
    {
     "name": "stdout",
     "output_type": "stream",
     "text": [
      "[CV 5/5] END features__max_df=0.05, features__min_df=10, features__ngram_range=(1, 4), model__C=10;, score=0.903 total time=   1.6s\n",
      "[CV 1/5] END features__max_df=0.1, features__min_df=1, features__ngram_range=(1, 3), model__C=1;, score=0.945 total time=   1.7s\n",
      "[CV 2/5] END features__max_df=0.1, features__min_df=1, features__ngram_range=(1, 3), model__C=1;, score=0.939 total time=   2.0s\n",
      "[CV 3/5] END features__max_df=0.1, features__min_df=1, features__ngram_range=(1, 3), model__C=1;, score=0.938 total time=   1.7s\n",
      "[CV 4/5] END features__max_df=0.1, features__min_df=1, features__ngram_range=(1, 3), model__C=1;, score=0.944 total time=   1.8s\n",
      "[CV 5/5] END features__max_df=0.1, features__min_df=1, features__ngram_range=(1, 3), model__C=1;, score=0.937 total time=   1.7s\n",
      "[CV 1/5] END features__max_df=0.1, features__min_df=1, features__ngram_range=(1, 3), model__C=2;, score=0.946 total time=   2.1s\n",
      "[CV 2/5] END features__max_df=0.1, features__min_df=1, features__ngram_range=(1, 3), model__C=2;, score=0.940 total time=   2.0s\n",
      "[CV 3/5] END features__max_df=0.1, features__min_df=1, features__ngram_range=(1, 3), model__C=2;, score=0.941 total time=   1.8s\n",
      "[CV 4/5] END features__max_df=0.1, features__min_df=1, features__ngram_range=(1, 3), model__C=2;, score=0.944 total time=   1.8s\n",
      "[CV 5/5] END features__max_df=0.1, features__min_df=1, features__ngram_range=(1, 3), model__C=2;, score=0.939 total time=   1.9s\n",
      "[CV 1/5] END features__max_df=0.1, features__min_df=1, features__ngram_range=(1, 3), model__C=3;, score=0.946 total time=   2.0s\n",
      "[CV 2/5] END features__max_df=0.1, features__min_df=1, features__ngram_range=(1, 3), model__C=3;, score=0.940 total time=   2.2s\n",
      "[CV 3/5] END features__max_df=0.1, features__min_df=1, features__ngram_range=(1, 3), model__C=3;, score=0.941 total time=   1.8s\n",
      "[CV 4/5] END features__max_df=0.1, features__min_df=1, features__ngram_range=(1, 3), model__C=3;, score=0.945 total time=   2.1s\n",
      "[CV 5/5] END features__max_df=0.1, features__min_df=1, features__ngram_range=(1, 3), model__C=3;, score=0.939 total time=   1.9s\n",
      "[CV 1/5] END features__max_df=0.1, features__min_df=1, features__ngram_range=(1, 3), model__C=4;, score=0.946 total time=   2.0s\n",
      "[CV 2/5] END features__max_df=0.1, features__min_df=1, features__ngram_range=(1, 3), model__C=4;, score=0.940 total time=   2.0s\n",
      "[CV 3/5] END features__max_df=0.1, features__min_df=1, features__ngram_range=(1, 3), model__C=4;, score=0.941 total time=   1.7s\n",
      "[CV 4/5] END features__max_df=0.1, features__min_df=1, features__ngram_range=(1, 3), model__C=4;, score=0.945 total time=   2.0s\n",
      "[CV 5/5] END features__max_df=0.1, features__min_df=1, features__ngram_range=(1, 3), model__C=4;, score=0.939 total time=   1.9s\n",
      "[CV 1/5] END features__max_df=0.1, features__min_df=1, features__ngram_range=(1, 3), model__C=5;, score=0.946 total time=   2.1s\n",
      "[CV 2/5] END features__max_df=0.1, features__min_df=1, features__ngram_range=(1, 3), model__C=5;, score=0.940 total time=   2.2s\n",
      "[CV 3/5] END features__max_df=0.1, features__min_df=1, features__ngram_range=(1, 3), model__C=5;, score=0.941 total time=   1.9s\n",
      "[CV 4/5] END features__max_df=0.1, features__min_df=1, features__ngram_range=(1, 3), model__C=5;, score=0.945 total time=   2.0s\n",
      "[CV 5/5] END features__max_df=0.1, features__min_df=1, features__ngram_range=(1, 3), model__C=5;, score=0.939 total time=   2.0s\n",
      "[CV 1/5] END features__max_df=0.1, features__min_df=1, features__ngram_range=(1, 3), model__C=6;, score=0.946 total time=   2.1s\n",
      "[CV 2/5] END features__max_df=0.1, features__min_df=1, features__ngram_range=(1, 3), model__C=6;, score=0.940 total time=   2.0s\n",
      "[CV 3/5] END features__max_df=0.1, features__min_df=1, features__ngram_range=(1, 3), model__C=6;, score=0.941 total time=   2.1s\n",
      "[CV 4/5] END features__max_df=0.1, features__min_df=1, features__ngram_range=(1, 3), model__C=6;, score=0.945 total time=   2.1s\n",
      "[CV 5/5] END features__max_df=0.1, features__min_df=1, features__ngram_range=(1, 3), model__C=6;, score=0.939 total time=   2.0s\n",
      "[CV 1/5] END features__max_df=0.1, features__min_df=1, features__ngram_range=(1, 3), model__C=7;, score=0.946 total time=   2.3s\n",
      "[CV 2/5] END features__max_df=0.1, features__min_df=1, features__ngram_range=(1, 3), model__C=7;, score=0.940 total time=   2.0s\n",
      "[CV 3/5] END features__max_df=0.1, features__min_df=1, features__ngram_range=(1, 3), model__C=7;, score=0.941 total time=   1.9s\n",
      "[CV 4/5] END features__max_df=0.1, features__min_df=1, features__ngram_range=(1, 3), model__C=7;, score=0.945 total time=   2.1s\n",
      "[CV 5/5] END features__max_df=0.1, features__min_df=1, features__ngram_range=(1, 3), model__C=7;, score=0.939 total time=   1.9s\n",
      "[CV 1/5] END features__max_df=0.1, features__min_df=1, features__ngram_range=(1, 3), model__C=8;, score=0.946 total time=   1.9s\n",
      "[CV 2/5] END features__max_df=0.1, features__min_df=1, features__ngram_range=(1, 3), model__C=8;, score=0.939 total time=   2.1s\n",
      "[CV 3/5] END features__max_df=0.1, features__min_df=1, features__ngram_range=(1, 3), model__C=8;, score=0.940 total time=   2.0s\n",
      "[CV 4/5] END features__max_df=0.1, features__min_df=1, features__ngram_range=(1, 3), model__C=8;, score=0.945 total time=   2.0s\n",
      "[CV 5/5] END features__max_df=0.1, features__min_df=1, features__ngram_range=(1, 3), model__C=8;, score=0.939 total time=   2.0s\n",
      "[CV 1/5] END features__max_df=0.1, features__min_df=1, features__ngram_range=(1, 3), model__C=9;, score=0.946 total time=   2.0s\n",
      "[CV 2/5] END features__max_df=0.1, features__min_df=1, features__ngram_range=(1, 3), model__C=9;, score=0.940 total time=   2.1s\n",
      "[CV 3/5] END features__max_df=0.1, features__min_df=1, features__ngram_range=(1, 3), model__C=9;, score=0.940 total time=   1.7s\n",
      "[CV 4/5] END features__max_df=0.1, features__min_df=1, features__ngram_range=(1, 3), model__C=9;, score=0.945 total time=   2.0s\n",
      "[CV 5/5] END features__max_df=0.1, features__min_df=1, features__ngram_range=(1, 3), model__C=9;, score=0.939 total time=   2.0s\n",
      "[CV 1/5] END features__max_df=0.1, features__min_df=1, features__ngram_range=(1, 3), model__C=10;, score=0.946 total time=   2.1s\n",
      "[CV 2/5] END features__max_df=0.1, features__min_df=1, features__ngram_range=(1, 3), model__C=10;, score=0.940 total time=   2.2s\n",
      "[CV 3/5] END features__max_df=0.1, features__min_df=1, features__ngram_range=(1, 3), model__C=10;, score=0.940 total time=   1.8s\n",
      "[CV 4/5] END features__max_df=0.1, features__min_df=1, features__ngram_range=(1, 3), model__C=10;, score=0.945 total time=   2.0s\n",
      "[CV 5/5] END features__max_df=0.1, features__min_df=1, features__ngram_range=(1, 3), model__C=10;, score=0.939 total time=   1.9s\n",
      "[CV 1/5] END features__max_df=0.1, features__min_df=1, features__ngram_range=(1, 4), model__C=1;, score=0.944 total time=   2.6s\n",
      "[CV 2/5] END features__max_df=0.1, features__min_df=1, features__ngram_range=(1, 4), model__C=1;, score=0.937 total time=   2.7s\n",
      "[CV 3/5] END features__max_df=0.1, features__min_df=1, features__ngram_range=(1, 4), model__C=1;, score=0.936 total time=   2.6s\n",
      "[CV 4/5] END features__max_df=0.1, features__min_df=1, features__ngram_range=(1, 4), model__C=1;, score=0.939 total time=   2.7s\n",
      "[CV 5/5] END features__max_df=0.1, features__min_df=1, features__ngram_range=(1, 4), model__C=1;, score=0.935 total time=   2.6s\n",
      "[CV 1/5] END features__max_df=0.1, features__min_df=1, features__ngram_range=(1, 4), model__C=2;, score=0.946 total time=   2.8s\n",
      "[CV 2/5] END features__max_df=0.1, features__min_df=1, features__ngram_range=(1, 4), model__C=2;, score=0.939 total time=   2.9s\n",
      "[CV 3/5] END features__max_df=0.1, features__min_df=1, features__ngram_range=(1, 4), model__C=2;, score=0.938 total time=   2.5s\n",
      "[CV 4/5] END features__max_df=0.1, features__min_df=1, features__ngram_range=(1, 4), model__C=2;, score=0.940 total time=   2.8s\n",
      "[CV 5/5] END features__max_df=0.1, features__min_df=1, features__ngram_range=(1, 4), model__C=2;, score=0.937 total time=   2.6s\n",
      "[CV 1/5] END features__max_df=0.1, features__min_df=1, features__ngram_range=(1, 4), model__C=3;, score=0.946 total time=   2.9s\n",
      "[CV 2/5] END features__max_df=0.1, features__min_df=1, features__ngram_range=(1, 4), model__C=3;, score=0.939 total time=   2.9s\n",
      "[CV 3/5] END features__max_df=0.1, features__min_df=1, features__ngram_range=(1, 4), model__C=3;, score=0.938 total time=   2.7s\n"
     ]
    },
    {
     "name": "stdout",
     "output_type": "stream",
     "text": [
      "[CV 4/5] END features__max_df=0.1, features__min_df=1, features__ngram_range=(1, 4), model__C=3;, score=0.941 total time=   2.8s\n",
      "[CV 5/5] END features__max_df=0.1, features__min_df=1, features__ngram_range=(1, 4), model__C=3;, score=0.938 total time=   2.6s\n",
      "[CV 1/5] END features__max_df=0.1, features__min_df=1, features__ngram_range=(1, 4), model__C=4;, score=0.946 total time=   2.6s\n",
      "[CV 2/5] END features__max_df=0.1, features__min_df=1, features__ngram_range=(1, 4), model__C=4;, score=0.939 total time=   2.7s\n",
      "[CV 3/5] END features__max_df=0.1, features__min_df=1, features__ngram_range=(1, 4), model__C=4;, score=0.937 total time=   2.7s\n",
      "[CV 4/5] END features__max_df=0.1, features__min_df=1, features__ngram_range=(1, 4), model__C=4;, score=0.941 total time=   2.9s\n",
      "[CV 5/5] END features__max_df=0.1, features__min_df=1, features__ngram_range=(1, 4), model__C=4;, score=0.938 total time=   2.8s\n",
      "[CV 1/5] END features__max_df=0.1, features__min_df=1, features__ngram_range=(1, 4), model__C=5;, score=0.946 total time=   2.9s\n",
      "[CV 2/5] END features__max_df=0.1, features__min_df=1, features__ngram_range=(1, 4), model__C=5;, score=0.939 total time=   3.1s\n",
      "[CV 3/5] END features__max_df=0.1, features__min_df=1, features__ngram_range=(1, 4), model__C=5;, score=0.937 total time=   2.7s\n",
      "[CV 4/5] END features__max_df=0.1, features__min_df=1, features__ngram_range=(1, 4), model__C=5;, score=0.941 total time=   2.4s\n",
      "[CV 5/5] END features__max_df=0.1, features__min_df=1, features__ngram_range=(1, 4), model__C=5;, score=0.938 total time=   2.2s\n",
      "[CV 1/5] END features__max_df=0.1, features__min_df=1, features__ngram_range=(1, 4), model__C=6;, score=0.946 total time=   2.3s\n",
      "[CV 2/5] END features__max_df=0.1, features__min_df=1, features__ngram_range=(1, 4), model__C=6;, score=0.939 total time=   2.2s\n",
      "[CV 3/5] END features__max_df=0.1, features__min_df=1, features__ngram_range=(1, 4), model__C=6;, score=0.937 total time=   2.0s\n",
      "[CV 4/5] END features__max_df=0.1, features__min_df=1, features__ngram_range=(1, 4), model__C=6;, score=0.941 total time=   2.3s\n",
      "[CV 5/5] END features__max_df=0.1, features__min_df=1, features__ngram_range=(1, 4), model__C=6;, score=0.938 total time=   2.2s\n",
      "[CV 1/5] END features__max_df=0.1, features__min_df=1, features__ngram_range=(1, 4), model__C=7;, score=0.946 total time=   2.1s\n",
      "[CV 2/5] END features__max_df=0.1, features__min_df=1, features__ngram_range=(1, 4), model__C=7;, score=0.939 total time=   2.3s\n",
      "[CV 3/5] END features__max_df=0.1, features__min_df=1, features__ngram_range=(1, 4), model__C=7;, score=0.937 total time=   2.0s\n",
      "[CV 4/5] END features__max_df=0.1, features__min_df=1, features__ngram_range=(1, 4), model__C=7;, score=0.941 total time=   2.2s\n",
      "[CV 5/5] END features__max_df=0.1, features__min_df=1, features__ngram_range=(1, 4), model__C=7;, score=0.938 total time=   2.0s\n",
      "[CV 1/5] END features__max_df=0.1, features__min_df=1, features__ngram_range=(1, 4), model__C=8;, score=0.946 total time=   2.3s\n",
      "[CV 2/5] END features__max_df=0.1, features__min_df=1, features__ngram_range=(1, 4), model__C=8;, score=0.939 total time=   2.7s\n",
      "[CV 3/5] END features__max_df=0.1, features__min_df=1, features__ngram_range=(1, 4), model__C=8;, score=0.937 total time=   2.5s\n",
      "[CV 4/5] END features__max_df=0.1, features__min_df=1, features__ngram_range=(1, 4), model__C=8;, score=0.941 total time=   2.7s\n",
      "[CV 5/5] END features__max_df=0.1, features__min_df=1, features__ngram_range=(1, 4), model__C=8;, score=0.938 total time=   2.7s\n",
      "[CV 1/5] END features__max_df=0.1, features__min_df=1, features__ngram_range=(1, 4), model__C=9;, score=0.946 total time=   2.8s\n",
      "[CV 2/5] END features__max_df=0.1, features__min_df=1, features__ngram_range=(1, 4), model__C=9;, score=0.939 total time=   2.8s\n",
      "[CV 3/5] END features__max_df=0.1, features__min_df=1, features__ngram_range=(1, 4), model__C=9;, score=0.937 total time=   2.6s\n",
      "[CV 4/5] END features__max_df=0.1, features__min_df=1, features__ngram_range=(1, 4), model__C=9;, score=0.941 total time=   2.7s\n",
      "[CV 5/5] END features__max_df=0.1, features__min_df=1, features__ngram_range=(1, 4), model__C=9;, score=0.938 total time=   2.6s\n",
      "[CV 1/5] END features__max_df=0.1, features__min_df=1, features__ngram_range=(1, 4), model__C=10;, score=0.946 total time=   2.8s\n",
      "[CV 2/5] END features__max_df=0.1, features__min_df=1, features__ngram_range=(1, 4), model__C=10;, score=0.939 total time=   2.7s\n",
      "[CV 3/5] END features__max_df=0.1, features__min_df=1, features__ngram_range=(1, 4), model__C=10;, score=0.937 total time=   2.3s\n",
      "[CV 4/5] END features__max_df=0.1, features__min_df=1, features__ngram_range=(1, 4), model__C=10;, score=0.941 total time=   2.2s\n",
      "[CV 5/5] END features__max_df=0.1, features__min_df=1, features__ngram_range=(1, 4), model__C=10;, score=0.938 total time=   2.2s\n",
      "[CV 1/5] END features__max_df=0.1, features__min_df=10, features__ngram_range=(1, 3), model__C=1;, score=0.923 total time=   0.7s\n",
      "[CV 2/5] END features__max_df=0.1, features__min_df=10, features__ngram_range=(1, 3), model__C=1;, score=0.916 total time=   0.7s\n",
      "[CV 3/5] END features__max_df=0.1, features__min_df=10, features__ngram_range=(1, 3), model__C=1;, score=0.918 total time=   0.7s\n",
      "[CV 4/5] END features__max_df=0.1, features__min_df=10, features__ngram_range=(1, 3), model__C=1;, score=0.919 total time=   0.7s\n",
      "[CV 5/5] END features__max_df=0.1, features__min_df=10, features__ngram_range=(1, 3), model__C=1;, score=0.920 total time=   0.7s\n"
     ]
    },
    {
     "name": "stderr",
     "output_type": "stream",
     "text": [
      "/opt/anaconda3/lib/python3.9/site-packages/sklearn/svm/_base.py:985: ConvergenceWarning: Liblinear failed to converge, increase the number of iterations.\n",
      "  warnings.warn(\"Liblinear failed to converge, increase \"\n"
     ]
    },
    {
     "name": "stdout",
     "output_type": "stream",
     "text": [
      "[CV 1/5] END features__max_df=0.1, features__min_df=10, features__ngram_range=(1, 3), model__C=2;, score=0.922 total time=   1.2s\n",
      "[CV 2/5] END features__max_df=0.1, features__min_df=10, features__ngram_range=(1, 3), model__C=2;, score=0.915 total time=   0.8s\n",
      "[CV 3/5] END features__max_df=0.1, features__min_df=10, features__ngram_range=(1, 3), model__C=2;, score=0.915 total time=   0.8s\n",
      "[CV 4/5] END features__max_df=0.1, features__min_df=10, features__ngram_range=(1, 3), model__C=2;, score=0.917 total time=   0.9s\n",
      "[CV 5/5] END features__max_df=0.1, features__min_df=10, features__ngram_range=(1, 3), model__C=2;, score=0.921 total time=   0.9s\n"
     ]
    },
    {
     "name": "stderr",
     "output_type": "stream",
     "text": [
      "/opt/anaconda3/lib/python3.9/site-packages/sklearn/svm/_base.py:985: ConvergenceWarning: Liblinear failed to converge, increase the number of iterations.\n",
      "  warnings.warn(\"Liblinear failed to converge, increase \"\n"
     ]
    },
    {
     "name": "stdout",
     "output_type": "stream",
     "text": [
      "[CV 1/5] END features__max_df=0.1, features__min_df=10, features__ngram_range=(1, 3), model__C=3;, score=0.920 total time=   1.0s\n",
      "[CV 2/5] END features__max_df=0.1, features__min_df=10, features__ngram_range=(1, 3), model__C=3;, score=0.913 total time=   0.9s\n"
     ]
    },
    {
     "name": "stderr",
     "output_type": "stream",
     "text": [
      "/opt/anaconda3/lib/python3.9/site-packages/sklearn/svm/_base.py:985: ConvergenceWarning: Liblinear failed to converge, increase the number of iterations.\n",
      "  warnings.warn(\"Liblinear failed to converge, increase \"\n"
     ]
    },
    {
     "name": "stdout",
     "output_type": "stream",
     "text": [
      "[CV 3/5] END features__max_df=0.1, features__min_df=10, features__ngram_range=(1, 3), model__C=3;, score=0.914 total time=   0.9s\n"
     ]
    },
    {
     "name": "stderr",
     "output_type": "stream",
     "text": [
      "/opt/anaconda3/lib/python3.9/site-packages/sklearn/svm/_base.py:985: ConvergenceWarning: Liblinear failed to converge, increase the number of iterations.\n",
      "  warnings.warn(\"Liblinear failed to converge, increase \"\n"
     ]
    },
    {
     "name": "stdout",
     "output_type": "stream",
     "text": [
      "[CV 4/5] END features__max_df=0.1, features__min_df=10, features__ngram_range=(1, 3), model__C=3;, score=0.918 total time=   1.0s\n"
     ]
    },
    {
     "name": "stderr",
     "output_type": "stream",
     "text": [
      "/opt/anaconda3/lib/python3.9/site-packages/sklearn/svm/_base.py:985: ConvergenceWarning: Liblinear failed to converge, increase the number of iterations.\n",
      "  warnings.warn(\"Liblinear failed to converge, increase \"\n"
     ]
    },
    {
     "name": "stdout",
     "output_type": "stream",
     "text": [
      "[CV 5/5] END features__max_df=0.1, features__min_df=10, features__ngram_range=(1, 3), model__C=3;, score=0.916 total time=   1.0s\n"
     ]
    },
    {
     "name": "stderr",
     "output_type": "stream",
     "text": [
      "/opt/anaconda3/lib/python3.9/site-packages/sklearn/svm/_base.py:985: ConvergenceWarning: Liblinear failed to converge, increase the number of iterations.\n",
      "  warnings.warn(\"Liblinear failed to converge, increase \"\n"
     ]
    },
    {
     "name": "stdout",
     "output_type": "stream",
     "text": [
      "[CV 1/5] END features__max_df=0.1, features__min_df=10, features__ngram_range=(1, 3), model__C=4;, score=0.917 total time=   1.1s\n",
      "[CV 2/5] END features__max_df=0.1, features__min_df=10, features__ngram_range=(1, 3), model__C=4;, score=0.913 total time=   0.9s\n"
     ]
    },
    {
     "name": "stderr",
     "output_type": "stream",
     "text": [
      "/opt/anaconda3/lib/python3.9/site-packages/sklearn/svm/_base.py:985: ConvergenceWarning: Liblinear failed to converge, increase the number of iterations.\n",
      "  warnings.warn(\"Liblinear failed to converge, increase \"\n"
     ]
    },
    {
     "name": "stdout",
     "output_type": "stream",
     "text": [
      "[CV 3/5] END features__max_df=0.1, features__min_df=10, features__ngram_range=(1, 3), model__C=4;, score=0.911 total time=   0.9s\n"
     ]
    },
    {
     "name": "stderr",
     "output_type": "stream",
     "text": [
      "/opt/anaconda3/lib/python3.9/site-packages/sklearn/svm/_base.py:985: ConvergenceWarning: Liblinear failed to converge, increase the number of iterations.\n",
      "  warnings.warn(\"Liblinear failed to converge, increase \"\n"
     ]
    },
    {
     "name": "stdout",
     "output_type": "stream",
     "text": [
      "[CV 4/5] END features__max_df=0.1, features__min_df=10, features__ngram_range=(1, 3), model__C=4;, score=0.914 total time=   1.1s\n",
      "[CV 5/5] END features__max_df=0.1, features__min_df=10, features__ngram_range=(1, 3), model__C=4;, score=0.914 total time=   1.0s\n"
     ]
    },
    {
     "name": "stderr",
     "output_type": "stream",
     "text": [
      "/opt/anaconda3/lib/python3.9/site-packages/sklearn/svm/_base.py:985: ConvergenceWarning: Liblinear failed to converge, increase the number of iterations.\n",
      "  warnings.warn(\"Liblinear failed to converge, increase \"\n"
     ]
    },
    {
     "name": "stdout",
     "output_type": "stream",
     "text": [
      "[CV 1/5] END features__max_df=0.1, features__min_df=10, features__ngram_range=(1, 3), model__C=5;, score=0.915 total time=   1.2s\n",
      "[CV 2/5] END features__max_df=0.1, features__min_df=10, features__ngram_range=(1, 3), model__C=5;, score=0.911 total time=   0.9s\n"
     ]
    },
    {
     "name": "stderr",
     "output_type": "stream",
     "text": [
      "/opt/anaconda3/lib/python3.9/site-packages/sklearn/svm/_base.py:985: ConvergenceWarning: Liblinear failed to converge, increase the number of iterations.\n",
      "  warnings.warn(\"Liblinear failed to converge, increase \"\n"
     ]
    },
    {
     "name": "stdout",
     "output_type": "stream",
     "text": [
      "[CV 3/5] END features__max_df=0.1, features__min_df=10, features__ngram_range=(1, 3), model__C=5;, score=0.910 total time=   1.0s\n",
      "[CV 4/5] END features__max_df=0.1, features__min_df=10, features__ngram_range=(1, 3), model__C=5;, score=0.911 total time=   1.1s\n"
     ]
    },
    {
     "name": "stderr",
     "output_type": "stream",
     "text": [
      "/opt/anaconda3/lib/python3.9/site-packages/sklearn/svm/_base.py:985: ConvergenceWarning: Liblinear failed to converge, increase the number of iterations.\n",
      "  warnings.warn(\"Liblinear failed to converge, increase \"\n"
     ]
    },
    {
     "name": "stdout",
     "output_type": "stream",
     "text": [
      "[CV 5/5] END features__max_df=0.1, features__min_df=10, features__ngram_range=(1, 3), model__C=5;, score=0.913 total time=   1.1s\n"
     ]
    },
    {
     "name": "stderr",
     "output_type": "stream",
     "text": [
      "/opt/anaconda3/lib/python3.9/site-packages/sklearn/svm/_base.py:985: ConvergenceWarning: Liblinear failed to converge, increase the number of iterations.\n",
      "  warnings.warn(\"Liblinear failed to converge, increase \"\n"
     ]
    },
    {
     "name": "stdout",
     "output_type": "stream",
     "text": [
      "[CV 1/5] END features__max_df=0.1, features__min_df=10, features__ngram_range=(1, 3), model__C=6;, score=0.914 total time=   1.1s\n",
      "[CV 2/5] END features__max_df=0.1, features__min_df=10, features__ngram_range=(1, 3), model__C=6;, score=0.908 total time=   1.0s\n"
     ]
    },
    {
     "name": "stderr",
     "output_type": "stream",
     "text": [
      "/opt/anaconda3/lib/python3.9/site-packages/sklearn/svm/_base.py:985: ConvergenceWarning: Liblinear failed to converge, increase the number of iterations.\n",
      "  warnings.warn(\"Liblinear failed to converge, increase \"\n"
     ]
    },
    {
     "name": "stdout",
     "output_type": "stream",
     "text": [
      "[CV 3/5] END features__max_df=0.1, features__min_df=10, features__ngram_range=(1, 3), model__C=6;, score=0.907 total time=   1.1s\n"
     ]
    },
    {
     "name": "stderr",
     "output_type": "stream",
     "text": [
      "/opt/anaconda3/lib/python3.9/site-packages/sklearn/svm/_base.py:985: ConvergenceWarning: Liblinear failed to converge, increase the number of iterations.\n",
      "  warnings.warn(\"Liblinear failed to converge, increase \"\n"
     ]
    },
    {
     "name": "stdout",
     "output_type": "stream",
     "text": [
      "[CV 4/5] END features__max_df=0.1, features__min_df=10, features__ngram_range=(1, 3), model__C=6;, score=0.910 total time=   1.1s\n",
      "[CV 5/5] END features__max_df=0.1, features__min_df=10, features__ngram_range=(1, 3), model__C=6;, score=0.913 total time=   0.9s\n"
     ]
    },
    {
     "name": "stderr",
     "output_type": "stream",
     "text": [
      "/opt/anaconda3/lib/python3.9/site-packages/sklearn/svm/_base.py:985: ConvergenceWarning: Liblinear failed to converge, increase the number of iterations.\n",
      "  warnings.warn(\"Liblinear failed to converge, increase \"\n"
     ]
    },
    {
     "name": "stdout",
     "output_type": "stream",
     "text": [
      "[CV 1/5] END features__max_df=0.1, features__min_df=10, features__ngram_range=(1, 3), model__C=7;, score=0.914 total time=   1.2s\n"
     ]
    },
    {
     "name": "stderr",
     "output_type": "stream",
     "text": [
      "/opt/anaconda3/lib/python3.9/site-packages/sklearn/svm/_base.py:985: ConvergenceWarning: Liblinear failed to converge, increase the number of iterations.\n",
      "  warnings.warn(\"Liblinear failed to converge, increase \"\n"
     ]
    },
    {
     "name": "stdout",
     "output_type": "stream",
     "text": [
      "[CV 2/5] END features__max_df=0.1, features__min_df=10, features__ngram_range=(1, 3), model__C=7;, score=0.905 total time=   1.2s\n"
     ]
    },
    {
     "name": "stderr",
     "output_type": "stream",
     "text": [
      "/opt/anaconda3/lib/python3.9/site-packages/sklearn/svm/_base.py:985: ConvergenceWarning: Liblinear failed to converge, increase the number of iterations.\n",
      "  warnings.warn(\"Liblinear failed to converge, increase \"\n"
     ]
    },
    {
     "name": "stdout",
     "output_type": "stream",
     "text": [
      "[CV 3/5] END features__max_df=0.1, features__min_df=10, features__ngram_range=(1, 3), model__C=7;, score=0.907 total time=   1.1s\n",
      "[CV 4/5] END features__max_df=0.1, features__min_df=10, features__ngram_range=(1, 3), model__C=7;, score=0.909 total time=   1.0s\n"
     ]
    },
    {
     "name": "stderr",
     "output_type": "stream",
     "text": [
      "/opt/anaconda3/lib/python3.9/site-packages/sklearn/svm/_base.py:985: ConvergenceWarning: Liblinear failed to converge, increase the number of iterations.\n",
      "  warnings.warn(\"Liblinear failed to converge, increase \"\n"
     ]
    },
    {
     "name": "stdout",
     "output_type": "stream",
     "text": [
      "[CV 5/5] END features__max_df=0.1, features__min_df=10, features__ngram_range=(1, 3), model__C=7;, score=0.911 total time=   1.0s\n"
     ]
    },
    {
     "name": "stderr",
     "output_type": "stream",
     "text": [
      "/opt/anaconda3/lib/python3.9/site-packages/sklearn/svm/_base.py:985: ConvergenceWarning: Liblinear failed to converge, increase the number of iterations.\n",
      "  warnings.warn(\"Liblinear failed to converge, increase \"\n"
     ]
    },
    {
     "name": "stdout",
     "output_type": "stream",
     "text": [
      "[CV 1/5] END features__max_df=0.1, features__min_df=10, features__ngram_range=(1, 3), model__C=8;, score=0.913 total time=   1.2s\n"
     ]
    },
    {
     "name": "stderr",
     "output_type": "stream",
     "text": [
      "/opt/anaconda3/lib/python3.9/site-packages/sklearn/svm/_base.py:985: ConvergenceWarning: Liblinear failed to converge, increase the number of iterations.\n",
      "  warnings.warn(\"Liblinear failed to converge, increase \"\n"
     ]
    },
    {
     "name": "stdout",
     "output_type": "stream",
     "text": [
      "[CV 2/5] END features__max_df=0.1, features__min_df=10, features__ngram_range=(1, 3), model__C=8;, score=0.905 total time=   1.0s\n"
     ]
    },
    {
     "name": "stderr",
     "output_type": "stream",
     "text": [
      "/opt/anaconda3/lib/python3.9/site-packages/sklearn/svm/_base.py:985: ConvergenceWarning: Liblinear failed to converge, increase the number of iterations.\n",
      "  warnings.warn(\"Liblinear failed to converge, increase \"\n"
     ]
    },
    {
     "name": "stdout",
     "output_type": "stream",
     "text": [
      "[CV 3/5] END features__max_df=0.1, features__min_df=10, features__ngram_range=(1, 3), model__C=8;, score=0.906 total time=   1.3s\n"
     ]
    },
    {
     "name": "stderr",
     "output_type": "stream",
     "text": [
      "/opt/anaconda3/lib/python3.9/site-packages/sklearn/svm/_base.py:985: ConvergenceWarning: Liblinear failed to converge, increase the number of iterations.\n",
      "  warnings.warn(\"Liblinear failed to converge, increase \"\n"
     ]
    },
    {
     "name": "stdout",
     "output_type": "stream",
     "text": [
      "[CV 4/5] END features__max_df=0.1, features__min_df=10, features__ngram_range=(1, 3), model__C=8;, score=0.908 total time=   1.1s\n"
     ]
    },
    {
     "name": "stderr",
     "output_type": "stream",
     "text": [
      "/opt/anaconda3/lib/python3.9/site-packages/sklearn/svm/_base.py:985: ConvergenceWarning: Liblinear failed to converge, increase the number of iterations.\n",
      "  warnings.warn(\"Liblinear failed to converge, increase \"\n"
     ]
    },
    {
     "name": "stdout",
     "output_type": "stream",
     "text": [
      "[CV 5/5] END features__max_df=0.1, features__min_df=10, features__ngram_range=(1, 3), model__C=8;, score=0.910 total time=   1.0s\n"
     ]
    },
    {
     "name": "stderr",
     "output_type": "stream",
     "text": [
      "/opt/anaconda3/lib/python3.9/site-packages/sklearn/svm/_base.py:985: ConvergenceWarning: Liblinear failed to converge, increase the number of iterations.\n",
      "  warnings.warn(\"Liblinear failed to converge, increase \"\n"
     ]
    },
    {
     "name": "stdout",
     "output_type": "stream",
     "text": [
      "[CV 1/5] END features__max_df=0.1, features__min_df=10, features__ngram_range=(1, 3), model__C=9;, score=0.912 total time=   1.2s\n",
      "[CV 2/5] END features__max_df=0.1, features__min_df=10, features__ngram_range=(1, 3), model__C=9;, score=0.904 total time=   1.1s\n"
     ]
    },
    {
     "name": "stderr",
     "output_type": "stream",
     "text": [
      "/opt/anaconda3/lib/python3.9/site-packages/sklearn/svm/_base.py:985: ConvergenceWarning: Liblinear failed to converge, increase the number of iterations.\n",
      "  warnings.warn(\"Liblinear failed to converge, increase \"\n"
     ]
    },
    {
     "name": "stdout",
     "output_type": "stream",
     "text": [
      "[CV 3/5] END features__max_df=0.1, features__min_df=10, features__ngram_range=(1, 3), model__C=9;, score=0.905 total time=   1.1s\n"
     ]
    },
    {
     "name": "stderr",
     "output_type": "stream",
     "text": [
      "/opt/anaconda3/lib/python3.9/site-packages/sklearn/svm/_base.py:985: ConvergenceWarning: Liblinear failed to converge, increase the number of iterations.\n",
      "  warnings.warn(\"Liblinear failed to converge, increase \"\n"
     ]
    },
    {
     "name": "stdout",
     "output_type": "stream",
     "text": [
      "[CV 4/5] END features__max_df=0.1, features__min_df=10, features__ngram_range=(1, 3), model__C=9;, score=0.908 total time=   1.2s\n"
     ]
    },
    {
     "name": "stderr",
     "output_type": "stream",
     "text": [
      "/opt/anaconda3/lib/python3.9/site-packages/sklearn/svm/_base.py:985: ConvergenceWarning: Liblinear failed to converge, increase the number of iterations.\n",
      "  warnings.warn(\"Liblinear failed to converge, increase \"\n"
     ]
    },
    {
     "name": "stdout",
     "output_type": "stream",
     "text": [
      "[CV 5/5] END features__max_df=0.1, features__min_df=10, features__ngram_range=(1, 3), model__C=9;, score=0.908 total time=   1.1s\n"
     ]
    },
    {
     "name": "stderr",
     "output_type": "stream",
     "text": [
      "/opt/anaconda3/lib/python3.9/site-packages/sklearn/svm/_base.py:985: ConvergenceWarning: Liblinear failed to converge, increase the number of iterations.\n",
      "  warnings.warn(\"Liblinear failed to converge, increase \"\n"
     ]
    },
    {
     "name": "stdout",
     "output_type": "stream",
     "text": [
      "[CV 1/5] END features__max_df=0.1, features__min_df=10, features__ngram_range=(1, 3), model__C=10;, score=0.911 total time=   1.2s\n",
      "[CV 2/5] END features__max_df=0.1, features__min_df=10, features__ngram_range=(1, 3), model__C=10;, score=0.903 total time=   1.2s\n"
     ]
    },
    {
     "name": "stderr",
     "output_type": "stream",
     "text": [
      "/opt/anaconda3/lib/python3.9/site-packages/sklearn/svm/_base.py:985: ConvergenceWarning: Liblinear failed to converge, increase the number of iterations.\n",
      "  warnings.warn(\"Liblinear failed to converge, increase \"\n"
     ]
    },
    {
     "name": "stdout",
     "output_type": "stream",
     "text": [
      "[CV 3/5] END features__max_df=0.1, features__min_df=10, features__ngram_range=(1, 3), model__C=10;, score=0.903 total time=   1.3s\n"
     ]
    },
    {
     "name": "stderr",
     "output_type": "stream",
     "text": [
      "/opt/anaconda3/lib/python3.9/site-packages/sklearn/svm/_base.py:985: ConvergenceWarning: Liblinear failed to converge, increase the number of iterations.\n",
      "  warnings.warn(\"Liblinear failed to converge, increase \"\n"
     ]
    },
    {
     "name": "stdout",
     "output_type": "stream",
     "text": [
      "[CV 4/5] END features__max_df=0.1, features__min_df=10, features__ngram_range=(1, 3), model__C=10;, score=0.906 total time=   1.2s\n"
     ]
    },
    {
     "name": "stderr",
     "output_type": "stream",
     "text": [
      "/opt/anaconda3/lib/python3.9/site-packages/sklearn/svm/_base.py:985: ConvergenceWarning: Liblinear failed to converge, increase the number of iterations.\n",
      "  warnings.warn(\"Liblinear failed to converge, increase \"\n"
     ]
    },
    {
     "name": "stdout",
     "output_type": "stream",
     "text": [
      "[CV 5/5] END features__max_df=0.1, features__min_df=10, features__ngram_range=(1, 3), model__C=10;, score=0.906 total time=   1.1s\n",
      "[CV 1/5] END features__max_df=0.1, features__min_df=10, features__ngram_range=(1, 4), model__C=1;, score=0.923 total time=   0.9s\n",
      "[CV 2/5] END features__max_df=0.1, features__min_df=10, features__ngram_range=(1, 4), model__C=1;, score=0.916 total time=   0.9s\n",
      "[CV 3/5] END features__max_df=0.1, features__min_df=10, features__ngram_range=(1, 4), model__C=1;, score=0.917 total time=   0.9s\n"
     ]
    },
    {
     "name": "stderr",
     "output_type": "stream",
     "text": [
      "/opt/anaconda3/lib/python3.9/site-packages/sklearn/svm/_base.py:985: ConvergenceWarning: Liblinear failed to converge, increase the number of iterations.\n",
      "  warnings.warn(\"Liblinear failed to converge, increase \"\n"
     ]
    },
    {
     "name": "stdout",
     "output_type": "stream",
     "text": [
      "[CV 4/5] END features__max_df=0.1, features__min_df=10, features__ngram_range=(1, 4), model__C=1;, score=0.919 total time=   0.9s\n",
      "[CV 5/5] END features__max_df=0.1, features__min_df=10, features__ngram_range=(1, 4), model__C=1;, score=0.920 total time=   0.8s\n"
     ]
    },
    {
     "name": "stderr",
     "output_type": "stream",
     "text": [
      "/opt/anaconda3/lib/python3.9/site-packages/sklearn/svm/_base.py:985: ConvergenceWarning: Liblinear failed to converge, increase the number of iterations.\n",
      "  warnings.warn(\"Liblinear failed to converge, increase \"\n"
     ]
    },
    {
     "name": "stdout",
     "output_type": "stream",
     "text": [
      "[CV 1/5] END features__max_df=0.1, features__min_df=10, features__ngram_range=(1, 4), model__C=2;, score=0.921 total time=   1.0s\n"
     ]
    },
    {
     "name": "stderr",
     "output_type": "stream",
     "text": [
      "/opt/anaconda3/lib/python3.9/site-packages/sklearn/svm/_base.py:985: ConvergenceWarning: Liblinear failed to converge, increase the number of iterations.\n",
      "  warnings.warn(\"Liblinear failed to converge, increase \"\n"
     ]
    },
    {
     "name": "stdout",
     "output_type": "stream",
     "text": [
      "[CV 2/5] END features__max_df=0.1, features__min_df=10, features__ngram_range=(1, 4), model__C=2;, score=0.915 total time=   1.0s\n",
      "[CV 3/5] END features__max_df=0.1, features__min_df=10, features__ngram_range=(1, 4), model__C=2;, score=0.915 total time=   1.2s\n"
     ]
    },
    {
     "name": "stderr",
     "output_type": "stream",
     "text": [
      "/opt/anaconda3/lib/python3.9/site-packages/sklearn/svm/_base.py:985: ConvergenceWarning: Liblinear failed to converge, increase the number of iterations.\n",
      "  warnings.warn(\"Liblinear failed to converge, increase \"\n"
     ]
    },
    {
     "name": "stdout",
     "output_type": "stream",
     "text": [
      "[CV 4/5] END features__max_df=0.1, features__min_df=10, features__ngram_range=(1, 4), model__C=2;, score=0.917 total time=   1.1s\n",
      "[CV 5/5] END features__max_df=0.1, features__min_df=10, features__ngram_range=(1, 4), model__C=2;, score=0.921 total time=   1.0s\n"
     ]
    },
    {
     "name": "stderr",
     "output_type": "stream",
     "text": [
      "/opt/anaconda3/lib/python3.9/site-packages/sklearn/svm/_base.py:985: ConvergenceWarning: Liblinear failed to converge, increase the number of iterations.\n",
      "  warnings.warn(\"Liblinear failed to converge, increase \"\n"
     ]
    },
    {
     "name": "stdout",
     "output_type": "stream",
     "text": [
      "[CV 1/5] END features__max_df=0.1, features__min_df=10, features__ngram_range=(1, 4), model__C=3;, score=0.920 total time=   1.4s\n",
      "[CV 2/5] END features__max_df=0.1, features__min_df=10, features__ngram_range=(1, 4), model__C=3;, score=0.913 total time=   1.0s\n"
     ]
    },
    {
     "name": "stderr",
     "output_type": "stream",
     "text": [
      "/opt/anaconda3/lib/python3.9/site-packages/sklearn/svm/_base.py:985: ConvergenceWarning: Liblinear failed to converge, increase the number of iterations.\n",
      "  warnings.warn(\"Liblinear failed to converge, increase \"\n"
     ]
    },
    {
     "name": "stdout",
     "output_type": "stream",
     "text": [
      "[CV 3/5] END features__max_df=0.1, features__min_df=10, features__ngram_range=(1, 4), model__C=3;, score=0.915 total time=   1.1s\n"
     ]
    },
    {
     "name": "stderr",
     "output_type": "stream",
     "text": [
      "/opt/anaconda3/lib/python3.9/site-packages/sklearn/svm/_base.py:985: ConvergenceWarning: Liblinear failed to converge, increase the number of iterations.\n",
      "  warnings.warn(\"Liblinear failed to converge, increase \"\n"
     ]
    },
    {
     "name": "stdout",
     "output_type": "stream",
     "text": [
      "[CV 4/5] END features__max_df=0.1, features__min_df=10, features__ngram_range=(1, 4), model__C=3;, score=0.918 total time=   1.1s\n"
     ]
    },
    {
     "name": "stderr",
     "output_type": "stream",
     "text": [
      "/opt/anaconda3/lib/python3.9/site-packages/sklearn/svm/_base.py:985: ConvergenceWarning: Liblinear failed to converge, increase the number of iterations.\n",
      "  warnings.warn(\"Liblinear failed to converge, increase \"\n"
     ]
    },
    {
     "name": "stdout",
     "output_type": "stream",
     "text": [
      "[CV 5/5] END features__max_df=0.1, features__min_df=10, features__ngram_range=(1, 4), model__C=3;, score=0.916 total time=   1.2s\n"
     ]
    },
    {
     "name": "stderr",
     "output_type": "stream",
     "text": [
      "/opt/anaconda3/lib/python3.9/site-packages/sklearn/svm/_base.py:985: ConvergenceWarning: Liblinear failed to converge, increase the number of iterations.\n",
      "  warnings.warn(\"Liblinear failed to converge, increase \"\n"
     ]
    },
    {
     "name": "stdout",
     "output_type": "stream",
     "text": [
      "[CV 1/5] END features__max_df=0.1, features__min_df=10, features__ngram_range=(1, 4), model__C=4;, score=0.917 total time=   1.3s\n",
      "[CV 2/5] END features__max_df=0.1, features__min_df=10, features__ngram_range=(1, 4), model__C=4;, score=0.913 total time=   1.0s\n"
     ]
    },
    {
     "name": "stderr",
     "output_type": "stream",
     "text": [
      "/opt/anaconda3/lib/python3.9/site-packages/sklearn/svm/_base.py:985: ConvergenceWarning: Liblinear failed to converge, increase the number of iterations.\n",
      "  warnings.warn(\"Liblinear failed to converge, increase \"\n"
     ]
    },
    {
     "name": "stdout",
     "output_type": "stream",
     "text": [
      "[CV 3/5] END features__max_df=0.1, features__min_df=10, features__ngram_range=(1, 4), model__C=4;, score=0.911 total time=   1.1s\n"
     ]
    },
    {
     "name": "stderr",
     "output_type": "stream",
     "text": [
      "/opt/anaconda3/lib/python3.9/site-packages/sklearn/svm/_base.py:985: ConvergenceWarning: Liblinear failed to converge, increase the number of iterations.\n",
      "  warnings.warn(\"Liblinear failed to converge, increase \"\n"
     ]
    },
    {
     "name": "stdout",
     "output_type": "stream",
     "text": [
      "[CV 4/5] END features__max_df=0.1, features__min_df=10, features__ngram_range=(1, 4), model__C=4;, score=0.914 total time=   1.2s\n",
      "[CV 5/5] END features__max_df=0.1, features__min_df=10, features__ngram_range=(1, 4), model__C=4;, score=0.914 total time=   1.1s\n"
     ]
    },
    {
     "name": "stderr",
     "output_type": "stream",
     "text": [
      "/opt/anaconda3/lib/python3.9/site-packages/sklearn/svm/_base.py:985: ConvergenceWarning: Liblinear failed to converge, increase the number of iterations.\n",
      "  warnings.warn(\"Liblinear failed to converge, increase \"\n"
     ]
    },
    {
     "name": "stdout",
     "output_type": "stream",
     "text": [
      "[CV 1/5] END features__max_df=0.1, features__min_df=10, features__ngram_range=(1, 4), model__C=5;, score=0.915 total time=   1.3s\n",
      "[CV 2/5] END features__max_df=0.1, features__min_df=10, features__ngram_range=(1, 4), model__C=5;, score=0.911 total time=   1.1s\n"
     ]
    },
    {
     "name": "stderr",
     "output_type": "stream",
     "text": [
      "/opt/anaconda3/lib/python3.9/site-packages/sklearn/svm/_base.py:985: ConvergenceWarning: Liblinear failed to converge, increase the number of iterations.\n",
      "  warnings.warn(\"Liblinear failed to converge, increase \"\n"
     ]
    },
    {
     "name": "stdout",
     "output_type": "stream",
     "text": [
      "[CV 3/5] END features__max_df=0.1, features__min_df=10, features__ngram_range=(1, 4), model__C=5;, score=0.910 total time=   1.1s\n",
      "[CV 4/5] END features__max_df=0.1, features__min_df=10, features__ngram_range=(1, 4), model__C=5;, score=0.911 total time=   1.2s\n"
     ]
    },
    {
     "name": "stderr",
     "output_type": "stream",
     "text": [
      "/opt/anaconda3/lib/python3.9/site-packages/sklearn/svm/_base.py:985: ConvergenceWarning: Liblinear failed to converge, increase the number of iterations.\n",
      "  warnings.warn(\"Liblinear failed to converge, increase \"\n"
     ]
    },
    {
     "name": "stdout",
     "output_type": "stream",
     "text": [
      "[CV 5/5] END features__max_df=0.1, features__min_df=10, features__ngram_range=(1, 4), model__C=5;, score=0.913 total time=   1.3s\n"
     ]
    },
    {
     "name": "stderr",
     "output_type": "stream",
     "text": [
      "/opt/anaconda3/lib/python3.9/site-packages/sklearn/svm/_base.py:985: ConvergenceWarning: Liblinear failed to converge, increase the number of iterations.\n",
      "  warnings.warn(\"Liblinear failed to converge, increase \"\n"
     ]
    },
    {
     "name": "stdout",
     "output_type": "stream",
     "text": [
      "[CV 1/5] END features__max_df=0.1, features__min_df=10, features__ngram_range=(1, 4), model__C=6;, score=0.914 total time=   1.3s\n",
      "[CV 2/5] END features__max_df=0.1, features__min_df=10, features__ngram_range=(1, 4), model__C=6;, score=0.908 total time=   1.3s\n"
     ]
    },
    {
     "name": "stderr",
     "output_type": "stream",
     "text": [
      "/opt/anaconda3/lib/python3.9/site-packages/sklearn/svm/_base.py:985: ConvergenceWarning: Liblinear failed to converge, increase the number of iterations.\n",
      "  warnings.warn(\"Liblinear failed to converge, increase \"\n"
     ]
    },
    {
     "name": "stdout",
     "output_type": "stream",
     "text": [
      "[CV 3/5] END features__max_df=0.1, features__min_df=10, features__ngram_range=(1, 4), model__C=6;, score=0.908 total time=   1.4s\n"
     ]
    },
    {
     "name": "stderr",
     "output_type": "stream",
     "text": [
      "/opt/anaconda3/lib/python3.9/site-packages/sklearn/svm/_base.py:985: ConvergenceWarning: Liblinear failed to converge, increase the number of iterations.\n",
      "  warnings.warn(\"Liblinear failed to converge, increase \"\n"
     ]
    },
    {
     "name": "stdout",
     "output_type": "stream",
     "text": [
      "[CV 4/5] END features__max_df=0.1, features__min_df=10, features__ngram_range=(1, 4), model__C=6;, score=0.910 total time=   1.2s\n",
      "[CV 5/5] END features__max_df=0.1, features__min_df=10, features__ngram_range=(1, 4), model__C=6;, score=0.913 total time=   1.2s\n"
     ]
    },
    {
     "name": "stderr",
     "output_type": "stream",
     "text": [
      "/opt/anaconda3/lib/python3.9/site-packages/sklearn/svm/_base.py:985: ConvergenceWarning: Liblinear failed to converge, increase the number of iterations.\n",
      "  warnings.warn(\"Liblinear failed to converge, increase \"\n"
     ]
    },
    {
     "name": "stdout",
     "output_type": "stream",
     "text": [
      "[CV 1/5] END features__max_df=0.1, features__min_df=10, features__ngram_range=(1, 4), model__C=7;, score=0.914 total time=   1.3s\n"
     ]
    },
    {
     "name": "stderr",
     "output_type": "stream",
     "text": [
      "/opt/anaconda3/lib/python3.9/site-packages/sklearn/svm/_base.py:985: ConvergenceWarning: Liblinear failed to converge, increase the number of iterations.\n",
      "  warnings.warn(\"Liblinear failed to converge, increase \"\n"
     ]
    },
    {
     "name": "stdout",
     "output_type": "stream",
     "text": [
      "[CV 2/5] END features__max_df=0.1, features__min_df=10, features__ngram_range=(1, 4), model__C=7;, score=0.905 total time=   1.2s\n"
     ]
    },
    {
     "name": "stderr",
     "output_type": "stream",
     "text": [
      "/opt/anaconda3/lib/python3.9/site-packages/sklearn/svm/_base.py:985: ConvergenceWarning: Liblinear failed to converge, increase the number of iterations.\n",
      "  warnings.warn(\"Liblinear failed to converge, increase \"\n"
     ]
    },
    {
     "name": "stdout",
     "output_type": "stream",
     "text": [
      "[CV 3/5] END features__max_df=0.1, features__min_df=10, features__ngram_range=(1, 4), model__C=7;, score=0.906 total time=   1.3s\n",
      "[CV 4/5] END features__max_df=0.1, features__min_df=10, features__ngram_range=(1, 4), model__C=7;, score=0.909 total time=   1.2s\n"
     ]
    },
    {
     "name": "stderr",
     "output_type": "stream",
     "text": [
      "/opt/anaconda3/lib/python3.9/site-packages/sklearn/svm/_base.py:985: ConvergenceWarning: Liblinear failed to converge, increase the number of iterations.\n",
      "  warnings.warn(\"Liblinear failed to converge, increase \"\n"
     ]
    },
    {
     "name": "stdout",
     "output_type": "stream",
     "text": [
      "[CV 5/5] END features__max_df=0.1, features__min_df=10, features__ngram_range=(1, 4), model__C=7;, score=0.911 total time=   1.2s\n"
     ]
    },
    {
     "name": "stderr",
     "output_type": "stream",
     "text": [
      "/opt/anaconda3/lib/python3.9/site-packages/sklearn/svm/_base.py:985: ConvergenceWarning: Liblinear failed to converge, increase the number of iterations.\n",
      "  warnings.warn(\"Liblinear failed to converge, increase \"\n"
     ]
    },
    {
     "name": "stdout",
     "output_type": "stream",
     "text": [
      "[CV 1/5] END features__max_df=0.1, features__min_df=10, features__ngram_range=(1, 4), model__C=8;, score=0.913 total time=   1.3s\n"
     ]
    },
    {
     "name": "stderr",
     "output_type": "stream",
     "text": [
      "/opt/anaconda3/lib/python3.9/site-packages/sklearn/svm/_base.py:985: ConvergenceWarning: Liblinear failed to converge, increase the number of iterations.\n",
      "  warnings.warn(\"Liblinear failed to converge, increase \"\n"
     ]
    },
    {
     "name": "stdout",
     "output_type": "stream",
     "text": [
      "[CV 2/5] END features__max_df=0.1, features__min_df=10, features__ngram_range=(1, 4), model__C=8;, score=0.905 total time=   1.2s\n"
     ]
    },
    {
     "name": "stderr",
     "output_type": "stream",
     "text": [
      "/opt/anaconda3/lib/python3.9/site-packages/sklearn/svm/_base.py:985: ConvergenceWarning: Liblinear failed to converge, increase the number of iterations.\n",
      "  warnings.warn(\"Liblinear failed to converge, increase \"\n"
     ]
    },
    {
     "name": "stdout",
     "output_type": "stream",
     "text": [
      "[CV 3/5] END features__max_df=0.1, features__min_df=10, features__ngram_range=(1, 4), model__C=8;, score=0.906 total time=   1.3s\n"
     ]
    },
    {
     "name": "stderr",
     "output_type": "stream",
     "text": [
      "/opt/anaconda3/lib/python3.9/site-packages/sklearn/svm/_base.py:985: ConvergenceWarning: Liblinear failed to converge, increase the number of iterations.\n",
      "  warnings.warn(\"Liblinear failed to converge, increase \"\n"
     ]
    },
    {
     "name": "stdout",
     "output_type": "stream",
     "text": [
      "[CV 4/5] END features__max_df=0.1, features__min_df=10, features__ngram_range=(1, 4), model__C=8;, score=0.908 total time=   1.2s\n"
     ]
    },
    {
     "name": "stderr",
     "output_type": "stream",
     "text": [
      "/opt/anaconda3/lib/python3.9/site-packages/sklearn/svm/_base.py:985: ConvergenceWarning: Liblinear failed to converge, increase the number of iterations.\n",
      "  warnings.warn(\"Liblinear failed to converge, increase \"\n"
     ]
    },
    {
     "name": "stdout",
     "output_type": "stream",
     "text": [
      "[CV 5/5] END features__max_df=0.1, features__min_df=10, features__ngram_range=(1, 4), model__C=8;, score=0.910 total time=   1.2s\n"
     ]
    },
    {
     "name": "stderr",
     "output_type": "stream",
     "text": [
      "/opt/anaconda3/lib/python3.9/site-packages/sklearn/svm/_base.py:985: ConvergenceWarning: Liblinear failed to converge, increase the number of iterations.\n",
      "  warnings.warn(\"Liblinear failed to converge, increase \"\n"
     ]
    },
    {
     "name": "stdout",
     "output_type": "stream",
     "text": [
      "[CV 1/5] END features__max_df=0.1, features__min_df=10, features__ngram_range=(1, 4), model__C=9;, score=0.912 total time=   1.3s\n"
     ]
    },
    {
     "name": "stderr",
     "output_type": "stream",
     "text": [
      "/opt/anaconda3/lib/python3.9/site-packages/sklearn/svm/_base.py:985: ConvergenceWarning: Liblinear failed to converge, increase the number of iterations.\n",
      "  warnings.warn(\"Liblinear failed to converge, increase \"\n"
     ]
    },
    {
     "name": "stdout",
     "output_type": "stream",
     "text": [
      "[CV 2/5] END features__max_df=0.1, features__min_df=10, features__ngram_range=(1, 4), model__C=9;, score=0.904 total time=   1.2s\n"
     ]
    },
    {
     "name": "stderr",
     "output_type": "stream",
     "text": [
      "/opt/anaconda3/lib/python3.9/site-packages/sklearn/svm/_base.py:985: ConvergenceWarning: Liblinear failed to converge, increase the number of iterations.\n",
      "  warnings.warn(\"Liblinear failed to converge, increase \"\n"
     ]
    },
    {
     "name": "stdout",
     "output_type": "stream",
     "text": [
      "[CV 3/5] END features__max_df=0.1, features__min_df=10, features__ngram_range=(1, 4), model__C=9;, score=0.905 total time=   1.3s\n"
     ]
    },
    {
     "name": "stderr",
     "output_type": "stream",
     "text": [
      "/opt/anaconda3/lib/python3.9/site-packages/sklearn/svm/_base.py:985: ConvergenceWarning: Liblinear failed to converge, increase the number of iterations.\n",
      "  warnings.warn(\"Liblinear failed to converge, increase \"\n"
     ]
    },
    {
     "name": "stdout",
     "output_type": "stream",
     "text": [
      "[CV 4/5] END features__max_df=0.1, features__min_df=10, features__ngram_range=(1, 4), model__C=9;, score=0.908 total time=   1.3s\n"
     ]
    },
    {
     "name": "stderr",
     "output_type": "stream",
     "text": [
      "/opt/anaconda3/lib/python3.9/site-packages/sklearn/svm/_base.py:985: ConvergenceWarning: Liblinear failed to converge, increase the number of iterations.\n",
      "  warnings.warn(\"Liblinear failed to converge, increase \"\n"
     ]
    },
    {
     "name": "stdout",
     "output_type": "stream",
     "text": [
      "[CV 5/5] END features__max_df=0.1, features__min_df=10, features__ngram_range=(1, 4), model__C=9;, score=0.907 total time=   1.2s\n"
     ]
    },
    {
     "name": "stderr",
     "output_type": "stream",
     "text": [
      "/opt/anaconda3/lib/python3.9/site-packages/sklearn/svm/_base.py:985: ConvergenceWarning: Liblinear failed to converge, increase the number of iterations.\n",
      "  warnings.warn(\"Liblinear failed to converge, increase \"\n"
     ]
    },
    {
     "name": "stdout",
     "output_type": "stream",
     "text": [
      "[CV 1/5] END features__max_df=0.1, features__min_df=10, features__ngram_range=(1, 4), model__C=10;, score=0.911 total time=   1.4s\n"
     ]
    },
    {
     "name": "stderr",
     "output_type": "stream",
     "text": [
      "/opt/anaconda3/lib/python3.9/site-packages/sklearn/svm/_base.py:985: ConvergenceWarning: Liblinear failed to converge, increase the number of iterations.\n",
      "  warnings.warn(\"Liblinear failed to converge, increase \"\n"
     ]
    },
    {
     "name": "stdout",
     "output_type": "stream",
     "text": [
      "[CV 2/5] END features__max_df=0.1, features__min_df=10, features__ngram_range=(1, 4), model__C=10;, score=0.903 total time=   1.3s\n"
     ]
    },
    {
     "name": "stderr",
     "output_type": "stream",
     "text": [
      "/opt/anaconda3/lib/python3.9/site-packages/sklearn/svm/_base.py:985: ConvergenceWarning: Liblinear failed to converge, increase the number of iterations.\n",
      "  warnings.warn(\"Liblinear failed to converge, increase \"\n"
     ]
    },
    {
     "name": "stdout",
     "output_type": "stream",
     "text": [
      "[CV 3/5] END features__max_df=0.1, features__min_df=10, features__ngram_range=(1, 4), model__C=10;, score=0.903 total time=   1.4s\n"
     ]
    },
    {
     "name": "stderr",
     "output_type": "stream",
     "text": [
      "/opt/anaconda3/lib/python3.9/site-packages/sklearn/svm/_base.py:985: ConvergenceWarning: Liblinear failed to converge, increase the number of iterations.\n",
      "  warnings.warn(\"Liblinear failed to converge, increase \"\n"
     ]
    },
    {
     "name": "stdout",
     "output_type": "stream",
     "text": [
      "[CV 4/5] END features__max_df=0.1, features__min_df=10, features__ngram_range=(1, 4), model__C=10;, score=0.906 total time=   1.3s\n"
     ]
    },
    {
     "name": "stderr",
     "output_type": "stream",
     "text": [
      "/opt/anaconda3/lib/python3.9/site-packages/sklearn/svm/_base.py:985: ConvergenceWarning: Liblinear failed to converge, increase the number of iterations.\n",
      "  warnings.warn(\"Liblinear failed to converge, increase \"\n"
     ]
    },
    {
     "name": "stdout",
     "output_type": "stream",
     "text": [
      "[CV 5/5] END features__max_df=0.1, features__min_df=10, features__ngram_range=(1, 4), model__C=10;, score=0.906 total time=   1.2s\n",
      "[CV 1/5] END features__max_df=0.5, features__min_df=1, features__ngram_range=(1, 3), model__C=1;, score=0.947 total time=   1.4s\n",
      "[CV 2/5] END features__max_df=0.5, features__min_df=1, features__ngram_range=(1, 3), model__C=1;, score=0.942 total time=   1.4s\n",
      "[CV 3/5] END features__max_df=0.5, features__min_df=1, features__ngram_range=(1, 3), model__C=1;, score=0.942 total time=   1.3s\n",
      "[CV 4/5] END features__max_df=0.5, features__min_df=1, features__ngram_range=(1, 3), model__C=1;, score=0.947 total time=   1.4s\n",
      "[CV 5/5] END features__max_df=0.5, features__min_df=1, features__ngram_range=(1, 3), model__C=1;, score=0.939 total time=   1.4s\n",
      "[CV 1/5] END features__max_df=0.5, features__min_df=1, features__ngram_range=(1, 3), model__C=2;, score=0.948 total time=   1.5s\n",
      "[CV 2/5] END features__max_df=0.5, features__min_df=1, features__ngram_range=(1, 3), model__C=2;, score=0.943 total time=   1.5s\n",
      "[CV 3/5] END features__max_df=0.5, features__min_df=1, features__ngram_range=(1, 3), model__C=2;, score=0.944 total time=   1.3s\n",
      "[CV 4/5] END features__max_df=0.5, features__min_df=1, features__ngram_range=(1, 3), model__C=2;, score=0.949 total time=   1.5s\n",
      "[CV 5/5] END features__max_df=0.5, features__min_df=1, features__ngram_range=(1, 3), model__C=2;, score=0.942 total time=   1.4s\n",
      "[CV 1/5] END features__max_df=0.5, features__min_df=1, features__ngram_range=(1, 3), model__C=3;, score=0.948 total time=   1.5s\n",
      "[CV 2/5] END features__max_df=0.5, features__min_df=1, features__ngram_range=(1, 3), model__C=3;, score=0.943 total time=   1.5s\n",
      "[CV 3/5] END features__max_df=0.5, features__min_df=1, features__ngram_range=(1, 3), model__C=3;, score=0.944 total time=   1.4s\n",
      "[CV 4/5] END features__max_df=0.5, features__min_df=1, features__ngram_range=(1, 3), model__C=3;, score=0.949 total time=   1.4s\n",
      "[CV 5/5] END features__max_df=0.5, features__min_df=1, features__ngram_range=(1, 3), model__C=3;, score=0.941 total time=   1.4s\n",
      "[CV 1/5] END features__max_df=0.5, features__min_df=1, features__ngram_range=(1, 3), model__C=4;, score=0.948 total time=   1.6s\n",
      "[CV 2/5] END features__max_df=0.5, features__min_df=1, features__ngram_range=(1, 3), model__C=4;, score=0.943 total time=   1.6s\n",
      "[CV 3/5] END features__max_df=0.5, features__min_df=1, features__ngram_range=(1, 3), model__C=4;, score=0.944 total time=   1.4s\n",
      "[CV 4/5] END features__max_df=0.5, features__min_df=1, features__ngram_range=(1, 3), model__C=4;, score=0.949 total time=   1.5s\n",
      "[CV 5/5] END features__max_df=0.5, features__min_df=1, features__ngram_range=(1, 3), model__C=4;, score=0.941 total time=   1.4s\n",
      "[CV 1/5] END features__max_df=0.5, features__min_df=1, features__ngram_range=(1, 3), model__C=5;, score=0.948 total time=   1.5s\n",
      "[CV 2/5] END features__max_df=0.5, features__min_df=1, features__ngram_range=(1, 3), model__C=5;, score=0.943 total time=   1.6s\n",
      "[CV 3/5] END features__max_df=0.5, features__min_df=1, features__ngram_range=(1, 3), model__C=5;, score=0.944 total time=   1.4s\n",
      "[CV 4/5] END features__max_df=0.5, features__min_df=1, features__ngram_range=(1, 3), model__C=5;, score=0.949 total time=   1.6s\n",
      "[CV 5/5] END features__max_df=0.5, features__min_df=1, features__ngram_range=(1, 3), model__C=5;, score=0.941 total time=   1.5s\n",
      "[CV 1/5] END features__max_df=0.5, features__min_df=1, features__ngram_range=(1, 3), model__C=6;, score=0.948 total time=   2.0s\n",
      "[CV 2/5] END features__max_df=0.5, features__min_df=1, features__ngram_range=(1, 3), model__C=6;, score=0.943 total time=   1.6s\n",
      "[CV 3/5] END features__max_df=0.5, features__min_df=1, features__ngram_range=(1, 3), model__C=6;, score=0.944 total time=   1.7s\n",
      "[CV 4/5] END features__max_df=0.5, features__min_df=1, features__ngram_range=(1, 3), model__C=6;, score=0.949 total time=   1.5s\n",
      "[CV 5/5] END features__max_df=0.5, features__min_df=1, features__ngram_range=(1, 3), model__C=6;, score=0.941 total time=   1.5s\n",
      "[CV 1/5] END features__max_df=0.5, features__min_df=1, features__ngram_range=(1, 3), model__C=7;, score=0.948 total time=   1.6s\n",
      "[CV 2/5] END features__max_df=0.5, features__min_df=1, features__ngram_range=(1, 3), model__C=7;, score=0.942 total time=   1.6s\n",
      "[CV 3/5] END features__max_df=0.5, features__min_df=1, features__ngram_range=(1, 3), model__C=7;, score=0.944 total time=   1.4s\n",
      "[CV 4/5] END features__max_df=0.5, features__min_df=1, features__ngram_range=(1, 3), model__C=7;, score=0.949 total time=   1.5s\n",
      "[CV 5/5] END features__max_df=0.5, features__min_df=1, features__ngram_range=(1, 3), model__C=7;, score=0.941 total time=   1.4s\n",
      "[CV 1/5] END features__max_df=0.5, features__min_df=1, features__ngram_range=(1, 3), model__C=8;, score=0.949 total time=   1.5s\n",
      "[CV 2/5] END features__max_df=0.5, features__min_df=1, features__ngram_range=(1, 3), model__C=8;, score=0.942 total time=   1.6s\n",
      "[CV 3/5] END features__max_df=0.5, features__min_df=1, features__ngram_range=(1, 3), model__C=8;, score=0.944 total time=   1.6s\n",
      "[CV 4/5] END features__max_df=0.5, features__min_df=1, features__ngram_range=(1, 3), model__C=8;, score=0.949 total time=   1.7s\n",
      "[CV 5/5] END features__max_df=0.5, features__min_df=1, features__ngram_range=(1, 3), model__C=8;, score=0.941 total time=   1.4s\n",
      "[CV 1/5] END features__max_df=0.5, features__min_df=1, features__ngram_range=(1, 3), model__C=9;, score=0.949 total time=   1.5s\n",
      "[CV 2/5] END features__max_df=0.5, features__min_df=1, features__ngram_range=(1, 3), model__C=9;, score=0.942 total time=   1.5s\n",
      "[CV 3/5] END features__max_df=0.5, features__min_df=1, features__ngram_range=(1, 3), model__C=9;, score=0.944 total time=   1.6s\n",
      "[CV 4/5] END features__max_df=0.5, features__min_df=1, features__ngram_range=(1, 3), model__C=9;, score=0.949 total time=   1.6s\n",
      "[CV 5/5] END features__max_df=0.5, features__min_df=1, features__ngram_range=(1, 3), model__C=9;, score=0.941 total time=   1.6s\n",
      "[CV 1/5] END features__max_df=0.5, features__min_df=1, features__ngram_range=(1, 3), model__C=10;, score=0.949 total time=   1.7s\n",
      "[CV 2/5] END features__max_df=0.5, features__min_df=1, features__ngram_range=(1, 3), model__C=10;, score=0.942 total time=   1.7s\n",
      "[CV 3/5] END features__max_df=0.5, features__min_df=1, features__ngram_range=(1, 3), model__C=10;, score=0.944 total time=   1.5s\n",
      "[CV 4/5] END features__max_df=0.5, features__min_df=1, features__ngram_range=(1, 3), model__C=10;, score=0.949 total time=   1.6s\n",
      "[CV 5/5] END features__max_df=0.5, features__min_df=1, features__ngram_range=(1, 3), model__C=10;, score=0.941 total time=   1.6s\n",
      "[CV 1/5] END features__max_df=0.5, features__min_df=1, features__ngram_range=(1, 4), model__C=1;, score=0.945 total time=   2.1s\n",
      "[CV 2/5] END features__max_df=0.5, features__min_df=1, features__ngram_range=(1, 4), model__C=1;, score=0.940 total time=   2.1s\n",
      "[CV 3/5] END features__max_df=0.5, features__min_df=1, features__ngram_range=(1, 4), model__C=1;, score=0.940 total time=   2.0s\n",
      "[CV 4/5] END features__max_df=0.5, features__min_df=1, features__ngram_range=(1, 4), model__C=1;, score=0.944 total time=   2.0s\n",
      "[CV 5/5] END features__max_df=0.5, features__min_df=1, features__ngram_range=(1, 4), model__C=1;, score=0.937 total time=   2.1s\n",
      "[CV 1/5] END features__max_df=0.5, features__min_df=1, features__ngram_range=(1, 4), model__C=2;, score=0.947 total time=   2.1s\n",
      "[CV 2/5] END features__max_df=0.5, features__min_df=1, features__ngram_range=(1, 4), model__C=2;, score=0.942 total time=   2.1s\n",
      "[CV 3/5] END features__max_df=0.5, features__min_df=1, features__ngram_range=(1, 4), model__C=2;, score=0.942 total time=   1.9s\n",
      "[CV 4/5] END features__max_df=0.5, features__min_df=1, features__ngram_range=(1, 4), model__C=2;, score=0.945 total time=   1.9s\n",
      "[CV 5/5] END features__max_df=0.5, features__min_df=1, features__ngram_range=(1, 4), model__C=2;, score=0.939 total time=   2.0s\n",
      "[CV 1/5] END features__max_df=0.5, features__min_df=1, features__ngram_range=(1, 4), model__C=3;, score=0.947 total time=   2.3s\n",
      "[CV 2/5] END features__max_df=0.5, features__min_df=1, features__ngram_range=(1, 4), model__C=3;, score=0.942 total time=   2.4s\n",
      "[CV 3/5] END features__max_df=0.5, features__min_df=1, features__ngram_range=(1, 4), model__C=3;, score=0.942 total time=   2.2s\n"
     ]
    },
    {
     "name": "stdout",
     "output_type": "stream",
     "text": [
      "[CV 4/5] END features__max_df=0.5, features__min_df=1, features__ngram_range=(1, 4), model__C=3;, score=0.946 total time=   2.2s\n",
      "[CV 5/5] END features__max_df=0.5, features__min_df=1, features__ngram_range=(1, 4), model__C=3;, score=0.940 total time=   2.0s\n",
      "[CV 1/5] END features__max_df=0.5, features__min_df=1, features__ngram_range=(1, 4), model__C=4;, score=0.948 total time=   2.2s\n",
      "[CV 2/5] END features__max_df=0.5, features__min_df=1, features__ngram_range=(1, 4), model__C=4;, score=0.942 total time=   2.2s\n",
      "[CV 3/5] END features__max_df=0.5, features__min_df=1, features__ngram_range=(1, 4), model__C=4;, score=0.942 total time=   2.0s\n",
      "[CV 4/5] END features__max_df=0.5, features__min_df=1, features__ngram_range=(1, 4), model__C=4;, score=0.946 total time=   2.1s\n",
      "[CV 5/5] END features__max_df=0.5, features__min_df=1, features__ngram_range=(1, 4), model__C=4;, score=0.940 total time=   2.2s\n",
      "[CV 1/5] END features__max_df=0.5, features__min_df=1, features__ngram_range=(1, 4), model__C=5;, score=0.948 total time=   2.1s\n",
      "[CV 2/5] END features__max_df=0.5, features__min_df=1, features__ngram_range=(1, 4), model__C=5;, score=0.942 total time=   2.2s\n",
      "[CV 3/5] END features__max_df=0.5, features__min_df=1, features__ngram_range=(1, 4), model__C=5;, score=0.942 total time=   2.0s\n",
      "[CV 4/5] END features__max_df=0.5, features__min_df=1, features__ngram_range=(1, 4), model__C=5;, score=0.946 total time=   2.0s\n",
      "[CV 5/5] END features__max_df=0.5, features__min_df=1, features__ngram_range=(1, 4), model__C=5;, score=0.939 total time=   2.0s\n",
      "[CV 1/5] END features__max_df=0.5, features__min_df=1, features__ngram_range=(1, 4), model__C=6;, score=0.948 total time=   2.1s\n",
      "[CV 2/5] END features__max_df=0.5, features__min_df=1, features__ngram_range=(1, 4), model__C=6;, score=0.942 total time=   2.2s\n",
      "[CV 3/5] END features__max_df=0.5, features__min_df=1, features__ngram_range=(1, 4), model__C=6;, score=0.942 total time=   2.2s\n",
      "[CV 4/5] END features__max_df=0.5, features__min_df=1, features__ngram_range=(1, 4), model__C=6;, score=0.946 total time=   2.1s\n",
      "[CV 5/5] END features__max_df=0.5, features__min_df=1, features__ngram_range=(1, 4), model__C=6;, score=0.939 total time=   2.1s\n",
      "[CV 1/5] END features__max_df=0.5, features__min_df=1, features__ngram_range=(1, 4), model__C=7;, score=0.948 total time=   2.1s\n",
      "[CV 2/5] END features__max_df=0.5, features__min_df=1, features__ngram_range=(1, 4), model__C=7;, score=0.942 total time=   2.2s\n",
      "[CV 3/5] END features__max_df=0.5, features__min_df=1, features__ngram_range=(1, 4), model__C=7;, score=0.942 total time=   2.0s\n",
      "[CV 4/5] END features__max_df=0.5, features__min_df=1, features__ngram_range=(1, 4), model__C=7;, score=0.946 total time=   2.1s\n",
      "[CV 5/5] END features__max_df=0.5, features__min_df=1, features__ngram_range=(1, 4), model__C=7;, score=0.939 total time=   2.0s\n",
      "[CV 1/5] END features__max_df=0.5, features__min_df=1, features__ngram_range=(1, 4), model__C=8;, score=0.948 total time=   2.2s\n",
      "[CV 2/5] END features__max_df=0.5, features__min_df=1, features__ngram_range=(1, 4), model__C=8;, score=0.942 total time=   2.2s\n",
      "[CV 3/5] END features__max_df=0.5, features__min_df=1, features__ngram_range=(1, 4), model__C=8;, score=0.942 total time=   2.1s\n",
      "[CV 4/5] END features__max_df=0.5, features__min_df=1, features__ngram_range=(1, 4), model__C=8;, score=0.946 total time=   2.1s\n",
      "[CV 5/5] END features__max_df=0.5, features__min_df=1, features__ngram_range=(1, 4), model__C=8;, score=0.939 total time=   2.0s\n",
      "[CV 1/5] END features__max_df=0.5, features__min_df=1, features__ngram_range=(1, 4), model__C=9;, score=0.948 total time=   2.2s\n",
      "[CV 2/5] END features__max_df=0.5, features__min_df=1, features__ngram_range=(1, 4), model__C=9;, score=0.942 total time=   2.1s\n",
      "[CV 3/5] END features__max_df=0.5, features__min_df=1, features__ngram_range=(1, 4), model__C=9;, score=0.942 total time=   2.2s\n",
      "[CV 4/5] END features__max_df=0.5, features__min_df=1, features__ngram_range=(1, 4), model__C=9;, score=0.946 total time=   2.1s\n",
      "[CV 5/5] END features__max_df=0.5, features__min_df=1, features__ngram_range=(1, 4), model__C=9;, score=0.939 total time=   2.0s\n",
      "[CV 1/5] END features__max_df=0.5, features__min_df=1, features__ngram_range=(1, 4), model__C=10;, score=0.948 total time=   2.3s\n",
      "[CV 2/5] END features__max_df=0.5, features__min_df=1, features__ngram_range=(1, 4), model__C=10;, score=0.942 total time=   2.2s\n",
      "[CV 3/5] END features__max_df=0.5, features__min_df=1, features__ngram_range=(1, 4), model__C=10;, score=0.942 total time=   2.1s\n",
      "[CV 4/5] END features__max_df=0.5, features__min_df=1, features__ngram_range=(1, 4), model__C=10;, score=0.946 total time=   2.2s\n",
      "[CV 5/5] END features__max_df=0.5, features__min_df=1, features__ngram_range=(1, 4), model__C=10;, score=0.939 total time=   2.3s\n",
      "[CV 1/5] END features__max_df=0.5, features__min_df=10, features__ngram_range=(1, 3), model__C=1;, score=0.927 total time=   0.7s\n",
      "[CV 2/5] END features__max_df=0.5, features__min_df=10, features__ngram_range=(1, 3), model__C=1;, score=0.919 total time=   0.7s\n"
     ]
    },
    {
     "name": "stderr",
     "output_type": "stream",
     "text": [
      "/opt/anaconda3/lib/python3.9/site-packages/sklearn/svm/_base.py:985: ConvergenceWarning: Liblinear failed to converge, increase the number of iterations.\n",
      "  warnings.warn(\"Liblinear failed to converge, increase \"\n"
     ]
    },
    {
     "name": "stdout",
     "output_type": "stream",
     "text": [
      "[CV 3/5] END features__max_df=0.5, features__min_df=10, features__ngram_range=(1, 3), model__C=1;, score=0.923 total time=   0.7s\n",
      "[CV 4/5] END features__max_df=0.5, features__min_df=10, features__ngram_range=(1, 3), model__C=1;, score=0.926 total time=   0.7s\n",
      "[CV 5/5] END features__max_df=0.5, features__min_df=10, features__ngram_range=(1, 3), model__C=1;, score=0.921 total time=   0.6s\n",
      "[CV 1/5] END features__max_df=0.5, features__min_df=10, features__ngram_range=(1, 3), model__C=2;, score=0.924 total time=   0.7s\n",
      "[CV 2/5] END features__max_df=0.5, features__min_df=10, features__ngram_range=(1, 3), model__C=2;, score=0.919 total time=   0.8s\n",
      "[CV 3/5] END features__max_df=0.5, features__min_df=10, features__ngram_range=(1, 3), model__C=2;, score=0.919 total time=   0.7s\n",
      "[CV 4/5] END features__max_df=0.5, features__min_df=10, features__ngram_range=(1, 3), model__C=2;, score=0.922 total time=   0.8s\n"
     ]
    },
    {
     "name": "stderr",
     "output_type": "stream",
     "text": [
      "/opt/anaconda3/lib/python3.9/site-packages/sklearn/svm/_base.py:985: ConvergenceWarning: Liblinear failed to converge, increase the number of iterations.\n",
      "  warnings.warn(\"Liblinear failed to converge, increase \"\n"
     ]
    },
    {
     "name": "stdout",
     "output_type": "stream",
     "text": [
      "[CV 5/5] END features__max_df=0.5, features__min_df=10, features__ngram_range=(1, 3), model__C=2;, score=0.922 total time=   0.8s\n",
      "[CV 1/5] END features__max_df=0.5, features__min_df=10, features__ngram_range=(1, 3), model__C=3;, score=0.921 total time=   0.9s\n",
      "[CV 2/5] END features__max_df=0.5, features__min_df=10, features__ngram_range=(1, 3), model__C=3;, score=0.918 total time=   0.8s\n",
      "[CV 3/5] END features__max_df=0.5, features__min_df=10, features__ngram_range=(1, 3), model__C=3;, score=0.918 total time=   0.8s\n",
      "[CV 4/5] END features__max_df=0.5, features__min_df=10, features__ngram_range=(1, 3), model__C=3;, score=0.921 total time=   0.8s\n",
      "[CV 5/5] END features__max_df=0.5, features__min_df=10, features__ngram_range=(1, 3), model__C=3;, score=0.919 total time=   0.9s\n"
     ]
    },
    {
     "name": "stderr",
     "output_type": "stream",
     "text": [
      "/opt/anaconda3/lib/python3.9/site-packages/sklearn/svm/_base.py:985: ConvergenceWarning: Liblinear failed to converge, increase the number of iterations.\n",
      "  warnings.warn(\"Liblinear failed to converge, increase \"\n"
     ]
    },
    {
     "name": "stdout",
     "output_type": "stream",
     "text": [
      "[CV 1/5] END features__max_df=0.5, features__min_df=10, features__ngram_range=(1, 3), model__C=4;, score=0.919 total time=   1.0s\n",
      "[CV 2/5] END features__max_df=0.5, features__min_df=10, features__ngram_range=(1, 3), model__C=4;, score=0.918 total time=   0.9s\n"
     ]
    },
    {
     "name": "stderr",
     "output_type": "stream",
     "text": [
      "/opt/anaconda3/lib/python3.9/site-packages/sklearn/svm/_base.py:985: ConvergenceWarning: Liblinear failed to converge, increase the number of iterations.\n",
      "  warnings.warn(\"Liblinear failed to converge, increase \"\n"
     ]
    },
    {
     "name": "stdout",
     "output_type": "stream",
     "text": [
      "[CV 3/5] END features__max_df=0.5, features__min_df=10, features__ngram_range=(1, 3), model__C=4;, score=0.915 total time=   0.9s\n"
     ]
    },
    {
     "name": "stderr",
     "output_type": "stream",
     "text": [
      "/opt/anaconda3/lib/python3.9/site-packages/sklearn/svm/_base.py:985: ConvergenceWarning: Liblinear failed to converge, increase the number of iterations.\n",
      "  warnings.warn(\"Liblinear failed to converge, increase \"\n"
     ]
    },
    {
     "name": "stdout",
     "output_type": "stream",
     "text": [
      "[CV 4/5] END features__max_df=0.5, features__min_df=10, features__ngram_range=(1, 3), model__C=4;, score=0.919 total time=   1.0s\n",
      "[CV 5/5] END features__max_df=0.5, features__min_df=10, features__ngram_range=(1, 3), model__C=4;, score=0.917 total time=   1.0s\n"
     ]
    },
    {
     "name": "stderr",
     "output_type": "stream",
     "text": [
      "/opt/anaconda3/lib/python3.9/site-packages/sklearn/svm/_base.py:985: ConvergenceWarning: Liblinear failed to converge, increase the number of iterations.\n",
      "  warnings.warn(\"Liblinear failed to converge, increase \"\n"
     ]
    },
    {
     "name": "stdout",
     "output_type": "stream",
     "text": [
      "[CV 1/5] END features__max_df=0.5, features__min_df=10, features__ngram_range=(1, 3), model__C=5;, score=0.918 total time=   1.1s\n",
      "[CV 2/5] END features__max_df=0.5, features__min_df=10, features__ngram_range=(1, 3), model__C=5;, score=0.915 total time=   0.8s\n"
     ]
    },
    {
     "name": "stderr",
     "output_type": "stream",
     "text": [
      "/opt/anaconda3/lib/python3.9/site-packages/sklearn/svm/_base.py:985: ConvergenceWarning: Liblinear failed to converge, increase the number of iterations.\n",
      "  warnings.warn(\"Liblinear failed to converge, increase \"\n"
     ]
    },
    {
     "name": "stdout",
     "output_type": "stream",
     "text": [
      "[CV 3/5] END features__max_df=0.5, features__min_df=10, features__ngram_range=(1, 3), model__C=5;, score=0.914 total time=   1.0s\n",
      "[CV 4/5] END features__max_df=0.5, features__min_df=10, features__ngram_range=(1, 3), model__C=5;, score=0.917 total time=   1.0s\n",
      "[CV 5/5] END features__max_df=0.5, features__min_df=10, features__ngram_range=(1, 3), model__C=5;, score=0.917 total time=   0.9s\n"
     ]
    },
    {
     "name": "stderr",
     "output_type": "stream",
     "text": [
      "/opt/anaconda3/lib/python3.9/site-packages/sklearn/svm/_base.py:985: ConvergenceWarning: Liblinear failed to converge, increase the number of iterations.\n",
      "  warnings.warn(\"Liblinear failed to converge, increase \"\n"
     ]
    },
    {
     "name": "stdout",
     "output_type": "stream",
     "text": [
      "[CV 1/5] END features__max_df=0.5, features__min_df=10, features__ngram_range=(1, 3), model__C=6;, score=0.916 total time=   1.1s\n",
      "[CV 2/5] END features__max_df=0.5, features__min_df=10, features__ngram_range=(1, 3), model__C=6;, score=0.911 total time=   1.0s\n"
     ]
    },
    {
     "name": "stderr",
     "output_type": "stream",
     "text": [
      "/opt/anaconda3/lib/python3.9/site-packages/sklearn/svm/_base.py:985: ConvergenceWarning: Liblinear failed to converge, increase the number of iterations.\n",
      "  warnings.warn(\"Liblinear failed to converge, increase \"\n"
     ]
    },
    {
     "name": "stdout",
     "output_type": "stream",
     "text": [
      "[CV 3/5] END features__max_df=0.5, features__min_df=10, features__ngram_range=(1, 3), model__C=6;, score=0.912 total time=   1.0s\n"
     ]
    },
    {
     "name": "stderr",
     "output_type": "stream",
     "text": [
      "/opt/anaconda3/lib/python3.9/site-packages/sklearn/svm/_base.py:985: ConvergenceWarning: Liblinear failed to converge, increase the number of iterations.\n",
      "  warnings.warn(\"Liblinear failed to converge, increase \"\n"
     ]
    },
    {
     "name": "stdout",
     "output_type": "stream",
     "text": [
      "[CV 4/5] END features__max_df=0.5, features__min_df=10, features__ngram_range=(1, 3), model__C=6;, score=0.915 total time=   1.1s\n"
     ]
    },
    {
     "name": "stderr",
     "output_type": "stream",
     "text": [
      "/opt/anaconda3/lib/python3.9/site-packages/sklearn/svm/_base.py:985: ConvergenceWarning: Liblinear failed to converge, increase the number of iterations.\n",
      "  warnings.warn(\"Liblinear failed to converge, increase \"\n"
     ]
    },
    {
     "name": "stdout",
     "output_type": "stream",
     "text": [
      "[CV 5/5] END features__max_df=0.5, features__min_df=10, features__ngram_range=(1, 3), model__C=6;, score=0.917 total time=   1.0s\n"
     ]
    },
    {
     "name": "stderr",
     "output_type": "stream",
     "text": [
      "/opt/anaconda3/lib/python3.9/site-packages/sklearn/svm/_base.py:985: ConvergenceWarning: Liblinear failed to converge, increase the number of iterations.\n",
      "  warnings.warn(\"Liblinear failed to converge, increase \"\n"
     ]
    },
    {
     "name": "stdout",
     "output_type": "stream",
     "text": [
      "[CV 1/5] END features__max_df=0.5, features__min_df=10, features__ngram_range=(1, 3), model__C=7;, score=0.916 total time=   1.1s\n"
     ]
    },
    {
     "name": "stderr",
     "output_type": "stream",
     "text": [
      "/opt/anaconda3/lib/python3.9/site-packages/sklearn/svm/_base.py:985: ConvergenceWarning: Liblinear failed to converge, increase the number of iterations.\n",
      "  warnings.warn(\"Liblinear failed to converge, increase \"\n"
     ]
    },
    {
     "name": "stdout",
     "output_type": "stream",
     "text": [
      "[CV 2/5] END features__max_df=0.5, features__min_df=10, features__ngram_range=(1, 3), model__C=7;, score=0.910 total time=   1.0s\n"
     ]
    },
    {
     "name": "stderr",
     "output_type": "stream",
     "text": [
      "/opt/anaconda3/lib/python3.9/site-packages/sklearn/svm/_base.py:985: ConvergenceWarning: Liblinear failed to converge, increase the number of iterations.\n",
      "  warnings.warn(\"Liblinear failed to converge, increase \"\n"
     ]
    },
    {
     "name": "stdout",
     "output_type": "stream",
     "text": [
      "[CV 3/5] END features__max_df=0.5, features__min_df=10, features__ngram_range=(1, 3), model__C=7;, score=0.910 total time=   1.1s\n"
     ]
    },
    {
     "name": "stderr",
     "output_type": "stream",
     "text": [
      "/opt/anaconda3/lib/python3.9/site-packages/sklearn/svm/_base.py:985: ConvergenceWarning: Liblinear failed to converge, increase the number of iterations.\n",
      "  warnings.warn(\"Liblinear failed to converge, increase \"\n"
     ]
    },
    {
     "name": "stdout",
     "output_type": "stream",
     "text": [
      "[CV 4/5] END features__max_df=0.5, features__min_df=10, features__ngram_range=(1, 3), model__C=7;, score=0.914 total time=   1.1s\n",
      "[CV 5/5] END features__max_df=0.5, features__min_df=10, features__ngram_range=(1, 3), model__C=7;, score=0.916 total time=   1.0s\n"
     ]
    },
    {
     "name": "stderr",
     "output_type": "stream",
     "text": [
      "/opt/anaconda3/lib/python3.9/site-packages/sklearn/svm/_base.py:985: ConvergenceWarning: Liblinear failed to converge, increase the number of iterations.\n",
      "  warnings.warn(\"Liblinear failed to converge, increase \"\n"
     ]
    },
    {
     "name": "stdout",
     "output_type": "stream",
     "text": [
      "[CV 1/5] END features__max_df=0.5, features__min_df=10, features__ngram_range=(1, 3), model__C=8;, score=0.914 total time=   1.2s\n"
     ]
    },
    {
     "name": "stderr",
     "output_type": "stream",
     "text": [
      "/opt/anaconda3/lib/python3.9/site-packages/sklearn/svm/_base.py:985: ConvergenceWarning: Liblinear failed to converge, increase the number of iterations.\n",
      "  warnings.warn(\"Liblinear failed to converge, increase \"\n"
     ]
    },
    {
     "name": "stdout",
     "output_type": "stream",
     "text": [
      "[CV 2/5] END features__max_df=0.5, features__min_df=10, features__ngram_range=(1, 3), model__C=8;, score=0.909 total time=   1.0s\n"
     ]
    },
    {
     "name": "stderr",
     "output_type": "stream",
     "text": [
      "/opt/anaconda3/lib/python3.9/site-packages/sklearn/svm/_base.py:985: ConvergenceWarning: Liblinear failed to converge, increase the number of iterations.\n",
      "  warnings.warn(\"Liblinear failed to converge, increase \"\n"
     ]
    },
    {
     "name": "stdout",
     "output_type": "stream",
     "text": [
      "[CV 3/5] END features__max_df=0.5, features__min_df=10, features__ngram_range=(1, 3), model__C=8;, score=0.910 total time=   1.1s\n"
     ]
    },
    {
     "name": "stderr",
     "output_type": "stream",
     "text": [
      "/opt/anaconda3/lib/python3.9/site-packages/sklearn/svm/_base.py:985: ConvergenceWarning: Liblinear failed to converge, increase the number of iterations.\n",
      "  warnings.warn(\"Liblinear failed to converge, increase \"\n"
     ]
    },
    {
     "name": "stdout",
     "output_type": "stream",
     "text": [
      "[CV 4/5] END features__max_df=0.5, features__min_df=10, features__ngram_range=(1, 3), model__C=8;, score=0.914 total time=   1.1s\n"
     ]
    },
    {
     "name": "stderr",
     "output_type": "stream",
     "text": [
      "/opt/anaconda3/lib/python3.9/site-packages/sklearn/svm/_base.py:985: ConvergenceWarning: Liblinear failed to converge, increase the number of iterations.\n",
      "  warnings.warn(\"Liblinear failed to converge, increase \"\n"
     ]
    },
    {
     "name": "stdout",
     "output_type": "stream",
     "text": [
      "[CV 5/5] END features__max_df=0.5, features__min_df=10, features__ngram_range=(1, 3), model__C=8;, score=0.914 total time=   1.0s\n"
     ]
    },
    {
     "name": "stderr",
     "output_type": "stream",
     "text": [
      "/opt/anaconda3/lib/python3.9/site-packages/sklearn/svm/_base.py:985: ConvergenceWarning: Liblinear failed to converge, increase the number of iterations.\n",
      "  warnings.warn(\"Liblinear failed to converge, increase \"\n"
     ]
    },
    {
     "name": "stdout",
     "output_type": "stream",
     "text": [
      "[CV 1/5] END features__max_df=0.5, features__min_df=10, features__ngram_range=(1, 3), model__C=9;, score=0.913 total time=   1.2s\n"
     ]
    },
    {
     "name": "stderr",
     "output_type": "stream",
     "text": [
      "/opt/anaconda3/lib/python3.9/site-packages/sklearn/svm/_base.py:985: ConvergenceWarning: Liblinear failed to converge, increase the number of iterations.\n",
      "  warnings.warn(\"Liblinear failed to converge, increase \"\n"
     ]
    },
    {
     "name": "stdout",
     "output_type": "stream",
     "text": [
      "[CV 2/5] END features__max_df=0.5, features__min_df=10, features__ngram_range=(1, 3), model__C=9;, score=0.907 total time=   1.1s\n"
     ]
    },
    {
     "name": "stderr",
     "output_type": "stream",
     "text": [
      "/opt/anaconda3/lib/python3.9/site-packages/sklearn/svm/_base.py:985: ConvergenceWarning: Liblinear failed to converge, increase the number of iterations.\n",
      "  warnings.warn(\"Liblinear failed to converge, increase \"\n"
     ]
    },
    {
     "name": "stdout",
     "output_type": "stream",
     "text": [
      "[CV 3/5] END features__max_df=0.5, features__min_df=10, features__ngram_range=(1, 3), model__C=9;, score=0.908 total time=   1.1s\n"
     ]
    },
    {
     "name": "stderr",
     "output_type": "stream",
     "text": [
      "/opt/anaconda3/lib/python3.9/site-packages/sklearn/svm/_base.py:985: ConvergenceWarning: Liblinear failed to converge, increase the number of iterations.\n",
      "  warnings.warn(\"Liblinear failed to converge, increase \"\n"
     ]
    },
    {
     "name": "stdout",
     "output_type": "stream",
     "text": [
      "[CV 4/5] END features__max_df=0.5, features__min_df=10, features__ngram_range=(1, 3), model__C=9;, score=0.912 total time=   1.1s\n"
     ]
    },
    {
     "name": "stderr",
     "output_type": "stream",
     "text": [
      "/opt/anaconda3/lib/python3.9/site-packages/sklearn/svm/_base.py:985: ConvergenceWarning: Liblinear failed to converge, increase the number of iterations.\n",
      "  warnings.warn(\"Liblinear failed to converge, increase \"\n"
     ]
    },
    {
     "name": "stdout",
     "output_type": "stream",
     "text": [
      "[CV 5/5] END features__max_df=0.5, features__min_df=10, features__ngram_range=(1, 3), model__C=9;, score=0.912 total time=   1.0s\n"
     ]
    },
    {
     "name": "stderr",
     "output_type": "stream",
     "text": [
      "/opt/anaconda3/lib/python3.9/site-packages/sklearn/svm/_base.py:985: ConvergenceWarning: Liblinear failed to converge, increase the number of iterations.\n",
      "  warnings.warn(\"Liblinear failed to converge, increase \"\n"
     ]
    },
    {
     "name": "stdout",
     "output_type": "stream",
     "text": [
      "[CV 1/5] END features__max_df=0.5, features__min_df=10, features__ngram_range=(1, 3), model__C=10;, score=0.912 total time=   1.2s\n"
     ]
    },
    {
     "name": "stderr",
     "output_type": "stream",
     "text": [
      "/opt/anaconda3/lib/python3.9/site-packages/sklearn/svm/_base.py:985: ConvergenceWarning: Liblinear failed to converge, increase the number of iterations.\n",
      "  warnings.warn(\"Liblinear failed to converge, increase \"\n"
     ]
    },
    {
     "name": "stdout",
     "output_type": "stream",
     "text": [
      "[CV 2/5] END features__max_df=0.5, features__min_df=10, features__ngram_range=(1, 3), model__C=10;, score=0.907 total time=   1.2s\n"
     ]
    },
    {
     "name": "stderr",
     "output_type": "stream",
     "text": [
      "/opt/anaconda3/lib/python3.9/site-packages/sklearn/svm/_base.py:985: ConvergenceWarning: Liblinear failed to converge, increase the number of iterations.\n",
      "  warnings.warn(\"Liblinear failed to converge, increase \"\n"
     ]
    },
    {
     "name": "stdout",
     "output_type": "stream",
     "text": [
      "[CV 3/5] END features__max_df=0.5, features__min_df=10, features__ngram_range=(1, 3), model__C=10;, score=0.907 total time=   1.2s\n"
     ]
    },
    {
     "name": "stderr",
     "output_type": "stream",
     "text": [
      "/opt/anaconda3/lib/python3.9/site-packages/sklearn/svm/_base.py:985: ConvergenceWarning: Liblinear failed to converge, increase the number of iterations.\n",
      "  warnings.warn(\"Liblinear failed to converge, increase \"\n"
     ]
    },
    {
     "name": "stdout",
     "output_type": "stream",
     "text": [
      "[CV 4/5] END features__max_df=0.5, features__min_df=10, features__ngram_range=(1, 3), model__C=10;, score=0.911 total time=   1.0s\n"
     ]
    },
    {
     "name": "stderr",
     "output_type": "stream",
     "text": [
      "/opt/anaconda3/lib/python3.9/site-packages/sklearn/svm/_base.py:985: ConvergenceWarning: Liblinear failed to converge, increase the number of iterations.\n",
      "  warnings.warn(\"Liblinear failed to converge, increase \"\n"
     ]
    },
    {
     "name": "stdout",
     "output_type": "stream",
     "text": [
      "[CV 5/5] END features__max_df=0.5, features__min_df=10, features__ngram_range=(1, 3), model__C=10;, score=0.911 total time=   1.2s\n",
      "[CV 1/5] END features__max_df=0.5, features__min_df=10, features__ngram_range=(1, 4), model__C=1;, score=0.927 total time=   0.8s\n",
      "[CV 2/5] END features__max_df=0.5, features__min_df=10, features__ngram_range=(1, 4), model__C=1;, score=0.919 total time=   0.8s\n",
      "[CV 3/5] END features__max_df=0.5, features__min_df=10, features__ngram_range=(1, 4), model__C=1;, score=0.922 total time=   0.9s\n",
      "[CV 4/5] END features__max_df=0.5, features__min_df=10, features__ngram_range=(1, 4), model__C=1;, score=0.926 total time=   0.8s\n",
      "[CV 5/5] END features__max_df=0.5, features__min_df=10, features__ngram_range=(1, 4), model__C=1;, score=0.921 total time=   0.8s\n",
      "[CV 1/5] END features__max_df=0.5, features__min_df=10, features__ngram_range=(1, 4), model__C=2;, score=0.924 total time=   1.0s\n",
      "[CV 2/5] END features__max_df=0.5, features__min_df=10, features__ngram_range=(1, 4), model__C=2;, score=0.919 total time=   1.0s\n",
      "[CV 3/5] END features__max_df=0.5, features__min_df=10, features__ngram_range=(1, 4), model__C=2;, score=0.918 total time=   1.0s\n"
     ]
    },
    {
     "name": "stderr",
     "output_type": "stream",
     "text": [
      "/opt/anaconda3/lib/python3.9/site-packages/sklearn/svm/_base.py:985: ConvergenceWarning: Liblinear failed to converge, increase the number of iterations.\n",
      "  warnings.warn(\"Liblinear failed to converge, increase \"\n"
     ]
    },
    {
     "name": "stdout",
     "output_type": "stream",
     "text": [
      "[CV 4/5] END features__max_df=0.5, features__min_df=10, features__ngram_range=(1, 4), model__C=2;, score=0.921 total time=   1.0s\n",
      "[CV 5/5] END features__max_df=0.5, features__min_df=10, features__ngram_range=(1, 4), model__C=2;, score=0.922 total time=   1.0s\n",
      "[CV 1/5] END features__max_df=0.5, features__min_df=10, features__ngram_range=(1, 4), model__C=3;, score=0.921 total time=   1.1s\n",
      "[CV 2/5] END features__max_df=0.5, features__min_df=10, features__ngram_range=(1, 4), model__C=3;, score=0.918 total time=   1.1s\n",
      "[CV 3/5] END features__max_df=0.5, features__min_df=10, features__ngram_range=(1, 4), model__C=3;, score=0.918 total time=   0.9s\n"
     ]
    },
    {
     "name": "stderr",
     "output_type": "stream",
     "text": [
      "/opt/anaconda3/lib/python3.9/site-packages/sklearn/svm/_base.py:985: ConvergenceWarning: Liblinear failed to converge, increase the number of iterations.\n",
      "  warnings.warn(\"Liblinear failed to converge, increase \"\n"
     ]
    },
    {
     "name": "stdout",
     "output_type": "stream",
     "text": [
      "[CV 4/5] END features__max_df=0.5, features__min_df=10, features__ngram_range=(1, 4), model__C=3;, score=0.921 total time=   1.1s\n",
      "[CV 5/5] END features__max_df=0.5, features__min_df=10, features__ngram_range=(1, 4), model__C=3;, score=0.919 total time=   1.1s\n"
     ]
    },
    {
     "name": "stderr",
     "output_type": "stream",
     "text": [
      "/opt/anaconda3/lib/python3.9/site-packages/sklearn/svm/_base.py:985: ConvergenceWarning: Liblinear failed to converge, increase the number of iterations.\n",
      "  warnings.warn(\"Liblinear failed to converge, increase \"\n"
     ]
    },
    {
     "name": "stdout",
     "output_type": "stream",
     "text": [
      "[CV 1/5] END features__max_df=0.5, features__min_df=10, features__ngram_range=(1, 4), model__C=4;, score=0.919 total time=   1.2s\n",
      "[CV 2/5] END features__max_df=0.5, features__min_df=10, features__ngram_range=(1, 4), model__C=4;, score=0.918 total time=   1.1s\n"
     ]
    },
    {
     "name": "stderr",
     "output_type": "stream",
     "text": [
      "/opt/anaconda3/lib/python3.9/site-packages/sklearn/svm/_base.py:985: ConvergenceWarning: Liblinear failed to converge, increase the number of iterations.\n",
      "  warnings.warn(\"Liblinear failed to converge, increase \"\n"
     ]
    },
    {
     "name": "stdout",
     "output_type": "stream",
     "text": [
      "[CV 3/5] END features__max_df=0.5, features__min_df=10, features__ngram_range=(1, 4), model__C=4;, score=0.915 total time=   1.0s\n"
     ]
    },
    {
     "name": "stderr",
     "output_type": "stream",
     "text": [
      "/opt/anaconda3/lib/python3.9/site-packages/sklearn/svm/_base.py:985: ConvergenceWarning: Liblinear failed to converge, increase the number of iterations.\n",
      "  warnings.warn(\"Liblinear failed to converge, increase \"\n"
     ]
    },
    {
     "name": "stdout",
     "output_type": "stream",
     "text": [
      "[CV 4/5] END features__max_df=0.5, features__min_df=10, features__ngram_range=(1, 4), model__C=4;, score=0.919 total time=   1.2s\n"
     ]
    },
    {
     "name": "stderr",
     "output_type": "stream",
     "text": [
      "/opt/anaconda3/lib/python3.9/site-packages/sklearn/svm/_base.py:985: ConvergenceWarning: Liblinear failed to converge, increase the number of iterations.\n",
      "  warnings.warn(\"Liblinear failed to converge, increase \"\n"
     ]
    },
    {
     "name": "stdout",
     "output_type": "stream",
     "text": [
      "[CV 5/5] END features__max_df=0.5, features__min_df=10, features__ngram_range=(1, 4), model__C=4;, score=0.917 total time=   1.2s\n"
     ]
    },
    {
     "name": "stderr",
     "output_type": "stream",
     "text": [
      "/opt/anaconda3/lib/python3.9/site-packages/sklearn/svm/_base.py:985: ConvergenceWarning: Liblinear failed to converge, increase the number of iterations.\n",
      "  warnings.warn(\"Liblinear failed to converge, increase \"\n"
     ]
    },
    {
     "name": "stdout",
     "output_type": "stream",
     "text": [
      "[CV 1/5] END features__max_df=0.5, features__min_df=10, features__ngram_range=(1, 4), model__C=5;, score=0.918 total time=   1.3s\n",
      "[CV 2/5] END features__max_df=0.5, features__min_df=10, features__ngram_range=(1, 4), model__C=5;, score=0.915 total time=   1.1s\n"
     ]
    },
    {
     "name": "stderr",
     "output_type": "stream",
     "text": [
      "/opt/anaconda3/lib/python3.9/site-packages/sklearn/svm/_base.py:985: ConvergenceWarning: Liblinear failed to converge, increase the number of iterations.\n",
      "  warnings.warn(\"Liblinear failed to converge, increase \"\n"
     ]
    },
    {
     "name": "stdout",
     "output_type": "stream",
     "text": [
      "[CV 3/5] END features__max_df=0.5, features__min_df=10, features__ngram_range=(1, 4), model__C=5;, score=0.914 total time=   1.3s\n"
     ]
    },
    {
     "name": "stderr",
     "output_type": "stream",
     "text": [
      "/opt/anaconda3/lib/python3.9/site-packages/sklearn/svm/_base.py:985: ConvergenceWarning: Liblinear failed to converge, increase the number of iterations.\n",
      "  warnings.warn(\"Liblinear failed to converge, increase \"\n"
     ]
    },
    {
     "name": "stdout",
     "output_type": "stream",
     "text": [
      "[CV 4/5] END features__max_df=0.5, features__min_df=10, features__ngram_range=(1, 4), model__C=5;, score=0.916 total time=   1.2s\n",
      "[CV 5/5] END features__max_df=0.5, features__min_df=10, features__ngram_range=(1, 4), model__C=5;, score=0.917 total time=   1.2s\n"
     ]
    },
    {
     "name": "stderr",
     "output_type": "stream",
     "text": [
      "/opt/anaconda3/lib/python3.9/site-packages/sklearn/svm/_base.py:985: ConvergenceWarning: Liblinear failed to converge, increase the number of iterations.\n",
      "  warnings.warn(\"Liblinear failed to converge, increase \"\n"
     ]
    },
    {
     "name": "stdout",
     "output_type": "stream",
     "text": [
      "[CV 1/5] END features__max_df=0.5, features__min_df=10, features__ngram_range=(1, 4), model__C=6;, score=0.916 total time=   1.3s\n",
      "[CV 2/5] END features__max_df=0.5, features__min_df=10, features__ngram_range=(1, 4), model__C=6;, score=0.911 total time=   1.1s\n"
     ]
    },
    {
     "name": "stderr",
     "output_type": "stream",
     "text": [
      "/opt/anaconda3/lib/python3.9/site-packages/sklearn/svm/_base.py:985: ConvergenceWarning: Liblinear failed to converge, increase the number of iterations.\n",
      "  warnings.warn(\"Liblinear failed to converge, increase \"\n"
     ]
    },
    {
     "name": "stdout",
     "output_type": "stream",
     "text": [
      "[CV 3/5] END features__max_df=0.5, features__min_df=10, features__ngram_range=(1, 4), model__C=6;, score=0.912 total time=   1.2s\n"
     ]
    },
    {
     "name": "stderr",
     "output_type": "stream",
     "text": [
      "/opt/anaconda3/lib/python3.9/site-packages/sklearn/svm/_base.py:985: ConvergenceWarning: Liblinear failed to converge, increase the number of iterations.\n",
      "  warnings.warn(\"Liblinear failed to converge, increase \"\n"
     ]
    },
    {
     "name": "stdout",
     "output_type": "stream",
     "text": [
      "[CV 4/5] END features__max_df=0.5, features__min_df=10, features__ngram_range=(1, 4), model__C=6;, score=0.916 total time=   1.3s\n"
     ]
    },
    {
     "name": "stderr",
     "output_type": "stream",
     "text": [
      "/opt/anaconda3/lib/python3.9/site-packages/sklearn/svm/_base.py:985: ConvergenceWarning: Liblinear failed to converge, increase the number of iterations.\n",
      "  warnings.warn(\"Liblinear failed to converge, increase \"\n"
     ]
    },
    {
     "name": "stdout",
     "output_type": "stream",
     "text": [
      "[CV 5/5] END features__max_df=0.5, features__min_df=10, features__ngram_range=(1, 4), model__C=6;, score=0.917 total time=   1.3s\n"
     ]
    },
    {
     "name": "stderr",
     "output_type": "stream",
     "text": [
      "/opt/anaconda3/lib/python3.9/site-packages/sklearn/svm/_base.py:985: ConvergenceWarning: Liblinear failed to converge, increase the number of iterations.\n",
      "  warnings.warn(\"Liblinear failed to converge, increase \"\n"
     ]
    },
    {
     "name": "stdout",
     "output_type": "stream",
     "text": [
      "[CV 1/5] END features__max_df=0.5, features__min_df=10, features__ngram_range=(1, 4), model__C=7;, score=0.916 total time=   1.3s\n"
     ]
    },
    {
     "name": "stderr",
     "output_type": "stream",
     "text": [
      "/opt/anaconda3/lib/python3.9/site-packages/sklearn/svm/_base.py:985: ConvergenceWarning: Liblinear failed to converge, increase the number of iterations.\n",
      "  warnings.warn(\"Liblinear failed to converge, increase \"\n"
     ]
    },
    {
     "name": "stdout",
     "output_type": "stream",
     "text": [
      "[CV 2/5] END features__max_df=0.5, features__min_df=10, features__ngram_range=(1, 4), model__C=7;, score=0.909 total time=   1.2s\n"
     ]
    },
    {
     "name": "stderr",
     "output_type": "stream",
     "text": [
      "/opt/anaconda3/lib/python3.9/site-packages/sklearn/svm/_base.py:985: ConvergenceWarning: Liblinear failed to converge, increase the number of iterations.\n",
      "  warnings.warn(\"Liblinear failed to converge, increase \"\n"
     ]
    },
    {
     "name": "stdout",
     "output_type": "stream",
     "text": [
      "[CV 3/5] END features__max_df=0.5, features__min_df=10, features__ngram_range=(1, 4), model__C=7;, score=0.910 total time=   1.3s\n"
     ]
    },
    {
     "name": "stderr",
     "output_type": "stream",
     "text": [
      "/opt/anaconda3/lib/python3.9/site-packages/sklearn/svm/_base.py:985: ConvergenceWarning: Liblinear failed to converge, increase the number of iterations.\n",
      "  warnings.warn(\"Liblinear failed to converge, increase \"\n"
     ]
    },
    {
     "name": "stdout",
     "output_type": "stream",
     "text": [
      "[CV 4/5] END features__max_df=0.5, features__min_df=10, features__ngram_range=(1, 4), model__C=7;, score=0.914 total time=   1.3s\n",
      "[CV 5/5] END features__max_df=0.5, features__min_df=10, features__ngram_range=(1, 4), model__C=7;, score=0.916 total time=   1.1s\n"
     ]
    },
    {
     "name": "stderr",
     "output_type": "stream",
     "text": [
      "/opt/anaconda3/lib/python3.9/site-packages/sklearn/svm/_base.py:985: ConvergenceWarning: Liblinear failed to converge, increase the number of iterations.\n",
      "  warnings.warn(\"Liblinear failed to converge, increase \"\n"
     ]
    },
    {
     "name": "stdout",
     "output_type": "stream",
     "text": [
      "[CV 1/5] END features__max_df=0.5, features__min_df=10, features__ngram_range=(1, 4), model__C=8;, score=0.914 total time=   1.3s\n"
     ]
    },
    {
     "name": "stderr",
     "output_type": "stream",
     "text": [
      "/opt/anaconda3/lib/python3.9/site-packages/sklearn/svm/_base.py:985: ConvergenceWarning: Liblinear failed to converge, increase the number of iterations.\n",
      "  warnings.warn(\"Liblinear failed to converge, increase \"\n"
     ]
    },
    {
     "name": "stdout",
     "output_type": "stream",
     "text": [
      "[CV 2/5] END features__max_df=0.5, features__min_df=10, features__ngram_range=(1, 4), model__C=8;, score=0.909 total time=   1.2s\n"
     ]
    },
    {
     "name": "stderr",
     "output_type": "stream",
     "text": [
      "/opt/anaconda3/lib/python3.9/site-packages/sklearn/svm/_base.py:985: ConvergenceWarning: Liblinear failed to converge, increase the number of iterations.\n",
      "  warnings.warn(\"Liblinear failed to converge, increase \"\n"
     ]
    },
    {
     "name": "stdout",
     "output_type": "stream",
     "text": [
      "[CV 3/5] END features__max_df=0.5, features__min_df=10, features__ngram_range=(1, 4), model__C=8;, score=0.910 total time=   1.2s\n"
     ]
    },
    {
     "name": "stderr",
     "output_type": "stream",
     "text": [
      "/opt/anaconda3/lib/python3.9/site-packages/sklearn/svm/_base.py:985: ConvergenceWarning: Liblinear failed to converge, increase the number of iterations.\n",
      "  warnings.warn(\"Liblinear failed to converge, increase \"\n"
     ]
    },
    {
     "name": "stdout",
     "output_type": "stream",
     "text": [
      "[CV 4/5] END features__max_df=0.5, features__min_df=10, features__ngram_range=(1, 4), model__C=8;, score=0.913 total time=   1.3s\n"
     ]
    },
    {
     "name": "stderr",
     "output_type": "stream",
     "text": [
      "/opt/anaconda3/lib/python3.9/site-packages/sklearn/svm/_base.py:985: ConvergenceWarning: Liblinear failed to converge, increase the number of iterations.\n",
      "  warnings.warn(\"Liblinear failed to converge, increase \"\n"
     ]
    },
    {
     "name": "stdout",
     "output_type": "stream",
     "text": [
      "[CV 5/5] END features__max_df=0.5, features__min_df=10, features__ngram_range=(1, 4), model__C=8;, score=0.914 total time=   1.2s\n"
     ]
    },
    {
     "name": "stderr",
     "output_type": "stream",
     "text": [
      "/opt/anaconda3/lib/python3.9/site-packages/sklearn/svm/_base.py:985: ConvergenceWarning: Liblinear failed to converge, increase the number of iterations.\n",
      "  warnings.warn(\"Liblinear failed to converge, increase \"\n"
     ]
    },
    {
     "name": "stdout",
     "output_type": "stream",
     "text": [
      "[CV 1/5] END features__max_df=0.5, features__min_df=10, features__ngram_range=(1, 4), model__C=9;, score=0.913 total time=   1.4s\n"
     ]
    },
    {
     "name": "stderr",
     "output_type": "stream",
     "text": [
      "/opt/anaconda3/lib/python3.9/site-packages/sklearn/svm/_base.py:985: ConvergenceWarning: Liblinear failed to converge, increase the number of iterations.\n",
      "  warnings.warn(\"Liblinear failed to converge, increase \"\n"
     ]
    },
    {
     "name": "stdout",
     "output_type": "stream",
     "text": [
      "[CV 2/5] END features__max_df=0.5, features__min_df=10, features__ngram_range=(1, 4), model__C=9;, score=0.908 total time=   1.2s\n"
     ]
    },
    {
     "name": "stderr",
     "output_type": "stream",
     "text": [
      "/opt/anaconda3/lib/python3.9/site-packages/sklearn/svm/_base.py:985: ConvergenceWarning: Liblinear failed to converge, increase the number of iterations.\n",
      "  warnings.warn(\"Liblinear failed to converge, increase \"\n"
     ]
    },
    {
     "name": "stdout",
     "output_type": "stream",
     "text": [
      "[CV 3/5] END features__max_df=0.5, features__min_df=10, features__ngram_range=(1, 4), model__C=9;, score=0.908 total time=   1.2s\n"
     ]
    },
    {
     "name": "stderr",
     "output_type": "stream",
     "text": [
      "/opt/anaconda3/lib/python3.9/site-packages/sklearn/svm/_base.py:985: ConvergenceWarning: Liblinear failed to converge, increase the number of iterations.\n",
      "  warnings.warn(\"Liblinear failed to converge, increase \"\n"
     ]
    },
    {
     "name": "stdout",
     "output_type": "stream",
     "text": [
      "[CV 4/5] END features__max_df=0.5, features__min_df=10, features__ngram_range=(1, 4), model__C=9;, score=0.912 total time=   1.3s\n"
     ]
    },
    {
     "name": "stderr",
     "output_type": "stream",
     "text": [
      "/opt/anaconda3/lib/python3.9/site-packages/sklearn/svm/_base.py:985: ConvergenceWarning: Liblinear failed to converge, increase the number of iterations.\n",
      "  warnings.warn(\"Liblinear failed to converge, increase \"\n"
     ]
    },
    {
     "name": "stdout",
     "output_type": "stream",
     "text": [
      "[CV 5/5] END features__max_df=0.5, features__min_df=10, features__ngram_range=(1, 4), model__C=9;, score=0.912 total time=   1.3s\n"
     ]
    },
    {
     "name": "stderr",
     "output_type": "stream",
     "text": [
      "/opt/anaconda3/lib/python3.9/site-packages/sklearn/svm/_base.py:985: ConvergenceWarning: Liblinear failed to converge, increase the number of iterations.\n",
      "  warnings.warn(\"Liblinear failed to converge, increase \"\n"
     ]
    },
    {
     "name": "stdout",
     "output_type": "stream",
     "text": [
      "[CV 1/5] END features__max_df=0.5, features__min_df=10, features__ngram_range=(1, 4), model__C=10;, score=0.912 total time=   1.4s\n"
     ]
    },
    {
     "name": "stderr",
     "output_type": "stream",
     "text": [
      "/opt/anaconda3/lib/python3.9/site-packages/sklearn/svm/_base.py:985: ConvergenceWarning: Liblinear failed to converge, increase the number of iterations.\n",
      "  warnings.warn(\"Liblinear failed to converge, increase \"\n"
     ]
    },
    {
     "name": "stdout",
     "output_type": "stream",
     "text": [
      "[CV 2/5] END features__max_df=0.5, features__min_df=10, features__ngram_range=(1, 4), model__C=10;, score=0.908 total time=   1.3s\n"
     ]
    },
    {
     "name": "stderr",
     "output_type": "stream",
     "text": [
      "/opt/anaconda3/lib/python3.9/site-packages/sklearn/svm/_base.py:985: ConvergenceWarning: Liblinear failed to converge, increase the number of iterations.\n",
      "  warnings.warn(\"Liblinear failed to converge, increase \"\n"
     ]
    },
    {
     "name": "stdout",
     "output_type": "stream",
     "text": [
      "[CV 3/5] END features__max_df=0.5, features__min_df=10, features__ngram_range=(1, 4), model__C=10;, score=0.907 total time=   1.3s\n"
     ]
    },
    {
     "name": "stderr",
     "output_type": "stream",
     "text": [
      "/opt/anaconda3/lib/python3.9/site-packages/sklearn/svm/_base.py:985: ConvergenceWarning: Liblinear failed to converge, increase the number of iterations.\n",
      "  warnings.warn(\"Liblinear failed to converge, increase \"\n"
     ]
    },
    {
     "name": "stdout",
     "output_type": "stream",
     "text": [
      "[CV 4/5] END features__max_df=0.5, features__min_df=10, features__ngram_range=(1, 4), model__C=10;, score=0.911 total time=   1.3s\n"
     ]
    },
    {
     "name": "stderr",
     "output_type": "stream",
     "text": [
      "/opt/anaconda3/lib/python3.9/site-packages/sklearn/svm/_base.py:985: ConvergenceWarning: Liblinear failed to converge, increase the number of iterations.\n",
      "  warnings.warn(\"Liblinear failed to converge, increase \"\n"
     ]
    },
    {
     "name": "stdout",
     "output_type": "stream",
     "text": [
      "[CV 5/5] END features__max_df=0.5, features__min_df=10, features__ngram_range=(1, 4), model__C=10;, score=0.911 total time=   1.3s\n"
     ]
    },
    {
     "data": {
      "text/plain": [
       "GridSearchCV(estimator=Pipeline(steps=[('features',\n",
       "                                        TfidfVectorizer(ngram_range=(1, 4),\n",
       "                                                        stop_words='english',\n",
       "                                                        sublinear_tf=True)),\n",
       "                                       ('model',\n",
       "                                        LinearSVC(loss='hinge', max_iter=2000,\n",
       "                                                  random_state=42))]),\n",
       "             param_grid={'features__max_df': [0.01, 0.05, 0.1, 0.5],\n",
       "                         'features__min_df': [1, 10],\n",
       "                         'features__ngram_range': [(1, 3), (1, 4)],\n",
       "                         'model__C': [1, 2, 3, 4, 5, 6, 7, 8, 9, 10]},\n",
       "             verbose=3)"
      ]
     },
     "execution_count": 93,
     "metadata": {},
     "output_type": "execute_result"
    }
   ],
   "source": [
    "gridsearch_LSVC.fit(X_train, y_train)"
   ]
  },
  {
   "cell_type": "code",
   "execution_count": 100,
   "id": "ba9c1111",
   "metadata": {},
   "outputs": [
    {
     "data": {
      "text/plain": [
       "({'features__max_df': 0.5,\n",
       "  'features__min_df': 1,\n",
       "  'features__ngram_range': (1, 3),\n",
       "  'model__C': 2},\n",
       " Pipeline(steps=[('features',\n",
       "                  TfidfVectorizer(max_df=0.5, ngram_range=(1, 3),\n",
       "                                  stop_words='english', sublinear_tf=True)),\n",
       "                 ('model',\n",
       "                  LinearSVC(C=2, loss='hinge', max_iter=2000, random_state=42))]))"
      ]
     },
     "execution_count": 100,
     "metadata": {},
     "output_type": "execute_result"
    }
   ],
   "source": [
    "gridsearch_LSVC.best_params_ , gridsearch_LSVC.best_estimator_"
   ]
  },
  {
   "cell_type": "code",
   "execution_count": 101,
   "id": "17446989",
   "metadata": {},
   "outputs": [
    {
     "name": "stdout",
     "output_type": "stream",
     "text": [
      "              precision    recall  f1-score   support\n",
      "\n",
      "        Book       0.95      0.93      0.94       964\n",
      "     Grocery       0.95      0.94      0.95       223\n",
      "       Music       0.96      0.95      0.96       625\n",
      "      Office       0.93      0.95      0.94       951\n",
      "         Toy       0.92      0.92      0.92       899\n",
      "       Watch       0.98      0.99      0.98       635\n",
      "\n",
      "    accuracy                           0.94      4297\n",
      "   macro avg       0.95      0.95      0.95      4297\n",
      "weighted avg       0.94      0.94      0.94      4297\n",
      "\n"
     ]
    },
    {
     "data": {
      "image/png": "[encoded data removed]",
      "text/plain": [
       "<Figure size 432x288 with 2 Axes>"
      ]
     },
     "metadata": {
      "needs_background": "light"
     },
     "output_type": "display_data"
    }
   ],
   "source": [
    "get_scores(gridsearch_LSVC, X_test, y_test)"
   ]
  },
  {
   "cell_type": "markdown",
   "id": "36b0e922",
   "metadata": {},
   "source": [
    "# Task 4 \n",
    "### Add a prediction label to the original dataframe & plot the results divided by category & number of correct predictions.\n"
   ]
  },
  {
   "cell_type": "code",
   "execution_count": 66,
   "id": "15ee8706",
   "metadata": {
    "scrolled": false
   },
   "outputs": [
    {
     "data": {
      "text/plain": [
       "({'features__max_df': 0.5,\n",
       "  'features__min_df': 1,\n",
       "  'features__ngram_range': (1, 4),\n",
       "  'model__alpha': 0.01},\n",
       " Pipeline(steps=[('features',\n",
       "                  TfidfVectorizer(max_df=0.5, ngram_range=(1, 4),\n",
       "                                  stop_words='english', sublinear_tf=True)),\n",
       "                 ('model', MultinomialNB(alpha=0.01))]))"
      ]
     },
     "execution_count": 66,
     "metadata": {},
     "output_type": "execute_result"
    }
   ],
   "source": [
    "# Repeated/reminder cell: The  MNB model (multinomial Naive Bayes) gave us best results, the best parameters are saved already in 'gridsearch'\n",
    "gridsearch.best_params_ , gridsearch.best_estimator_"
   ]
  },
  {
   "cell_type": "code",
   "execution_count": 143,
   "id": "9ee89c1b",
   "metadata": {
    "scrolled": true
   },
   "outputs": [
    {
     "name": "stdout",
     "output_type": "stream",
     "text": [
      "              precision    recall  f1-score   support\n",
      "\n",
      "        Book       0.96      0.91      0.94       964\n",
      "     Grocery       0.98      0.95      0.96       223\n",
      "       Music       0.95      0.97      0.96       625\n",
      "      Office       0.93      0.96      0.94       951\n",
      "         Toy       0.91      0.93      0.92       899\n",
      "       Watch       0.98      0.98      0.98       635\n",
      "\n",
      "    accuracy                           0.95      4297\n",
      "   macro avg       0.95      0.95      0.95      4297\n",
      "weighted avg       0.95      0.95      0.95      4297\n",
      "\n"
     ]
    },
    {
     "data": {
      "image/png": "[encoded data removed]",
      "text/plain": [
       "<Figure size 432x288 with 2 Axes>"
      ]
     },
     "metadata": {
      "needs_background": "light"
     },
     "output_type": "display_data"
    }
   ],
   "source": [
    "# Repeated/reminder cell: To see the performance of the MNB pipeline:\n",
    "get_scores(gridsearch, X_test, y_test)"
   ]
  },
  {
   "cell_type": "markdown",
   "id": "d6457c52",
   "metadata": {},
   "source": [
    "Now the best_pipe (based on gridsearch of best obtained tfidf params and MNB model) is build:"
   ]
  },
  {
   "cell_type": "code",
   "execution_count": 67,
   "id": "38a7a259",
   "metadata": {},
   "outputs": [],
   "source": [
    "# Assign the best_tfidf parameters according to the gridsearch.best_params_: \n",
    "best_tfidf_params = dict(sublinear_tf = True,\n",
    "                   min_df = 1,\n",
    "                   norm = 'l2',\n",
    "                   ngram_range=(1,4),\n",
    "                   stop_words = 'english')"
   ]
  },
  {
   "cell_type": "code",
   "execution_count": 132,
   "id": "17dbb4bd",
   "metadata": {},
   "outputs": [],
   "source": [
    "# creating the best_pipe according to the gridsearch.best_params_: \n",
    "best_pipe = Pipeline(steps=[\n",
    "    ('features', TfidfVectorizer(**best_tfidf_params)),\n",
    "    ('model',  MultinomialNB(alpha=0.01))\n",
    "])"
   ]
  },
  {
   "cell_type": "code",
   "execution_count": 133,
   "id": "2f74efb0",
   "metadata": {
    "scrolled": true
   },
   "outputs": [
    {
     "data": {
      "text/plain": [
       "Pipeline(steps=[('features',\n",
       "                 TfidfVectorizer(ngram_range=(1, 4), stop_words='english',\n",
       "                                 sublinear_tf=True)),\n",
       "                ('model', MultinomialNB(alpha=0.01))])"
      ]
     },
     "execution_count": 133,
     "metadata": {},
     "output_type": "execute_result"
    }
   ],
   "source": [
    "# Task 4 wants to add a prediction lable to the original df (no need to do train_test_split) \n",
    "# Therefore just applied the 'best_pipe' on the whole data. \n",
    "\n",
    "# Reminder: In the beginning I prepared the corpus and labels of the original df in form of a list\n",
    "# corpus = df['Title'].tolist()\n",
    "# labels = df['Category'].tolist()\n",
    "\n",
    "best_pipe.fit(corpus,labels)\n"
   ]
  },
  {
   "cell_type": "code",
   "execution_count": 134,
   "id": "adf4d91b",
   "metadata": {},
   "outputs": [],
   "source": [
    "Pred_Cat = best_pipe.predict(corpus)"
   ]
  },
  {
   "cell_type": "code",
   "execution_count": 135,
   "id": "94e11d29",
   "metadata": {
    "scrolled": true
   },
   "outputs": [
    {
     "data": {
      "text/html": [
       "<div>\n",
       "<style scoped>\n",
       "    .dataframe tbody tr th:only-of-type {\n",
       "        vertical-align: middle;\n",
       "    }\n",
       "\n",
       "    .dataframe tbody tr th {\n",
       "        vertical-align: top;\n",
       "    }\n",
       "\n",
       "    .dataframe thead th {\n",
       "        text-align: right;\n",
       "    }\n",
       "</style>\n",
       "<table border=\"1\" class=\"dataframe\">\n",
       "  <thead>\n",
       "    <tr style=\"text-align: right;\">\n",
       "      <th></th>\n",
       "      <th>Title</th>\n",
       "      <th>Category</th>\n",
       "      <th>Pred_Cat</th>\n",
       "    </tr>\n",
       "  </thead>\n",
       "  <tbody>\n",
       "    <tr>\n",
       "      <th>0</th>\n",
       "      <td>Apli Kids Roll of Stickers Round Ø 15 mm Pink</td>\n",
       "      <td>Office</td>\n",
       "      <td>Office</td>\n",
       "    </tr>\n",
       "    <tr>\n",
       "      <th>1</th>\n",
       "      <td>MAXEE Golden Balloon 32 Inch Birthday Balloon ...</td>\n",
       "      <td>Toy</td>\n",
       "      <td>Toy</td>\n",
       "    </tr>\n",
       "    <tr>\n",
       "      <th>2</th>\n",
       "      <td>STAEDTLER 550 02 Noris School Compass with Cen...</td>\n",
       "      <td>Office</td>\n",
       "      <td>Office</td>\n",
       "    </tr>\n",
       "    <tr>\n",
       "      <th>3</th>\n",
       "      <td>Liebeskind Berlin Women's Analogue Quartz Cloc...</td>\n",
       "      <td>Watch</td>\n",
       "      <td>Watch</td>\n",
       "    </tr>\n",
       "    <tr>\n",
       "      <th>4</th>\n",
       "      <td>Pool Toys for Kids Adults, 2 Packs Water Guns ...</td>\n",
       "      <td>Toy</td>\n",
       "      <td>Toy</td>\n",
       "    </tr>\n",
       "  </tbody>\n",
       "</table>\n",
       "</div>"
      ],
      "text/plain": [
       "                                               Title Category Pred_Cat\n",
       "0      Apli Kids Roll of Stickers Round Ø 15 mm Pink   Office   Office\n",
       "1  MAXEE Golden Balloon 32 Inch Birthday Balloon ...      Toy      Toy\n",
       "2  STAEDTLER 550 02 Noris School Compass with Cen...   Office   Office\n",
       "3  Liebeskind Berlin Women's Analogue Quartz Cloc...    Watch    Watch\n",
       "4  Pool Toys for Kids Adults, 2 Packs Water Guns ...      Toy      Toy"
      ]
     },
     "execution_count": 135,
     "metadata": {},
     "output_type": "execute_result"
    }
   ],
   "source": [
    "df_task4 = pd.DataFrame({'Title': corpus, 'Category': labels, 'Pred_Cat':Pred_Cat})\n",
    "df_task4.head()"
   ]
  },
  {
   "cell_type": "code",
   "execution_count": 136,
   "id": "a5a249e0",
   "metadata": {},
   "outputs": [
    {
     "data": {
      "text/plain": [
       "<AxesSubplot:xlabel='Category'>"
      ]
     },
     "execution_count": 136,
     "metadata": {},
     "output_type": "execute_result"
    },
    {
     "data": {
      "image/png": "[encoded data removed]",
      "text/plain": [
       "<Figure size 432x288 with 1 Axes>"
      ]
     },
     "metadata": {
      "needs_background": "light"
     },
     "output_type": "display_data"
    }
   ],
   "source": [
    "mask = df_task4['Category'] == df_task4['Pred_Cat']\n",
    "df_task4.loc[mask, 'Corr_pred'] = True\n",
    "df_task4.loc[~mask, 'Corr_pred'] = False\n",
    "df_task4.groupby(['Category','Corr_pred'])['Corr_pred'].count().unstack().plot.bar()\n"
   ]
  },
  {
   "cell_type": "code",
   "execution_count": 137,
   "id": "59ac5dd6",
   "metadata": {
    "scrolled": true
   },
   "outputs": [
    {
     "data": {
      "text/plain": [
       "<AxesSubplot:xlabel='Category'>"
      ]
     },
     "execution_count": 137,
     "metadata": {},
     "output_type": "execute_result"
    },
    {
     "data": {
      "image/png": "[encoded data removed]",
      "text/plain": [
       "<Figure size 432x288 with 1 Axes>"
      ]
     },
     "metadata": {
      "needs_background": "light"
     },
     "output_type": "display_data"
    }
   ],
   "source": [
    "# For a better visualization, assign \"log\" scaling for the count axis. \n",
    "# Please consider log scale for interpratation!\n",
    "\n",
    "df_task4.groupby(['Category','Corr_pred'])['Corr_pred'].count().unstack().plot.bar(logy=True)"
   ]
  },
  {
   "cell_type": "markdown",
   "id": "7976ede4",
   "metadata": {},
   "source": [
    "# Task 5.\n",
    "### Update the \"predictions\" dictionary with the corresponding prediction from the final model. Use the pipeline!"
   ]
  },
  {
   "cell_type": "code",
   "execution_count": 111,
   "id": "a5a187bb",
   "metadata": {},
   "outputs": [],
   "source": [
    "predictions = {\n",
    "    \n",
    "\"Classical Flute in C\": None,\n",
    "\n",
    "\"Harry Potter & the prisioner of Azkaban hardcover\": None,\n",
    "\n",
    "\"Digital casio with alarm\": None,\n",
    "\n",
    "\"Document shredder with three velocities\": None,\n",
    "\n",
    "\"Puzzle 1000 pieces Mona Lisa\": None,\n",
    "\n",
    "\"Pringles sour cream an onion 12 pack\": None\n",
    "\n",
    "                }"
   ]
  },
  {
   "cell_type": "code",
   "execution_count": 138,
   "id": "d38d8837",
   "metadata": {},
   "outputs": [
    {
     "name": "stdout",
     "output_type": "stream",
     "text": [
      "['Music' 'Book' 'Watch' 'Office' 'Toy' 'Grocery']\n"
     ]
    }
   ],
   "source": [
    "corpus_task5 = list(predictions.keys()) \n",
    "preds_task5 = best_pipe.predict(corpus_task5)\n",
    "print(preds_task5)"
   ]
  },
  {
   "cell_type": "code",
   "execution_count": 139,
   "id": "9b06efb3",
   "metadata": {
    "scrolled": true
   },
   "outputs": [
    {
     "data": {
      "text/html": [
       "<div>\n",
       "<style scoped>\n",
       "    .dataframe tbody tr th:only-of-type {\n",
       "        vertical-align: middle;\n",
       "    }\n",
       "\n",
       "    .dataframe tbody tr th {\n",
       "        vertical-align: top;\n",
       "    }\n",
       "\n",
       "    .dataframe thead th {\n",
       "        text-align: right;\n",
       "    }\n",
       "</style>\n",
       "<table border=\"1\" class=\"dataframe\">\n",
       "  <thead>\n",
       "    <tr style=\"text-align: right;\">\n",
       "      <th></th>\n",
       "      <th>Title</th>\n",
       "      <th>Prediction</th>\n",
       "    </tr>\n",
       "  </thead>\n",
       "  <tbody>\n",
       "    <tr>\n",
       "      <th>0</th>\n",
       "      <td>Classical Flute in C</td>\n",
       "      <td>Music</td>\n",
       "    </tr>\n",
       "    <tr>\n",
       "      <th>1</th>\n",
       "      <td>Harry Potter &amp; the prisioner of Azkaban hardcover</td>\n",
       "      <td>Book</td>\n",
       "    </tr>\n",
       "    <tr>\n",
       "      <th>2</th>\n",
       "      <td>Digital casio with alarm</td>\n",
       "      <td>Watch</td>\n",
       "    </tr>\n",
       "    <tr>\n",
       "      <th>3</th>\n",
       "      <td>Document shredder with three velocities</td>\n",
       "      <td>Office</td>\n",
       "    </tr>\n",
       "    <tr>\n",
       "      <th>4</th>\n",
       "      <td>Puzzle 1000 pieces Mona Lisa</td>\n",
       "      <td>Toy</td>\n",
       "    </tr>\n",
       "    <tr>\n",
       "      <th>5</th>\n",
       "      <td>Pringles sour cream an onion 12 pack</td>\n",
       "      <td>Grocery</td>\n",
       "    </tr>\n",
       "  </tbody>\n",
       "</table>\n",
       "</div>"
      ],
      "text/plain": [
       "                                               Title Prediction\n",
       "0                               Classical Flute in C      Music\n",
       "1  Harry Potter & the prisioner of Azkaban hardcover       Book\n",
       "2                           Digital casio with alarm      Watch\n",
       "3            Document shredder with three velocities     Office\n",
       "4                       Puzzle 1000 pieces Mona Lisa        Toy\n",
       "5               Pringles sour cream an onion 12 pack    Grocery"
      ]
     },
     "execution_count": 139,
     "metadata": {},
     "output_type": "execute_result"
    }
   ],
   "source": [
    "df_task5 = pd.DataFrame({'Title': corpus_task5,  'Prediction':preds_task5})\n",
    "df_task5"
   ]
  },
  {
   "cell_type": "code",
   "execution_count": 149,
   "id": "8295dfcd",
   "metadata": {},
   "outputs": [
    {
     "data": {
      "text/plain": [
       "{'Classical Flute in C': 'Music',\n",
       " 'Harry Potter & the prisioner of Azkaban hardcover': 'Book',\n",
       " 'Digital casio with alarm': 'Watch',\n",
       " 'Document shredder with three velocities': 'Office',\n",
       " 'Puzzle 1000 pieces Mona Lisa': 'Toy',\n",
       " 'Pringles sour cream an onion 12 pack': 'Grocery'}"
      ]
     },
     "execution_count": 149,
     "metadata": {},
     "output_type": "execute_result"
    }
   ],
   "source": [
    "# updating the 'predictions' dictionary:\n",
    "predictions = dict(zip(df_task5['Title'], df_task5['Prediction']))\n",
    "predictions"
   ]
  },
  {
   "cell_type": "markdown",
   "id": "c0b072d5",
   "metadata": {},
   "source": [
    "# Task 6.\n",
    "### Optional: attached with the results include a .joblib file called \"category_classifier\" with the model ready to use.\n"
   ]
  },
  {
   "cell_type": "code",
   "execution_count": 140,
   "id": "5080e423",
   "metadata": {},
   "outputs": [],
   "source": [
    "import joblib"
   ]
  },
  {
   "cell_type": "code",
   "execution_count": 150,
   "id": "ad8c0f18",
   "metadata": {},
   "outputs": [
    {
     "data": {
      "text/plain": [
       "['category_classifier.joblib']"
      ]
     },
     "execution_count": 150,
     "metadata": {},
     "output_type": "execute_result"
    }
   ],
   "source": [
    "# saving the pipeline (instead of the model), which includes vectorization:\n",
    "joblib.dump(best_pipe, 'category_classifier.joblib')"
   ]
  },
  {
   "cell_type": "markdown",
   "id": "23576eba",
   "metadata": {},
   "source": [
    "# Optional Task (in Green)\n",
    "\n",
    "### Check if model performance increases with removing the non-english entries."
   ]
  },
  {
   "cell_type": "code",
   "execution_count": 95,
   "id": "0ac0d50c",
   "metadata": {},
   "outputs": [],
   "source": [
    "df_en = df_original.copy()"
   ]
  },
  {
   "cell_type": "code",
   "execution_count": 96,
   "id": "30c6d090",
   "metadata": {},
   "outputs": [
    {
     "data": {
      "text/html": [
       "<div>\n",
       "<style scoped>\n",
       "    .dataframe tbody tr th:only-of-type {\n",
       "        vertical-align: middle;\n",
       "    }\n",
       "\n",
       "    .dataframe tbody tr th {\n",
       "        vertical-align: top;\n",
       "    }\n",
       "\n",
       "    .dataframe thead th {\n",
       "        text-align: right;\n",
       "    }\n",
       "</style>\n",
       "<table border=\"1\" class=\"dataframe\">\n",
       "  <thead>\n",
       "    <tr style=\"text-align: right;\">\n",
       "      <th></th>\n",
       "      <th>Category</th>\n",
       "      <th>Title</th>\n",
       "    </tr>\n",
       "  </thead>\n",
       "  <tbody>\n",
       "    <tr>\n",
       "      <th>0</th>\n",
       "      <td>Office</td>\n",
       "      <td>Apli Kids Roll of Stickers Round Ø 15 mm Pink</td>\n",
       "    </tr>\n",
       "    <tr>\n",
       "      <th>1</th>\n",
       "      <td>Toy</td>\n",
       "      <td>MAXEE Golden Balloon 32 Inch Birthday Balloon ...</td>\n",
       "    </tr>\n",
       "    <tr>\n",
       "      <th>2</th>\n",
       "      <td>Office</td>\n",
       "      <td>STAEDTLER 550 02 Noris School Compass with Cen...</td>\n",
       "    </tr>\n",
       "    <tr>\n",
       "      <th>3</th>\n",
       "      <td>Watch</td>\n",
       "      <td>Liebeskind Berlin Women's Analogue Quartz Cloc...</td>\n",
       "    </tr>\n",
       "    <tr>\n",
       "      <th>4</th>\n",
       "      <td>Toy</td>\n",
       "      <td>Pool Toys for Kids Adults, 2 Packs Water Guns ...</td>\n",
       "    </tr>\n",
       "  </tbody>\n",
       "</table>\n",
       "</div>"
      ],
      "text/plain": [
       "  Category                                              Title\n",
       "0   Office      Apli Kids Roll of Stickers Round Ø 15 mm Pink\n",
       "1      Toy  MAXEE Golden Balloon 32 Inch Birthday Balloon ...\n",
       "2   Office  STAEDTLER 550 02 Noris School Compass with Cen...\n",
       "3    Watch  Liebeskind Berlin Women's Analogue Quartz Cloc...\n",
       "4      Toy  Pool Toys for Kids Adults, 2 Packs Water Guns ..."
      ]
     },
     "execution_count": 96,
     "metadata": {},
     "output_type": "execute_result"
    }
   ],
   "source": [
    "df_en.head()"
   ]
  },
  {
   "cell_type": "markdown",
   "id": "5527be07",
   "metadata": {},
   "source": [
    "There are several libraries for language detection i.e. spaCy, TextBlob, Pycld2 etc.\n",
    "For this task regardless of the pros and cons, I chose one just for a rough cleaning \n",
    "and check the model performance\n"
   ]
  },
  {
   "cell_type": "markdown",
   "id": "fb0ac1d1",
   "metadata": {},
   "source": []
  },
  {
   "cell_type": "code",
   "execution_count": 97,
   "id": "1fa804ef",
   "metadata": {},
   "outputs": [],
   "source": [
    "# defining two custom functions to extract the language and its probability from the output:\n",
    "\n",
    "def get_lan(mystring):\n",
    "    try:\n",
    "        result = langdetect.detect_langs(mystring)\n",
    "        lan = str(result[0])[:2]\n",
    "    except:\n",
    "        lan = 'unknown'\n",
    "    return lan\n",
    "\n",
    "def get_lan_prob(mystring):\n",
    "    try:\n",
    "        result = langdetect.detect_langs(mystring)\n",
    "        lan_prob = float(str(result[0])[3:7])\n",
    "    except:\n",
    "        lan_prob = 1.0\n",
    "    return lan_prob"
   ]
  },
  {
   "cell_type": "code",
   "execution_count": 124,
   "id": "17f6a84c",
   "metadata": {},
   "outputs": [],
   "source": [
    "df_en['Lan'] = df_en['Title'].apply(get_lan)\n",
    "df_en['Lan_Prob'] = df_en['Title'].apply(get_lan_prob) # not needed for now, just for further checks in case needed!"
   ]
  },
  {
   "cell_type": "code",
   "execution_count": 125,
   "id": "58eda055",
   "metadata": {},
   "outputs": [
    {
     "data": {
      "text/html": [
       "<div>\n",
       "<style scoped>\n",
       "    .dataframe tbody tr th:only-of-type {\n",
       "        vertical-align: middle;\n",
       "    }\n",
       "\n",
       "    .dataframe tbody tr th {\n",
       "        vertical-align: top;\n",
       "    }\n",
       "\n",
       "    .dataframe thead th {\n",
       "        text-align: right;\n",
       "    }\n",
       "</style>\n",
       "<table border=\"1\" class=\"dataframe\">\n",
       "  <thead>\n",
       "    <tr style=\"text-align: right;\">\n",
       "      <th></th>\n",
       "      <th>Category</th>\n",
       "      <th>Title</th>\n",
       "      <th>Lan</th>\n",
       "      <th>Lan_Prob</th>\n",
       "    </tr>\n",
       "  </thead>\n",
       "  <tbody>\n",
       "    <tr>\n",
       "      <th>0</th>\n",
       "      <td>Office</td>\n",
       "      <td>Apli Kids Roll of Stickers Round Ø 15 mm Pink</td>\n",
       "      <td>en</td>\n",
       "      <td>0.99</td>\n",
       "    </tr>\n",
       "    <tr>\n",
       "      <th>1</th>\n",
       "      <td>Toy</td>\n",
       "      <td>MAXEE Golden Balloon 32 Inch Birthday Balloon ...</td>\n",
       "      <td>en</td>\n",
       "      <td>0.99</td>\n",
       "    </tr>\n",
       "    <tr>\n",
       "      <th>2</th>\n",
       "      <td>Office</td>\n",
       "      <td>STAEDTLER 550 02 Noris School Compass with Cen...</td>\n",
       "      <td>en</td>\n",
       "      <td>0.99</td>\n",
       "    </tr>\n",
       "    <tr>\n",
       "      <th>3</th>\n",
       "      <td>Watch</td>\n",
       "      <td>Liebeskind Berlin Women's Analogue Quartz Cloc...</td>\n",
       "      <td>de</td>\n",
       "      <td>0.99</td>\n",
       "    </tr>\n",
       "    <tr>\n",
       "      <th>4</th>\n",
       "      <td>Toy</td>\n",
       "      <td>Pool Toys for Kids Adults, 2 Packs Water Guns ...</td>\n",
       "      <td>en</td>\n",
       "      <td>0.99</td>\n",
       "    </tr>\n",
       "    <tr>\n",
       "      <th>...</th>\n",
       "      <td>...</td>\n",
       "      <td>...</td>\n",
       "      <td>...</td>\n",
       "      <td>...</td>\n",
       "    </tr>\n",
       "    <tr>\n",
       "      <th>21479</th>\n",
       "      <td>Office</td>\n",
       "      <td>Baier &amp; Schneider Book, Book Cover, A6 – Clear</td>\n",
       "      <td>en</td>\n",
       "      <td>0.57</td>\n",
       "    </tr>\n",
       "    <tr>\n",
       "      <th>21480</th>\n",
       "      <td>Music</td>\n",
       "      <td>Jim Dunlop CBM95 Cry Baby Mini Wah</td>\n",
       "      <td>en</td>\n",
       "      <td>0.99</td>\n",
       "    </tr>\n",
       "    <tr>\n",
       "      <th>21481</th>\n",
       "      <td>Book</td>\n",
       "      <td>Les hommes viennent de Mars les femmes viennen...</td>\n",
       "      <td>fr</td>\n",
       "      <td>0.99</td>\n",
       "    </tr>\n",
       "    <tr>\n",
       "      <th>21482</th>\n",
       "      <td>Book</td>\n",
       "      <td>Le Pays De La Liberte (Ldp Litterature)</td>\n",
       "      <td>fr</td>\n",
       "      <td>0.99</td>\n",
       "    </tr>\n",
       "    <tr>\n",
       "      <th>21483</th>\n",
       "      <td>Book</td>\n",
       "      <td>Berserk - Tome 41 Collector</td>\n",
       "      <td>en</td>\n",
       "      <td>0.99</td>\n",
       "    </tr>\n",
       "  </tbody>\n",
       "</table>\n",
       "<p>21484 rows × 4 columns</p>\n",
       "</div>"
      ],
      "text/plain": [
       "      Category                                              Title Lan  \\\n",
       "0       Office      Apli Kids Roll of Stickers Round Ø 15 mm Pink  en   \n",
       "1          Toy  MAXEE Golden Balloon 32 Inch Birthday Balloon ...  en   \n",
       "2       Office  STAEDTLER 550 02 Noris School Compass with Cen...  en   \n",
       "3        Watch  Liebeskind Berlin Women's Analogue Quartz Cloc...  de   \n",
       "4          Toy  Pool Toys for Kids Adults, 2 Packs Water Guns ...  en   \n",
       "...        ...                                                ...  ..   \n",
       "21479   Office     Baier & Schneider Book, Book Cover, A6 – Clear  en   \n",
       "21480    Music                 Jim Dunlop CBM95 Cry Baby Mini Wah  en   \n",
       "21481     Book  Les hommes viennent de Mars les femmes viennen...  fr   \n",
       "21482     Book            Le Pays De La Liberte (Ldp Litterature)  fr   \n",
       "21483     Book                        Berserk - Tome 41 Collector  en   \n",
       "\n",
       "       Lan_Prob  \n",
       "0          0.99  \n",
       "1          0.99  \n",
       "2          0.99  \n",
       "3          0.99  \n",
       "4          0.99  \n",
       "...         ...  \n",
       "21479      0.57  \n",
       "21480      0.99  \n",
       "21481      0.99  \n",
       "21482      0.99  \n",
       "21483      0.99  \n",
       "\n",
       "[21484 rows x 4 columns]"
      ]
     },
     "execution_count": 125,
     "metadata": {},
     "output_type": "execute_result"
    }
   ],
   "source": [
    "df_en"
   ]
  },
  {
   "cell_type": "code",
   "execution_count": 128,
   "id": "e18a0cf3",
   "metadata": {},
   "outputs": [
    {
     "data": {
      "text/plain": [
       "<AxesSubplot:>"
      ]
     },
     "execution_count": 128,
     "metadata": {},
     "output_type": "execute_result"
    },
    {
     "data": {
      "image/png": "[encoded data removed]",
      "text/plain": [
       "<Figure size 432x288 with 1 Axes>"
      ]
     },
     "metadata": {
      "needs_background": "light"
     },
     "output_type": "display_data"
    }
   ],
   "source": [
    "# Ploting counts of each detected Language.\n",
    "df_en['Lan'].value_counts().plot(kind='bar')"
   ]
  },
  {
   "cell_type": "code",
   "execution_count": 130,
   "id": "3dfca68b",
   "metadata": {},
   "outputs": [],
   "source": [
    "# droping the non-english rows:\n",
    "df_en = df_en.drop(df_en[df_en.Lan != 'en'].index)"
   ]
  },
  {
   "cell_type": "code",
   "execution_count": 142,
   "id": "b1702ab2",
   "metadata": {},
   "outputs": [
    {
     "name": "stdout",
     "output_type": "stream",
     "text": [
      "              precision    recall  f1-score   support\n",
      "\n",
      "        Book       0.93      0.73      0.82       250\n",
      "     Grocery       0.97      0.91      0.94       151\n",
      "       Music       0.95      0.98      0.96       529\n",
      "      Office       0.95      0.96      0.96       844\n",
      "         Toy       0.91      0.95      0.93       768\n",
      "       Watch       0.99      0.98      0.99       570\n",
      "\n",
      "    accuracy                           0.94      3112\n",
      "   macro avg       0.95      0.92      0.93      3112\n",
      "weighted avg       0.94      0.94      0.94      3112\n",
      "\n"
     ]
    },
    {
     "data": {
      "image/png": "[encoded data removed]",
      "text/plain": [
       "<Figure size 432x288 with 2 Axes>"
      ]
     },
     "metadata": {
      "needs_background": "light"
     },
     "output_type": "display_data"
    }
   ],
   "source": [
    "# preparing the corpus and labels in form of a list\n",
    "corpus_en = df_en['Title'].tolist()\n",
    "labels_en = df_en['Category'].tolist()\n",
    "# Split\n",
    "X_train_en, X_test_en, y_train_en, y_test_en = train_test_split(corpus_en,labels_en, test_size=0.2, random_state=42, stratify=labels_en)\n",
    "# Fit on the english-only train dataset:\n",
    "best_pipe.fit(X_train_en, y_train_en)\n",
    "# Use the custom function for performance check:\n",
    "get_scores(best_pipe, X_test_en, y_test_en)"
   ]
  },
  {
   "cell_type": "markdown",
   "id": "ec97b71f",
   "metadata": {},
   "source": [
    "Considering the f1-score, there is slight (1-2%) improvement for predicting some cathegories (Office, toy, watch), at the expense of decreased performance on other cathegories, and therefore the slightly decreased general f1-score. In general, removing non-english titles in this case did not help improving the model, even on the english-only dataset.\n",
    "Here are further data cleaning suggestions to experiment for improvements:\n",
    "- Trying other language detection models for removing non-english items.\n",
    "- Further cleaning the Titles, e.g. by removing numbers etc. The english stopwords were already removed"
   ]
  },
  {
   "cell_type": "markdown",
   "id": "6b984e8c",
   "metadata": {},
   "source": [
    "### Thank you for taking time and going through this notebook."
   ]
  },
  {
   "cell_type": "code",
   "execution_count": null,
   "id": "abb8ec98",
   "metadata": {},
   "outputs": [],
   "source": []
  }
 ],
 "metadata": {
  "kernelspec": {
   "display_name": "Python 3 (ipykernel)",
   "language": "python",
   "name": "python3"
  },
  "language_info": {
   "codemirror_mode": {
    "name": "ipython",
    "version": 3
   },
   "file_extension": ".py",
   "mimetype": "text/x-python",
   "name": "python",
   "nbconvert_exporter": "python",
   "pygments_lexer": "ipython3",
   "version": "3.9.7"
  }
 },
 "nbformat": 4,
 "nbformat_minor": 5
}
